{
 "cells": [
  {
   "cell_type": "code",
   "execution_count": 1,
   "metadata": {
    "deletable": false,
    "editable": false
   },
   "outputs": [
    {
     "name": "stdout",
     "output_type": "stream",
     "text": [
      "=====================================================================\n",
      "Assignment: lab02\n",
      "OK, version v1.14.20\n",
      "=====================================================================\n",
      "\n"
     ]
    }
   ],
   "source": [
    "# Initialize OK\n",
    "from client.api.notebook import Notebook\n",
    "ok = Notebook('lab02.ok')"
   ]
  },
  {
   "cell_type": "markdown",
   "metadata": {},
   "source": [
    "# Lab 2: Exploring Summary Statistics and Loss Functions\n",
    "\n",
    "Welcome to the second week of DS100! In this lab, you will be exploring summary statistics for better communicating ideas. You will define loss functions and optimize them using various techniques. Most importantly, you will learn how to use Altair to create fantastic plots!\n",
    "\n",
    "To receive credit for a lab, answer all questions correctly and submit it to Gradescope before the deadline.\n",
    "\n",
    "**This lab is due 4/11 at 12:00 AM PST.**"
   ]
  },
  {
   "cell_type": "markdown",
   "metadata": {},
   "source": [
    "### Collaboration Policy\n",
    "\n",
    "Data science is a collaborative activity. While you may talk with others about the labs, we ask that you **write your solutions individually** and do not copy them from others. \n",
    "\n",
    "By submitting your work in this course, whether it is homework, a lab assignment, or a quiz/exam, you agree and acknowledge that **this submission is your own work and that you have read the policies regarding Academic Integrity**: https://studentconduct.sa.ucsb.edu/academic-integrity. The Office of Student Conduct has policies, tips, and resources for proper citation use, recognizing actions considered to be cheating or other forms of academic theft, and students’ responsibilities. You are required to read the policies and to abide by them."
   ]
  },
  {
   "cell_type": "markdown",
   "metadata": {},
   "source": [
    "# Loss Functions\n",
    "\n",
    "A loss function is a measure of how well a model is able to predict the expected outcome. In other words, it measures the deviations of the predicted values from the observed values. In this lab we will implement the squared loss and absolute loss functions.  \n",
    "\n",
    "In the formulations below *y* represents the observed values and *c* stands for some constant value representing a summary statistic.\n",
    "\n",
    "1. **Squared Loss** (also known as the $L^2$ loss pronounced \"ell-two\"):\n",
    "\n",
    "$$\\Large\n",
    "% the \\hspace{0pt} is added to address a bug in safari mathjax\n",
    "L\\left(y, c \\right) = \\left( y - c\\right)^2\n",
    "$$\n",
    "\n",
    "2. **Absolute Loss** (also known as the $L^1$ loss pronounced \"ell-one\"):\n",
    "\n",
    "$$\\Large\n",
    "% the \\hspace{0pt} is added to address a bug in safari mathjax\n",
    "L\\left(y, c \\right) = \\left| y - c \\right|\n",
    "$$"
   ]
  },
  {
   "cell_type": "markdown",
   "metadata": {},
   "source": [
    "## Setup"
   ]
  },
  {
   "cell_type": "code",
   "execution_count": 2,
   "metadata": {},
   "outputs": [],
   "source": [
    "# Run this cell\n",
    "\n",
    "import numpy as np\n",
    "import pandas as pd\n",
    "import altair as alt\n",
    "np.random.seed(42)"
   ]
  },
  {
   "cell_type": "markdown",
   "metadata": {},
   "source": [
    "# Squared Loss"
   ]
  },
  {
   "cell_type": "markdown",
   "metadata": {},
   "source": [
    "## Question 1a: Implement the squared loss function\n",
    "\n",
    "\n",
    "$$\\Large\n",
    "L\\left(y,  c\\right) = \\left( y - c \\right)^2\n",
    "$$\n",
    "\n",
    "Using the comments below, implement the squared loss function. Your answer should not use any loops."
   ]
  },
  {
   "cell_type": "markdown",
   "metadata": {
    "deletable": false,
    "editable": false
   },
   "source": [
    "<!--\n",
    "BEGIN QUESTION\n",
    "name: q1a\n",
    "manual: true \n",
    "-->\n",
    "<!-- EXPORT TO PDF -->"
   ]
  },
  {
   "cell_type": "code",
   "execution_count": 3,
   "metadata": {},
   "outputs": [],
   "source": [
    "def squared_loss(y_obs, c):\n",
    "    \"\"\"\n",
    "    Calculate the squared loss of the observed data and a summary statistic.\n",
    "    \n",
    "    Parameters\n",
    "    ------------\n",
    "    y_obs: an observed value\n",
    "    c : some constant representing a summary statistic\n",
    "    \n",
    "    Returns\n",
    "    ------------\n",
    "    The squared loss between the observation and the summary statistic.\n",
    "    \"\"\"\n",
    "    return np.add(y_obs, -c)**2"
   ]
  },
  {
   "cell_type": "code",
   "execution_count": 4,
   "metadata": {
    "deletable": false,
    "editable": false
   },
   "outputs": [
    {
     "name": "stdout",
     "output_type": "stream",
     "text": [
      "~~~~~~~~~~~~~~~~~~~~~~~~~~~~~~~~~~~~~~~~~~~~~~~~~~~~~~~~~~~~~~~~~~~~~\n",
      "Running tests\n",
      "\n",
      "---------------------------------------------------------------------\n",
      "Test summary\n",
      "    Passed: 4\n",
      "    Failed: 0\n",
      "[ooooooooook] 100.0% passed\n",
      "\n"
     ]
    }
   ],
   "source": [
    "ok.grade(\"q1a\");"
   ]
  },
  {
   "cell_type": "markdown",
   "metadata": {},
   "source": [
    "## Question 1b: Plotting the Squared Loss"
   ]
  },
  {
   "cell_type": "markdown",
   "metadata": {},
   "source": [
    "For this quarter, we will be utilizing a new visualization library called Altair, which simplifies the plotting procedure significantly. We thus can spend more time understanding the data and its meanings. Altair is built around pandas, which stands for “Python Data Analysis Library\", and it will be a central topic of this course. It takes the raw data and creates a Python object that resembles a data frame in R. More information for this package can be found here: https://pandas.pydata.org/docs/getting_started/index.html#getting-started. \n",
    "\n",
    "In Altair, the most commonly used object is the chart object, which is created by .Chart() method. The chart object would call methods like mark_bar(), mark_point() or mark_line(), etc, for corresponding plots. In the encoding method .encode(), we have the choice to specify the x and y axes, as well as the size, shape, color to visualize more features. To get started, feel free to explore:\n",
    "https://altair-viz.github.io/getting_started/starting.html \n"
   ]
  },
  {
   "cell_type": "markdown",
   "metadata": {
    "deletable": false,
    "editable": false
   },
   "source": [
    "<!--\n",
    "BEGIN QUESTION\n",
    "name: q1b\n",
    "manual: true \n",
    "-->\n",
    "<!-- EXPORT TO PDF -->"
   ]
  },
  {
   "cell_type": "markdown",
   "metadata": {},
   "source": [
    "Let us now consider the case where `y_obs` equals 10. For arbitrary values of `c`, plot the squared loss using the function you implemented in the previous question. Don't forget to label your graph.\n",
    "\n",
    "*Hints*:\n",
    "\n",
    "1. To plot a line plot in Altair, we first need to convert the input data into a data frame with a column x representing the index, and set the data we want to plot as column y. An example can be found here: \n",
    "https://altair-viz.github.io/gallery/simple_line_chart.html. \n",
    "\n",
    "2. To add labels to the axes, check the \"Adjusting Axis Labels\" part in \n",
    "https://altairviz.github.io/user_guide/customization.html#adjusting-axis-labels."
   ]
  },
  {
   "cell_type": "code",
   "execution_count": 5,
   "metadata": {},
   "outputs": [
    {
     "data": {
      "text/html": [
       "\n",
       "<div id=\"altair-viz-6d061da4aa5846a0b5d05683978d92bd\"></div>\n",
       "<script type=\"text/javascript\">\n",
       "  (function(spec, embedOpt){\n",
       "    let outputDiv = document.currentScript.previousElementSibling;\n",
       "    if (outputDiv.id !== \"altair-viz-6d061da4aa5846a0b5d05683978d92bd\") {\n",
       "      outputDiv = document.getElementById(\"altair-viz-6d061da4aa5846a0b5d05683978d92bd\");\n",
       "    }\n",
       "    const paths = {\n",
       "      \"vega\": \"https://cdn.jsdelivr.net/npm//vega@5?noext\",\n",
       "      \"vega-lib\": \"https://cdn.jsdelivr.net/npm//vega-lib?noext\",\n",
       "      \"vega-lite\": \"https://cdn.jsdelivr.net/npm//vega-lite@4.8.1?noext\",\n",
       "      \"vega-embed\": \"https://cdn.jsdelivr.net/npm//vega-embed@6?noext\",\n",
       "    };\n",
       "\n",
       "    function loadScript(lib) {\n",
       "      return new Promise(function(resolve, reject) {\n",
       "        var s = document.createElement('script');\n",
       "        s.src = paths[lib];\n",
       "        s.async = true;\n",
       "        s.onload = () => resolve(paths[lib]);\n",
       "        s.onerror = () => reject(`Error loading script: ${paths[lib]}`);\n",
       "        document.getElementsByTagName(\"head\")[0].appendChild(s);\n",
       "      });\n",
       "    }\n",
       "\n",
       "    function showError(err) {\n",
       "      outputDiv.innerHTML = `<div class=\"error\" style=\"color:red;\">${err}</div>`;\n",
       "      throw err;\n",
       "    }\n",
       "\n",
       "    function displayChart(vegaEmbed) {\n",
       "      vegaEmbed(outputDiv, spec, embedOpt)\n",
       "        .catch(err => showError(`Javascript Error: ${err.message}<br>This usually means there's a typo in your chart specification. See the javascript console for the full traceback.`));\n",
       "    }\n",
       "\n",
       "    if(typeof define === \"function\" && define.amd) {\n",
       "      requirejs.config({paths});\n",
       "      require([\"vega-embed\"], displayChart, err => showError(`Error loading script: ${err.message}`));\n",
       "    } else if (typeof vegaEmbed === \"function\") {\n",
       "      displayChart(vegaEmbed);\n",
       "    } else {\n",
       "      loadScript(\"vega\")\n",
       "        .then(() => loadScript(\"vega-lite\"))\n",
       "        .then(() => loadScript(\"vega-embed\"))\n",
       "        .catch(showError)\n",
       "        .then(() => displayChart(vegaEmbed));\n",
       "    }\n",
       "  })({\"config\": {\"view\": {\"continuousWidth\": 400, \"continuousHeight\": 300}}, \"data\": {\"name\": \"data-45e1fd3b8f821574127bd42722f53159\"}, \"mark\": \"line\", \"encoding\": {\"x\": {\"type\": \"quantitative\", \"field\": \"x\"}, \"y\": {\"type\": \"quantitative\", \"field\": \"y\"}}, \"$schema\": \"https://vega.github.io/schema/vega-lite/v4.8.1.json\", \"datasets\": {\"data-45e1fd3b8f821574127bd42722f53159\": [{\"y\": 100.0, \"x\": 0}, {\"y\": 96.00040812162024, \"x\": 1}, {\"y\": 92.08244056728904, \"x\": 2}, {\"y\": 88.24609733700643, \"x\": 3}, {\"y\": 84.49137843077237, \"x\": 4}, {\"y\": 80.81828384858687, \"x\": 5}, {\"y\": 77.22681359044994, \"x\": 6}, {\"y\": 73.7169676563616, \"x\": 7}, {\"y\": 70.2887460463218, \"x\": 8}, {\"y\": 66.94214876033058, \"x\": 9}, {\"y\": 63.67717579838791, \"x\": 10}, {\"y\": 60.49382716049382, \"x\": 11}, {\"y\": 57.39210284664831, \"x\": 12}, {\"y\": 54.37200285685134, \"x\": 13}, {\"y\": 51.43352719110294, \"x\": 14}, {\"y\": 48.576675849403124, \"x\": 15}, {\"y\": 45.80144883175187, \"x\": 16}, {\"y\": 43.10784613814917, \"x\": 17}, {\"y\": 40.49586776859504, \"x\": 18}, {\"y\": 37.96551372308948, \"x\": 19}, {\"y\": 35.51678400163248, \"x\": 20}, {\"y\": 33.149678604224064, \"x\": 21}, {\"y\": 30.864197530864196, \"x\": 22}, {\"y\": 28.660340781552907, \"x\": 23}, {\"y\": 26.538108356290174, \"x\": 24}, {\"y\": 24.497500255076016, \"x\": 25}, {\"y\": 22.538516477910417, \"x\": 26}, {\"y\": 20.661157024793393, \"x\": 27}, {\"y\": 18.865421895724925, \"x\": 28}, {\"y\": 17.151311090705033, \"x\": 29}, {\"y\": 15.5188246097337, \"x\": 30}, {\"y\": 13.96796245281094, \"x\": 31}, {\"y\": 12.498724619936741, \"x\": 32}, {\"y\": 11.111111111111109, \"x\": 33}, {\"y\": 9.80512192633405, \"x\": 34}, {\"y\": 8.58075706560555, \"x\": 35}, {\"y\": 7.438016528925621, \"x\": 36}, {\"y\": 6.376900316294255, \"x\": 37}, {\"y\": 5.39740842771146, \"x\": 38}, {\"y\": 4.499540863177226, \"x\": 39}, {\"y\": 3.68329762269156, \"x\": 40}, {\"y\": 2.9486787062544666, \"x\": 41}, {\"y\": 2.295684113865933, \"x\": 42}, {\"y\": 1.7243138455259668, \"x\": 43}, {\"y\": 1.234567901234567, \"x\": 44}, {\"y\": 0.8264462809917373, \"x\": 45}, {\"y\": 0.4999489847974704, \"x\": 46}, {\"y\": 0.2550760126517704, \"x\": 47}, {\"y\": 0.09182736455463712, \"x\": 48}, {\"y\": 0.010203040506070672, \"x\": 49}, {\"y\": 0.010203040506070672, \"x\": 50}, {\"y\": 0.09182736455463712, \"x\": 51}, {\"y\": 0.2550760126517704, \"x\": 52}, {\"y\": 0.4999489847974704, \"x\": 53}, {\"y\": 0.8264462809917341, \"x\": 54}, {\"y\": 1.234567901234567, \"x\": 55}, {\"y\": 1.7243138455259668, \"x\": 56}, {\"y\": 2.295684113865933, \"x\": 57}, {\"y\": 2.948678706254461, \"x\": 58}, {\"y\": 3.68329762269156, \"x\": 59}, {\"y\": 4.499540863177226, \"x\": 60}, {\"y\": 5.39740842771146, \"x\": 61}, {\"y\": 6.37690031629425, \"x\": 62}, {\"y\": 7.438016528925616, \"x\": 63}, {\"y\": 8.58075706560555, \"x\": 64}, {\"y\": 9.80512192633405, \"x\": 65}, {\"y\": 11.111111111111114, \"x\": 66}, {\"y\": 12.498724619936736, \"x\": 67}, {\"y\": 13.967962452810935, \"x\": 68}, {\"y\": 15.5188246097337, \"x\": 69}, {\"y\": 17.151311090705033, \"x\": 70}, {\"y\": 18.865421895724918, \"x\": 71}, {\"y\": 20.661157024793383, \"x\": 72}, {\"y\": 22.538516477910417, \"x\": 73}, {\"y\": 24.497500255076016, \"x\": 74}, {\"y\": 26.538108356290163, \"x\": 75}, {\"y\": 28.660340781552897, \"x\": 76}, {\"y\": 30.864197530864196, \"x\": 77}, {\"y\": 33.149678604224064, \"x\": 78}, {\"y\": 35.51678400163247, \"x\": 79}, {\"y\": 37.965513723089494, \"x\": 80}, {\"y\": 40.49586776859504, \"x\": 81}, {\"y\": 43.10784613814915, \"x\": 82}, {\"y\": 45.80144883175187, \"x\": 83}, {\"y\": 48.57667584940311, \"x\": 84}, {\"y\": 51.43352719110297, \"x\": 85}, {\"y\": 54.37200285685134, \"x\": 86}, {\"y\": 57.39210284664828, \"x\": 87}, {\"y\": 60.49382716049384, \"x\": 88}, {\"y\": 63.67717579838791, \"x\": 89}, {\"y\": 66.94214876033055, \"x\": 90}, {\"y\": 70.2887460463218, \"x\": 91}, {\"y\": 73.71696765636158, \"x\": 92}, {\"y\": 77.22681359044998, \"x\": 93}, {\"y\": 80.81828384858687, \"x\": 94}, {\"y\": 84.49137843077234, \"x\": 95}, {\"y\": 88.24609733700643, \"x\": 96}, {\"y\": 92.08244056728904, \"x\": 97}, {\"y\": 96.00040812162027, \"x\": 98}, {\"y\": 100.0, \"x\": 99}]}}, {\"mode\": \"vega-lite\"});\n",
       "</script>"
      ],
      "text/plain": [
       "alt.Chart(...)"
      ]
     },
     "execution_count": 5,
     "metadata": {},
     "output_type": "execute_result"
    }
   ],
   "source": [
    "y_obs = 10\n",
    "c_values = np.linspace(0, 20, 100) # some arbitrary values of c\n",
    "\n",
    "x = np.arange(100)\n",
    "y = [squared_loss(y_obs, i) for i in c_values]\n",
    "\n",
    "data = pd.DataFrame({'y': y,\n",
    "                     'x': x })\n",
    "\n",
    "alt.Chart(data).mark_line().encode(\n",
    "    x='x',\n",
    "    y='y'\n",
    ")"
   ]
  },
  {
   "cell_type": "markdown",
   "metadata": {},
   "source": [
    "## Question 2: Mean Squared Error for the Tips Data"
   ]
  },
  {
   "cell_type": "markdown",
   "metadata": {},
   "source": [
    "Let's apply our knowledge to some real world data. Below you are given an array of tips from a restaurant. In this section, you will try to find the best statistic to represent the tips given in the array. The simple procedure you will use in this lab includes constructing the mean squared error (MSE) for the tips data and finding the value that minimizes the MSE. "
   ]
  },
  {
   "cell_type": "code",
   "execution_count": 6,
   "metadata": {},
   "outputs": [],
   "source": [
    "# Run this cell, do not change anything\n",
    "import seaborn as sns\n",
    "df = sns.load_dataset(\"tips\")\n",
    "tips = np.array(df['tip']) # array of observed tips"
   ]
  },
  {
   "cell_type": "markdown",
   "metadata": {},
   "source": [
    "Now, we can extend the above loss functions to an entire dataset by taking the average. Let the dataset $\\mathcal{D}$ be the set of observations:\n",
    "\n",
    "$$\\Large\\mathcal{D} = \\{x_1, \\ldots, x_n\\}$$\n",
    "\n",
    "where $x_i$ is the $i^{th}$ tip.\n",
    "\n",
    "We can define the average loss over the dataset as:\n",
    "\n",
    "$$\\Large\n",
    "L\\left(c, \\mathcal{D}\\right) = \\frac{1}{n} \\sum_{i=1}^n L(x_i, c)\n",
    "$$\n",
    "\n",
    "Define the `mean_squared_error` function which computes the mean squared error given the data and a value for `c`.\n",
    "\n",
    "<!--\n",
    "BEGIN QUESTION\n",
    "name: q2a\n",
    "manual: false\n",
    "-->"
   ]
  },
  {
   "cell_type": "code",
   "execution_count": 7,
   "metadata": {},
   "outputs": [
    {
     "data": {
      "text/plain": [
       "244"
      ]
     },
     "execution_count": 7,
     "metadata": {},
     "output_type": "execute_result"
    }
   ],
   "source": [
    "len(tips)"
   ]
  },
  {
   "cell_type": "markdown",
   "metadata": {
    "deletable": false,
    "editable": false
   },
   "source": [
    "<!--\n",
    "BEGIN QUESTION\n",
    "name: q2a\n",
    "manual: true \n",
    "-->\n",
    "<!-- EXPORT TO PDF -->"
   ]
  },
  {
   "cell_type": "code",
   "execution_count": 8,
   "metadata": {},
   "outputs": [
    {
     "data": {
      "text/plain": [
       "7.204529508196729"
      ]
     },
     "execution_count": 8,
     "metadata": {},
     "output_type": "execute_result"
    }
   ],
   "source": [
    "def mean_squared_error(c, data):\n",
    "    n = len(data)\n",
    "    loss = 0\n",
    "    for i in data:\n",
    "        loss += squared_loss(c, i)\n",
    "    return abs(1/n*(loss))\n",
    "\n",
    "mean_squared_error(5.3, tips)"
   ]
  },
  {
   "cell_type": "code",
   "execution_count": 9,
   "metadata": {
    "deletable": false,
    "editable": false
   },
   "outputs": [
    {
     "name": "stdout",
     "output_type": "stream",
     "text": [
      "~~~~~~~~~~~~~~~~~~~~~~~~~~~~~~~~~~~~~~~~~~~~~~~~~~~~~~~~~~~~~~~~~~~~~\n",
      "Running tests\n",
      "\n",
      "---------------------------------------------------------------------\n",
      "q2a > Suite 1 > Case 3\n",
      "\n",
      ">>> abs(mean_squared_error(10, tips) - 50.930709836065574) < 1e-4;\n",
      ">>> \n",
      "\n",
      "# Error: expected\n",
      "#     True\n",
      "# but got\n",
      "\n",
      "\n",
      "Run only this test case with \"python3 ok -q q2a --suite 1 --case 3\"\n",
      "---------------------------------------------------------------------\n",
      "Test summary\n",
      "    Passed: 2\n",
      "    Failed: 1\n",
      "[ooooook....] 66.7% passed\n",
      "\n"
     ]
    }
   ],
   "source": [
    "ok.grade(\"q2a\");"
   ]
  },
  {
   "cell_type": "markdown",
   "metadata": {},
   "source": [
    "In the cell below plot the mean squared error for different `c` values. Note that `c_values` are given. Make sure to label the axes on your plot. Remember to use the `tips` variable we defined earlier."
   ]
  },
  {
   "cell_type": "markdown",
   "metadata": {
    "deletable": false,
    "editable": false
   },
   "source": [
    "<!--\n",
    "BEGIN QUESTION\n",
    "name: q2b\n",
    "manual: true\n",
    "-->\n",
    "<!-- EXPORT TO PDF -->"
   ]
  },
  {
   "cell_type": "code",
   "execution_count": 10,
   "metadata": {},
   "outputs": [
    {
     "data": {
      "text/plain": [
       "100"
      ]
     },
     "execution_count": 10,
     "metadata": {},
     "output_type": "execute_result"
    }
   ],
   "source": [
    "len(c_values)\n"
   ]
  },
  {
   "cell_type": "code",
   "execution_count": 11,
   "metadata": {},
   "outputs": [
    {
     "data": {
      "text/html": [
       "\n",
       "<div id=\"altair-viz-64db73cd7fe645149ce33e72170edbe2\"></div>\n",
       "<script type=\"text/javascript\">\n",
       "  (function(spec, embedOpt){\n",
       "    let outputDiv = document.currentScript.previousElementSibling;\n",
       "    if (outputDiv.id !== \"altair-viz-64db73cd7fe645149ce33e72170edbe2\") {\n",
       "      outputDiv = document.getElementById(\"altair-viz-64db73cd7fe645149ce33e72170edbe2\");\n",
       "    }\n",
       "    const paths = {\n",
       "      \"vega\": \"https://cdn.jsdelivr.net/npm//vega@5?noext\",\n",
       "      \"vega-lib\": \"https://cdn.jsdelivr.net/npm//vega-lib?noext\",\n",
       "      \"vega-lite\": \"https://cdn.jsdelivr.net/npm//vega-lite@4.8.1?noext\",\n",
       "      \"vega-embed\": \"https://cdn.jsdelivr.net/npm//vega-embed@6?noext\",\n",
       "    };\n",
       "\n",
       "    function loadScript(lib) {\n",
       "      return new Promise(function(resolve, reject) {\n",
       "        var s = document.createElement('script');\n",
       "        s.src = paths[lib];\n",
       "        s.async = true;\n",
       "        s.onload = () => resolve(paths[lib]);\n",
       "        s.onerror = () => reject(`Error loading script: ${paths[lib]}`);\n",
       "        document.getElementsByTagName(\"head\")[0].appendChild(s);\n",
       "      });\n",
       "    }\n",
       "\n",
       "    function showError(err) {\n",
       "      outputDiv.innerHTML = `<div class=\"error\" style=\"color:red;\">${err}</div>`;\n",
       "      throw err;\n",
       "    }\n",
       "\n",
       "    function displayChart(vegaEmbed) {\n",
       "      vegaEmbed(outputDiv, spec, embedOpt)\n",
       "        .catch(err => showError(`Javascript Error: ${err.message}<br>This usually means there's a typo in your chart specification. See the javascript console for the full traceback.`));\n",
       "    }\n",
       "\n",
       "    if(typeof define === \"function\" && define.amd) {\n",
       "      requirejs.config({paths});\n",
       "      require([\"vega-embed\"], displayChart, err => showError(`Error loading script: ${err.message}`));\n",
       "    } else if (typeof vegaEmbed === \"function\") {\n",
       "      displayChart(vegaEmbed);\n",
       "    } else {\n",
       "      loadScript(\"vega\")\n",
       "        .then(() => loadScript(\"vega-lite\"))\n",
       "        .then(() => loadScript(\"vega-embed\"))\n",
       "        .catch(showError)\n",
       "        .then(() => displayChart(vegaEmbed));\n",
       "    }\n",
       "  })({\"config\": {\"view\": {\"continuousWidth\": 400, \"continuousHeight\": 300}}, \"data\": {\"name\": \"data-b66b8c2635d6379d560d1722489fd699\"}, \"mark\": \"line\", \"encoding\": {\"x\": {\"type\": \"quantitative\", \"field\": \"x\"}, \"y\": {\"type\": \"quantitative\", \"field\": \"y\"}}, \"$schema\": \"https://vega.github.io/schema/vega-lite/v4.8.1.json\", \"datasets\": {\"data-b66b8c2635d6379d560d1722489fd699\": [{\"y\": 10.896283606557379, \"x\": 0.0}, {\"y\": 10.536528981318394, \"x\": 0.06060606060606061}, {\"y\": 10.184120545243804, \"x\": 0.12121212121212122}, {\"y\": 9.83905829833355, \"x\": 0.18181818181818182}, {\"y\": 9.501342240587684, \"x\": 0.24242424242424243}, {\"y\": 9.170972372006208, \"x\": 0.30303030303030304}, {\"y\": 8.847948692589084, \"x\": 0.36363636363636365}, {\"y\": 8.53227120233633, \"x\": 0.42424242424242425}, {\"y\": 8.223939901247947, \"x\": 0.48484848484848486}, {\"y\": 7.922954789323939, \"x\": 0.5454545454545454}, {\"y\": 7.629315866564299, \"x\": 0.6060606060606061}, {\"y\": 7.343023132969039, \"x\": 0.6666666666666667}, {\"y\": 7.064076588538131, \"x\": 0.7272727272727273}, {\"y\": 6.792476233271612, \"x\": 0.7878787878787878}, {\"y\": 6.528222067169456, \"x\": 0.8484848484848485}, {\"y\": 6.271314090231673, \"x\": 0.9090909090909092}, {\"y\": 6.021752302458269, \"x\": 0.9696969696969697}, {\"y\": 5.779536703849232, \"x\": 1.0303030303030303}, {\"y\": 5.544667294404554, \"x\": 1.0909090909090908}, {\"y\": 5.3171440741242515, \"x\": 1.1515151515151516}, {\"y\": 5.096967043008323, \"x\": 1.2121212121212122}, {\"y\": 4.8841362010567675, \"x\": 1.2727272727272727}, {\"y\": 4.678651548269582, \"x\": 1.3333333333333335}, {\"y\": 4.480513084646762, \"x\": 1.393939393939394}, {\"y\": 4.289720810188319, \"x\": 1.4545454545454546}, {\"y\": 4.106274724894244, \"x\": 1.5151515151515151}, {\"y\": 3.9301748287645473, \"x\": 1.5757575757575757}, {\"y\": 3.761421121799217, \"x\": 1.6363636363636365}, {\"y\": 3.600013603998257, \"x\": 1.696969696969697}, {\"y\": 3.4459522753616607, \"x\": 1.7575757575757576}, {\"y\": 3.299237135889443, \"x\": 1.8181818181818183}, {\"y\": 3.159868185581597, \"x\": 1.878787878787879}, {\"y\": 3.027845424438121, \"x\": 1.9393939393939394}, {\"y\": 2.9031688524590153, \"x\": 2.0}, {\"y\": 2.7858384696442813, \"x\": 2.0606060606060606}, {\"y\": 2.6758542759939146, \"x\": 2.121212121212121}, {\"y\": 2.5732162715079263, \"x\": 2.1818181818181817}, {\"y\": 2.4779244561863027, \"x\": 2.2424242424242427}, {\"y\": 2.3899788300290554, \"x\": 2.303030303030303}, {\"y\": 2.309379393036178, \"x\": 2.3636363636363638}, {\"y\": 2.2361261452076673, \"x\": 2.4242424242424243}, {\"y\": 2.1702190865435296, \"x\": 2.484848484848485}, {\"y\": 2.1116582170437614, \"x\": 2.5454545454545454}, {\"y\": 2.060443536708364, \"x\": 2.606060606060606}, {\"y\": 2.0165750455373415, \"x\": 2.666666666666667}, {\"y\": 1.9800527435306872, \"x\": 2.7272727272727275}, {\"y\": 1.9508766306884047, \"x\": 2.787878787878788}, {\"y\": 1.9290467070104924, \"x\": 2.8484848484848486}, {\"y\": 1.9145629724969504, \"x\": 2.909090909090909}, {\"y\": 1.9074254271477806, \"x\": 2.9696969696969697}, {\"y\": 1.9076340709629815, \"x\": 3.0303030303030303}, {\"y\": 1.9151889039425538, \"x\": 3.090909090909091}, {\"y\": 1.930089926086497, \"x\": 3.1515151515151514}, {\"y\": 1.9523371373948124, \"x\": 3.2121212121212124}, {\"y\": 1.9819305378674974, \"x\": 3.272727272727273}, {\"y\": 2.018870127504553, \"x\": 3.3333333333333335}, {\"y\": 2.0631559063059832, \"x\": 3.393939393939394}, {\"y\": 2.114787874271778, \"x\": 3.4545454545454546}, {\"y\": 2.173766031401951, \"x\": 3.515151515151515}, {\"y\": 2.240090377696487, \"x\": 3.5757575757575757}, {\"y\": 2.313760913155399, \"x\": 3.6363636363636367}, {\"y\": 2.3947776377786805, \"x\": 3.6969696969696972}, {\"y\": 2.4831405515663345, \"x\": 3.757575757575758}, {\"y\": 2.578849654518359, \"x\": 3.8181818181818183}, {\"y\": 2.681904946634749, \"x\": 3.878787878787879}, {\"y\": 2.792306427915519, \"x\": 3.9393939393939394}, {\"y\": 2.910054098360656, \"x\": 4.0}, {\"y\": 3.035147957970159, \"x\": 4.0606060606060606}, {\"y\": 3.1675880067440403, \"x\": 4.121212121212121}, {\"y\": 3.3073742446822894, \"x\": 4.181818181818182}, {\"y\": 3.4545066717849076, \"x\": 4.242424242424242}, {\"y\": 3.608985288051902, \"x\": 4.303030303030303}, {\"y\": 3.770810093483269, \"x\": 4.363636363636363}, {\"y\": 3.9399810880790076, \"x\": 4.424242424242425}, {\"y\": 4.116498271839109, \"x\": 4.484848484848485}, {\"y\": 4.300361644763579, \"x\": 4.545454545454546}, {\"y\": 4.491571206852433, \"x\": 4.606060606060606}, {\"y\": 4.690126958105644, \"x\": 4.666666666666667}, {\"y\": 4.896028898523229, \"x\": 4.7272727272727275}, {\"y\": 5.109277028105193, \"x\": 4.787878787878788}, {\"y\": 5.329871346851519, \"x\": 4.848484848484849}, {\"y\": 5.5578118547622255, \"x\": 4.909090909090909}, {\"y\": 5.7930985518373, \"x\": 4.96969696969697}, {\"y\": 6.035731438076755, \"x\": 5.03030303030303}, {\"y\": 6.285710513480555, \"x\": 5.090909090909091}, {\"y\": 6.543035778048737, \"x\": 5.151515151515151}, {\"y\": 6.807707231781302, \"x\": 5.212121212121212}, {\"y\": 7.0797248746782175, \"x\": 5.2727272727272725}, {\"y\": 7.359088706739522, \"x\": 5.333333333333334}, {\"y\": 7.645798727965192, \"x\": 5.3939393939393945}, {\"y\": 7.939854938355247, \"x\": 5.454545454545455}, {\"y\": 8.24125733790964, \"x\": 5.515151515151516}, {\"y\": 8.550005926628426, \"x\": 5.575757575757576}, {\"y\": 8.866100704511584, \"x\": 5.636363636363637}, {\"y\": 9.18954167155912, \"x\": 5.696969696969697}, {\"y\": 9.520328827770985, \"x\": 5.757575757575758}, {\"y\": 9.858462173147263, \"x\": 5.818181818181818}, {\"y\": 10.203941707687914, \"x\": 5.878787878787879}, {\"y\": 10.556767431392908, \"x\": 5.9393939393939394}, {\"y\": 10.916939344262296, \"x\": 6.0}]}}, {\"mode\": \"vega-lite\"});\n",
       "</script>"
      ],
      "text/plain": [
       "alt.Chart(...)"
      ]
     },
     "execution_count": 11,
     "metadata": {},
     "output_type": "execute_result"
    }
   ],
   "source": [
    "c_values = np.linspace(0, 6, 100)\n",
    "y = [mean_squared_error(c_values, tips)]\n",
    "df = pd.DataFrame({'y': y[0],\n",
    "                   'x': c_values})\n",
    "\n",
    "alt.Chart(df).mark_line().encode(\n",
    "    x='x',\n",
    "    y='y')\n",
    "\n"
   ]
  },
  {
   "cell_type": "markdown",
   "metadata": {},
   "source": [
    "Find the value of `c` that minimizes the L2 loss above via observation of the plot you've generated. Round your answer to the nearest integer."
   ]
  },
  {
   "cell_type": "markdown",
   "metadata": {
    "deletable": false,
    "editable": false
   },
   "source": [
    "<!--\n",
    "BEGIN QUESTION\n",
    "name: q2c\n",
    "manual: true\n",
    "-->\n",
    "<!-- EXPORT TO PDF -->"
   ]
  },
  {
   "cell_type": "code",
   "execution_count": 12,
   "metadata": {},
   "outputs": [
    {
     "data": {
      "text/plain": [
       "3"
      ]
     },
     "execution_count": 12,
     "metadata": {},
     "output_type": "execute_result"
    }
   ],
   "source": [
    "min_observed_mse = 3\n",
    "min_observed_mse"
   ]
  },
  {
   "cell_type": "code",
   "execution_count": 13,
   "metadata": {
    "deletable": false,
    "editable": false
   },
   "outputs": [
    {
     "name": "stdout",
     "output_type": "stream",
     "text": [
      "~~~~~~~~~~~~~~~~~~~~~~~~~~~~~~~~~~~~~~~~~~~~~~~~~~~~~~~~~~~~~~~~~~~~~\n",
      "Running tests\n",
      "\n",
      "---------------------------------------------------------------------\n",
      "Test summary\n",
      "    Passed: 1\n",
      "    Failed: 0\n",
      "[ooooooooook] 100.0% passed\n",
      "\n"
     ]
    }
   ],
   "source": [
    "ok.grade(\"q2c\");"
   ]
  },
  {
   "cell_type": "markdown",
   "metadata": {},
   "source": [
    "## Question 3: Find the Minimizing Value for Our Tips Dataset"
   ]
  },
  {
   "cell_type": "markdown",
   "metadata": {},
   "source": [
    "The cell below plots some arbitrary 4th degree polynomial function. "
   ]
  },
  {
   "cell_type": "code",
   "execution_count": 14,
   "metadata": {},
   "outputs": [
    {
     "data": {
      "text/html": [
       "\n",
       "<div id=\"altair-viz-71ee41cc140d434e98042546ee6871e2\"></div>\n",
       "<script type=\"text/javascript\">\n",
       "  (function(spec, embedOpt){\n",
       "    let outputDiv = document.currentScript.previousElementSibling;\n",
       "    if (outputDiv.id !== \"altair-viz-71ee41cc140d434e98042546ee6871e2\") {\n",
       "      outputDiv = document.getElementById(\"altair-viz-71ee41cc140d434e98042546ee6871e2\");\n",
       "    }\n",
       "    const paths = {\n",
       "      \"vega\": \"https://cdn.jsdelivr.net/npm//vega@5?noext\",\n",
       "      \"vega-lib\": \"https://cdn.jsdelivr.net/npm//vega-lib?noext\",\n",
       "      \"vega-lite\": \"https://cdn.jsdelivr.net/npm//vega-lite@4.8.1?noext\",\n",
       "      \"vega-embed\": \"https://cdn.jsdelivr.net/npm//vega-embed@6?noext\",\n",
       "    };\n",
       "\n",
       "    function loadScript(lib) {\n",
       "      return new Promise(function(resolve, reject) {\n",
       "        var s = document.createElement('script');\n",
       "        s.src = paths[lib];\n",
       "        s.async = true;\n",
       "        s.onload = () => resolve(paths[lib]);\n",
       "        s.onerror = () => reject(`Error loading script: ${paths[lib]}`);\n",
       "        document.getElementsByTagName(\"head\")[0].appendChild(s);\n",
       "      });\n",
       "    }\n",
       "\n",
       "    function showError(err) {\n",
       "      outputDiv.innerHTML = `<div class=\"error\" style=\"color:red;\">${err}</div>`;\n",
       "      throw err;\n",
       "    }\n",
       "\n",
       "    function displayChart(vegaEmbed) {\n",
       "      vegaEmbed(outputDiv, spec, embedOpt)\n",
       "        .catch(err => showError(`Javascript Error: ${err.message}<br>This usually means there's a typo in your chart specification. See the javascript console for the full traceback.`));\n",
       "    }\n",
       "\n",
       "    if(typeof define === \"function\" && define.amd) {\n",
       "      requirejs.config({paths});\n",
       "      require([\"vega-embed\"], displayChart, err => showError(`Error loading script: ${err.message}`));\n",
       "    } else if (typeof vegaEmbed === \"function\") {\n",
       "      displayChart(vegaEmbed);\n",
       "    } else {\n",
       "      loadScript(\"vega\")\n",
       "        .then(() => loadScript(\"vega-lite\"))\n",
       "        .then(() => loadScript(\"vega-embed\"))\n",
       "        .catch(showError)\n",
       "        .then(() => displayChart(vegaEmbed));\n",
       "    }\n",
       "  })({\"config\": {\"view\": {\"continuousWidth\": 400, \"continuousHeight\": 300}}, \"data\": {\"name\": \"data-e58bad7d74bf9d6ce9ff7d5556288a38\"}, \"mark\": \"line\", \"encoding\": {\"x\": {\"type\": \"quantitative\", \"axis\": {\"title\": \"x\"}, \"field\": \"x\"}, \"y\": {\"type\": \"quantitative\", \"axis\": {\"title\": \"f(x)\"}, \"field\": \"fx\"}}, \"$schema\": \"https://vega.github.io/schema/vega-lite/v4.8.1.json\", \"datasets\": {\"data-e58bad7d74bf9d6ce9ff7d5556288a38\": [{\"x\": -4.0, \"fx\": 22.0}, {\"x\": -3.9343434343434343, \"fx\": 20.9416064306914}, {\"x\": -3.8686868686868685, \"fx\": 19.944661026647402}, {\"x\": -3.803030303030303, \"fx\": 19.006853223148934}, {\"x\": -3.7373737373737375, \"fx\": 18.12591705435046}, {\"x\": -3.6717171717171717, \"fx\": 17.299631153280032}, {\"x\": -3.606060606060606, \"fx\": 16.52581875183929}, {\"x\": -3.54040404040404, \"fx\": 15.802347680803399}, {\"x\": -3.474747474747475, \"fx\": 15.127130369821131}, {\"x\": -3.409090909090909, \"fx\": 14.498123847414796}, {\"x\": -3.3434343434343434, \"fx\": 13.913329740980291}, {\"x\": -3.2777777777777777, \"fx\": 13.370794276787073}, {\"x\": -3.212121212121212, \"fx\": 12.868608279978176}, {\"x\": -3.146464646464646, \"fx\": 12.40490717457019}, {\"x\": -3.0808080808080804, \"fx\": 11.977870983453283}, {\"x\": -3.015151515151515, \"fx\": 11.585724328391183}, {\"x\": -2.9494949494949494, \"fx\": 11.226736430021191}, {\"x\": -2.8838383838383836, \"fx\": 10.899221107854174}, {\"x\": -2.8181818181818183, \"fx\": 10.601536780274571}, {\"x\": -2.7525252525252526, \"fx\": 10.332086464540385}, {\"x\": -2.686868686868687, \"fx\": 10.089317776783187}, {\"x\": -2.621212121212121, \"fx\": 9.871722932008119}, {\"x\": -2.5555555555555554, \"fx\": 9.677838744093888}, {\"x\": -2.4898989898989896, \"fx\": 9.506246625792771}, {\"x\": -2.424242424242424, \"fx\": 9.355572588730613}, {\"x\": -2.358585858585858, \"fx\": 9.22448724340683}, {\"x\": -2.292929292929293, \"fx\": 9.111705799194397}, {\"x\": -2.227272727272727, \"fx\": 9.015988064339867}, {\"x\": -2.1616161616161613, \"fx\": 8.936138445963355}, {\"x\": -2.095959595959596, \"fx\": 8.871005950058548}, {\"x\": -2.0303030303030303, \"fx\": 8.819484181492697}, {\"x\": -1.9646464646464645, \"fx\": 8.780511344006623}, {\"x\": -1.8989898989898988, \"fx\": 8.753070240214718}, {\"x\": -1.833333333333333, \"fx\": 8.736188271604938}, {\"x\": -1.7676767676767673, \"fx\": 8.728937438538809}, {\"x\": -1.702020202020202, \"fx\": 8.730434340251424}, {\"x\": -1.6363636363636362, \"fx\": 8.739840174851444}, {\"x\": -1.5707070707070705, \"fx\": 8.756360739321101}, {\"x\": -1.5050505050505047, \"fx\": 8.779246429516192}, {\"x\": -1.439393939393939, \"fx\": 8.807792240166082}, {\"x\": -1.3737373737373737, \"fx\": 8.841337764873707}, {\"x\": -1.308080808080808, \"fx\": 8.879267196115565}, {\"x\": -1.2424242424242422, \"fx\": 8.921009325241732}, {\"x\": -1.1767676767676765, \"fx\": 8.966037542475842}, {\"x\": -1.1111111111111107, \"fx\": 9.013869836915104}, {\"x\": -1.045454545454545, \"fx\": 9.064068796530291}, {\"x\": -0.9797979797979797, \"fx\": 9.116241608165748}, {\"x\": -0.9141414141414139, \"fx\": 9.170040057539381}, {\"x\": -0.8484848484848482, \"fx\": 9.225160529242673}, {\"x\": -0.7828282828282824, \"fx\": 9.28134400674067}, {\"x\": -0.7171717171717167, \"fx\": 9.338376072371986}, {\"x\": -0.6515151515151514, \"fx\": 9.396086907348803}, {\"x\": -0.5858585858585856, \"fx\": 9.454351291756875}, {\"x\": -0.5202020202020199, \"fx\": 9.51308860455552}, {\"x\": -0.45454545454545414, \"fx\": 9.572262823577624}, {\"x\": -0.3888888888888884, \"fx\": 9.631882525529646}, {\"x\": -0.32323232323232265, \"fx\": 9.692000885991606}, {\"x\": -0.25757575757575735, \"fx\": 9.752715679417095}, {\"x\": -0.1919191919191916, \"fx\": 9.814169279133274}, {\"x\": -0.12626262626262585, \"fx\": 9.876548657340873}, {\"x\": -0.06060606060606011, \"fx\": 9.940085385114186}, {\"x\": 0.005050505050505194, \"fx\": 10.005055632401076}, {\"x\": 0.07070707070707094, \"fx\": 10.071780168022975}, {\"x\": 0.1363636363636367, \"fx\": 10.140624359674886}, {\"x\": 0.20202020202020243, \"fx\": 10.211998173925375}, {\"x\": 0.2676767676767682, \"fx\": 10.286356176216577}, {\"x\": 0.3333333333333339, \"fx\": 10.364197530864198}, {\"x\": 0.39898989898989967, \"fx\": 10.446066001057511}, {\"x\": 0.4646464646464654, \"fx\": 10.532549948859355}, {\"x\": 0.5303030303030312, \"fx\": 10.624282335206141}, {\"x\": 0.595959595959596, \"fx\": 10.721940719907842}, {\"x\": 0.6616161616161618, \"fx\": 10.826247261648005}, {\"x\": 0.7272727272727275, \"fx\": 10.937968717983745}, {\"x\": 0.7929292929292933, \"fx\": 11.05791644534574}, {\"x\": 0.858585858585859, \"fx\": 11.18694639903824}, {\"x\": 0.9242424242424248, \"fx\": 11.325959133239062}, {\"x\": 0.9898989898989905, \"fx\": 11.475899800999592}, {\"x\": 1.0555555555555562, \"fx\": 11.637758154244782}, {\"x\": 1.121212121212122, \"fx\": 11.812568543773153}, {\"x\": 1.1868686868686877, \"fx\": 12.001409919256798}, {\"x\": 1.2525252525252526, \"fx\": 12.205405829241368}, {\"x\": 1.3181818181818183, \"fx\": 12.425724421146096}, {\"x\": 1.383838383838384, \"fx\": 12.663578441263773}, {\"x\": 1.4494949494949498, \"fx\": 12.920225234760762}, {\"x\": 1.5151515151515156, \"fx\": 13.19696674567699}, {\"x\": 1.5808080808080813, \"fx\": 13.495149516925958}, {\"x\": 1.646464646464647, \"fx\": 13.81616469029473}, {\"x\": 1.7121212121212128, \"fx\": 14.16144800644394}, {\"x\": 1.7777777777777786, \"fx\": 14.532479804907794}, {\"x\": 1.8434343434343443, \"fx\": 14.930785024094057}, {\"x\": 1.90909090909091, \"fx\": 15.357933201284071}, {\"x\": 1.974747474747475, \"fx\": 15.815538472632737}, {\"x\": 2.0404040404040407, \"fx\": 16.30525957316854}, {\"x\": 2.1060606060606064, \"fx\": 16.828799836793515}, {\"x\": 2.171717171717172, \"fx\": 17.38790719628328}, {\"x\": 2.237373737373738, \"fx\": 17.984374183287002}, {\"x\": 2.3030303030303036, \"fx\": 18.62003792832744}, {\"x\": 2.3686868686868694, \"fx\": 19.296780160800903}, {\"x\": 2.434343434343435, \"fx\": 20.016527208977276}, {\"x\": 2.5, \"fx\": 20.78125}]}}, {\"mode\": \"vega-lite\"});\n",
       "</script>"
      ],
      "text/plain": [
       "alt.Chart(...)"
      ]
     },
     "execution_count": 14,
     "metadata": {},
     "output_type": "execute_result"
    }
   ],
   "source": [
    "x_values = np.linspace(-4, 2.5, 100)\n",
    "\n",
    "def fx(x):\n",
    "    return 0.1 * x**4 + 0.2*x**3 + 0.2 * x **2 + 1 * x + 10\n",
    "\n",
    "source = pd.DataFrame({\n",
    "    'x': x_values,\n",
    "    'fx': fx(x_values)\n",
    "}) \n",
    "\n",
    "alt.Chart(source).mark_line().encode(\n",
    "    x=alt.X('x', axis=alt.Axis(title = 'x')),\n",
    "    y=alt.Y('fx', axis=alt.Axis(title = 'f(x)'))\n",
    ")"
   ]
  },
  {
   "cell_type": "markdown",
   "metadata": {},
   "source": [
    "By looking at the plot, we see that the x which minimizes the function is slightly larger than -2. What if we want the exact value?\n",
    "\n",
    "The function `minimize` from [`scipy.optimize`](https://docs.scipy.org/doc/scipy/reference/generated/scipy.optimize.minimize.html) will attempt to minimize any function you throw at it.\n",
    "\n",
    "Try running the cell below, and you will see that minimize seems to get the answer correct.\n",
    "\n",
    "Note: For today, we'll let minimize work as if by magic. We'll discuss how `minimize` works later in the course."
   ]
  },
  {
   "cell_type": "code",
   "execution_count": 15,
   "metadata": {},
   "outputs": [
    {
     "data": {
      "text/plain": [
       "      fun: 8.728505719866614\n",
       " hess_inv: array([[0.50884886]])\n",
       "      jac: array([1.1920929e-07])\n",
       "  message: 'Optimization terminated successfully.'\n",
       "     nfev: 24\n",
       "      nit: 6\n",
       "     njev: 8\n",
       "   status: 0\n",
       "  success: True\n",
       "        x: array([-1.74682779])"
      ]
     },
     "execution_count": 15,
     "metadata": {},
     "output_type": "execute_result"
    }
   ],
   "source": [
    "from scipy.optimize import minimize\n",
    "minimize(fx, x0 = 1.1)"
   ]
  },
  {
   "cell_type": "markdown",
   "metadata": {},
   "source": [
    "The `fun` value is the minimum value of the function. The `x` is the x which minimizes the function. We can index into the object returned by `minimize` to get these values. We have to add the additional `[0]` at the end because the minimizing x is returned as an array. The reason for this is that `minimize` can also minimize multivariable functions."
   ]
  },
  {
   "cell_type": "code",
   "execution_count": 16,
   "metadata": {},
   "outputs": [],
   "source": [
    "minimization_result_for_fx = minimize(fx, x0 = 0)\n",
    "min_of_fx = minimization_result_for_fx['fun']\n",
    "x_which_minimizes_fx = minimization_result_for_fx['x'][0]"
   ]
  },
  {
   "cell_type": "markdown",
   "metadata": {},
   "source": [
    "The parameter `x0` that we passed to the `minimize` function is where the `minimize` function starts looking as it tries to find the minimum. For example, above, `minimize` started its search at x = 1.1 because that's where we told it to start. For the function above, it doesn't really matter what x we start at because the function is nice and has only a single local minimum. More technically, the function is nice because it is [convex](https://en.wikipedia.org/wiki/Convex_function), a property of functions that we will discuss later in the course.\n",
    "\n",
    "`minimize` isn't perfect. For example, if we give it a function with many valleys (also known as local minima) it can get stuck. For example, consider the function below:"
   ]
  },
  {
   "cell_type": "code",
   "execution_count": 17,
   "metadata": {},
   "outputs": [
    {
     "data": {
      "text/plain": [
       "array([10.89628361, 10.53652898, 10.18412055,  9.8390583 ,  9.50134224,\n",
       "        9.17097237,  8.84794869,  8.5322712 ,  8.2239399 ,  7.92295479,\n",
       "        7.62931587,  7.34302313,  7.06407659,  6.79247623,  6.52822207,\n",
       "        6.27131409,  6.0217523 ,  5.7795367 ,  5.54466729,  5.31714407,\n",
       "        5.09696704,  4.8841362 ,  4.67865155,  4.48051308,  4.28972081,\n",
       "        4.10627472,  3.93017483,  3.76142112,  3.6000136 ,  3.44595228,\n",
       "        3.29923714,  3.15986819,  3.02784542,  2.90316885,  2.78583847,\n",
       "        2.67585428,  2.57321627,  2.47792446,  2.38997883,  2.30937939,\n",
       "        2.23612615,  2.17021909,  2.11165822,  2.06044354,  2.01657505,\n",
       "        1.98005274,  1.95087663,  1.92904671,  1.91456297,  1.90742543,\n",
       "        1.90763407,  1.9151889 ,  1.93008993,  1.95233714,  1.98193054,\n",
       "        2.01887013,  2.06315591,  2.11478787,  2.17376603,  2.24009038,\n",
       "        2.31376091,  2.39477764,  2.48314055,  2.57884965,  2.68190495,\n",
       "        2.79230643,  2.9100541 ,  3.03514796,  3.16758801,  3.30737424,\n",
       "        3.45450667,  3.60898529,  3.77081009,  3.93998109,  4.11649827,\n",
       "        4.30036164,  4.49157121,  4.69012696,  4.8960289 ,  5.10927703,\n",
       "        5.32987135,  5.55781185,  5.79309855,  6.03573144,  6.28571051,\n",
       "        6.54303578,  6.80770723,  7.07972487,  7.35908871,  7.64579873,\n",
       "        7.93985494,  8.24125734,  8.55000593,  8.8661007 ,  9.18954167,\n",
       "        9.52032883,  9.85846217, 10.20394171, 10.55676743, 10.91693934])"
      ]
     },
     "execution_count": 17,
     "metadata": {},
     "output_type": "execute_result"
    }
   ],
   "source": [
    "y[0]"
   ]
  },
  {
   "cell_type": "code",
   "execution_count": 18,
   "metadata": {},
   "outputs": [
    {
     "data": {
      "text/html": [
       "\n",
       "<div id=\"altair-viz-c795353794ec4a88ac9100b8c37d9915\"></div>\n",
       "<script type=\"text/javascript\">\n",
       "  (function(spec, embedOpt){\n",
       "    let outputDiv = document.currentScript.previousElementSibling;\n",
       "    if (outputDiv.id !== \"altair-viz-c795353794ec4a88ac9100b8c37d9915\") {\n",
       "      outputDiv = document.getElementById(\"altair-viz-c795353794ec4a88ac9100b8c37d9915\");\n",
       "    }\n",
       "    const paths = {\n",
       "      \"vega\": \"https://cdn.jsdelivr.net/npm//vega@5?noext\",\n",
       "      \"vega-lib\": \"https://cdn.jsdelivr.net/npm//vega-lib?noext\",\n",
       "      \"vega-lite\": \"https://cdn.jsdelivr.net/npm//vega-lite@4.8.1?noext\",\n",
       "      \"vega-embed\": \"https://cdn.jsdelivr.net/npm//vega-embed@6?noext\",\n",
       "    };\n",
       "\n",
       "    function loadScript(lib) {\n",
       "      return new Promise(function(resolve, reject) {\n",
       "        var s = document.createElement('script');\n",
       "        s.src = paths[lib];\n",
       "        s.async = true;\n",
       "        s.onload = () => resolve(paths[lib]);\n",
       "        s.onerror = () => reject(`Error loading script: ${paths[lib]}`);\n",
       "        document.getElementsByTagName(\"head\")[0].appendChild(s);\n",
       "      });\n",
       "    }\n",
       "\n",
       "    function showError(err) {\n",
       "      outputDiv.innerHTML = `<div class=\"error\" style=\"color:red;\">${err}</div>`;\n",
       "      throw err;\n",
       "    }\n",
       "\n",
       "    function displayChart(vegaEmbed) {\n",
       "      vegaEmbed(outputDiv, spec, embedOpt)\n",
       "        .catch(err => showError(`Javascript Error: ${err.message}<br>This usually means there's a typo in your chart specification. See the javascript console for the full traceback.`));\n",
       "    }\n",
       "\n",
       "    if(typeof define === \"function\" && define.amd) {\n",
       "      requirejs.config({paths});\n",
       "      require([\"vega-embed\"], displayChart, err => showError(`Error loading script: ${err.message}`));\n",
       "    } else if (typeof vegaEmbed === \"function\") {\n",
       "      displayChart(vegaEmbed);\n",
       "    } else {\n",
       "      loadScript(\"vega\")\n",
       "        .then(() => loadScript(\"vega-lite\"))\n",
       "        .then(() => loadScript(\"vega-embed\"))\n",
       "        .catch(showError)\n",
       "        .then(() => displayChart(vegaEmbed));\n",
       "    }\n",
       "  })({\"config\": {\"view\": {\"continuousWidth\": 400, \"continuousHeight\": 300}}, \"data\": {\"name\": \"data-386c3ab3938f7d7649e20988f07fdd0c\"}, \"mark\": \"line\", \"encoding\": {\"x\": {\"type\": \"quantitative\", \"axis\": {\"title\": \"w\"}, \"field\": \"w\"}, \"y\": {\"type\": \"quantitative\", \"axis\": {\"title\": \"f(w)\"}, \"field\": \"fw\"}}, \"$schema\": \"https://vega.github.io/schema/vega-lite/v4.8.1.json\", \"datasets\": {\"data-386c3ab3938f7d7649e20988f07fdd0c\": [{\"w\": -2.0, \"fw\": 49.6}, {\"w\": -1.878787878787879, \"fw\": 44.25157291252958}, {\"w\": -1.7575757575757576, \"fw\": 39.39016646134102}, {\"w\": -1.6363636363636362, \"fw\": 34.991981422034016}, {\"w\": -1.5151515151515151, \"fw\": 31.033736648562595}, {\"w\": -1.393939393939394, \"fw\": 27.492669073235067}, {\"w\": -1.2727272727272727, \"fw\": 24.346533706714023}, {\"w\": -1.1515151515151514, \"fw\": 21.57360363801636}, {\"w\": -1.0303030303030303, \"fw\": 19.15267003451326}, {\"w\": -0.9090909090909092, \"fw\": 17.063042141930197}, {\"w\": -0.7878787878787878, \"fw\": 15.284547284346933}, {\"w\": -0.6666666666666665, \"fw\": 13.79753086419753}, {\"w\": -0.5454545454545454, \"fw\": 12.582856362270336}, {\"w\": -0.4242424242424243, \"fw\": 11.621905337707993}, {\"w\": -0.303030303030303, \"fw\": 10.896577428007431}, {\"w\": -0.18181818181818166, \"fw\": 10.389290349019875}, {\"w\": -0.06060606060606055, \"fw\": 10.082979894950844}, {\"w\": 0.06060606060606055, \"fw\": 9.961099938360144}, {\"w\": 0.18181818181818166, \"fw\": 10.007622430161874}, {\"w\": 0.3030303030303032, \"fw\": 10.207037399624427}, {\"w\": 0.4242424242424243, \"fw\": 10.544352954370485}, {\"w\": 0.5454545454545454, \"fw\": 11.005095280377024}, {\"w\": 0.666666666666667, \"fw\": 11.57530864197531}, {\"w\": 0.7878787878787881, \"fw\": 12.241555381850901}, {\"w\": 0.9090909090909092, \"fw\": 12.990915921043644}, {\"w\": 1.0303030303030303, \"fw\": 13.810988758947687}, {\"w\": 1.1515151515151514, \"fw\": 14.68989047331146}, {\"w\": 1.272727272727273, \"fw\": 15.61625572023769}, {\"w\": 1.393939393939394, \"fw\": 16.57923723418339}, {\"w\": 1.5151515151515151, \"fw\": 17.56850582795987}, {\"w\": 1.6363636363636367, \"fw\": 18.574250392732736}, {\"w\": 1.7575757575757578, \"fw\": 19.587177898021878}, {\"w\": 1.878787878787879, \"fw\": 20.59851339170147}, {\"w\": 2.0, \"fw\": 21.6}, {\"w\": 2.121212121212121, \"fw\": 22.583898927500226}, {\"w\": 2.242424242424242, \"fw\": 23.54298945713922}, {\"w\": 2.3636363636363633, \"fw\": 24.470568950208317}, {\"w\": 2.4848484848484853, \"fw\": 25.360452846353176}, {\"w\": 2.6060606060606064, \"fw\": 26.206974663573714}, {\"w\": 2.7272727272727275, \"fw\": 27.00498599822416}, {\"w\": 2.8484848484848486, \"fw\": 27.749856525013055}, {\"w\": 2.9696969696969697, \"fw\": 28.437473997003167}, {\"w\": 3.090909090909091, \"fw\": 29.064244245611636}, {\"w\": 3.212121212121212, \"fw\": 29.627091180609845}, {\"w\": 3.333333333333334, \"fw\": 30.123456790123456}, {\"w\": 3.454545454545455, \"fw\": 30.551301140632482}, {\"w\": 3.575757575757576, \"fw\": 30.90910237697115}, {\"w\": 3.6969696969696972, \"fw\": 31.195856722328053}, {\"w\": 3.8181818181818183, \"fw\": 31.411078478246026}, {\"w\": 3.9393939393939394, \"fw\": 31.554800024622224}, {\"w\": 4.0606060606060606, \"fw\": 31.627571819708066}, {\"w\": 4.181818181818182, \"fw\": 31.630462400109273}, {\"w\": 4.303030303030303, \"fw\": 31.565058380785892}, {\"w\": 4.424242424242425, \"fw\": 31.433464455052228}, {\"w\": 4.545454545454546, \"fw\": 31.238303394576874}, {\"w\": 4.666666666666667, \"fw\": 30.982716049382734}, {\"w\": 4.787878787878788, \"fw\": 30.670361347846942}, {\"w\": 4.909090909090909, \"fw\": 30.305416296701022}, {\"w\": 5.03030303030303, \"fw\": 29.892575981030788}, {\"w\": 5.151515151515151, \"fw\": 29.43705356427623}, {\"w\": 5.272727272727273, \"fw\": 28.9445802882317}, {\"w\": 5.3939393939393945, \"fw\": 28.421405473045848}, {\"w\": 5.515151515151516, \"fw\": 27.874296517221623}, {\"w\": 5.636363636363637, \"fw\": 27.3105388976163}, {\"w\": 5.757575757575758, \"fw\": 26.737936169441376}, {\"w\": 5.878787878787879, \"fw\": 26.16480996626245}, {\"w\": 6.0, \"fw\": 25.599999999999994}, {\"w\": 6.121212121212121, \"fw\": 25.05286406092816}, {\"w\": 6.242424242424242, \"fw\": 24.53327801767572}, {\"w\": 6.363636363636363, \"fw\": 24.05163581722554}, {\"w\": 6.484848484848484, \"fw\": 23.61884948491509}, {\"w\": 6.6060606060606055, \"fw\": 23.246349124435785}, {\"w\": 6.727272727272727, \"fw\": 22.946082917833444}, {\"w\": 6.8484848484848495, \"fw\": 22.730517125508378}, {\"w\": 6.969696969696971, \"fw\": 22.612636086214962}, {\"w\": 7.090909090909092, \"fw\": 22.605942217061653}, {\"w\": 7.212121212121213, \"fw\": 22.724456013511862}, {\"w\": 7.333333333333334, \"fw\": 22.982716049382795}, {\"w\": 7.454545454545455, \"fw\": 23.395778976845847}, {\"w\": 7.575757575757576, \"fw\": 23.979219526427173}, {\"w\": 7.696969696969697, \"fw\": 24.749130507006832}, {\"w\": 7.818181818181818, \"fw\": 25.722122805819303}, {\"w\": 7.9393939393939394, \"fw\": 26.915325388453425}, {\"w\": 8.06060606060606, \"fw\": 28.34638529885217}, {\"w\": 8.181818181818182, \"fw\": 30.03346765931304}, {\"w\": 8.303030303030303, \"fw\": 31.99525567048733}, {\"w\": 8.424242424242424, \"fw\": 34.25095061138144}, {\"w\": 8.545454545454545, \"fw\": 36.820271839355215}, {\"w\": 8.666666666666668, \"fw\": 39.72345679012342}, {\"w\": 8.787878787878789, \"fw\": 42.981260977754765}, {\"w\": 8.90909090909091, \"fw\": 46.61495799467272}, {\"w\": 9.030303030303031, \"fw\": 50.64633951165408}, {\"w\": 9.151515151515152, \"fw\": 55.09771527783059}, {\"w\": 9.272727272727273, \"fw\": 59.991913120688515}, {\"w\": 9.393939393939394, \"fw\": 65.35227894606827}, {\"w\": 9.515151515151516, \"fw\": 71.20267673816385}, {\"w\": 9.636363636363637, \"fw\": 77.56748855952479}, {\"w\": 9.757575757575758, \"fw\": 84.47161455105368}, {\"w\": 9.878787878787879, \"fw\": 91.94047293200822}, {\"w\": 10.0, \"fw\": 100.0}]}}, {\"mode\": \"vega-lite\"});\n",
       "</script>"
      ],
      "text/plain": [
       "alt.Chart(...)"
      ]
     },
     "execution_count": 18,
     "metadata": {},
     "output_type": "execute_result"
    }
   ],
   "source": [
    "w_values = np.linspace(-2, 10, 100)\n",
    "\n",
    "def fw(w):\n",
    "    return 0.1 * w**4 - 1.5*w**3 + 6 * w **2 - 1 * w + 10\n",
    "\n",
    "\n",
    "source = pd.DataFrame({\n",
    "    'w': w_values,\n",
    "    'fw': fw(w_values)\n",
    "}) \n",
    "\n",
    "alt.Chart(source).mark_line().encode(\n",
    "    x=alt.X('w', axis=alt.Axis(title = 'w')),\n",
    "    y=alt.Y('fw', axis=alt.Axis(title = 'f(w)'))\n",
    ")"
   ]
  },
  {
   "cell_type": "markdown",
   "metadata": {},
   "source": [
    "If we start the minimization at w = 6.5, we'll get stuck in the local minimum at w = 7.03. Note that no matter what your actual variable is called in your function, the `minimize` routine still calls the starting point `x0`."
   ]
  },
  {
   "cell_type": "code",
   "execution_count": 19,
   "metadata": {},
   "outputs": [
    {
     "data": {
      "text/plain": [
       "      fun: 22.594302881719713\n",
       " hess_inv: array([[0.12308018]])\n",
       "      jac: array([-3.81469727e-06])\n",
       "  message: 'Optimization terminated successfully.'\n",
       "     nfev: 18\n",
       "      nit: 4\n",
       "     njev: 6\n",
       "   status: 0\n",
       "  success: True\n",
       "        x: array([7.03774624])"
      ]
     },
     "execution_count": 19,
     "metadata": {},
     "output_type": "execute_result"
    }
   ],
   "source": [
    "minimize(fw, x0 = 6.5)"
   ]
  },
  {
   "cell_type": "markdown",
   "metadata": {},
   "source": [
    "Now using the `minimize function`, find the value of `c` that minimizes the mean squared error for our tips dataset. In other words, you want to find the exact minimum of the plot that you generated in question 2.\n",
    "\n",
    "For autograding purposes, assign `min_scipy` to the value of `c` that minimizes the MSE according to the `minimize` function.\n",
    "\n",
    "Hint: You can't pass your `mean_squared_error` function to `minimize` because `mean_squared_error` has two variables: `c` and `data`. `minimize` will get confused because it thinks it needs to minimize by picking the best `c` and best `data` values. We only want it to play around with `c`.\n",
    "\n",
    "In other words, you need to pass a function of one variable `c` to the `minimize` function, which means you'll need to create a new function of only ONE variable `c`. This is very simple, but also very tricky when you do this for the first time. Make sure to ask for help if you get stuck.\n",
    "\n",
    "<!--\n",
    "BEGIN QUESTION\n",
    "name: q3a\n",
    "-->"
   ]
  },
  {
   "cell_type": "markdown",
   "metadata": {
    "deletable": false,
    "editable": false
   },
   "source": [
    "<!--\n",
    "BEGIN QUESTION\n",
    "name: q3a\n",
    "manual: true \n",
    "-->\n",
    "<!-- EXPORT TO PDF -->"
   ]
  },
  {
   "cell_type": "code",
   "execution_count": 20,
   "metadata": {},
   "outputs": [
    {
     "data": {
      "text/plain": [
       "2.998278460156637"
      ]
     },
     "execution_count": 20,
     "metadata": {},
     "output_type": "execute_result"
    }
   ],
   "source": [
    "def ff(c, lam = tips):\n",
    "    return mean_squared_error(c, lam)\n",
    "min_scipy = minimize(ff, x0=1)['x'][0] \n",
    "min_scipy"
   ]
  },
  {
   "cell_type": "code",
   "execution_count": 21,
   "metadata": {
    "deletable": false,
    "editable": false
   },
   "outputs": [
    {
     "name": "stdout",
     "output_type": "stream",
     "text": [
      "~~~~~~~~~~~~~~~~~~~~~~~~~~~~~~~~~~~~~~~~~~~~~~~~~~~~~~~~~~~~~~~~~~~~~\n",
      "Running tests\n",
      "\n",
      "---------------------------------------------------------------------\n",
      "Test summary\n",
      "    Passed: 1\n",
      "    Failed: 0\n",
      "[ooooooooook] 100.0% passed\n",
      "\n"
     ]
    }
   ],
   "source": [
    "ok.grade(\"q3a\");"
   ]
  },
  {
   "cell_type": "markdown",
   "metadata": {},
   "source": [
    "From lecture we know that the value of `c` that minimizes the mean squared error is the average of the data. Assign `min_computed` to the mean of the tips dataset, and compare this to the values you observed in questions 2b and 3a."
   ]
  },
  {
   "cell_type": "markdown",
   "metadata": {
    "deletable": false,
    "editable": false
   },
   "source": [
    "<!--\n",
    "BEGIN QUESTION\n",
    "name: q3b\n",
    "manual: true \n",
    "-->\n",
    "<!-- EXPORT TO PDF -->"
   ]
  },
  {
   "cell_type": "code",
   "execution_count": 22,
   "metadata": {},
   "outputs": [
    {
     "data": {
      "text/plain": [
       "2.99827868852459"
      ]
     },
     "execution_count": 22,
     "metadata": {},
     "output_type": "execute_result"
    }
   ],
   "source": [
    "min_computed = np.mean(tips)\n",
    "min_computed"
   ]
  },
  {
   "cell_type": "code",
   "execution_count": 23,
   "metadata": {
    "deletable": false,
    "editable": false
   },
   "outputs": [
    {
     "name": "stdout",
     "output_type": "stream",
     "text": [
      "~~~~~~~~~~~~~~~~~~~~~~~~~~~~~~~~~~~~~~~~~~~~~~~~~~~~~~~~~~~~~~~~~~~~~\n",
      "Running tests\n",
      "\n",
      "---------------------------------------------------------------------\n",
      "Test summary\n",
      "    Passed: 1\n",
      "    Failed: 0\n",
      "[ooooooooook] 100.0% passed\n",
      "\n"
     ]
    }
   ],
   "source": [
    "ok.grade(\"q3b\");"
   ]
  },
  {
   "cell_type": "markdown",
   "metadata": {},
   "source": [
    "Reflecting on the lab so far, we've now seen 3 ways to find the summary statistic `c` that minimizes the mean squared error:\n",
    "1. Create a plot of the MSE for the given data array vs. `c` and eyeball the minimizing `c`.\n",
    "2. Create a function that returns the MSE for a specific data array as a function of `c` and use the scipy `minimize` function to find the exact `c` which minimizes this function.\n",
    "3. Simply compute the mean of the data array.\n",
    "\n",
    "At this point, you've hopefully convinced yourself that the `mean` is the summary statistic that minimizes mean squared error."
   ]
  },
  {
   "cell_type": "markdown",
   "metadata": {},
   "source": [
    "# Absolute Loss"
   ]
  },
  {
   "cell_type": "markdown",
   "metadata": {},
   "source": [
    "## Question 4: Implement the Absolute Loss \n",
    "\n",
    "In this section, you will follow the exact same steps as above but for the absolute loss function. Absolute loss is defined as:\n",
    "\n",
    "$$\\Large\n",
    "L\\left(y, c\\right) = \\left| y - c\\right|\n",
    "$$"
   ]
  },
  {
   "cell_type": "markdown",
   "metadata": {},
   "source": [
    "In the cell below define the function `abs_loss` which returns the absolute loss given a value of `c` and `y_obs`."
   ]
  },
  {
   "cell_type": "markdown",
   "metadata": {
    "deletable": false,
    "editable": false
   },
   "source": [
    "<!--\n",
    "BEGIN QUESTION\n",
    "name: q4a\n",
    "manual: true \n",
    "-->\n",
    "<!-- EXPORT TO PDF -->"
   ]
  },
  {
   "cell_type": "code",
   "execution_count": 24,
   "metadata": {},
   "outputs": [],
   "source": [
    "def abs_loss(c, y_obs):\n",
    "    return abs(y_obs -c)"
   ]
  },
  {
   "cell_type": "code",
   "execution_count": 25,
   "metadata": {
    "deletable": false,
    "editable": false
   },
   "outputs": [
    {
     "name": "stdout",
     "output_type": "stream",
     "text": [
      "~~~~~~~~~~~~~~~~~~~~~~~~~~~~~~~~~~~~~~~~~~~~~~~~~~~~~~~~~~~~~~~~~~~~~\n",
      "Running tests\n",
      "\n",
      "---------------------------------------------------------------------\n",
      "Test summary\n",
      "    Passed: 4\n",
      "    Failed: 0\n",
      "[ooooooooook] 100.0% passed\n",
      "\n"
     ]
    }
   ],
   "source": [
    "ok.grade(\"q4a\");"
   ]
  },
  {
   "cell_type": "markdown",
   "metadata": {},
   "source": [
    "## Question 4b: Plotting the Absolute Loss"
   ]
  },
  {
   "cell_type": "markdown",
   "metadata": {},
   "source": [
    "In the cell below, plot the absolute loss for different values of `c`. Note that the values of `c` have already been given to you."
   ]
  },
  {
   "cell_type": "markdown",
   "metadata": {
    "deletable": false,
    "editable": false
   },
   "source": [
    "<!--\n",
    "BEGIN QUESTION\n",
    "name: q4b\n",
    "manual: true\n",
    "-->\n",
    "<!-- EXPORT TO PDF -->"
   ]
  },
  {
   "cell_type": "code",
   "execution_count": 26,
   "metadata": {},
   "outputs": [
    {
     "data": {
      "text/html": [
       "\n",
       "<div id=\"altair-viz-3566266ca35144b19eb84e572b9c39fa\"></div>\n",
       "<script type=\"text/javascript\">\n",
       "  (function(spec, embedOpt){\n",
       "    let outputDiv = document.currentScript.previousElementSibling;\n",
       "    if (outputDiv.id !== \"altair-viz-3566266ca35144b19eb84e572b9c39fa\") {\n",
       "      outputDiv = document.getElementById(\"altair-viz-3566266ca35144b19eb84e572b9c39fa\");\n",
       "    }\n",
       "    const paths = {\n",
       "      \"vega\": \"https://cdn.jsdelivr.net/npm//vega@5?noext\",\n",
       "      \"vega-lib\": \"https://cdn.jsdelivr.net/npm//vega-lib?noext\",\n",
       "      \"vega-lite\": \"https://cdn.jsdelivr.net/npm//vega-lite@4.8.1?noext\",\n",
       "      \"vega-embed\": \"https://cdn.jsdelivr.net/npm//vega-embed@6?noext\",\n",
       "    };\n",
       "\n",
       "    function loadScript(lib) {\n",
       "      return new Promise(function(resolve, reject) {\n",
       "        var s = document.createElement('script');\n",
       "        s.src = paths[lib];\n",
       "        s.async = true;\n",
       "        s.onload = () => resolve(paths[lib]);\n",
       "        s.onerror = () => reject(`Error loading script: ${paths[lib]}`);\n",
       "        document.getElementsByTagName(\"head\")[0].appendChild(s);\n",
       "      });\n",
       "    }\n",
       "\n",
       "    function showError(err) {\n",
       "      outputDiv.innerHTML = `<div class=\"error\" style=\"color:red;\">${err}</div>`;\n",
       "      throw err;\n",
       "    }\n",
       "\n",
       "    function displayChart(vegaEmbed) {\n",
       "      vegaEmbed(outputDiv, spec, embedOpt)\n",
       "        .catch(err => showError(`Javascript Error: ${err.message}<br>This usually means there's a typo in your chart specification. See the javascript console for the full traceback.`));\n",
       "    }\n",
       "\n",
       "    if(typeof define === \"function\" && define.amd) {\n",
       "      requirejs.config({paths});\n",
       "      require([\"vega-embed\"], displayChart, err => showError(`Error loading script: ${err.message}`));\n",
       "    } else if (typeof vegaEmbed === \"function\") {\n",
       "      displayChart(vegaEmbed);\n",
       "    } else {\n",
       "      loadScript(\"vega\")\n",
       "        .then(() => loadScript(\"vega-lite\"))\n",
       "        .then(() => loadScript(\"vega-embed\"))\n",
       "        .catch(showError)\n",
       "        .then(() => displayChart(vegaEmbed));\n",
       "    }\n",
       "  })({\"config\": {\"view\": {\"continuousWidth\": 400, \"continuousHeight\": 300}}, \"data\": {\"name\": \"data-85b2fc5cde79fc777ee2ca7932ed4b95\"}, \"mark\": \"line\", \"encoding\": {\"x\": {\"type\": \"quantitative\", \"field\": \"x\"}, \"y\": {\"type\": \"quantitative\", \"field\": \"y\"}}, \"$schema\": \"https://vega.github.io/schema/vega-lite/v4.8.1.json\", \"datasets\": {\"data-85b2fc5cde79fc777ee2ca7932ed4b95\": [{\"x\": 10.0, \"y\": 0}, {\"x\": 9.797979797979798, \"y\": 1}, {\"x\": 9.595959595959595, \"y\": 2}, {\"x\": 9.393939393939394, \"y\": 3}, {\"x\": 9.191919191919192, \"y\": 4}, {\"x\": 8.98989898989899, \"y\": 5}, {\"x\": 8.787878787878787, \"y\": 6}, {\"x\": 8.585858585858587, \"y\": 7}, {\"x\": 8.383838383838384, \"y\": 8}, {\"x\": 8.181818181818182, \"y\": 9}, {\"x\": 7.979797979797979, \"y\": 10}, {\"x\": 7.777777777777778, \"y\": 11}, {\"x\": 7.575757575757576, \"y\": 12}, {\"x\": 7.373737373737374, \"y\": 13}, {\"x\": 7.171717171717171, \"y\": 14}, {\"x\": 6.96969696969697, \"y\": 15}, {\"x\": 6.767676767676768, \"y\": 16}, {\"x\": 6.565656565656566, \"y\": 17}, {\"x\": 6.363636363636363, \"y\": 18}, {\"x\": 6.161616161616162, \"y\": 19}, {\"x\": 5.959595959595959, \"y\": 20}, {\"x\": 5.757575757575758, \"y\": 21}, {\"x\": 5.555555555555555, \"y\": 22}, {\"x\": 5.353535353535354, \"y\": 23}, {\"x\": 5.151515151515151, \"y\": 24}, {\"x\": 4.94949494949495, \"y\": 25}, {\"x\": 4.747474747474747, \"y\": 26}, {\"x\": 4.545454545454546, \"y\": 27}, {\"x\": 4.343434343434343, \"y\": 28}, {\"x\": 4.141414141414142, \"y\": 29}, {\"x\": 3.9393939393939394, \"y\": 30}, {\"x\": 3.737373737373738, \"y\": 31}, {\"x\": 3.5353535353535355, \"y\": 32}, {\"x\": 3.333333333333333, \"y\": 33}, {\"x\": 3.1313131313131315, \"y\": 34}, {\"x\": 2.929292929292929, \"y\": 35}, {\"x\": 2.7272727272727275, \"y\": 36}, {\"x\": 2.525252525252525, \"y\": 37}, {\"x\": 2.3232323232323235, \"y\": 38}, {\"x\": 2.121212121212121, \"y\": 39}, {\"x\": 1.9191919191919187, \"y\": 40}, {\"x\": 1.717171717171718, \"y\": 41}, {\"x\": 1.5151515151515156, \"y\": 42}, {\"x\": 1.3131313131313131, \"y\": 43}, {\"x\": 1.1111111111111107, \"y\": 44}, {\"x\": 0.9090909090909101, \"y\": 45}, {\"x\": 0.7070707070707076, \"y\": 46}, {\"x\": 0.5050505050505052, \"y\": 47}, {\"x\": 0.30303030303030276, \"y\": 48}, {\"x\": 0.10101010101010033, \"y\": 49}, {\"x\": 0.10101010101010033, \"y\": 50}, {\"x\": 0.30303030303030276, \"y\": 51}, {\"x\": 0.5050505050505052, \"y\": 52}, {\"x\": 0.7070707070707076, \"y\": 53}, {\"x\": 0.9090909090909083, \"y\": 54}, {\"x\": 1.1111111111111107, \"y\": 55}, {\"x\": 1.3131313131313131, \"y\": 56}, {\"x\": 1.5151515151515156, \"y\": 57}, {\"x\": 1.7171717171717162, \"y\": 58}, {\"x\": 1.9191919191919187, \"y\": 59}, {\"x\": 2.121212121212121, \"y\": 60}, {\"x\": 2.3232323232323235, \"y\": 61}, {\"x\": 2.525252525252524, \"y\": 62}, {\"x\": 2.7272727272727266, \"y\": 63}, {\"x\": 2.929292929292929, \"y\": 64}, {\"x\": 3.1313131313131315, \"y\": 65}, {\"x\": 3.333333333333334, \"y\": 66}, {\"x\": 3.5353535353535346, \"y\": 67}, {\"x\": 3.737373737373737, \"y\": 68}, {\"x\": 3.9393939393939394, \"y\": 69}, {\"x\": 4.141414141414142, \"y\": 70}, {\"x\": 4.3434343434343425, \"y\": 71}, {\"x\": 4.545454545454545, \"y\": 72}, {\"x\": 4.747474747474747, \"y\": 73}, {\"x\": 4.94949494949495, \"y\": 74}, {\"x\": 5.1515151515151505, \"y\": 75}, {\"x\": 5.353535353535353, \"y\": 76}, {\"x\": 5.555555555555555, \"y\": 77}, {\"x\": 5.757575757575758, \"y\": 78}, {\"x\": 5.9595959595959584, \"y\": 79}, {\"x\": 6.161616161616163, \"y\": 80}, {\"x\": 6.363636363636363, \"y\": 81}, {\"x\": 6.565656565656564, \"y\": 82}, {\"x\": 6.767676767676768, \"y\": 83}, {\"x\": 6.969696969696969, \"y\": 84}, {\"x\": 7.171717171717173, \"y\": 85}, {\"x\": 7.373737373737374, \"y\": 86}, {\"x\": 7.575757575757574, \"y\": 87}, {\"x\": 7.777777777777779, \"y\": 88}, {\"x\": 7.979797979797979, \"y\": 89}, {\"x\": 8.18181818181818, \"y\": 90}, {\"x\": 8.383838383838384, \"y\": 91}, {\"x\": 8.585858585858585, \"y\": 92}, {\"x\": 8.787878787878789, \"y\": 93}, {\"x\": 8.98989898989899, \"y\": 94}, {\"x\": 9.19191919191919, \"y\": 95}, {\"x\": 9.393939393939394, \"y\": 96}, {\"x\": 9.595959595959595, \"y\": 97}, {\"x\": 9.7979797979798, \"y\": 98}, {\"x\": 10.0, \"y\": 99}]}}, {\"mode\": \"vega-lite\"});\n",
       "</script>"
      ],
      "text/plain": [
       "alt.Chart(...)"
      ]
     },
     "execution_count": 26,
     "metadata": {},
     "output_type": "execute_result"
    }
   ],
   "source": [
    "y_obs = 10\n",
    "c_values = np.linspace(0, 20, 100) # some arbitrary values of c\n",
    "loss = [abs_loss(i, y_obs) for i in c_values]\n",
    "df = pd.DataFrame({'x': loss,\n",
    "                   'y': np.arange(100)})\n",
    "alt.Chart(df).mark_line().encode(\n",
    "    x='x',\n",
    "    y='y'\n",
    ")\n",
    "\n",
    "\n"
   ]
  },
  {
   "cell_type": "markdown",
   "metadata": {},
   "source": [
    "## Question 5: Mean Absolute Error for the Tips Data"
   ]
  },
  {
   "cell_type": "markdown",
   "metadata": {},
   "source": [
    "Define the `mean_absolute_error` function which computes the mean absolute error given the data and a value for `c`."
   ]
  },
  {
   "cell_type": "markdown",
   "metadata": {
    "deletable": false,
    "editable": false
   },
   "source": [
    "<!--\n",
    "BEGIN QUESTION\n",
    "name: q5a\n",
    "manual: true\n",
    "-->\n",
    "<!-- EXPORT TO PDF -->"
   ]
  },
  {
   "cell_type": "code",
   "execution_count": 27,
   "metadata": {},
   "outputs": [
    {
     "data": {
      "text/plain": [
       "0.004098360655737705"
      ]
     },
     "execution_count": 27,
     "metadata": {},
     "output_type": "execute_result"
    }
   ],
   "source": [
    "mean_loss = [abs_loss(5.3,i) for i in tips]\n",
    "n = len(tips)\n",
    "1/n"
   ]
  },
  {
   "cell_type": "code",
   "execution_count": 28,
   "metadata": {},
   "outputs": [
    {
     "data": {
      "text/plain": [
       "2.452786885245904"
      ]
     },
     "execution_count": 28,
     "metadata": {},
     "output_type": "execute_result"
    }
   ],
   "source": [
    "def mean_absolute_error(c, data):\n",
    "    n = len(data)\n",
    "    mean_loss = 0\n",
    "    for i in data:\n",
    "        mean_loss += abs_loss(c,i)\n",
    "    return (1/n)*(mean_loss)\n",
    "\n",
    "mean_absolute_error(5.3, tips)"
   ]
  },
  {
   "cell_type": "code",
   "execution_count": 29,
   "metadata": {
    "deletable": false,
    "editable": false
   },
   "outputs": [
    {
     "name": "stdout",
     "output_type": "stream",
     "text": [
      "~~~~~~~~~~~~~~~~~~~~~~~~~~~~~~~~~~~~~~~~~~~~~~~~~~~~~~~~~~~~~~~~~~~~~\n",
      "Running tests\n",
      "\n",
      "---------------------------------------------------------------------\n",
      "q5a > Suite 1 > Case 3\n",
      "\n",
      ">>> mean_absolute_error(7.8, [1,2,3,4,5])\n",
      "4.800000000000001\n",
      "\n",
      "# Error: expected\n",
      "#     4.8\n",
      "# but got\n",
      "#     4.800000000000001\n",
      "\n",
      "Run only this test case with \"python3 ok -q q5a --suite 1 --case 3\"\n",
      "---------------------------------------------------------------------\n",
      "Test summary\n",
      "    Passed: 2\n",
      "    Failed: 1\n",
      "[ooooook....] 66.7% passed\n",
      "\n"
     ]
    }
   ],
   "source": [
    "ok.grade(\"q5a\");"
   ]
  },
  {
   "cell_type": "markdown",
   "metadata": {},
   "source": [
    "In the cell below plot the mean absolute error for different `c` values and the `tips` dataset. Note that `c_values` are given. Make sure to label the axes on your plot."
   ]
  },
  {
   "cell_type": "markdown",
   "metadata": {
    "deletable": false,
    "editable": false
   },
   "source": [
    "<!--\n",
    "BEGIN QUESTION\n",
    "name: q5b\n",
    "manual: true\n",
    "-->\n",
    "<!-- EXPORT TO PDF -->"
   ]
  },
  {
   "cell_type": "code",
   "execution_count": 30,
   "metadata": {},
   "outputs": [
    {
     "data": {
      "text/plain": [
       "[array([ 2.99827869,  2.79625849,  2.59423828,  2.39221808,  2.19019788,\n",
       "         1.98850969,  1.79603328,  1.6108561 ,  1.44502567,  1.3021237 ,\n",
       "         1.17558785,  1.11405282,  1.0675385 ,  1.04065491,  1.03281504,\n",
       "         1.03907849,  1.09066071,  1.16216509,  1.25615499,  1.36483689,\n",
       "         1.4823994 ,  1.62146299,  1.76836066,  1.91859248,  2.07284898,\n",
       "         2.23264365,  2.40998179,  2.59213115,  2.77479798,  2.96032952,\n",
       "         3.14909588,  3.33952476,  3.52995363,  3.72311475,  3.9193749 ,\n",
       "         4.11642739,  4.31347988,  4.51053237,  4.70837804,  4.90708644,\n",
       "         5.10579483,  5.30450323,  5.50321162,  5.70192002,  5.90062842,\n",
       "         6.10008197,  6.30044627,  6.50081056,  6.70117486,  6.90153916,\n",
       "         7.10273141,  7.30475161,  7.50677182,  7.70879202,  7.91081222,\n",
       "         8.11283242,  8.31485262,  8.51687283,  8.71889303,  8.92091323,\n",
       "         9.12293343,  9.32495363,  9.52697384,  9.72899404,  9.93101424,\n",
       "        10.13303444, 10.33505464, 10.53707485, 10.73909505, 10.94111525,\n",
       "        11.14313545, 11.34515565, 11.54717586, 11.74919606, 11.95121626,\n",
       "        12.15323646, 12.35525667, 12.55727687, 12.75929707, 12.96131727,\n",
       "        13.16333747, 13.36535768, 13.56737788, 13.76939808, 13.97141828,\n",
       "        14.17343848, 14.37545869, 14.57747889, 14.77949909, 14.98151929,\n",
       "        15.18353949, 15.3855597 , 15.5875799 , 15.7896001 , 15.9916203 ,\n",
       "        16.1936405 , 16.39566071, 16.59768091, 16.79970111, 17.00172131])]"
      ]
     },
     "execution_count": 30,
     "metadata": {},
     "output_type": "execute_result"
    }
   ],
   "source": [
    "y_mean_loss = [mean_absolute_error(c_values,tips)]\n",
    "y_mean_loss"
   ]
  },
  {
   "cell_type": "code",
   "execution_count": 31,
   "metadata": {},
   "outputs": [
    {
     "data": {
      "text/html": [
       "\n",
       "<div id=\"altair-viz-98a44e981018403bb8eb158ca8bcd04a\"></div>\n",
       "<script type=\"text/javascript\">\n",
       "  (function(spec, embedOpt){\n",
       "    let outputDiv = document.currentScript.previousElementSibling;\n",
       "    if (outputDiv.id !== \"altair-viz-98a44e981018403bb8eb158ca8bcd04a\") {\n",
       "      outputDiv = document.getElementById(\"altair-viz-98a44e981018403bb8eb158ca8bcd04a\");\n",
       "    }\n",
       "    const paths = {\n",
       "      \"vega\": \"https://cdn.jsdelivr.net/npm//vega@5?noext\",\n",
       "      \"vega-lib\": \"https://cdn.jsdelivr.net/npm//vega-lib?noext\",\n",
       "      \"vega-lite\": \"https://cdn.jsdelivr.net/npm//vega-lite@4.8.1?noext\",\n",
       "      \"vega-embed\": \"https://cdn.jsdelivr.net/npm//vega-embed@6?noext\",\n",
       "    };\n",
       "\n",
       "    function loadScript(lib) {\n",
       "      return new Promise(function(resolve, reject) {\n",
       "        var s = document.createElement('script');\n",
       "        s.src = paths[lib];\n",
       "        s.async = true;\n",
       "        s.onload = () => resolve(paths[lib]);\n",
       "        s.onerror = () => reject(`Error loading script: ${paths[lib]}`);\n",
       "        document.getElementsByTagName(\"head\")[0].appendChild(s);\n",
       "      });\n",
       "    }\n",
       "\n",
       "    function showError(err) {\n",
       "      outputDiv.innerHTML = `<div class=\"error\" style=\"color:red;\">${err}</div>`;\n",
       "      throw err;\n",
       "    }\n",
       "\n",
       "    function displayChart(vegaEmbed) {\n",
       "      vegaEmbed(outputDiv, spec, embedOpt)\n",
       "        .catch(err => showError(`Javascript Error: ${err.message}<br>This usually means there's a typo in your chart specification. See the javascript console for the full traceback.`));\n",
       "    }\n",
       "\n",
       "    if(typeof define === \"function\" && define.amd) {\n",
       "      requirejs.config({paths});\n",
       "      require([\"vega-embed\"], displayChart, err => showError(`Error loading script: ${err.message}`));\n",
       "    } else if (typeof vegaEmbed === \"function\") {\n",
       "      displayChart(vegaEmbed);\n",
       "    } else {\n",
       "      loadScript(\"vega\")\n",
       "        .then(() => loadScript(\"vega-lite\"))\n",
       "        .then(() => loadScript(\"vega-embed\"))\n",
       "        .catch(showError)\n",
       "        .then(() => displayChart(vegaEmbed));\n",
       "    }\n",
       "  })({\"config\": {\"view\": {\"continuousWidth\": 400, \"continuousHeight\": 300}}, \"data\": {\"name\": \"data-c5d1550a74c17ea2637cf84c72aad6fe\"}, \"mark\": \"line\", \"encoding\": {\"x\": {\"type\": \"quantitative\", \"field\": \"x\"}, \"y\": {\"type\": \"quantitative\", \"field\": \"y\"}}, \"$schema\": \"https://vega.github.io/schema/vega-lite/v4.8.1.json\", \"datasets\": {\"data-c5d1550a74c17ea2637cf84c72aad6fe\": [{\"x\": 0.0, \"y\": 2.9982786885245907}, {\"x\": 0.06060606060606061, \"y\": 2.937672627918539}, {\"x\": 0.12121212121212122, \"y\": 2.877066567312468}, {\"x\": 0.18181818181818182, \"y\": 2.8164605067064152}, {\"x\": 0.24242424242424243, \"y\": 2.7558544461003454}, {\"x\": 0.30303030303030304, \"y\": 2.6952483854942906}, {\"x\": 0.36363636363636365, \"y\": 2.634642324888222}, {\"x\": 0.42424242424242425, \"y\": 2.574036264282166}, {\"x\": 0.48484848484848486, \"y\": 2.5134302036760983}, {\"x\": 0.5454545454545454, \"y\": 2.452824143070044}, {\"x\": 0.6060606060606061, \"y\": 2.3922180824639803}, {\"x\": 0.6666666666666667, \"y\": 2.3316120218579206}, {\"x\": 0.7272727272727273, \"y\": 2.271005961251857}, {\"x\": 0.7878787878787878, \"y\": 2.2103999006457973}, {\"x\": 0.8484848484848485, \"y\": 2.1497938400397345}, {\"x\": 0.9090909090909092, \"y\": 2.0891877794336726}, {\"x\": 0.9696969696969697, \"y\": 2.028581718827612}, {\"x\": 1.0303030303030303, \"y\": 1.9691356184798878}, {\"x\": 1.0909090909090908, \"y\": 1.9110134128166978}, {\"x\": 1.1515151515151516, \"y\": 1.853313462493795}, {\"x\": 1.2121212121212122, \"y\": 1.7960332836562383}, {\"x\": 1.2727272727272727, \"y\": 1.7394634873323431}, {\"x\": 1.3333333333333335, \"y\": 1.6839344262295106}, {\"x\": 1.393939393939394, \"y\": 1.6290710382513671}, {\"x\": 1.4545454545454546, \"y\": 1.5747019374068552}, {\"x\": 1.5151515151515151, \"y\": 1.5233233979135654}, {\"x\": 1.5757575757575757, \"y\": 1.475809736711379}, {\"x\": 1.6363636363636365, \"y\": 1.4298435171386012}, {\"x\": 1.696969696969697, \"y\": 1.385767511177349}, {\"x\": 1.7575757575757576, \"y\": 1.3432265275707918}, {\"x\": 1.8181818181818183, \"y\": 1.3021236959761564}, {\"x\": 1.878787878787879, \"y\": 1.2617883755588684}, {\"x\": 1.9393939393939394, \"y\": 1.221708892200696}, {\"x\": 2.0, \"y\": 1.182704918032787}, {\"x\": 2.0606060606060606, \"y\": 1.1625981122702433}, {\"x\": 2.121212121212121, \"y\": 1.1439766517635375}, {\"x\": 2.1818181818181817, \"y\": 1.1256110283159466}, {\"x\": 2.2424242424242427, \"y\": 1.1086661698956777}, {\"x\": 2.303030303030303, \"y\": 1.0937878787878788}, {\"x\": 2.3636363636363638, \"y\": 1.0804545454545453}, {\"x\": 2.4242424242424243, \"y\": 1.0675384997516144}, {\"x\": 2.484848484848485, \"y\": 1.0550298062593146}, {\"x\": 2.5454545454545454, \"y\": 1.0470864381520115}, {\"x\": 2.606060606060606, \"y\": 1.0420119225037254}, {\"x\": 2.666666666666667, \"y\": 1.0382240437158465}, {\"x\": 2.7272727272727275, \"y\": 1.0349478390461995}, {\"x\": 2.787878787878788, \"y\": 1.0334773969200202}, {\"x\": 2.8484848484848486, \"y\": 1.0326353700943867}, {\"x\": 2.909090909090909, \"y\": 1.032377049180328}, {\"x\": 2.9696969696969697, \"y\": 1.0327844013909588}, {\"x\": 3.0303030303030303, \"y\": 1.0390784898161949}, {\"x\": 3.090909090909091, \"y\": 1.0520193740685546}, {\"x\": 3.1515151515151514, \"y\": 1.067131147540984}, {\"x\": 3.2121212121212124, \"y\": 1.0844957774465975}, {\"x\": 3.272727272727273, \"y\": 1.1039716840536513}, {\"x\": 3.3333333333333335, \"y\": 1.1250273224043714}, {\"x\": 3.393939393939394, \"y\": 1.1467809239940383}, {\"x\": 3.4545454545454546, \"y\": 1.1699478390461995}, {\"x\": 3.515151515151515, \"y\": 1.1953204172876284}, {\"x\": 3.5757575757575757, \"y\": 1.225337804272229}, {\"x\": 3.6363636363636367, \"y\": 1.2561549925484343}, {\"x\": 3.6969696969696972, \"y\": 1.2875906607054144}, {\"x\": 3.757575757575758, \"y\": 1.3198360655737698}, {\"x\": 3.8181818181818183, \"y\": 1.353576751117734}, {\"x\": 3.878787878787879, \"y\": 1.3873571783407845}, {\"x\": 3.9393939393939394, \"y\": 1.4212965722801787}, {\"x\": 4.0, \"y\": 1.4555737704918028}, {\"x\": 4.0606060606060606, \"y\": 1.4958171882762046}, {\"x\": 4.121212121212121, \"y\": 1.5372280178837563}, {\"x\": 4.181818181818182, \"y\": 1.5789567809239953}, {\"x\": 4.242424242424242, \"y\": 1.6214629905613531}, {\"x\": 4.303030303030303, \"y\": 1.6643417784401415}, {\"x\": 4.363636363636363, \"y\": 1.7087481371087963}, {\"x\": 4.424242424242425, \"y\": 1.7534575260804812}, {\"x\": 4.484848484848485, \"y\": 1.798166915052166}, {\"x\": 4.545454545454546, \"y\": 1.8432488822652773}, {\"x\": 4.606060606060606, \"y\": 1.8884550422255362}, {\"x\": 4.666666666666667, \"y\": 1.933661202185796}, {\"x\": 4.7272727272727275, \"y\": 1.9794783904620015}, {\"x\": 4.787878787878788, \"y\": 2.0261525086934977}, {\"x\": 4.848484848484849, \"y\": 2.0728489816194795}, {\"x\": 4.909090909090909, \"y\": 2.119545454545461}, {\"x\": 4.96969696969697, \"y\": 2.166241927471442}, {\"x\": 5.03030303030303, \"y\": 2.215422255340281}, {\"x\": 5.090909090909091, \"y\": 2.267257824143066}, {\"x\": 5.151515151515151, \"y\": 2.3195255837059063}, {\"x\": 5.212121212121212, \"y\": 2.373551912568304}, {\"x\": 5.2727272727272725, \"y\": 2.42819672131147}, {\"x\": 5.333333333333334, \"y\": 2.4828415300546443}, {\"x\": 5.3939393939393945, \"y\": 2.5374863387978106}, {\"x\": 5.454545454545455, \"y\": 2.592131147540985}, {\"x\": 5.515151515151516, \"y\": 2.6467759562841473}, {\"x\": 5.575757575757576, \"y\": 2.7014207650273225}, {\"x\": 5.636363636363637, \"y\": 2.7563636363636315}, {\"x\": 5.696969696969697, \"y\": 2.811890213611527}, {\"x\": 5.757575757575758, \"y\": 2.8675285643318396}, {\"x\": 5.818181818181818, \"y\": 2.9231669150521657}, {\"x\": 5.878787878787879, \"y\": 2.9790412319920505}, {\"x\": 5.9393939393939394, \"y\": 3.035335320417294}, {\"x\": 6.0, \"y\": 3.0919672131147546}]}}, {\"mode\": \"vega-lite\"});\n",
       "</script>"
      ],
      "text/plain": [
       "alt.Chart(...)"
      ]
     },
     "execution_count": 31,
     "metadata": {},
     "output_type": "execute_result"
    }
   ],
   "source": [
    "c_values = np.linspace(0, 6, 100)\n",
    "y_mean_loss = [mean_absolute_error(c_values,tips)]\n",
    "df = pd.DataFrame({'x':c_values,\n",
    "                   'y':y_mean_loss[0]})\n",
    "alt.Chart(df).mark_line().encode(\n",
    "    x='x',\n",
    "    y='y')"
   ]
  },
  {
   "cell_type": "markdown",
   "metadata": {},
   "source": [
    "You should see that the plot looks somewhat to the plot of the mean squared error. Try to identify any key differences you observe and write them down below. This might be more fun with a partner. Note, your answer will not be graded, so don't worry about writing a detailed answer. If you want to see our answer, see the very end of this lab notebook."
   ]
  },
  {
   "cell_type": "markdown",
   "metadata": {},
   "source": [
    "the graph is more jagged (not smooth) and the minimum is skewed to the left, while in the first graph it it is slighlty skewed to the left. minimum is flatter."
   ]
  },
  {
   "cell_type": "markdown",
   "metadata": {},
   "source": [
    "To minimize the function, let's zoom in closer to the minimizing c. Plot the mean absolute error again using the given `c_values` below.\n",
    "\n",
    "*Hint*\n",
    "To adjust the limits of the axes, visit the \"Adjusting Axis Limits\" part at https://altair-viz.github.io/user_guide/customization.html#adjusting-axis-limits"
   ]
  },
  {
   "cell_type": "markdown",
   "metadata": {
    "deletable": false,
    "editable": false
   },
   "source": [
    "<!--\n",
    "BEGIN QUESTION\n",
    "name: q5c\n",
    "manual: true\n",
    "-->\n",
    "<!-- EXPORT TO PDF -->"
   ]
  },
  {
   "cell_type": "code",
   "execution_count": 32,
   "metadata": {},
   "outputs": [
    {
     "data": {
      "text/html": [
       "\n",
       "<div id=\"altair-viz-ff5a472b8db243d8a1fd2d3e44500394\"></div>\n",
       "<script type=\"text/javascript\">\n",
       "  (function(spec, embedOpt){\n",
       "    let outputDiv = document.currentScript.previousElementSibling;\n",
       "    if (outputDiv.id !== \"altair-viz-ff5a472b8db243d8a1fd2d3e44500394\") {\n",
       "      outputDiv = document.getElementById(\"altair-viz-ff5a472b8db243d8a1fd2d3e44500394\");\n",
       "    }\n",
       "    const paths = {\n",
       "      \"vega\": \"https://cdn.jsdelivr.net/npm//vega@5?noext\",\n",
       "      \"vega-lib\": \"https://cdn.jsdelivr.net/npm//vega-lib?noext\",\n",
       "      \"vega-lite\": \"https://cdn.jsdelivr.net/npm//vega-lite@4.8.1?noext\",\n",
       "      \"vega-embed\": \"https://cdn.jsdelivr.net/npm//vega-embed@6?noext\",\n",
       "    };\n",
       "\n",
       "    function loadScript(lib) {\n",
       "      return new Promise(function(resolve, reject) {\n",
       "        var s = document.createElement('script');\n",
       "        s.src = paths[lib];\n",
       "        s.async = true;\n",
       "        s.onload = () => resolve(paths[lib]);\n",
       "        s.onerror = () => reject(`Error loading script: ${paths[lib]}`);\n",
       "        document.getElementsByTagName(\"head\")[0].appendChild(s);\n",
       "      });\n",
       "    }\n",
       "\n",
       "    function showError(err) {\n",
       "      outputDiv.innerHTML = `<div class=\"error\" style=\"color:red;\">${err}</div>`;\n",
       "      throw err;\n",
       "    }\n",
       "\n",
       "    function displayChart(vegaEmbed) {\n",
       "      vegaEmbed(outputDiv, spec, embedOpt)\n",
       "        .catch(err => showError(`Javascript Error: ${err.message}<br>This usually means there's a typo in your chart specification. See the javascript console for the full traceback.`));\n",
       "    }\n",
       "\n",
       "    if(typeof define === \"function\" && define.amd) {\n",
       "      requirejs.config({paths});\n",
       "      require([\"vega-embed\"], displayChart, err => showError(`Error loading script: ${err.message}`));\n",
       "    } else if (typeof vegaEmbed === \"function\") {\n",
       "      displayChart(vegaEmbed);\n",
       "    } else {\n",
       "      loadScript(\"vega\")\n",
       "        .then(() => loadScript(\"vega-lite\"))\n",
       "        .then(() => loadScript(\"vega-embed\"))\n",
       "        .catch(showError)\n",
       "        .then(() => displayChart(vegaEmbed));\n",
       "    }\n",
       "  })({\"config\": {\"view\": {\"continuousWidth\": 400, \"continuousHeight\": 300}}, \"data\": {\"name\": \"data-0f5a781242480a52170469339cee4941\"}, \"mark\": \"line\", \"encoding\": {\"x\": {\"type\": \"quantitative\", \"field\": \"x\"}, \"y\": {\"type\": \"quantitative\", \"field\": \"y\", \"scale\": {\"domain\": [0.9, 1.2]}}}, \"$schema\": \"https://vega.github.io/schema/vega-lite/v4.8.1.json\", \"datasets\": {\"data-0f5a781242480a52170469339cee4941\": [{\"x\": 2.7, \"y\": 1.0363114754098357}, {\"x\": 2.7032323232323234, \"y\": 1.0361260142407684}, {\"x\": 2.7064646464646467, \"y\": 1.0359405530717003}, {\"x\": 2.70969696969697, \"y\": 1.035755091902633}, {\"x\": 2.712929292929293, \"y\": 1.0355936413313465}, {\"x\": 2.7161616161616164, \"y\": 1.035434674615003}, {\"x\": 2.7193939393939397, \"y\": 1.035275707898659}, {\"x\": 2.722626262626263, \"y\": 1.035138267925153}, {\"x\": 2.725858585858586, \"y\": 1.0350057956615335}, {\"x\": 2.7290909090909095, \"y\": 1.034873323397913}, {\"x\": 2.7323232323232327, \"y\": 1.0347408511342937}, {\"x\": 2.7355555555555555, \"y\": 1.0346083788706741}, {\"x\": 2.7387878787878788, \"y\": 1.0344759066070541}, {\"x\": 2.742020202020202, \"y\": 1.034359993376387}, {\"x\": 2.7452525252525253, \"y\": 1.0342540155654913}, {\"x\": 2.7484848484848485, \"y\": 1.034148037754595}, {\"x\": 2.751717171717172, \"y\": 1.034070210299718}, {\"x\": 2.754949494949495, \"y\": 1.0340172213942707}, {\"x\": 2.7581818181818183, \"y\": 1.0339642324888227}, {\"x\": 2.7614141414141415, \"y\": 1.0339112435833748}, {\"x\": 2.764646464646465, \"y\": 1.033858254677927}, {\"x\": 2.767878787878788, \"y\": 1.0338052657724794}, {\"x\": 2.7711111111111113, \"y\": 1.0337522768670309}, {\"x\": 2.7743434343434346, \"y\": 1.0336992879615827}, {\"x\": 2.777575757575758, \"y\": 1.033646299056135}, {\"x\": 2.780808080808081, \"y\": 1.033593310150687}, {\"x\": 2.7840404040404043, \"y\": 1.0335403212452392}, {\"x\": 2.7872727272727276, \"y\": 1.0334873323397917}, {\"x\": 2.790505050505051, \"y\": 1.0334343434343436}, {\"x\": 2.793737373737374, \"y\": 1.0333813545288957}, {\"x\": 2.796969696969697, \"y\": 1.033328365623448}, {\"x\": 2.80020202020202, \"y\": 1.0332753767179996}, {\"x\": 2.8034343434343434, \"y\": 1.0332223878125513}, {\"x\": 2.8066666666666666, \"y\": 1.033169398907104}, {\"x\": 2.80989898989899, \"y\": 1.0331164100016563}, {\"x\": 2.813131313131313, \"y\": 1.033063421096208}, {\"x\": 2.8163636363636364, \"y\": 1.03301043219076}, {\"x\": 2.8195959595959597, \"y\": 1.0329574432853126}, {\"x\": 2.822828282828283, \"y\": 1.0329044543798642}, {\"x\": 2.826060606060606, \"y\": 1.0328514654744159}, {\"x\": 2.8292929292929294, \"y\": 1.0327984765689684}, {\"x\": 2.8325252525252527, \"y\": 1.0327661864547109}, {\"x\": 2.835757575757576, \"y\": 1.0327396920019871}, {\"x\": 2.838989898989899, \"y\": 1.0327131975492632}, {\"x\": 2.8422222222222224, \"y\": 1.0326867030965394}, {\"x\": 2.8454545454545457, \"y\": 1.0326602086438155}, {\"x\": 2.848686868686869, \"y\": 1.0326337141910915}, {\"x\": 2.851919191919192, \"y\": 1.0326072197383673}, {\"x\": 2.8551515151515154, \"y\": 1.032580725285643}, {\"x\": 2.8583838383838387, \"y\": 1.0325542308329194}, {\"x\": 2.8616161616161615, \"y\": 1.0325277363801957}, {\"x\": 2.8648484848484848, \"y\": 1.0325012419274715}, {\"x\": 2.868080808080808, \"y\": 1.0324747474747475}, {\"x\": 2.8713131313131313, \"y\": 1.032448253022024}, {\"x\": 2.8745454545454545, \"y\": 1.0324217585692994}, {\"x\": 2.8777777777777778, \"y\": 1.0323952641165752}, {\"x\": 2.881010101010101, \"y\": 1.0323770491803284}, {\"x\": 2.8842424242424243, \"y\": 1.0323770491803277}, {\"x\": 2.8874747474747475, \"y\": 1.0323770491803281}, {\"x\": 2.890707070707071, \"y\": 1.032377049180328}, {\"x\": 2.893939393939394, \"y\": 1.0323770491803284}, {\"x\": 2.8971717171717173, \"y\": 1.032377049180328}, {\"x\": 2.9004040404040405, \"y\": 1.0323770491803275}, {\"x\": 2.903636363636364, \"y\": 1.032377049180328}, {\"x\": 2.906868686868687, \"y\": 1.0323770491803277}, {\"x\": 2.9101010101010103, \"y\": 1.0323770491803281}, {\"x\": 2.9133333333333336, \"y\": 1.0323770491803284}, {\"x\": 2.916565656565657, \"y\": 1.0323770491803281}, {\"x\": 2.91979797979798, \"y\": 1.032377049180328}, {\"x\": 2.923030303030303, \"y\": 1.0324018877297567}, {\"x\": 2.926262626262626, \"y\": 1.0324283821824805}, {\"x\": 2.9294949494949494, \"y\": 1.032454876635204}, {\"x\": 2.9327272727272726, \"y\": 1.0324813710879286}, {\"x\": 2.935959595959596, \"y\": 1.0325078655406523}, {\"x\": 2.939191919191919, \"y\": 1.0325343599933767}, {\"x\": 2.9424242424242424, \"y\": 1.0325608544461005}, {\"x\": 2.9456565656565656, \"y\": 1.0325873488988249}, {\"x\": 2.948888888888889, \"y\": 1.0326138433515484}, {\"x\": 2.952121212121212, \"y\": 1.032640337804272}, {\"x\": 2.9553535353535354, \"y\": 1.0326668322569963}, {\"x\": 2.9585858585858587, \"y\": 1.0326933267097198}, {\"x\": 2.961818181818182, \"y\": 1.0327198211624442}, {\"x\": 2.965050505050505, \"y\": 1.0327463156151684}, {\"x\": 2.9682828282828284, \"y\": 1.032772810067892}, {\"x\": 2.9715151515151517, \"y\": 1.032799304520616}, {\"x\": 2.974747474747475, \"y\": 1.03282579897334}, {\"x\": 2.977979797979798, \"y\": 1.0328522934260642}, {\"x\": 2.9812121212121214, \"y\": 1.0328787878787873}, {\"x\": 2.9844444444444447, \"y\": 1.0329052823315121}, {\"x\": 2.987676767676768, \"y\": 1.0329317767842356}, {\"x\": 2.9909090909090907, \"y\": 1.03295827123696}, {\"x\": 2.994141414141414, \"y\": 1.0329847656896838}, {\"x\": 2.9973737373737372, \"y\": 1.0330112601424082}, {\"x\": 3.0006060606060605, \"y\": 1.0331520119225035}, {\"x\": 3.0038383838383838, \"y\": 1.0337878787878776}, {\"x\": 3.007070707070707, \"y\": 1.0344237456532546}, {\"x\": 3.0103030303030303, \"y\": 1.0350596125186282}, {\"x\": 3.0135353535353535, \"y\": 1.035695479384005}, {\"x\": 3.0167676767676768, \"y\": 1.0363313462493786}, {\"x\": 3.02, \"y\": 1.0369672131147547}]}}, {\"mode\": \"vega-lite\"});\n",
       "</script>"
      ],
      "text/plain": [
       "alt.Chart(...)"
      ]
     },
     "execution_count": 32,
     "metadata": {},
     "output_type": "execute_result"
    }
   ],
   "source": [
    "c_values = np.linspace(2.7, 3.02, 100)\n",
    "y_mean_loss = [mean_absolute_error(i,tips) for i in c_values]\n",
    "df = pd.DataFrame({'x':c_values,\n",
    "                   'y':y_mean_loss})\n",
    "alt.Chart(df).mark_line().encode(\n",
    "    alt.Y('y',scale=alt.Scale(domain=(0.9,1.2))),\n",
    "    x='x',\n",
    ")"
   ]
  },
  {
   "cell_type": "markdown",
   "metadata": {},
   "source": [
    "This time, observe that the function is piecewise linear and has a slope of zero near its minimum. Because of the large flat region at the minimum, there are multiple values of `c` that minimize the L1 loss.\n",
    "\n",
    "Give a `c` rounded to the nearest tenth that minimizes L1 loss. By \"rounded to the nearest tenth\" we mean you'd say 7.6 instead of 7.55."
   ]
  },
  {
   "cell_type": "markdown",
   "metadata": {
    "deletable": false,
    "editable": false
   },
   "source": [
    "<!--\n",
    "BEGIN QUESTION\n",
    "name: q5d\n",
    "manual: true\n",
    "-->\n",
    "<!-- EXPORT TO PDF -->"
   ]
  },
  {
   "cell_type": "code",
   "execution_count": 33,
   "metadata": {},
   "outputs": [
    {
     "data": {
      "text/plain": [
       "2.9"
      ]
     },
     "execution_count": 33,
     "metadata": {},
     "output_type": "execute_result"
    }
   ],
   "source": [
    "min_observed_mae = 2.9\n",
    "min_observed_mae"
   ]
  },
  {
   "cell_type": "code",
   "execution_count": 34,
   "metadata": {
    "deletable": false,
    "editable": false
   },
   "outputs": [
    {
     "name": "stdout",
     "output_type": "stream",
     "text": [
      "~~~~~~~~~~~~~~~~~~~~~~~~~~~~~~~~~~~~~~~~~~~~~~~~~~~~~~~~~~~~~~~~~~~~~\n",
      "Running tests\n",
      "\n",
      "---------------------------------------------------------------------\n",
      "Test summary\n",
      "    Passed: 1\n",
      "    Failed: 0\n",
      "[ooooooooook] 100.0% passed\n",
      "\n"
     ]
    }
   ],
   "source": [
    "ok.grade(\"q5d\");"
   ]
  },
  {
   "cell_type": "markdown",
   "metadata": {},
   "source": [
    "## Question 6: Find the Minimizing Value Using Absolute Error"
   ]
  },
  {
   "cell_type": "markdown",
   "metadata": {},
   "source": [
    "As before, we will use the `minimize` function to find a solution. Assign `min_abs_scipy` to the value of `c` that minimizes the MAE according to the `minimize` function for the `tips` data. Note: Depending on the `x0` value you specify, you will get different results! \n",
    "\n",
    "Extra: Try various `x0` values and record the different outputs you get from `minimize`. Use the plot you created above to verify that these are all valid minimizing statistics."
   ]
  },
  {
   "cell_type": "markdown",
   "metadata": {
    "deletable": false,
    "editable": false
   },
   "source": [
    "<!--\n",
    "BEGIN QUESTION\n",
    "name: q6a\n",
    "manual: true\n",
    "-->\n",
    "<!-- EXPORT TO PDF -->"
   ]
  },
  {
   "cell_type": "code",
   "execution_count": 35,
   "metadata": {},
   "outputs": [
    {
     "data": {
      "text/plain": [
       "2.8915493723364065"
      ]
     },
     "execution_count": 35,
     "metadata": {},
     "output_type": "execute_result"
    }
   ],
   "source": [
    "def ft(c, nice=tips):\n",
    "    return mean_absolute_error(c, nice)\n",
    "    \n",
    "min_abs_scipy = minimize(ft, x0=0.0)['x'][0]\n",
    "min_abs_scipy"
   ]
  },
  {
   "cell_type": "code",
   "execution_count": 36,
   "metadata": {
    "deletable": false,
    "editable": false
   },
   "outputs": [
    {
     "name": "stdout",
     "output_type": "stream",
     "text": [
      "~~~~~~~~~~~~~~~~~~~~~~~~~~~~~~~~~~~~~~~~~~~~~~~~~~~~~~~~~~~~~~~~~~~~~\n",
      "Running tests\n",
      "\n",
      "---------------------------------------------------------------------\n",
      "Test summary\n",
      "    Passed: 1\n",
      "    Failed: 0\n",
      "[ooooooooook] 100.0% passed\n",
      "\n"
     ]
    }
   ],
   "source": [
    "ok.grade(\"q6a\");"
   ]
  },
  {
   "cell_type": "markdown",
   "metadata": {},
   "source": [
    "Just like the MSE, there are three ways to compute the summary statistic `c` that minimizes the MAE:\n",
    "1. Create a plot of the MAE for the given data array vs. `c` and eyeball a minimizing `c`.\n",
    "2. Create a function that returns the MAE for a specific data array as a function of `c` and use the scipy `minimize` function to find an exact `c` which minimizes this function.\n",
    "3. Simply compute the ?????? of the data array.\n",
    "\n",
    "Try to figure out what to substitute in for the ?????? above. To this, try out various statistics functions provided by `np`. A list and documentation is available at [https://docs.scipy.org/doc/numpy/reference/routines.statistics.html](https://docs.scipy.org/doc/numpy/reference/routines.statistics.html)."
   ]
  },
  {
   "cell_type": "markdown",
   "metadata": {},
   "source": [
    "Assign `min_abs_computed` to the correct summary statistic using method `#3` from the previous problem."
   ]
  },
  {
   "cell_type": "markdown",
   "metadata": {
    "deletable": false,
    "editable": false
   },
   "source": [
    "<!--\n",
    "BEGIN QUESTION\n",
    "name: q6b\n",
    "manual: true\n",
    "-->\n",
    "<!-- EXPORT TO PDF -->"
   ]
  },
  {
   "cell_type": "code",
   "execution_count": 37,
   "metadata": {},
   "outputs": [
    {
     "data": {
      "text/plain": [
       "2.9"
      ]
     },
     "execution_count": 37,
     "metadata": {},
     "output_type": "execute_result"
    }
   ],
   "source": [
    "min_abs_computed = round(np.median(min_abs_scipy),1)\n",
    "min_abs_computed"
   ]
  },
  {
   "cell_type": "code",
   "execution_count": 38,
   "metadata": {
    "deletable": false,
    "editable": false
   },
   "outputs": [
    {
     "name": "stdout",
     "output_type": "stream",
     "text": [
      "~~~~~~~~~~~~~~~~~~~~~~~~~~~~~~~~~~~~~~~~~~~~~~~~~~~~~~~~~~~~~~~~~~~~~\n",
      "Running tests\n",
      "\n",
      "---------------------------------------------------------------------\n",
      "Test summary\n",
      "    Passed: 1\n",
      "    Failed: 0\n",
      "[ooooooooook] 100.0% passed\n",
      "\n"
     ]
    }
   ],
   "source": [
    "ok.grade(\"q6b\");"
   ]
  },
  {
   "cell_type": "markdown",
   "metadata": {},
   "source": [
    "# Extra Notes"
   ]
  },
  {
   "cell_type": "markdown",
   "metadata": {},
   "source": [
    "#### Our Observations on Differences Between MAE vs. MSE\n",
    "Earlier in this lab, we said we'd describe our observations about the differences between the MAE and MSE.\n",
    "\n",
    "There are three key differences that we identified between the plots of the MSE and MAE.\n",
    "\n",
    "1. The minimizing c is different (slightly smaller for MAE).\n",
    "2. The plot for MAE increases linearly instead of quadratically as we move far away from the minimizing c.\n",
    "3. The plot for MAE is piecewise linear instead of smooth. Each change in slope happens at the same c value as a data point in our dataset."
   ]
  },
  {
   "cell_type": "markdown",
   "metadata": {},
   "source": [
    "# Submit your work\n",
    "\n",
    "Before you submit your work, \n",
    "* Make sure you **save the notebook** first, \n",
    "* Then go up to the `Kernel` menu and select `Restart & Clear Output` (make sure the notebook is saved first, because otherwise, you will lose all your work!). \n",
    "* Now, go to `Cell -> Run All`. Carefully look through your notebook and verify that all computations execute correctly. You should see **no errors**; if there are any errors, make sure to correct them before you submit the notebook.\n",
    "* Then, go to `File -> Download as -> Notebook` and download the notebook to your own computer.\n",
    "* Upload the notebook to Gradescope"
   ]
  },
  {
   "cell_type": "code",
   "execution_count": null,
   "metadata": {},
   "outputs": [],
   "source": []
  }
 ],
 "metadata": {
  "celltoolbar": "Edit Metadata",
  "kernelspec": {
   "display_name": "Python 3",
   "language": "python",
   "name": "python3"
  },
  "language_info": {
   "codemirror_mode": {
    "name": "ipython",
    "version": 3
   },
   "file_extension": ".py",
   "mimetype": "text/x-python",
   "name": "python",
   "nbconvert_exporter": "python",
   "pygments_lexer": "ipython3",
   "version": "3.7.6"
  },
  "toc": {
   "base_numbering": 1,
   "nav_menu": {},
   "number_sections": true,
   "sideBar": true,
   "skip_h1_title": false,
   "title_cell": "Table of Contents",
   "title_sidebar": "Contents",
   "toc_cell": false,
   "toc_position": {
    "height": "calc(100% - 180px)",
    "left": "10px",
    "top": "150px",
    "width": "222px"
   },
   "toc_section_display": true,
   "toc_window_display": true
  }
 },
 "nbformat": 4,
 "nbformat_minor": 4
}
