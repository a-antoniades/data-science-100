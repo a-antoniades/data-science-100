{
 "cells": [
  {
   "cell_type": "code",
   "execution_count": 1,
   "metadata": {
    "deletable": false,
    "editable": false
   },
   "outputs": [],
   "source": [
    "# initializing otter-grader\n",
    "import otter\n",
    "grader = otter.Notebook()"
   ]
  },
  {
   "cell_type": "markdown",
   "metadata": {},
   "source": [
    "# Lab 7: Simple Linear Regression\n",
    "\n",
    "### Objective\n",
    "\n",
    "In this lab, we'll review some of the details of how linear regression works. \n",
    "\n",
    "We will also show how to do linear regression using various real world tools including Altair's `transform_regression`, `scipy.optimize`, and `scikit-learn`. In real world data science work, you are far more likely to use something similar to the former (`transform_regression`) and latter (`scikit-learn`) approaches, but it's important to know how to use the formulaic and the `scipy.optimize` approaches so that you understand what's really going on.\n",
    "\n",
    "**This assignment should be completed and submitted before 11:59 PM on Friday, May 15, 2020.**\n",
    "\n",
    "\n",
    "### Collaboration Policy\n",
    "\n",
    "Data science is a collaborative activity. While you may talk to others about the labs, we ask that you **write your solutions individually**. If you do discuss the assignments with others, please **include their names** in the following cell:"
   ]
  },
  {
   "cell_type": "markdown",
   "metadata": {},
   "source": [
    "_List collaborators here_"
   ]
  },
  {
   "cell_type": "code",
   "execution_count": 2,
   "metadata": {},
   "outputs": [],
   "source": [
    "# Run this cell\n",
    "import pandas as pd\n",
    "import numpy as np\n",
    "import altair as alt\n",
    "import seaborn as sns"
   ]
  },
  {
   "cell_type": "markdown",
   "metadata": {},
   "source": [
    "We begin by importing the tips dataset from seaborn's dataset bank."
   ]
  },
  {
   "cell_type": "code",
   "execution_count": 3,
   "metadata": {},
   "outputs": [],
   "source": [
    "tips = sns.load_dataset(\"tips\")"
   ]
  },
  {
   "cell_type": "code",
   "execution_count": 4,
   "metadata": {
    "scrolled": true
   },
   "outputs": [
    {
     "data": {
      "text/html": [
       "<div>\n",
       "<style scoped>\n",
       "    .dataframe tbody tr th:only-of-type {\n",
       "        vertical-align: middle;\n",
       "    }\n",
       "\n",
       "    .dataframe tbody tr th {\n",
       "        vertical-align: top;\n",
       "    }\n",
       "\n",
       "    .dataframe thead th {\n",
       "        text-align: right;\n",
       "    }\n",
       "</style>\n",
       "<table border=\"1\" class=\"dataframe\">\n",
       "  <thead>\n",
       "    <tr style=\"text-align: right;\">\n",
       "      <th></th>\n",
       "      <th>total_bill</th>\n",
       "      <th>tip</th>\n",
       "      <th>sex</th>\n",
       "      <th>smoker</th>\n",
       "      <th>day</th>\n",
       "      <th>time</th>\n",
       "      <th>size</th>\n",
       "    </tr>\n",
       "  </thead>\n",
       "  <tbody>\n",
       "    <tr>\n",
       "      <th>0</th>\n",
       "      <td>16.99</td>\n",
       "      <td>1.01</td>\n",
       "      <td>Female</td>\n",
       "      <td>No</td>\n",
       "      <td>Sun</td>\n",
       "      <td>Dinner</td>\n",
       "      <td>2</td>\n",
       "    </tr>\n",
       "    <tr>\n",
       "      <th>1</th>\n",
       "      <td>10.34</td>\n",
       "      <td>1.66</td>\n",
       "      <td>Male</td>\n",
       "      <td>No</td>\n",
       "      <td>Sun</td>\n",
       "      <td>Dinner</td>\n",
       "      <td>3</td>\n",
       "    </tr>\n",
       "    <tr>\n",
       "      <th>2</th>\n",
       "      <td>21.01</td>\n",
       "      <td>3.50</td>\n",
       "      <td>Male</td>\n",
       "      <td>No</td>\n",
       "      <td>Sun</td>\n",
       "      <td>Dinner</td>\n",
       "      <td>3</td>\n",
       "    </tr>\n",
       "    <tr>\n",
       "      <th>3</th>\n",
       "      <td>23.68</td>\n",
       "      <td>3.31</td>\n",
       "      <td>Male</td>\n",
       "      <td>No</td>\n",
       "      <td>Sun</td>\n",
       "      <td>Dinner</td>\n",
       "      <td>2</td>\n",
       "    </tr>\n",
       "    <tr>\n",
       "      <th>4</th>\n",
       "      <td>24.59</td>\n",
       "      <td>3.61</td>\n",
       "      <td>Female</td>\n",
       "      <td>No</td>\n",
       "      <td>Sun</td>\n",
       "      <td>Dinner</td>\n",
       "      <td>4</td>\n",
       "    </tr>\n",
       "  </tbody>\n",
       "</table>\n",
       "</div>"
      ],
      "text/plain": [
       "   total_bill   tip     sex smoker  day    time  size\n",
       "0       16.99  1.01  Female     No  Sun  Dinner     2\n",
       "1       10.34  1.66    Male     No  Sun  Dinner     3\n",
       "2       21.01  3.50    Male     No  Sun  Dinner     3\n",
       "3       23.68  3.31    Male     No  Sun  Dinner     2\n",
       "4       24.59  3.61  Female     No  Sun  Dinner     4"
      ]
     },
     "execution_count": 4,
     "metadata": {},
     "output_type": "execute_result"
    }
   ],
   "source": [
    "tips.head(5)"
   ]
  },
  {
   "cell_type": "markdown",
   "metadata": {},
   "source": [
    "In this lab, we're interested in studying the **relationship between two variables**. Specifically, we're interested in the relationship between the `total_bill` column and `tip` column. Our goal will be to predict tips ($Y$) from total_bill ($x$). In other words, we want to find values of $\\alpha$ and $\\beta$ so that given the value of $x$, we can predict $Y$\n",
    "$$\\boxed{Y = \\alpha + \\beta x}$$\n",
    "We will now explore different ways to obtain the optimal values of $\\alpha, \\beta$, called $\\hat{\\alpha}, \\hat{\\beta}$, where $\\hat{Y} = \\hat{\\alpha} + \\hat{\\beta}x$."
   ]
  },
  {
   "cell_type": "markdown",
   "metadata": {},
   "source": [
    "First, let's build a boilerplate regression plot in altair, which will both provide a scatterplot of `tip` vs `total_bill` and also display the least-squares line of best fit. This method of creating a regression line is great for quickly calculating the regression line when doing data analysis; however, in this lab, we will look a bit deeper into this line. This line of best fit is what we will look to determine empirically in three different ways: manually using the formula from lecture, `scipy.optimize`, and `scikit-learn`. "
   ]
  },
  {
   "cell_type": "code",
   "execution_count": 5,
   "metadata": {},
   "outputs": [
    {
     "data": {
      "text/html": [
       "\n",
       "<div id=\"altair-viz-56cce11dbc5047978fd95e2d34c044c4\"></div>\n",
       "<script type=\"text/javascript\">\n",
       "  (function(spec, embedOpt){\n",
       "    let outputDiv = document.currentScript.previousElementSibling;\n",
       "    if (outputDiv.id !== \"altair-viz-56cce11dbc5047978fd95e2d34c044c4\") {\n",
       "      outputDiv = document.getElementById(\"altair-viz-56cce11dbc5047978fd95e2d34c044c4\");\n",
       "    }\n",
       "    const paths = {\n",
       "      \"vega\": \"https://cdn.jsdelivr.net/npm//vega@5?noext\",\n",
       "      \"vega-lib\": \"https://cdn.jsdelivr.net/npm//vega-lib?noext\",\n",
       "      \"vega-lite\": \"https://cdn.jsdelivr.net/npm//vega-lite@4.8.1?noext\",\n",
       "      \"vega-embed\": \"https://cdn.jsdelivr.net/npm//vega-embed@6?noext\",\n",
       "    };\n",
       "\n",
       "    function loadScript(lib) {\n",
       "      return new Promise(function(resolve, reject) {\n",
       "        var s = document.createElement('script');\n",
       "        s.src = paths[lib];\n",
       "        s.async = true;\n",
       "        s.onload = () => resolve(paths[lib]);\n",
       "        s.onerror = () => reject(`Error loading script: ${paths[lib]}`);\n",
       "        document.getElementsByTagName(\"head\")[0].appendChild(s);\n",
       "      });\n",
       "    }\n",
       "\n",
       "    function showError(err) {\n",
       "      outputDiv.innerHTML = `<div class=\"error\" style=\"color:red;\">${err}</div>`;\n",
       "      throw err;\n",
       "    }\n",
       "\n",
       "    function displayChart(vegaEmbed) {\n",
       "      vegaEmbed(outputDiv, spec, embedOpt)\n",
       "        .catch(err => showError(`Javascript Error: ${err.message}<br>This usually means there's a typo in your chart specification. See the javascript console for the full traceback.`));\n",
       "    }\n",
       "\n",
       "    if(typeof define === \"function\" && define.amd) {\n",
       "      requirejs.config({paths});\n",
       "      require([\"vega-embed\"], displayChart, err => showError(`Error loading script: ${err.message}`));\n",
       "    } else if (typeof vegaEmbed === \"function\") {\n",
       "      displayChart(vegaEmbed);\n",
       "    } else {\n",
       "      loadScript(\"vega\")\n",
       "        .then(() => loadScript(\"vega-lite\"))\n",
       "        .then(() => loadScript(\"vega-embed\"))\n",
       "        .catch(showError)\n",
       "        .then(() => displayChart(vegaEmbed));\n",
       "    }\n",
       "  })({\"config\": {\"view\": {\"continuousWidth\": 400, \"continuousHeight\": 300}}, \"layer\": [{\"mark\": \"point\", \"encoding\": {\"x\": {\"type\": \"quantitative\", \"field\": \"total_bill\"}, \"y\": {\"type\": \"quantitative\", \"field\": \"tip\"}}}, {\"mark\": {\"type\": \"line\", \"color\": \"red\"}, \"encoding\": {\"x\": {\"type\": \"quantitative\", \"field\": \"total_bill\"}, \"y\": {\"type\": \"quantitative\", \"field\": \"tip\"}}, \"transform\": [{\"on\": \"total_bill\", \"regression\": \"tip\"}]}], \"data\": {\"name\": \"data-362d1a3aede62850ce7cd49b1d5f5d1d\"}, \"$schema\": \"https://vega.github.io/schema/vega-lite/v4.8.1.json\", \"datasets\": {\"data-362d1a3aede62850ce7cd49b1d5f5d1d\": [{\"total_bill\": 16.99, \"tip\": 1.01, \"sex\": \"Female\", \"smoker\": \"No\", \"day\": \"Sun\", \"time\": \"Dinner\", \"size\": 2}, {\"total_bill\": 10.34, \"tip\": 1.66, \"sex\": \"Male\", \"smoker\": \"No\", \"day\": \"Sun\", \"time\": \"Dinner\", \"size\": 3}, {\"total_bill\": 21.01, \"tip\": 3.5, \"sex\": \"Male\", \"smoker\": \"No\", \"day\": \"Sun\", \"time\": \"Dinner\", \"size\": 3}, {\"total_bill\": 23.68, \"tip\": 3.31, \"sex\": \"Male\", \"smoker\": \"No\", \"day\": \"Sun\", \"time\": \"Dinner\", \"size\": 2}, {\"total_bill\": 24.59, \"tip\": 3.61, \"sex\": \"Female\", \"smoker\": \"No\", \"day\": \"Sun\", \"time\": \"Dinner\", \"size\": 4}, {\"total_bill\": 25.29, \"tip\": 4.71, \"sex\": \"Male\", \"smoker\": \"No\", \"day\": \"Sun\", \"time\": \"Dinner\", \"size\": 4}, {\"total_bill\": 8.77, \"tip\": 2.0, \"sex\": \"Male\", \"smoker\": \"No\", \"day\": \"Sun\", \"time\": \"Dinner\", \"size\": 2}, {\"total_bill\": 26.88, \"tip\": 3.12, \"sex\": \"Male\", \"smoker\": \"No\", \"day\": \"Sun\", \"time\": \"Dinner\", \"size\": 4}, {\"total_bill\": 15.04, \"tip\": 1.96, \"sex\": \"Male\", \"smoker\": \"No\", \"day\": \"Sun\", \"time\": \"Dinner\", \"size\": 2}, {\"total_bill\": 14.78, \"tip\": 3.23, \"sex\": \"Male\", \"smoker\": \"No\", \"day\": \"Sun\", \"time\": \"Dinner\", \"size\": 2}, {\"total_bill\": 10.27, \"tip\": 1.71, \"sex\": \"Male\", \"smoker\": \"No\", \"day\": \"Sun\", \"time\": \"Dinner\", \"size\": 2}, {\"total_bill\": 35.26, \"tip\": 5.0, \"sex\": \"Female\", \"smoker\": \"No\", \"day\": \"Sun\", \"time\": \"Dinner\", \"size\": 4}, {\"total_bill\": 15.42, \"tip\": 1.57, \"sex\": \"Male\", \"smoker\": \"No\", \"day\": \"Sun\", \"time\": \"Dinner\", \"size\": 2}, {\"total_bill\": 18.43, \"tip\": 3.0, \"sex\": \"Male\", \"smoker\": \"No\", \"day\": \"Sun\", \"time\": \"Dinner\", \"size\": 4}, {\"total_bill\": 14.83, \"tip\": 3.02, \"sex\": \"Female\", \"smoker\": \"No\", \"day\": \"Sun\", \"time\": \"Dinner\", \"size\": 2}, {\"total_bill\": 21.58, \"tip\": 3.92, \"sex\": \"Male\", \"smoker\": \"No\", \"day\": \"Sun\", \"time\": \"Dinner\", \"size\": 2}, {\"total_bill\": 10.33, \"tip\": 1.67, \"sex\": \"Female\", \"smoker\": \"No\", \"day\": \"Sun\", \"time\": \"Dinner\", \"size\": 3}, {\"total_bill\": 16.29, \"tip\": 3.71, \"sex\": \"Male\", \"smoker\": \"No\", \"day\": \"Sun\", \"time\": \"Dinner\", \"size\": 3}, {\"total_bill\": 16.97, \"tip\": 3.5, \"sex\": \"Female\", \"smoker\": \"No\", \"day\": \"Sun\", \"time\": \"Dinner\", \"size\": 3}, {\"total_bill\": 20.65, \"tip\": 3.35, \"sex\": \"Male\", \"smoker\": \"No\", \"day\": \"Sat\", \"time\": \"Dinner\", \"size\": 3}, {\"total_bill\": 17.92, \"tip\": 4.08, \"sex\": \"Male\", \"smoker\": \"No\", \"day\": \"Sat\", \"time\": \"Dinner\", \"size\": 2}, {\"total_bill\": 20.29, \"tip\": 2.75, \"sex\": \"Female\", \"smoker\": \"No\", \"day\": \"Sat\", \"time\": \"Dinner\", \"size\": 2}, {\"total_bill\": 15.77, \"tip\": 2.23, \"sex\": \"Female\", \"smoker\": \"No\", \"day\": \"Sat\", \"time\": \"Dinner\", \"size\": 2}, {\"total_bill\": 39.42, \"tip\": 7.58, \"sex\": \"Male\", \"smoker\": \"No\", \"day\": \"Sat\", \"time\": \"Dinner\", \"size\": 4}, {\"total_bill\": 19.82, \"tip\": 3.18, \"sex\": \"Male\", \"smoker\": \"No\", \"day\": \"Sat\", \"time\": \"Dinner\", \"size\": 2}, {\"total_bill\": 17.81, \"tip\": 2.34, \"sex\": \"Male\", \"smoker\": \"No\", \"day\": \"Sat\", \"time\": \"Dinner\", \"size\": 4}, {\"total_bill\": 13.37, \"tip\": 2.0, \"sex\": \"Male\", \"smoker\": \"No\", \"day\": \"Sat\", \"time\": \"Dinner\", \"size\": 2}, {\"total_bill\": 12.69, \"tip\": 2.0, \"sex\": \"Male\", \"smoker\": \"No\", \"day\": \"Sat\", \"time\": \"Dinner\", \"size\": 2}, {\"total_bill\": 21.7, \"tip\": 4.3, \"sex\": \"Male\", \"smoker\": \"No\", \"day\": \"Sat\", \"time\": \"Dinner\", \"size\": 2}, {\"total_bill\": 19.65, \"tip\": 3.0, \"sex\": \"Female\", \"smoker\": \"No\", \"day\": \"Sat\", \"time\": \"Dinner\", \"size\": 2}, {\"total_bill\": 9.55, \"tip\": 1.45, \"sex\": \"Male\", \"smoker\": \"No\", \"day\": \"Sat\", \"time\": \"Dinner\", \"size\": 2}, {\"total_bill\": 18.35, \"tip\": 2.5, \"sex\": \"Male\", \"smoker\": \"No\", \"day\": \"Sat\", \"time\": \"Dinner\", \"size\": 4}, {\"total_bill\": 15.06, \"tip\": 3.0, \"sex\": \"Female\", \"smoker\": \"No\", \"day\": \"Sat\", \"time\": \"Dinner\", \"size\": 2}, {\"total_bill\": 20.69, \"tip\": 2.45, \"sex\": \"Female\", \"smoker\": \"No\", \"day\": \"Sat\", \"time\": \"Dinner\", \"size\": 4}, {\"total_bill\": 17.78, \"tip\": 3.27, \"sex\": \"Male\", \"smoker\": \"No\", \"day\": \"Sat\", \"time\": \"Dinner\", \"size\": 2}, {\"total_bill\": 24.06, \"tip\": 3.6, \"sex\": \"Male\", \"smoker\": \"No\", \"day\": \"Sat\", \"time\": \"Dinner\", \"size\": 3}, {\"total_bill\": 16.31, \"tip\": 2.0, \"sex\": \"Male\", \"smoker\": \"No\", \"day\": \"Sat\", \"time\": \"Dinner\", \"size\": 3}, {\"total_bill\": 16.93, \"tip\": 3.07, \"sex\": \"Female\", \"smoker\": \"No\", \"day\": \"Sat\", \"time\": \"Dinner\", \"size\": 3}, {\"total_bill\": 18.69, \"tip\": 2.31, \"sex\": \"Male\", \"smoker\": \"No\", \"day\": \"Sat\", \"time\": \"Dinner\", \"size\": 3}, {\"total_bill\": 31.27, \"tip\": 5.0, \"sex\": \"Male\", \"smoker\": \"No\", \"day\": \"Sat\", \"time\": \"Dinner\", \"size\": 3}, {\"total_bill\": 16.04, \"tip\": 2.24, \"sex\": \"Male\", \"smoker\": \"No\", \"day\": \"Sat\", \"time\": \"Dinner\", \"size\": 3}, {\"total_bill\": 17.46, \"tip\": 2.54, \"sex\": \"Male\", \"smoker\": \"No\", \"day\": \"Sun\", \"time\": \"Dinner\", \"size\": 2}, {\"total_bill\": 13.94, \"tip\": 3.06, \"sex\": \"Male\", \"smoker\": \"No\", \"day\": \"Sun\", \"time\": \"Dinner\", \"size\": 2}, {\"total_bill\": 9.68, \"tip\": 1.32, \"sex\": \"Male\", \"smoker\": \"No\", \"day\": \"Sun\", \"time\": \"Dinner\", \"size\": 2}, {\"total_bill\": 30.4, \"tip\": 5.6, \"sex\": \"Male\", \"smoker\": \"No\", \"day\": \"Sun\", \"time\": \"Dinner\", \"size\": 4}, {\"total_bill\": 18.29, \"tip\": 3.0, \"sex\": \"Male\", \"smoker\": \"No\", \"day\": \"Sun\", \"time\": \"Dinner\", \"size\": 2}, {\"total_bill\": 22.23, \"tip\": 5.0, \"sex\": \"Male\", \"smoker\": \"No\", \"day\": \"Sun\", \"time\": \"Dinner\", \"size\": 2}, {\"total_bill\": 32.4, \"tip\": 6.0, \"sex\": \"Male\", \"smoker\": \"No\", \"day\": \"Sun\", \"time\": \"Dinner\", \"size\": 4}, {\"total_bill\": 28.55, \"tip\": 2.05, \"sex\": \"Male\", \"smoker\": \"No\", \"day\": \"Sun\", \"time\": \"Dinner\", \"size\": 3}, {\"total_bill\": 18.04, \"tip\": 3.0, \"sex\": \"Male\", \"smoker\": \"No\", \"day\": \"Sun\", \"time\": \"Dinner\", \"size\": 2}, {\"total_bill\": 12.54, \"tip\": 2.5, \"sex\": \"Male\", \"smoker\": \"No\", \"day\": \"Sun\", \"time\": \"Dinner\", \"size\": 2}, {\"total_bill\": 10.29, \"tip\": 2.6, \"sex\": \"Female\", \"smoker\": \"No\", \"day\": \"Sun\", \"time\": \"Dinner\", \"size\": 2}, {\"total_bill\": 34.81, \"tip\": 5.2, \"sex\": \"Female\", \"smoker\": \"No\", \"day\": \"Sun\", \"time\": \"Dinner\", \"size\": 4}, {\"total_bill\": 9.94, \"tip\": 1.56, \"sex\": \"Male\", \"smoker\": \"No\", \"day\": \"Sun\", \"time\": \"Dinner\", \"size\": 2}, {\"total_bill\": 25.56, \"tip\": 4.34, \"sex\": \"Male\", \"smoker\": \"No\", \"day\": \"Sun\", \"time\": \"Dinner\", \"size\": 4}, {\"total_bill\": 19.49, \"tip\": 3.51, \"sex\": \"Male\", \"smoker\": \"No\", \"day\": \"Sun\", \"time\": \"Dinner\", \"size\": 2}, {\"total_bill\": 38.01, \"tip\": 3.0, \"sex\": \"Male\", \"smoker\": \"Yes\", \"day\": \"Sat\", \"time\": \"Dinner\", \"size\": 4}, {\"total_bill\": 26.41, \"tip\": 1.5, \"sex\": \"Female\", \"smoker\": \"No\", \"day\": \"Sat\", \"time\": \"Dinner\", \"size\": 2}, {\"total_bill\": 11.24, \"tip\": 1.76, \"sex\": \"Male\", \"smoker\": \"Yes\", \"day\": \"Sat\", \"time\": \"Dinner\", \"size\": 2}, {\"total_bill\": 48.27, \"tip\": 6.73, \"sex\": \"Male\", \"smoker\": \"No\", \"day\": \"Sat\", \"time\": \"Dinner\", \"size\": 4}, {\"total_bill\": 20.29, \"tip\": 3.21, \"sex\": \"Male\", \"smoker\": \"Yes\", \"day\": \"Sat\", \"time\": \"Dinner\", \"size\": 2}, {\"total_bill\": 13.81, \"tip\": 2.0, \"sex\": \"Male\", \"smoker\": \"Yes\", \"day\": \"Sat\", \"time\": \"Dinner\", \"size\": 2}, {\"total_bill\": 11.02, \"tip\": 1.98, \"sex\": \"Male\", \"smoker\": \"Yes\", \"day\": \"Sat\", \"time\": \"Dinner\", \"size\": 2}, {\"total_bill\": 18.29, \"tip\": 3.76, \"sex\": \"Male\", \"smoker\": \"Yes\", \"day\": \"Sat\", \"time\": \"Dinner\", \"size\": 4}, {\"total_bill\": 17.59, \"tip\": 2.64, \"sex\": \"Male\", \"smoker\": \"No\", \"day\": \"Sat\", \"time\": \"Dinner\", \"size\": 3}, {\"total_bill\": 20.08, \"tip\": 3.15, \"sex\": \"Male\", \"smoker\": \"No\", \"day\": \"Sat\", \"time\": \"Dinner\", \"size\": 3}, {\"total_bill\": 16.45, \"tip\": 2.47, \"sex\": \"Female\", \"smoker\": \"No\", \"day\": \"Sat\", \"time\": \"Dinner\", \"size\": 2}, {\"total_bill\": 3.07, \"tip\": 1.0, \"sex\": \"Female\", \"smoker\": \"Yes\", \"day\": \"Sat\", \"time\": \"Dinner\", \"size\": 1}, {\"total_bill\": 20.23, \"tip\": 2.01, \"sex\": \"Male\", \"smoker\": \"No\", \"day\": \"Sat\", \"time\": \"Dinner\", \"size\": 2}, {\"total_bill\": 15.01, \"tip\": 2.09, \"sex\": \"Male\", \"smoker\": \"Yes\", \"day\": \"Sat\", \"time\": \"Dinner\", \"size\": 2}, {\"total_bill\": 12.02, \"tip\": 1.97, \"sex\": \"Male\", \"smoker\": \"No\", \"day\": \"Sat\", \"time\": \"Dinner\", \"size\": 2}, {\"total_bill\": 17.07, \"tip\": 3.0, \"sex\": \"Female\", \"smoker\": \"No\", \"day\": \"Sat\", \"time\": \"Dinner\", \"size\": 3}, {\"total_bill\": 26.86, \"tip\": 3.14, \"sex\": \"Female\", \"smoker\": \"Yes\", \"day\": \"Sat\", \"time\": \"Dinner\", \"size\": 2}, {\"total_bill\": 25.28, \"tip\": 5.0, \"sex\": \"Female\", \"smoker\": \"Yes\", \"day\": \"Sat\", \"time\": \"Dinner\", \"size\": 2}, {\"total_bill\": 14.73, \"tip\": 2.2, \"sex\": \"Female\", \"smoker\": \"No\", \"day\": \"Sat\", \"time\": \"Dinner\", \"size\": 2}, {\"total_bill\": 10.51, \"tip\": 1.25, \"sex\": \"Male\", \"smoker\": \"No\", \"day\": \"Sat\", \"time\": \"Dinner\", \"size\": 2}, {\"total_bill\": 17.92, \"tip\": 3.08, \"sex\": \"Male\", \"smoker\": \"Yes\", \"day\": \"Sat\", \"time\": \"Dinner\", \"size\": 2}, {\"total_bill\": 27.2, \"tip\": 4.0, \"sex\": \"Male\", \"smoker\": \"No\", \"day\": \"Thur\", \"time\": \"Lunch\", \"size\": 4}, {\"total_bill\": 22.76, \"tip\": 3.0, \"sex\": \"Male\", \"smoker\": \"No\", \"day\": \"Thur\", \"time\": \"Lunch\", \"size\": 2}, {\"total_bill\": 17.29, \"tip\": 2.71, \"sex\": \"Male\", \"smoker\": \"No\", \"day\": \"Thur\", \"time\": \"Lunch\", \"size\": 2}, {\"total_bill\": 19.44, \"tip\": 3.0, \"sex\": \"Male\", \"smoker\": \"Yes\", \"day\": \"Thur\", \"time\": \"Lunch\", \"size\": 2}, {\"total_bill\": 16.66, \"tip\": 3.4, \"sex\": \"Male\", \"smoker\": \"No\", \"day\": \"Thur\", \"time\": \"Lunch\", \"size\": 2}, {\"total_bill\": 10.07, \"tip\": 1.83, \"sex\": \"Female\", \"smoker\": \"No\", \"day\": \"Thur\", \"time\": \"Lunch\", \"size\": 1}, {\"total_bill\": 32.68, \"tip\": 5.0, \"sex\": \"Male\", \"smoker\": \"Yes\", \"day\": \"Thur\", \"time\": \"Lunch\", \"size\": 2}, {\"total_bill\": 15.98, \"tip\": 2.03, \"sex\": \"Male\", \"smoker\": \"No\", \"day\": \"Thur\", \"time\": \"Lunch\", \"size\": 2}, {\"total_bill\": 34.83, \"tip\": 5.17, \"sex\": \"Female\", \"smoker\": \"No\", \"day\": \"Thur\", \"time\": \"Lunch\", \"size\": 4}, {\"total_bill\": 13.03, \"tip\": 2.0, \"sex\": \"Male\", \"smoker\": \"No\", \"day\": \"Thur\", \"time\": \"Lunch\", \"size\": 2}, {\"total_bill\": 18.28, \"tip\": 4.0, \"sex\": \"Male\", \"smoker\": \"No\", \"day\": \"Thur\", \"time\": \"Lunch\", \"size\": 2}, {\"total_bill\": 24.71, \"tip\": 5.85, \"sex\": \"Male\", \"smoker\": \"No\", \"day\": \"Thur\", \"time\": \"Lunch\", \"size\": 2}, {\"total_bill\": 21.16, \"tip\": 3.0, \"sex\": \"Male\", \"smoker\": \"No\", \"day\": \"Thur\", \"time\": \"Lunch\", \"size\": 2}, {\"total_bill\": 28.97, \"tip\": 3.0, \"sex\": \"Male\", \"smoker\": \"Yes\", \"day\": \"Fri\", \"time\": \"Dinner\", \"size\": 2}, {\"total_bill\": 22.49, \"tip\": 3.5, \"sex\": \"Male\", \"smoker\": \"No\", \"day\": \"Fri\", \"time\": \"Dinner\", \"size\": 2}, {\"total_bill\": 5.75, \"tip\": 1.0, \"sex\": \"Female\", \"smoker\": \"Yes\", \"day\": \"Fri\", \"time\": \"Dinner\", \"size\": 2}, {\"total_bill\": 16.32, \"tip\": 4.3, \"sex\": \"Female\", \"smoker\": \"Yes\", \"day\": \"Fri\", \"time\": \"Dinner\", \"size\": 2}, {\"total_bill\": 22.75, \"tip\": 3.25, \"sex\": \"Female\", \"smoker\": \"No\", \"day\": \"Fri\", \"time\": \"Dinner\", \"size\": 2}, {\"total_bill\": 40.17, \"tip\": 4.73, \"sex\": \"Male\", \"smoker\": \"Yes\", \"day\": \"Fri\", \"time\": \"Dinner\", \"size\": 4}, {\"total_bill\": 27.28, \"tip\": 4.0, \"sex\": \"Male\", \"smoker\": \"Yes\", \"day\": \"Fri\", \"time\": \"Dinner\", \"size\": 2}, {\"total_bill\": 12.03, \"tip\": 1.5, \"sex\": \"Male\", \"smoker\": \"Yes\", \"day\": \"Fri\", \"time\": \"Dinner\", \"size\": 2}, {\"total_bill\": 21.01, \"tip\": 3.0, \"sex\": \"Male\", \"smoker\": \"Yes\", \"day\": \"Fri\", \"time\": \"Dinner\", \"size\": 2}, {\"total_bill\": 12.46, \"tip\": 1.5, \"sex\": \"Male\", \"smoker\": \"No\", \"day\": \"Fri\", \"time\": \"Dinner\", \"size\": 2}, {\"total_bill\": 11.35, \"tip\": 2.5, \"sex\": \"Female\", \"smoker\": \"Yes\", \"day\": \"Fri\", \"time\": \"Dinner\", \"size\": 2}, {\"total_bill\": 15.38, \"tip\": 3.0, \"sex\": \"Female\", \"smoker\": \"Yes\", \"day\": \"Fri\", \"time\": \"Dinner\", \"size\": 2}, {\"total_bill\": 44.3, \"tip\": 2.5, \"sex\": \"Female\", \"smoker\": \"Yes\", \"day\": \"Sat\", \"time\": \"Dinner\", \"size\": 3}, {\"total_bill\": 22.42, \"tip\": 3.48, \"sex\": \"Female\", \"smoker\": \"Yes\", \"day\": \"Sat\", \"time\": \"Dinner\", \"size\": 2}, {\"total_bill\": 20.92, \"tip\": 4.08, \"sex\": \"Female\", \"smoker\": \"No\", \"day\": \"Sat\", \"time\": \"Dinner\", \"size\": 2}, {\"total_bill\": 15.36, \"tip\": 1.64, \"sex\": \"Male\", \"smoker\": \"Yes\", \"day\": \"Sat\", \"time\": \"Dinner\", \"size\": 2}, {\"total_bill\": 20.49, \"tip\": 4.06, \"sex\": \"Male\", \"smoker\": \"Yes\", \"day\": \"Sat\", \"time\": \"Dinner\", \"size\": 2}, {\"total_bill\": 25.21, \"tip\": 4.29, \"sex\": \"Male\", \"smoker\": \"Yes\", \"day\": \"Sat\", \"time\": \"Dinner\", \"size\": 2}, {\"total_bill\": 18.24, \"tip\": 3.76, \"sex\": \"Male\", \"smoker\": \"No\", \"day\": \"Sat\", \"time\": \"Dinner\", \"size\": 2}, {\"total_bill\": 14.31, \"tip\": 4.0, \"sex\": \"Female\", \"smoker\": \"Yes\", \"day\": \"Sat\", \"time\": \"Dinner\", \"size\": 2}, {\"total_bill\": 14.0, \"tip\": 3.0, \"sex\": \"Male\", \"smoker\": \"No\", \"day\": \"Sat\", \"time\": \"Dinner\", \"size\": 2}, {\"total_bill\": 7.25, \"tip\": 1.0, \"sex\": \"Female\", \"smoker\": \"No\", \"day\": \"Sat\", \"time\": \"Dinner\", \"size\": 1}, {\"total_bill\": 38.07, \"tip\": 4.0, \"sex\": \"Male\", \"smoker\": \"No\", \"day\": \"Sun\", \"time\": \"Dinner\", \"size\": 3}, {\"total_bill\": 23.95, \"tip\": 2.55, \"sex\": \"Male\", \"smoker\": \"No\", \"day\": \"Sun\", \"time\": \"Dinner\", \"size\": 2}, {\"total_bill\": 25.71, \"tip\": 4.0, \"sex\": \"Female\", \"smoker\": \"No\", \"day\": \"Sun\", \"time\": \"Dinner\", \"size\": 3}, {\"total_bill\": 17.31, \"tip\": 3.5, \"sex\": \"Female\", \"smoker\": \"No\", \"day\": \"Sun\", \"time\": \"Dinner\", \"size\": 2}, {\"total_bill\": 29.93, \"tip\": 5.07, \"sex\": \"Male\", \"smoker\": \"No\", \"day\": \"Sun\", \"time\": \"Dinner\", \"size\": 4}, {\"total_bill\": 10.65, \"tip\": 1.5, \"sex\": \"Female\", \"smoker\": \"No\", \"day\": \"Thur\", \"time\": \"Lunch\", \"size\": 2}, {\"total_bill\": 12.43, \"tip\": 1.8, \"sex\": \"Female\", \"smoker\": \"No\", \"day\": \"Thur\", \"time\": \"Lunch\", \"size\": 2}, {\"total_bill\": 24.08, \"tip\": 2.92, \"sex\": \"Female\", \"smoker\": \"No\", \"day\": \"Thur\", \"time\": \"Lunch\", \"size\": 4}, {\"total_bill\": 11.69, \"tip\": 2.31, \"sex\": \"Male\", \"smoker\": \"No\", \"day\": \"Thur\", \"time\": \"Lunch\", \"size\": 2}, {\"total_bill\": 13.42, \"tip\": 1.68, \"sex\": \"Female\", \"smoker\": \"No\", \"day\": \"Thur\", \"time\": \"Lunch\", \"size\": 2}, {\"total_bill\": 14.26, \"tip\": 2.5, \"sex\": \"Male\", \"smoker\": \"No\", \"day\": \"Thur\", \"time\": \"Lunch\", \"size\": 2}, {\"total_bill\": 15.95, \"tip\": 2.0, \"sex\": \"Male\", \"smoker\": \"No\", \"day\": \"Thur\", \"time\": \"Lunch\", \"size\": 2}, {\"total_bill\": 12.48, \"tip\": 2.52, \"sex\": \"Female\", \"smoker\": \"No\", \"day\": \"Thur\", \"time\": \"Lunch\", \"size\": 2}, {\"total_bill\": 29.8, \"tip\": 4.2, \"sex\": \"Female\", \"smoker\": \"No\", \"day\": \"Thur\", \"time\": \"Lunch\", \"size\": 6}, {\"total_bill\": 8.52, \"tip\": 1.48, \"sex\": \"Male\", \"smoker\": \"No\", \"day\": \"Thur\", \"time\": \"Lunch\", \"size\": 2}, {\"total_bill\": 14.52, \"tip\": 2.0, \"sex\": \"Female\", \"smoker\": \"No\", \"day\": \"Thur\", \"time\": \"Lunch\", \"size\": 2}, {\"total_bill\": 11.38, \"tip\": 2.0, \"sex\": \"Female\", \"smoker\": \"No\", \"day\": \"Thur\", \"time\": \"Lunch\", \"size\": 2}, {\"total_bill\": 22.82, \"tip\": 2.18, \"sex\": \"Male\", \"smoker\": \"No\", \"day\": \"Thur\", \"time\": \"Lunch\", \"size\": 3}, {\"total_bill\": 19.08, \"tip\": 1.5, \"sex\": \"Male\", \"smoker\": \"No\", \"day\": \"Thur\", \"time\": \"Lunch\", \"size\": 2}, {\"total_bill\": 20.27, \"tip\": 2.83, \"sex\": \"Female\", \"smoker\": \"No\", \"day\": \"Thur\", \"time\": \"Lunch\", \"size\": 2}, {\"total_bill\": 11.17, \"tip\": 1.5, \"sex\": \"Female\", \"smoker\": \"No\", \"day\": \"Thur\", \"time\": \"Lunch\", \"size\": 2}, {\"total_bill\": 12.26, \"tip\": 2.0, \"sex\": \"Female\", \"smoker\": \"No\", \"day\": \"Thur\", \"time\": \"Lunch\", \"size\": 2}, {\"total_bill\": 18.26, \"tip\": 3.25, \"sex\": \"Female\", \"smoker\": \"No\", \"day\": \"Thur\", \"time\": \"Lunch\", \"size\": 2}, {\"total_bill\": 8.51, \"tip\": 1.25, \"sex\": \"Female\", \"smoker\": \"No\", \"day\": \"Thur\", \"time\": \"Lunch\", \"size\": 2}, {\"total_bill\": 10.33, \"tip\": 2.0, \"sex\": \"Female\", \"smoker\": \"No\", \"day\": \"Thur\", \"time\": \"Lunch\", \"size\": 2}, {\"total_bill\": 14.15, \"tip\": 2.0, \"sex\": \"Female\", \"smoker\": \"No\", \"day\": \"Thur\", \"time\": \"Lunch\", \"size\": 2}, {\"total_bill\": 16.0, \"tip\": 2.0, \"sex\": \"Male\", \"smoker\": \"Yes\", \"day\": \"Thur\", \"time\": \"Lunch\", \"size\": 2}, {\"total_bill\": 13.16, \"tip\": 2.75, \"sex\": \"Female\", \"smoker\": \"No\", \"day\": \"Thur\", \"time\": \"Lunch\", \"size\": 2}, {\"total_bill\": 17.47, \"tip\": 3.5, \"sex\": \"Female\", \"smoker\": \"No\", \"day\": \"Thur\", \"time\": \"Lunch\", \"size\": 2}, {\"total_bill\": 34.3, \"tip\": 6.7, \"sex\": \"Male\", \"smoker\": \"No\", \"day\": \"Thur\", \"time\": \"Lunch\", \"size\": 6}, {\"total_bill\": 41.19, \"tip\": 5.0, \"sex\": \"Male\", \"smoker\": \"No\", \"day\": \"Thur\", \"time\": \"Lunch\", \"size\": 5}, {\"total_bill\": 27.05, \"tip\": 5.0, \"sex\": \"Female\", \"smoker\": \"No\", \"day\": \"Thur\", \"time\": \"Lunch\", \"size\": 6}, {\"total_bill\": 16.43, \"tip\": 2.3, \"sex\": \"Female\", \"smoker\": \"No\", \"day\": \"Thur\", \"time\": \"Lunch\", \"size\": 2}, {\"total_bill\": 8.35, \"tip\": 1.5, \"sex\": \"Female\", \"smoker\": \"No\", \"day\": \"Thur\", \"time\": \"Lunch\", \"size\": 2}, {\"total_bill\": 18.64, \"tip\": 1.36, \"sex\": \"Female\", \"smoker\": \"No\", \"day\": \"Thur\", \"time\": \"Lunch\", \"size\": 3}, {\"total_bill\": 11.87, \"tip\": 1.63, \"sex\": \"Female\", \"smoker\": \"No\", \"day\": \"Thur\", \"time\": \"Lunch\", \"size\": 2}, {\"total_bill\": 9.78, \"tip\": 1.73, \"sex\": \"Male\", \"smoker\": \"No\", \"day\": \"Thur\", \"time\": \"Lunch\", \"size\": 2}, {\"total_bill\": 7.51, \"tip\": 2.0, \"sex\": \"Male\", \"smoker\": \"No\", \"day\": \"Thur\", \"time\": \"Lunch\", \"size\": 2}, {\"total_bill\": 14.07, \"tip\": 2.5, \"sex\": \"Male\", \"smoker\": \"No\", \"day\": \"Sun\", \"time\": \"Dinner\", \"size\": 2}, {\"total_bill\": 13.13, \"tip\": 2.0, \"sex\": \"Male\", \"smoker\": \"No\", \"day\": \"Sun\", \"time\": \"Dinner\", \"size\": 2}, {\"total_bill\": 17.26, \"tip\": 2.74, \"sex\": \"Male\", \"smoker\": \"No\", \"day\": \"Sun\", \"time\": \"Dinner\", \"size\": 3}, {\"total_bill\": 24.55, \"tip\": 2.0, \"sex\": \"Male\", \"smoker\": \"No\", \"day\": \"Sun\", \"time\": \"Dinner\", \"size\": 4}, {\"total_bill\": 19.77, \"tip\": 2.0, \"sex\": \"Male\", \"smoker\": \"No\", \"day\": \"Sun\", \"time\": \"Dinner\", \"size\": 4}, {\"total_bill\": 29.85, \"tip\": 5.14, \"sex\": \"Female\", \"smoker\": \"No\", \"day\": \"Sun\", \"time\": \"Dinner\", \"size\": 5}, {\"total_bill\": 48.17, \"tip\": 5.0, \"sex\": \"Male\", \"smoker\": \"No\", \"day\": \"Sun\", \"time\": \"Dinner\", \"size\": 6}, {\"total_bill\": 25.0, \"tip\": 3.75, \"sex\": \"Female\", \"smoker\": \"No\", \"day\": \"Sun\", \"time\": \"Dinner\", \"size\": 4}, {\"total_bill\": 13.39, \"tip\": 2.61, \"sex\": \"Female\", \"smoker\": \"No\", \"day\": \"Sun\", \"time\": \"Dinner\", \"size\": 2}, {\"total_bill\": 16.49, \"tip\": 2.0, \"sex\": \"Male\", \"smoker\": \"No\", \"day\": \"Sun\", \"time\": \"Dinner\", \"size\": 4}, {\"total_bill\": 21.5, \"tip\": 3.5, \"sex\": \"Male\", \"smoker\": \"No\", \"day\": \"Sun\", \"time\": \"Dinner\", \"size\": 4}, {\"total_bill\": 12.66, \"tip\": 2.5, \"sex\": \"Male\", \"smoker\": \"No\", \"day\": \"Sun\", \"time\": \"Dinner\", \"size\": 2}, {\"total_bill\": 16.21, \"tip\": 2.0, \"sex\": \"Female\", \"smoker\": \"No\", \"day\": \"Sun\", \"time\": \"Dinner\", \"size\": 3}, {\"total_bill\": 13.81, \"tip\": 2.0, \"sex\": \"Male\", \"smoker\": \"No\", \"day\": \"Sun\", \"time\": \"Dinner\", \"size\": 2}, {\"total_bill\": 17.51, \"tip\": 3.0, \"sex\": \"Female\", \"smoker\": \"Yes\", \"day\": \"Sun\", \"time\": \"Dinner\", \"size\": 2}, {\"total_bill\": 24.52, \"tip\": 3.48, \"sex\": \"Male\", \"smoker\": \"No\", \"day\": \"Sun\", \"time\": \"Dinner\", \"size\": 3}, {\"total_bill\": 20.76, \"tip\": 2.24, \"sex\": \"Male\", \"smoker\": \"No\", \"day\": \"Sun\", \"time\": \"Dinner\", \"size\": 2}, {\"total_bill\": 31.71, \"tip\": 4.5, \"sex\": \"Male\", \"smoker\": \"No\", \"day\": \"Sun\", \"time\": \"Dinner\", \"size\": 4}, {\"total_bill\": 10.59, \"tip\": 1.61, \"sex\": \"Female\", \"smoker\": \"Yes\", \"day\": \"Sat\", \"time\": \"Dinner\", \"size\": 2}, {\"total_bill\": 10.63, \"tip\": 2.0, \"sex\": \"Female\", \"smoker\": \"Yes\", \"day\": \"Sat\", \"time\": \"Dinner\", \"size\": 2}, {\"total_bill\": 50.81, \"tip\": 10.0, \"sex\": \"Male\", \"smoker\": \"Yes\", \"day\": \"Sat\", \"time\": \"Dinner\", \"size\": 3}, {\"total_bill\": 15.81, \"tip\": 3.16, \"sex\": \"Male\", \"smoker\": \"Yes\", \"day\": \"Sat\", \"time\": \"Dinner\", \"size\": 2}, {\"total_bill\": 7.25, \"tip\": 5.15, \"sex\": \"Male\", \"smoker\": \"Yes\", \"day\": \"Sun\", \"time\": \"Dinner\", \"size\": 2}, {\"total_bill\": 31.85, \"tip\": 3.18, \"sex\": \"Male\", \"smoker\": \"Yes\", \"day\": \"Sun\", \"time\": \"Dinner\", \"size\": 2}, {\"total_bill\": 16.82, \"tip\": 4.0, \"sex\": \"Male\", \"smoker\": \"Yes\", \"day\": \"Sun\", \"time\": \"Dinner\", \"size\": 2}, {\"total_bill\": 32.9, \"tip\": 3.11, \"sex\": \"Male\", \"smoker\": \"Yes\", \"day\": \"Sun\", \"time\": \"Dinner\", \"size\": 2}, {\"total_bill\": 17.89, \"tip\": 2.0, \"sex\": \"Male\", \"smoker\": \"Yes\", \"day\": \"Sun\", \"time\": \"Dinner\", \"size\": 2}, {\"total_bill\": 14.48, \"tip\": 2.0, \"sex\": \"Male\", \"smoker\": \"Yes\", \"day\": \"Sun\", \"time\": \"Dinner\", \"size\": 2}, {\"total_bill\": 9.6, \"tip\": 4.0, \"sex\": \"Female\", \"smoker\": \"Yes\", \"day\": \"Sun\", \"time\": \"Dinner\", \"size\": 2}, {\"total_bill\": 34.63, \"tip\": 3.55, \"sex\": \"Male\", \"smoker\": \"Yes\", \"day\": \"Sun\", \"time\": \"Dinner\", \"size\": 2}, {\"total_bill\": 34.65, \"tip\": 3.68, \"sex\": \"Male\", \"smoker\": \"Yes\", \"day\": \"Sun\", \"time\": \"Dinner\", \"size\": 4}, {\"total_bill\": 23.33, \"tip\": 5.65, \"sex\": \"Male\", \"smoker\": \"Yes\", \"day\": \"Sun\", \"time\": \"Dinner\", \"size\": 2}, {\"total_bill\": 45.35, \"tip\": 3.5, \"sex\": \"Male\", \"smoker\": \"Yes\", \"day\": \"Sun\", \"time\": \"Dinner\", \"size\": 3}, {\"total_bill\": 23.17, \"tip\": 6.5, \"sex\": \"Male\", \"smoker\": \"Yes\", \"day\": \"Sun\", \"time\": \"Dinner\", \"size\": 4}, {\"total_bill\": 40.55, \"tip\": 3.0, \"sex\": \"Male\", \"smoker\": \"Yes\", \"day\": \"Sun\", \"time\": \"Dinner\", \"size\": 2}, {\"total_bill\": 20.69, \"tip\": 5.0, \"sex\": \"Male\", \"smoker\": \"No\", \"day\": \"Sun\", \"time\": \"Dinner\", \"size\": 5}, {\"total_bill\": 20.9, \"tip\": 3.5, \"sex\": \"Female\", \"smoker\": \"Yes\", \"day\": \"Sun\", \"time\": \"Dinner\", \"size\": 3}, {\"total_bill\": 30.46, \"tip\": 2.0, \"sex\": \"Male\", \"smoker\": \"Yes\", \"day\": \"Sun\", \"time\": \"Dinner\", \"size\": 5}, {\"total_bill\": 18.15, \"tip\": 3.5, \"sex\": \"Female\", \"smoker\": \"Yes\", \"day\": \"Sun\", \"time\": \"Dinner\", \"size\": 3}, {\"total_bill\": 23.1, \"tip\": 4.0, \"sex\": \"Male\", \"smoker\": \"Yes\", \"day\": \"Sun\", \"time\": \"Dinner\", \"size\": 3}, {\"total_bill\": 15.69, \"tip\": 1.5, \"sex\": \"Male\", \"smoker\": \"Yes\", \"day\": \"Sun\", \"time\": \"Dinner\", \"size\": 2}, {\"total_bill\": 19.81, \"tip\": 4.19, \"sex\": \"Female\", \"smoker\": \"Yes\", \"day\": \"Thur\", \"time\": \"Lunch\", \"size\": 2}, {\"total_bill\": 28.44, \"tip\": 2.56, \"sex\": \"Male\", \"smoker\": \"Yes\", \"day\": \"Thur\", \"time\": \"Lunch\", \"size\": 2}, {\"total_bill\": 15.48, \"tip\": 2.02, \"sex\": \"Male\", \"smoker\": \"Yes\", \"day\": \"Thur\", \"time\": \"Lunch\", \"size\": 2}, {\"total_bill\": 16.58, \"tip\": 4.0, \"sex\": \"Male\", \"smoker\": \"Yes\", \"day\": \"Thur\", \"time\": \"Lunch\", \"size\": 2}, {\"total_bill\": 7.56, \"tip\": 1.44, \"sex\": \"Male\", \"smoker\": \"No\", \"day\": \"Thur\", \"time\": \"Lunch\", \"size\": 2}, {\"total_bill\": 10.34, \"tip\": 2.0, \"sex\": \"Male\", \"smoker\": \"Yes\", \"day\": \"Thur\", \"time\": \"Lunch\", \"size\": 2}, {\"total_bill\": 43.11, \"tip\": 5.0, \"sex\": \"Female\", \"smoker\": \"Yes\", \"day\": \"Thur\", \"time\": \"Lunch\", \"size\": 4}, {\"total_bill\": 13.0, \"tip\": 2.0, \"sex\": \"Female\", \"smoker\": \"Yes\", \"day\": \"Thur\", \"time\": \"Lunch\", \"size\": 2}, {\"total_bill\": 13.51, \"tip\": 2.0, \"sex\": \"Male\", \"smoker\": \"Yes\", \"day\": \"Thur\", \"time\": \"Lunch\", \"size\": 2}, {\"total_bill\": 18.71, \"tip\": 4.0, \"sex\": \"Male\", \"smoker\": \"Yes\", \"day\": \"Thur\", \"time\": \"Lunch\", \"size\": 3}, {\"total_bill\": 12.74, \"tip\": 2.01, \"sex\": \"Female\", \"smoker\": \"Yes\", \"day\": \"Thur\", \"time\": \"Lunch\", \"size\": 2}, {\"total_bill\": 13.0, \"tip\": 2.0, \"sex\": \"Female\", \"smoker\": \"Yes\", \"day\": \"Thur\", \"time\": \"Lunch\", \"size\": 2}, {\"total_bill\": 16.4, \"tip\": 2.5, \"sex\": \"Female\", \"smoker\": \"Yes\", \"day\": \"Thur\", \"time\": \"Lunch\", \"size\": 2}, {\"total_bill\": 20.53, \"tip\": 4.0, \"sex\": \"Male\", \"smoker\": \"Yes\", \"day\": \"Thur\", \"time\": \"Lunch\", \"size\": 4}, {\"total_bill\": 16.47, \"tip\": 3.23, \"sex\": \"Female\", \"smoker\": \"Yes\", \"day\": \"Thur\", \"time\": \"Lunch\", \"size\": 3}, {\"total_bill\": 26.59, \"tip\": 3.41, \"sex\": \"Male\", \"smoker\": \"Yes\", \"day\": \"Sat\", \"time\": \"Dinner\", \"size\": 3}, {\"total_bill\": 38.73, \"tip\": 3.0, \"sex\": \"Male\", \"smoker\": \"Yes\", \"day\": \"Sat\", \"time\": \"Dinner\", \"size\": 4}, {\"total_bill\": 24.27, \"tip\": 2.03, \"sex\": \"Male\", \"smoker\": \"Yes\", \"day\": \"Sat\", \"time\": \"Dinner\", \"size\": 2}, {\"total_bill\": 12.76, \"tip\": 2.23, \"sex\": \"Female\", \"smoker\": \"Yes\", \"day\": \"Sat\", \"time\": \"Dinner\", \"size\": 2}, {\"total_bill\": 30.06, \"tip\": 2.0, \"sex\": \"Male\", \"smoker\": \"Yes\", \"day\": \"Sat\", \"time\": \"Dinner\", \"size\": 3}, {\"total_bill\": 25.89, \"tip\": 5.16, \"sex\": \"Male\", \"smoker\": \"Yes\", \"day\": \"Sat\", \"time\": \"Dinner\", \"size\": 4}, {\"total_bill\": 48.33, \"tip\": 9.0, \"sex\": \"Male\", \"smoker\": \"No\", \"day\": \"Sat\", \"time\": \"Dinner\", \"size\": 4}, {\"total_bill\": 13.27, \"tip\": 2.5, \"sex\": \"Female\", \"smoker\": \"Yes\", \"day\": \"Sat\", \"time\": \"Dinner\", \"size\": 2}, {\"total_bill\": 28.17, \"tip\": 6.5, \"sex\": \"Female\", \"smoker\": \"Yes\", \"day\": \"Sat\", \"time\": \"Dinner\", \"size\": 3}, {\"total_bill\": 12.9, \"tip\": 1.1, \"sex\": \"Female\", \"smoker\": \"Yes\", \"day\": \"Sat\", \"time\": \"Dinner\", \"size\": 2}, {\"total_bill\": 28.15, \"tip\": 3.0, \"sex\": \"Male\", \"smoker\": \"Yes\", \"day\": \"Sat\", \"time\": \"Dinner\", \"size\": 5}, {\"total_bill\": 11.59, \"tip\": 1.5, \"sex\": \"Male\", \"smoker\": \"Yes\", \"day\": \"Sat\", \"time\": \"Dinner\", \"size\": 2}, {\"total_bill\": 7.74, \"tip\": 1.44, \"sex\": \"Male\", \"smoker\": \"Yes\", \"day\": \"Sat\", \"time\": \"Dinner\", \"size\": 2}, {\"total_bill\": 30.14, \"tip\": 3.09, \"sex\": \"Female\", \"smoker\": \"Yes\", \"day\": \"Sat\", \"time\": \"Dinner\", \"size\": 4}, {\"total_bill\": 12.16, \"tip\": 2.2, \"sex\": \"Male\", \"smoker\": \"Yes\", \"day\": \"Fri\", \"time\": \"Lunch\", \"size\": 2}, {\"total_bill\": 13.42, \"tip\": 3.48, \"sex\": \"Female\", \"smoker\": \"Yes\", \"day\": \"Fri\", \"time\": \"Lunch\", \"size\": 2}, {\"total_bill\": 8.58, \"tip\": 1.92, \"sex\": \"Male\", \"smoker\": \"Yes\", \"day\": \"Fri\", \"time\": \"Lunch\", \"size\": 1}, {\"total_bill\": 15.98, \"tip\": 3.0, \"sex\": \"Female\", \"smoker\": \"No\", \"day\": \"Fri\", \"time\": \"Lunch\", \"size\": 3}, {\"total_bill\": 13.42, \"tip\": 1.58, \"sex\": \"Male\", \"smoker\": \"Yes\", \"day\": \"Fri\", \"time\": \"Lunch\", \"size\": 2}, {\"total_bill\": 16.27, \"tip\": 2.5, \"sex\": \"Female\", \"smoker\": \"Yes\", \"day\": \"Fri\", \"time\": \"Lunch\", \"size\": 2}, {\"total_bill\": 10.09, \"tip\": 2.0, \"sex\": \"Female\", \"smoker\": \"Yes\", \"day\": \"Fri\", \"time\": \"Lunch\", \"size\": 2}, {\"total_bill\": 20.45, \"tip\": 3.0, \"sex\": \"Male\", \"smoker\": \"No\", \"day\": \"Sat\", \"time\": \"Dinner\", \"size\": 4}, {\"total_bill\": 13.28, \"tip\": 2.72, \"sex\": \"Male\", \"smoker\": \"No\", \"day\": \"Sat\", \"time\": \"Dinner\", \"size\": 2}, {\"total_bill\": 22.12, \"tip\": 2.88, \"sex\": \"Female\", \"smoker\": \"Yes\", \"day\": \"Sat\", \"time\": \"Dinner\", \"size\": 2}, {\"total_bill\": 24.01, \"tip\": 2.0, \"sex\": \"Male\", \"smoker\": \"Yes\", \"day\": \"Sat\", \"time\": \"Dinner\", \"size\": 4}, {\"total_bill\": 15.69, \"tip\": 3.0, \"sex\": \"Male\", \"smoker\": \"Yes\", \"day\": \"Sat\", \"time\": \"Dinner\", \"size\": 3}, {\"total_bill\": 11.61, \"tip\": 3.39, \"sex\": \"Male\", \"smoker\": \"No\", \"day\": \"Sat\", \"time\": \"Dinner\", \"size\": 2}, {\"total_bill\": 10.77, \"tip\": 1.47, \"sex\": \"Male\", \"smoker\": \"No\", \"day\": \"Sat\", \"time\": \"Dinner\", \"size\": 2}, {\"total_bill\": 15.53, \"tip\": 3.0, \"sex\": \"Male\", \"smoker\": \"Yes\", \"day\": \"Sat\", \"time\": \"Dinner\", \"size\": 2}, {\"total_bill\": 10.07, \"tip\": 1.25, \"sex\": \"Male\", \"smoker\": \"No\", \"day\": \"Sat\", \"time\": \"Dinner\", \"size\": 2}, {\"total_bill\": 12.6, \"tip\": 1.0, \"sex\": \"Male\", \"smoker\": \"Yes\", \"day\": \"Sat\", \"time\": \"Dinner\", \"size\": 2}, {\"total_bill\": 32.83, \"tip\": 1.17, \"sex\": \"Male\", \"smoker\": \"Yes\", \"day\": \"Sat\", \"time\": \"Dinner\", \"size\": 2}, {\"total_bill\": 35.83, \"tip\": 4.67, \"sex\": \"Female\", \"smoker\": \"No\", \"day\": \"Sat\", \"time\": \"Dinner\", \"size\": 3}, {\"total_bill\": 29.03, \"tip\": 5.92, \"sex\": \"Male\", \"smoker\": \"No\", \"day\": \"Sat\", \"time\": \"Dinner\", \"size\": 3}, {\"total_bill\": 27.18, \"tip\": 2.0, \"sex\": \"Female\", \"smoker\": \"Yes\", \"day\": \"Sat\", \"time\": \"Dinner\", \"size\": 2}, {\"total_bill\": 22.67, \"tip\": 2.0, \"sex\": \"Male\", \"smoker\": \"Yes\", \"day\": \"Sat\", \"time\": \"Dinner\", \"size\": 2}, {\"total_bill\": 17.82, \"tip\": 1.75, \"sex\": \"Male\", \"smoker\": \"No\", \"day\": \"Sat\", \"time\": \"Dinner\", \"size\": 2}, {\"total_bill\": 18.78, \"tip\": 3.0, \"sex\": \"Female\", \"smoker\": \"No\", \"day\": \"Thur\", \"time\": \"Dinner\", \"size\": 2}]}}, {\"mode\": \"vega-lite\"});\n",
       "</script>"
      ],
      "text/plain": [
       "alt.LayerChart(...)"
      ]
     },
     "execution_count": 5,
     "metadata": {},
     "output_type": "execute_result"
    }
   ],
   "source": [
    "chart = alt.Chart(tips).mark_point().encode(\n",
    "    x='total_bill',\n",
    "    y='tip'    \n",
    ")\n",
    "chart + chart.transform_regression('total_bill', 'tip').mark_line(color='red')"
   ]
  },
  {
   "cell_type": "markdown",
   "metadata": {},
   "source": [
    "## Question 1 – Manual Formulation"
   ]
  },
  {
   "cell_type": "markdown",
   "metadata": {},
   "source": [
    "Recall the following expression for the line of best fit.\n",
    "\n",
    "$$\\hat{y_i} = \\bar{y} + r \\frac{SD(y)}{SD(x)} (x_i - \\bar{x})$$\n",
    "\n",
    "where $\\bar{x}$, $\\bar{y}$, $SD(x)$, $SD(y)$ correspond to the means and standard deviations of $x$ and $y$, respectively, and $r$ is the correlation coefficient."
   ]
  },
  {
   "cell_type": "markdown",
   "metadata": {
    "deletable": false,
    "editable": false
   },
   "source": [
    "### Question 1a\n",
    "\n",
    "Assign `xbar`, `ybar`, `stdx`, `stdy`, and `r`, such that they align with our dataset.\n",
    "\n",
    "- Hint: Remember, in our case, `y` is `tip`, and `x` is `total_bill`.\n",
    "- Hint: Use `np.corrcoef` to compute `r`. Note that the output of `np.corrcoef` is a **matrix, not a number**, so you'll need to collect the correlation coefficient by **indexing into the returned array**. \n",
    "\n",
    "<!--\n",
    "BEGIN QUESTION\n",
    "name: q1a\n",
    "points: 5\n",
    "manual: false\n",
    "-->"
   ]
  },
  {
   "cell_type": "code",
   "execution_count": 12,
   "metadata": {},
   "outputs": [],
   "source": [
    "xbar = np.mean(tips['total_bill'])\n",
    "ybar = np.mean(tips['tip'])\n",
    "stdx = np.std(tips['total_bill'])\n",
    "stdy = np.std(tips['tip'])\n",
    "r = np.corrcoef(tips['total_bill'], tips['tip'])[0,1]"
   ]
  },
  {
   "cell_type": "markdown",
   "metadata": {},
   "source": [
    "### Question 1b"
   ]
  },
  {
   "cell_type": "markdown",
   "metadata": {
    "deletable": false,
    "editable": false
   },
   "source": [
    "Now, set `b_hat` and `a_hat` correctly, in terms of the variables you defined above. Remember that `b_hat` and `a_hat` are our regression line's intercept and slope, respectively.\n",
    "\n",
    "- Hint: Try and match the slope and intercept in $\\hat{y_i} = \\hat{\\alpha} + \\hat{\\beta}x_i$ to the slope and intercept in $\\hat{y_i} = \\bar{y} + r \\frac{SD(y)}{SD(x)} (x_i - \\bar{x})$.\n",
    "\n",
    "- Hint: You may want to define `a_hat` in terms of `b_hat` (i.e., solve for `b_hat` and then use it to find `a_hat`).\n",
    "\n",
    "<!--\n",
    "BEGIN QUESTION\n",
    "name: q1b\n",
    "points: 3\n",
    "manual: false\n",
    "-->"
   ]
  },
  {
   "cell_type": "code",
   "execution_count": 16,
   "metadata": {},
   "outputs": [
    {
     "data": {
      "text/plain": [
       "4.347714207346626"
      ]
     },
     "execution_count": 16,
     "metadata": {},
     "output_type": "execute_result"
    }
   ],
   "source": [
    "b_hat"
   ]
  },
  {
   "cell_type": "code",
   "execution_count": 22,
   "metadata": {},
   "outputs": [],
   "source": [
    "b_hat = r*(stdy/stdx)\n",
    "a_hat = ybar - b_hat*(xbar)"
   ]
  },
  {
   "cell_type": "markdown",
   "metadata": {
    "deletable": false,
    "editable": false
   },
   "source": [
    "### Question 1c\n",
    "\n",
    "Now, use `a_hat` and `b_hat` to predict the tip for a total bill amount of \\$20. Store your result in `predicted_20`.\n",
    "\n",
    "<!--\n",
    "BEGIN QUESTION\n",
    "name: q1c\n",
    "points: 2\n",
    "manual: false\n",
    "-->"
   ]
  },
  {
   "cell_type": "code",
   "execution_count": 24,
   "metadata": {},
   "outputs": [
    {
     "data": {
      "text/plain": [
       "3.0207599612417404"
      ]
     },
     "execution_count": 24,
     "metadata": {},
     "output_type": "execute_result"
    }
   ],
   "source": [
    "predicted_20 = b_hat*(20) + a_hat\n",
    "predicted_20"
   ]
  },
  {
   "cell_type": "markdown",
   "metadata": {
    "deletable": false,
    "editable": false
   },
   "source": [
    "### Question 1d\n",
    "Define `regression` as a `pd.Series` containg predicted values of $Y$ values (i.e., predicted `\"tip\"` values) for the observed values of total bills (`tips[\"total_bill\"]`). You will need to use `a_hat`, `b_hat`, and `tips[\"total_bill\"]`.\n",
    "\n",
    "<!--\n",
    "BEGIN QUESTION\n",
    "name: q1d\n",
    "points: 2\n",
    "manual: false\n",
    "-->"
   ]
  },
  {
   "cell_type": "code",
   "execution_count": 26,
   "metadata": {},
   "outputs": [],
   "source": [
    "regression = tips['total_bill']*b_hat + a_hat"
   ]
  },
  {
   "cell_type": "markdown",
   "metadata": {
    "deletable": false,
    "editable": false
   },
   "source": [
    "### Question 1e\n",
    "\n",
    "Now, create the scatter plot of `tip` vs `total_bill`, along with the regression line you just calculated on the same plot.\n",
    "\n",
    "* **Hint:** You'll need to create a new dataframe to plot the regression line \n",
    "* **Hint:** You will want the y axis to be the regression values you calculated in the last part\n",
    "\n",
    "<!--\n",
    "BEGIN QUESTION\n",
    "name: q1e\n",
    "points: 4\n",
    "manual: true\n",
    "-->\n",
    "<!-- EXPORT TO PDF -->"
   ]
  },
  {
   "cell_type": "code",
   "execution_count": 30,
   "metadata": {
    "scrolled": true
   },
   "outputs": [
    {
     "data": {
      "text/plain": [
       "0      2.704636\n",
       "1      2.006223\n",
       "2      3.126835\n",
       "3      3.407250\n",
       "4      3.502822\n",
       "         ...   \n",
       "239    3.969131\n",
       "240    3.774836\n",
       "241    3.301175\n",
       "242    2.791807\n",
       "243    2.892630\n",
       "Name: regression, Length: 244, dtype: float64"
      ]
     },
     "execution_count": 30,
     "metadata": {},
     "output_type": "execute_result"
    }
   ],
   "source": [
    "tips['regression'] = regression\n",
    "tips['regression']"
   ]
  },
  {
   "cell_type": "code",
   "execution_count": 35,
   "metadata": {},
   "outputs": [
    {
     "data": {
      "text/html": [
       "\n",
       "<div id=\"altair-viz-b25c31bd719f4446b93020ebf245a708\"></div>\n",
       "<script type=\"text/javascript\">\n",
       "  (function(spec, embedOpt){\n",
       "    let outputDiv = document.currentScript.previousElementSibling;\n",
       "    if (outputDiv.id !== \"altair-viz-b25c31bd719f4446b93020ebf245a708\") {\n",
       "      outputDiv = document.getElementById(\"altair-viz-b25c31bd719f4446b93020ebf245a708\");\n",
       "    }\n",
       "    const paths = {\n",
       "      \"vega\": \"https://cdn.jsdelivr.net/npm//vega@5?noext\",\n",
       "      \"vega-lib\": \"https://cdn.jsdelivr.net/npm//vega-lib?noext\",\n",
       "      \"vega-lite\": \"https://cdn.jsdelivr.net/npm//vega-lite@4.8.1?noext\",\n",
       "      \"vega-embed\": \"https://cdn.jsdelivr.net/npm//vega-embed@6?noext\",\n",
       "    };\n",
       "\n",
       "    function loadScript(lib) {\n",
       "      return new Promise(function(resolve, reject) {\n",
       "        var s = document.createElement('script');\n",
       "        s.src = paths[lib];\n",
       "        s.async = true;\n",
       "        s.onload = () => resolve(paths[lib]);\n",
       "        s.onerror = () => reject(`Error loading script: ${paths[lib]}`);\n",
       "        document.getElementsByTagName(\"head\")[0].appendChild(s);\n",
       "      });\n",
       "    }\n",
       "\n",
       "    function showError(err) {\n",
       "      outputDiv.innerHTML = `<div class=\"error\" style=\"color:red;\">${err}</div>`;\n",
       "      throw err;\n",
       "    }\n",
       "\n",
       "    function displayChart(vegaEmbed) {\n",
       "      vegaEmbed(outputDiv, spec, embedOpt)\n",
       "        .catch(err => showError(`Javascript Error: ${err.message}<br>This usually means there's a typo in your chart specification. See the javascript console for the full traceback.`));\n",
       "    }\n",
       "\n",
       "    if(typeof define === \"function\" && define.amd) {\n",
       "      requirejs.config({paths});\n",
       "      require([\"vega-embed\"], displayChart, err => showError(`Error loading script: ${err.message}`));\n",
       "    } else if (typeof vegaEmbed === \"function\") {\n",
       "      displayChart(vegaEmbed);\n",
       "    } else {\n",
       "      loadScript(\"vega\")\n",
       "        .then(() => loadScript(\"vega-lite\"))\n",
       "        .then(() => loadScript(\"vega-embed\"))\n",
       "        .catch(showError)\n",
       "        .then(() => displayChart(vegaEmbed));\n",
       "    }\n",
       "  })({\"config\": {\"view\": {\"continuousWidth\": 400, \"continuousHeight\": 300}}, \"layer\": [{\"mark\": \"point\", \"encoding\": {\"x\": {\"type\": \"quantitative\", \"field\": \"total_bill\"}, \"y\": {\"type\": \"quantitative\", \"field\": \"tip\"}}}, {\"mark\": \"line\", \"encoding\": {\"x\": {\"type\": \"quantitative\", \"field\": \"total_bill\"}, \"y\": {\"type\": \"quantitative\", \"field\": \"regression\"}}}], \"data\": {\"name\": \"data-1500fcc78140c9a736e910a03084e260\"}, \"$schema\": \"https://vega.github.io/schema/vega-lite/v4.8.1.json\", \"datasets\": {\"data-1500fcc78140c9a736e910a03084e260\": [{\"total_bill\": 16.99, \"tip\": 1.01, \"sex\": \"Female\", \"smoker\": \"No\", \"day\": \"Sun\", \"time\": \"Dinner\", \"size\": 2, \"regression\": 2.704636163914837}, {\"total_bill\": 10.34, \"tip\": 1.66, \"sex\": \"Male\", \"smoker\": \"No\", \"day\": \"Sun\", \"time\": \"Dinner\", \"size\": 3, \"regression\": 2.006223123308887}, {\"total_bill\": 21.01, \"tip\": 3.5, \"sex\": \"Male\", \"smoker\": \"No\", \"day\": \"Sun\", \"time\": \"Dinner\", \"size\": 3, \"regression\": 3.1268347237999374}, {\"total_bill\": 23.68, \"tip\": 3.31, \"sex\": \"Male\", \"smoker\": \"No\", \"day\": \"Sun\", \"time\": \"Dinner\", \"size\": 2, \"regression\": 3.407250185216161}, {\"total_bill\": 24.59, \"tip\": 3.61, \"sex\": \"Female\", \"smoker\": \"No\", \"day\": \"Sun\", \"time\": \"Dinner\", \"size\": 4, \"regression\": 3.502822496035922}, {\"total_bill\": 25.29, \"tip\": 4.71, \"sex\": \"Male\", \"smoker\": \"No\", \"day\": \"Sun\", \"time\": \"Dinner\", \"size\": 4, \"regression\": 3.5763396582049696}, {\"total_bill\": 8.77, \"tip\": 2.0, \"sex\": \"Male\", \"smoker\": \"No\", \"day\": \"Sun\", \"time\": \"Dinner\", \"size\": 2, \"regression\": 1.8413346310154524}, {\"total_bill\": 26.88, \"tip\": 3.12, \"sex\": \"Male\", \"smoker\": \"No\", \"day\": \"Sun\", \"time\": \"Dinner\", \"size\": 4, \"regression\": 3.7433286408460917}, {\"total_bill\": 15.04, \"tip\": 1.96, \"sex\": \"Male\", \"smoker\": \"No\", \"day\": \"Sun\", \"time\": \"Dinner\", \"size\": 2, \"regression\": 2.499838355015348}, {\"total_bill\": 14.78, \"tip\": 3.23, \"sex\": \"Male\", \"smoker\": \"No\", \"day\": \"Sun\", \"time\": \"Dinner\", \"size\": 2, \"regression\": 2.472531980495416}, {\"total_bill\": 10.27, \"tip\": 1.71, \"sex\": \"Male\", \"smoker\": \"No\", \"day\": \"Sun\", \"time\": \"Dinner\", \"size\": 2, \"regression\": 1.9988714070919824}, {\"total_bill\": 35.26, \"tip\": 5.0, \"sex\": \"Female\", \"smoker\": \"No\", \"day\": \"Sun\", \"time\": \"Dinner\", \"size\": 4, \"regression\": 4.623434096526973}, {\"total_bill\": 15.42, \"tip\": 1.57, \"sex\": \"Male\", \"smoker\": \"No\", \"day\": \"Sun\", \"time\": \"Dinner\", \"size\": 2, \"regression\": 2.5397476716214022}, {\"total_bill\": 18.43, \"tip\": 3.0, \"sex\": \"Male\", \"smoker\": \"No\", \"day\": \"Sun\", \"time\": \"Dinner\", \"size\": 4, \"regression\": 2.8558714689483056}, {\"total_bill\": 14.83, \"tip\": 3.02, \"sex\": \"Female\", \"smoker\": \"No\", \"day\": \"Sun\", \"time\": \"Dinner\", \"size\": 2, \"regression\": 2.4777832063646335}, {\"total_bill\": 21.58, \"tip\": 3.92, \"sex\": \"Male\", \"smoker\": \"No\", \"day\": \"Sun\", \"time\": \"Dinner\", \"size\": 2, \"regression\": 3.186698698709019}, {\"total_bill\": 10.33, \"tip\": 1.67, \"sex\": \"Female\", \"smoker\": \"No\", \"day\": \"Sun\", \"time\": \"Dinner\", \"size\": 3, \"regression\": 2.0051728781350437}, {\"total_bill\": 16.29, \"tip\": 3.71, \"sex\": \"Male\", \"smoker\": \"No\", \"day\": \"Sun\", \"time\": \"Dinner\", \"size\": 3, \"regression\": 2.6311190017457893}, {\"total_bill\": 16.97, \"tip\": 3.5, \"sex\": \"Female\", \"smoker\": \"No\", \"day\": \"Sun\", \"time\": \"Dinner\", \"size\": 3, \"regression\": 2.7025356735671497}, {\"total_bill\": 20.65, \"tip\": 3.35, \"sex\": \"Male\", \"smoker\": \"No\", \"day\": \"Sat\", \"time\": \"Dinner\", \"size\": 3, \"regression\": 3.0890258975415703}, {\"total_bill\": 17.92, \"tip\": 4.08, \"sex\": \"Male\", \"smoker\": \"No\", \"day\": \"Sat\", \"time\": \"Dinner\", \"size\": 2, \"regression\": 2.8023089650822857}, {\"total_bill\": 20.29, \"tip\": 2.75, \"sex\": \"Female\", \"smoker\": \"No\", \"day\": \"Sat\", \"time\": \"Dinner\", \"size\": 2, \"regression\": 3.0512170712832027}, {\"total_bill\": 15.77, \"tip\": 2.23, \"sex\": \"Female\", \"smoker\": \"No\", \"day\": \"Sat\", \"time\": \"Dinner\", \"size\": 2, \"regression\": 2.5765062527059257}, {\"total_bill\": 39.42, \"tip\": 7.58, \"sex\": \"Male\", \"smoker\": \"No\", \"day\": \"Sat\", \"time\": \"Dinner\", \"size\": 4, \"regression\": 5.060336088845883}, {\"total_bill\": 19.82, \"tip\": 3.18, \"sex\": \"Male\", \"smoker\": \"No\", \"day\": \"Sat\", \"time\": \"Dinner\", \"size\": 2, \"regression\": 3.001855548112557}, {\"total_bill\": 17.81, \"tip\": 2.34, \"sex\": \"Male\", \"smoker\": \"No\", \"day\": \"Sat\", \"time\": \"Dinner\", \"size\": 4, \"regression\": 2.7907562681700067}, {\"total_bill\": 13.37, \"tip\": 2.0, \"sex\": \"Male\", \"smoker\": \"No\", \"day\": \"Sat\", \"time\": \"Dinner\", \"size\": 2, \"regression\": 2.3244474109834776}, {\"total_bill\": 12.69, \"tip\": 2.0, \"sex\": \"Male\", \"smoker\": \"No\", \"day\": \"Sat\", \"time\": \"Dinner\", \"size\": 2, \"regression\": 2.2530307391621176}, {\"total_bill\": 21.7, \"tip\": 4.3, \"sex\": \"Male\", \"smoker\": \"No\", \"day\": \"Sat\", \"time\": \"Dinner\", \"size\": 2, \"regression\": 3.199301640795141}, {\"total_bill\": 19.65, \"tip\": 3.0, \"sex\": \"Female\", \"smoker\": \"No\", \"day\": \"Sat\", \"time\": \"Dinner\", \"size\": 2, \"regression\": 2.984001380157217}, {\"total_bill\": 9.55, \"tip\": 1.45, \"sex\": \"Male\", \"smoker\": \"No\", \"day\": \"Sat\", \"time\": \"Dinner\", \"size\": 2, \"regression\": 1.9232537545752482}, {\"total_bill\": 18.35, \"tip\": 2.5, \"sex\": \"Male\", \"smoker\": \"No\", \"day\": \"Sat\", \"time\": \"Dinner\", \"size\": 4, \"regression\": 2.847469507557558}, {\"total_bill\": 15.06, \"tip\": 3.0, \"sex\": \"Female\", \"smoker\": \"No\", \"day\": \"Sat\", \"time\": \"Dinner\", \"size\": 2, \"regression\": 2.501938845363035}, {\"total_bill\": 20.69, \"tip\": 2.45, \"sex\": \"Female\", \"smoker\": \"No\", \"day\": \"Sat\", \"time\": \"Dinner\", \"size\": 4, \"regression\": 3.0932268782369445}, {\"total_bill\": 17.78, \"tip\": 3.27, \"sex\": \"Male\", \"smoker\": \"No\", \"day\": \"Sat\", \"time\": \"Dinner\", \"size\": 2, \"regression\": 2.7876055326484765}, {\"total_bill\": 24.06, \"tip\": 3.6, \"sex\": \"Male\", \"smoker\": \"No\", \"day\": \"Sat\", \"time\": \"Dinner\", \"size\": 3, \"regression\": 3.447159501822215}, {\"total_bill\": 16.31, \"tip\": 2.0, \"sex\": \"Male\", \"smoker\": \"No\", \"day\": \"Sat\", \"time\": \"Dinner\", \"size\": 3, \"regression\": 2.6332194920934766}, {\"total_bill\": 16.93, \"tip\": 3.07, \"sex\": \"Female\", \"smoker\": \"No\", \"day\": \"Sat\", \"time\": \"Dinner\", \"size\": 3, \"regression\": 2.698334692871776}, {\"total_bill\": 18.69, \"tip\": 2.31, \"sex\": \"Male\", \"smoker\": \"No\", \"day\": \"Sat\", \"time\": \"Dinner\", \"size\": 3, \"regression\": 2.883177843468238}, {\"total_bill\": 31.27, \"tip\": 5.0, \"sex\": \"Male\", \"smoker\": \"No\", \"day\": \"Sat\", \"time\": \"Dinner\", \"size\": 3, \"regression\": 4.204386272163402}, {\"total_bill\": 16.04, \"tip\": 2.24, \"sex\": \"Male\", \"smoker\": \"No\", \"day\": \"Sat\", \"time\": \"Dinner\", \"size\": 3, \"regression\": 2.604862872399701}, {\"total_bill\": 17.46, \"tip\": 2.54, \"sex\": \"Male\", \"smoker\": \"No\", \"day\": \"Sun\", \"time\": \"Dinner\", \"size\": 2, \"regression\": 2.753997687085483}, {\"total_bill\": 13.94, \"tip\": 3.06, \"sex\": \"Male\", \"smoker\": \"No\", \"day\": \"Sun\", \"time\": \"Dinner\", \"size\": 2, \"regression\": 2.384311385892559}, {\"total_bill\": 9.68, \"tip\": 1.32, \"sex\": \"Male\", \"smoker\": \"No\", \"day\": \"Sun\", \"time\": \"Dinner\", \"size\": 2, \"regression\": 1.9369069418352138}, {\"total_bill\": 30.4, \"tip\": 5.6, \"sex\": \"Male\", \"smoker\": \"No\", \"day\": \"Sun\", \"time\": \"Dinner\", \"size\": 4, \"regression\": 4.113014942039015}, {\"total_bill\": 18.29, \"tip\": 3.0, \"sex\": \"Male\", \"smoker\": \"No\", \"day\": \"Sun\", \"time\": \"Dinner\", \"size\": 2, \"regression\": 2.841168036514496}, {\"total_bill\": 22.23, \"tip\": 5.0, \"sex\": \"Male\", \"smoker\": \"No\", \"day\": \"Sun\", \"time\": \"Dinner\", \"size\": 2, \"regression\": 3.254964635008849}, {\"total_bill\": 32.4, \"tip\": 6.0, \"sex\": \"Male\", \"smoker\": \"No\", \"day\": \"Sun\", \"time\": \"Dinner\", \"size\": 4, \"regression\": 4.323063976807722}, {\"total_bill\": 28.55, \"tip\": 2.05, \"sex\": \"Male\", \"smoker\": \"No\", \"day\": \"Sun\", \"time\": \"Dinner\", \"size\": 3, \"regression\": 3.918719584877962}, {\"total_bill\": 18.04, \"tip\": 3.0, \"sex\": \"Male\", \"smoker\": \"No\", \"day\": \"Sun\", \"time\": \"Dinner\", \"size\": 2, \"regression\": 2.814911907168408}, {\"total_bill\": 12.54, \"tip\": 2.5, \"sex\": \"Male\", \"smoker\": \"No\", \"day\": \"Sun\", \"time\": \"Dinner\", \"size\": 2, \"regression\": 2.2372770615544644}, {\"total_bill\": 10.29, \"tip\": 2.6, \"sex\": \"Female\", \"smoker\": \"No\", \"day\": \"Sun\", \"time\": \"Dinner\", \"size\": 2, \"regression\": 2.0009718974396695}, {\"total_bill\": 34.81, \"tip\": 5.2, \"sex\": \"Female\", \"smoker\": \"No\", \"day\": \"Sun\", \"time\": \"Dinner\", \"size\": 4, \"regression\": 4.576173063704013}, {\"total_bill\": 9.94, \"tip\": 1.56, \"sex\": \"Male\", \"smoker\": \"No\", \"day\": \"Sun\", \"time\": \"Dinner\", \"size\": 2, \"regression\": 1.9642133163551458}, {\"total_bill\": 25.56, \"tip\": 4.34, \"sex\": \"Male\", \"smoker\": \"No\", \"day\": \"Sun\", \"time\": \"Dinner\", \"size\": 4, \"regression\": 3.604696277898745}, {\"total_bill\": 19.49, \"tip\": 3.51, \"sex\": \"Male\", \"smoker\": \"No\", \"day\": \"Sun\", \"time\": \"Dinner\", \"size\": 2, \"regression\": 2.96719745737572}, {\"total_bill\": 38.01, \"tip\": 3.0, \"sex\": \"Male\", \"smoker\": \"Yes\", \"day\": \"Sat\", \"time\": \"Dinner\", \"size\": 4, \"regression\": 4.912251519333944}, {\"total_bill\": 26.41, \"tip\": 1.5, \"sex\": \"Female\", \"smoker\": \"No\", \"day\": \"Sat\", \"time\": \"Dinner\", \"size\": 2, \"regression\": 3.6939671176754456}, {\"total_bill\": 11.24, \"tip\": 1.76, \"sex\": \"Male\", \"smoker\": \"Yes\", \"day\": \"Sat\", \"time\": \"Dinner\", \"size\": 2, \"regression\": 2.1007451889548054}, {\"total_bill\": 48.27, \"tip\": 6.73, \"sex\": \"Male\", \"smoker\": \"No\", \"day\": \"Sat\", \"time\": \"Dinner\", \"size\": 4, \"regression\": 5.9898030676974106}, {\"total_bill\": 20.29, \"tip\": 3.21, \"sex\": \"Male\", \"smoker\": \"Yes\", \"day\": \"Sat\", \"time\": \"Dinner\", \"size\": 2, \"regression\": 3.0512170712832027}, {\"total_bill\": 13.81, \"tip\": 2.0, \"sex\": \"Male\", \"smoker\": \"Yes\", \"day\": \"Sat\", \"time\": \"Dinner\", \"size\": 2, \"regression\": 2.3706581986325936}, {\"total_bill\": 11.02, \"tip\": 1.98, \"sex\": \"Male\", \"smoker\": \"Yes\", \"day\": \"Sat\", \"time\": \"Dinner\", \"size\": 2, \"regression\": 2.0776397951302474}, {\"total_bill\": 18.29, \"tip\": 3.76, \"sex\": \"Male\", \"smoker\": \"Yes\", \"day\": \"Sat\", \"time\": \"Dinner\", \"size\": 4, \"regression\": 2.841168036514496}, {\"total_bill\": 17.59, \"tip\": 2.64, \"sex\": \"Male\", \"smoker\": \"No\", \"day\": \"Sat\", \"time\": \"Dinner\", \"size\": 3, \"regression\": 2.767650874345449}, {\"total_bill\": 20.08, \"tip\": 3.15, \"sex\": \"Male\", \"smoker\": \"No\", \"day\": \"Sat\", \"time\": \"Dinner\", \"size\": 3, \"regression\": 3.029161922632489}, {\"total_bill\": 16.45, \"tip\": 2.47, \"sex\": \"Female\", \"smoker\": \"No\", \"day\": \"Sat\", \"time\": \"Dinner\", \"size\": 2, \"regression\": 2.647922924527286}, {\"total_bill\": 3.07, \"tip\": 1.0, \"sex\": \"Female\", \"smoker\": \"Yes\", \"day\": \"Sat\", \"time\": \"Dinner\", \"size\": 1, \"regression\": 1.2426948819246384}, {\"total_bill\": 20.23, \"tip\": 2.01, \"sex\": \"Male\", \"smoker\": \"No\", \"day\": \"Sat\", \"time\": \"Dinner\", \"size\": 2, \"regression\": 3.044915600240142}, {\"total_bill\": 15.01, \"tip\": 2.09, \"sex\": \"Male\", \"smoker\": \"Yes\", \"day\": \"Sat\", \"time\": \"Dinner\", \"size\": 2, \"regression\": 2.4966876194938172}, {\"total_bill\": 12.02, \"tip\": 1.97, \"sex\": \"Male\", \"smoker\": \"No\", \"day\": \"Sat\", \"time\": \"Dinner\", \"size\": 2, \"regression\": 2.182664312514601}, {\"total_bill\": 17.07, \"tip\": 3.0, \"sex\": \"Female\", \"smoker\": \"No\", \"day\": \"Sat\", \"time\": \"Dinner\", \"size\": 3, \"regression\": 2.7130381253055855}, {\"total_bill\": 26.86, \"tip\": 3.14, \"sex\": \"Female\", \"smoker\": \"Yes\", \"day\": \"Sat\", \"time\": \"Dinner\", \"size\": 2, \"regression\": 3.7412281504984044}, {\"total_bill\": 25.28, \"tip\": 5.0, \"sex\": \"Female\", \"smoker\": \"Yes\", \"day\": \"Sat\", \"time\": \"Dinner\", \"size\": 2, \"regression\": 3.5752894130311264}, {\"total_bill\": 14.73, \"tip\": 2.2, \"sex\": \"Female\", \"smoker\": \"No\", \"day\": \"Sat\", \"time\": \"Dinner\", \"size\": 2, \"regression\": 2.4672807546261986}, {\"total_bill\": 10.51, \"tip\": 1.25, \"sex\": \"Male\", \"smoker\": \"No\", \"day\": \"Sat\", \"time\": \"Dinner\", \"size\": 2, \"regression\": 2.024077291264227}, {\"total_bill\": 17.92, \"tip\": 3.08, \"sex\": \"Male\", \"smoker\": \"Yes\", \"day\": \"Sat\", \"time\": \"Dinner\", \"size\": 2, \"regression\": 2.8023089650822857}, {\"total_bill\": 27.2, \"tip\": 4.0, \"sex\": \"Male\", \"smoker\": \"No\", \"day\": \"Thur\", \"time\": \"Lunch\", \"size\": 4, \"regression\": 3.7769364864090846}, {\"total_bill\": 22.76, \"tip\": 3.0, \"sex\": \"Male\", \"smoker\": \"No\", \"day\": \"Thur\", \"time\": \"Lunch\", \"size\": 2, \"regression\": 3.310627629222556}, {\"total_bill\": 17.29, \"tip\": 2.71, \"sex\": \"Male\", \"smoker\": \"No\", \"day\": \"Thur\", \"time\": \"Lunch\", \"size\": 2, \"regression\": 2.7361435191301426}, {\"total_bill\": 19.44, \"tip\": 3.0, \"sex\": \"Male\", \"smoker\": \"Yes\", \"day\": \"Thur\", \"time\": \"Lunch\", \"size\": 2, \"regression\": 2.9619462315065026}, {\"total_bill\": 16.66, \"tip\": 3.4, \"sex\": \"Male\", \"smoker\": \"No\", \"day\": \"Thur\", \"time\": \"Lunch\", \"size\": 2, \"regression\": 2.669978073178}, {\"total_bill\": 10.07, \"tip\": 1.83, \"sex\": \"Female\", \"smoker\": \"No\", \"day\": \"Thur\", \"time\": \"Lunch\", \"size\": 1, \"regression\": 1.9778665036151117}, {\"total_bill\": 32.68, \"tip\": 5.0, \"sex\": \"Male\", \"smoker\": \"Yes\", \"day\": \"Thur\", \"time\": \"Lunch\", \"size\": 2, \"regression\": 4.352470841675341}, {\"total_bill\": 15.98, \"tip\": 2.03, \"sex\": \"Male\", \"smoker\": \"No\", \"day\": \"Thur\", \"time\": \"Lunch\", \"size\": 2, \"regression\": 2.59856140135664}, {\"total_bill\": 34.83, \"tip\": 5.17, \"sex\": \"Female\", \"smoker\": \"No\", \"day\": \"Thur\", \"time\": \"Lunch\", \"size\": 4, \"regression\": 4.578273554051701}, {\"total_bill\": 13.03, \"tip\": 2.0, \"sex\": \"Male\", \"smoker\": \"No\", \"day\": \"Thur\", \"time\": \"Lunch\", \"size\": 2, \"regression\": 2.2887390750727974}, {\"total_bill\": 18.28, \"tip\": 4.0, \"sex\": \"Male\", \"smoker\": \"No\", \"day\": \"Thur\", \"time\": \"Lunch\", \"size\": 2, \"regression\": 2.840117791340653}, {\"total_bill\": 24.71, \"tip\": 5.85, \"sex\": \"Male\", \"smoker\": \"No\", \"day\": \"Thur\", \"time\": \"Lunch\", \"size\": 2, \"regression\": 3.515425438122045}, {\"total_bill\": 21.16, \"tip\": 3.0, \"sex\": \"Male\", \"smoker\": \"No\", \"day\": \"Thur\", \"time\": \"Lunch\", \"size\": 2, \"regression\": 3.1425884014075907}, {\"total_bill\": 28.97, \"tip\": 3.0, \"sex\": \"Male\", \"smoker\": \"Yes\", \"day\": \"Fri\", \"time\": \"Dinner\", \"size\": 2, \"regression\": 3.96282988217939}, {\"total_bill\": 22.49, \"tip\": 3.5, \"sex\": \"Male\", \"smoker\": \"No\", \"day\": \"Fri\", \"time\": \"Dinner\", \"size\": 2, \"regression\": 3.28227100952878}, {\"total_bill\": 5.75, \"tip\": 1.0, \"sex\": \"Female\", \"smoker\": \"Yes\", \"day\": \"Fri\", \"time\": \"Dinner\", \"size\": 2, \"regression\": 1.5241605885147052}, {\"total_bill\": 16.32, \"tip\": 4.3, \"sex\": \"Female\", \"smoker\": \"Yes\", \"day\": \"Fri\", \"time\": \"Dinner\", \"size\": 2, \"regression\": 2.6342697372673203}, {\"total_bill\": 22.75, \"tip\": 3.25, \"sex\": \"Female\", \"smoker\": \"No\", \"day\": \"Fri\", \"time\": \"Dinner\", \"size\": 2, \"regression\": 3.3095773840487124}, {\"total_bill\": 40.17, \"tip\": 4.73, \"sex\": \"Male\", \"smoker\": \"Yes\", \"day\": \"Fri\", \"time\": \"Dinner\", \"size\": 4, \"regression\": 5.139104476884148}, {\"total_bill\": 27.28, \"tip\": 4.0, \"sex\": \"Male\", \"smoker\": \"Yes\", \"day\": \"Fri\", \"time\": \"Dinner\", \"size\": 2, \"regression\": 3.785338447799833}, {\"total_bill\": 12.03, \"tip\": 1.5, \"sex\": \"Male\", \"smoker\": \"Yes\", \"day\": \"Fri\", \"time\": \"Dinner\", \"size\": 2, \"regression\": 2.183714557688444}, {\"total_bill\": 21.01, \"tip\": 3.0, \"sex\": \"Male\", \"smoker\": \"Yes\", \"day\": \"Fri\", \"time\": \"Dinner\", \"size\": 2, \"regression\": 3.1268347237999374}, {\"total_bill\": 12.46, \"tip\": 1.5, \"sex\": \"Male\", \"smoker\": \"No\", \"day\": \"Fri\", \"time\": \"Dinner\", \"size\": 2, \"regression\": 2.2288751001637164}, {\"total_bill\": 11.35, \"tip\": 2.5, \"sex\": \"Female\", \"smoker\": \"Yes\", \"day\": \"Fri\", \"time\": \"Dinner\", \"size\": 2, \"regression\": 2.112297885867084}, {\"total_bill\": 15.38, \"tip\": 3.0, \"sex\": \"Female\", \"smoker\": \"Yes\", \"day\": \"Fri\", \"time\": \"Dinner\", \"size\": 2, \"regression\": 2.5355466909260285}, {\"total_bill\": 44.3, \"tip\": 2.5, \"sex\": \"Female\", \"smoker\": \"Yes\", \"day\": \"Sat\", \"time\": \"Dinner\", \"size\": 3, \"regression\": 5.572855733681527}, {\"total_bill\": 22.42, \"tip\": 3.48, \"sex\": \"Female\", \"smoker\": \"Yes\", \"day\": \"Sat\", \"time\": \"Dinner\", \"size\": 2, \"regression\": 3.274919293311876}, {\"total_bill\": 20.92, \"tip\": 4.08, \"sex\": \"Female\", \"smoker\": \"No\", \"day\": \"Sat\", \"time\": \"Dinner\", \"size\": 2, \"regression\": 3.1173825172353458}, {\"total_bill\": 15.36, \"tip\": 1.64, \"sex\": \"Male\", \"smoker\": \"Yes\", \"day\": \"Sat\", \"time\": \"Dinner\", \"size\": 2, \"regression\": 2.533446200578341}, {\"total_bill\": 20.49, \"tip\": 4.06, \"sex\": \"Male\", \"smoker\": \"Yes\", \"day\": \"Sat\", \"time\": \"Dinner\", \"size\": 2, \"regression\": 3.0722219747600734}, {\"total_bill\": 25.21, \"tip\": 4.29, \"sex\": \"Male\", \"smoker\": \"Yes\", \"day\": \"Sat\", \"time\": \"Dinner\", \"size\": 2, \"regression\": 3.5679376968142216}, {\"total_bill\": 18.24, \"tip\": 3.76, \"sex\": \"Male\", \"smoker\": \"No\", \"day\": \"Sat\", \"time\": \"Dinner\", \"size\": 2, \"regression\": 2.8359168106452786}, {\"total_bill\": 14.31, \"tip\": 4.0, \"sex\": \"Female\", \"smoker\": \"Yes\", \"day\": \"Sat\", \"time\": \"Dinner\", \"size\": 2, \"regression\": 2.42317045732477}, {\"total_bill\": 14.0, \"tip\": 3.0, \"sex\": \"Male\", \"smoker\": \"No\", \"day\": \"Sat\", \"time\": \"Dinner\", \"size\": 2, \"regression\": 2.39061285693562}, {\"total_bill\": 7.25, \"tip\": 1.0, \"sex\": \"Female\", \"smoker\": \"No\", \"day\": \"Sat\", \"time\": \"Dinner\", \"size\": 1, \"regression\": 1.6816973645912352}, {\"total_bill\": 38.07, \"tip\": 4.0, \"sex\": \"Male\", \"smoker\": \"No\", \"day\": \"Sun\", \"time\": \"Dinner\", \"size\": 3, \"regression\": 4.918552990377005}, {\"total_bill\": 23.95, \"tip\": 2.55, \"sex\": \"Male\", \"smoker\": \"No\", \"day\": \"Sun\", \"time\": \"Dinner\", \"size\": 2, \"regression\": 3.4356068049099364}, {\"total_bill\": 25.71, \"tip\": 4.0, \"sex\": \"Female\", \"smoker\": \"No\", \"day\": \"Sun\", \"time\": \"Dinner\", \"size\": 3, \"regression\": 3.6204499555063983}, {\"total_bill\": 17.31, \"tip\": 3.5, \"sex\": \"Female\", \"smoker\": \"No\", \"day\": \"Sun\", \"time\": \"Dinner\", \"size\": 2, \"regression\": 2.73824400947783}, {\"total_bill\": 29.93, \"tip\": 5.07, \"sex\": \"Male\", \"smoker\": \"No\", \"day\": \"Sun\", \"time\": \"Dinner\", \"size\": 4, \"regression\": 4.06365341886837}, {\"total_bill\": 10.65, \"tip\": 1.5, \"sex\": \"Female\", \"smoker\": \"No\", \"day\": \"Thur\", \"time\": \"Lunch\", \"size\": 2, \"regression\": 2.0387807236980366}, {\"total_bill\": 12.43, \"tip\": 1.8, \"sex\": \"Female\", \"smoker\": \"No\", \"day\": \"Thur\", \"time\": \"Lunch\", \"size\": 2, \"regression\": 2.2257243646421854}, {\"total_bill\": 24.08, \"tip\": 2.92, \"sex\": \"Female\", \"smoker\": \"No\", \"day\": \"Thur\", \"time\": \"Lunch\", \"size\": 4, \"regression\": 3.449259992169902}, {\"total_bill\": 11.69, \"tip\": 2.31, \"sex\": \"Male\", \"smoker\": \"No\", \"day\": \"Thur\", \"time\": \"Lunch\", \"size\": 2, \"regression\": 2.1480062217777642}, {\"total_bill\": 13.42, \"tip\": 1.68, \"sex\": \"Female\", \"smoker\": \"No\", \"day\": \"Thur\", \"time\": \"Lunch\", \"size\": 2, \"regression\": 2.3296986368526955}, {\"total_bill\": 14.26, \"tip\": 2.5, \"sex\": \"Male\", \"smoker\": \"No\", \"day\": \"Thur\", \"time\": \"Lunch\", \"size\": 2, \"regression\": 2.417919231455552}, {\"total_bill\": 15.95, \"tip\": 2.0, \"sex\": \"Male\", \"smoker\": \"No\", \"day\": \"Thur\", \"time\": \"Lunch\", \"size\": 2, \"regression\": 2.5954106658351095}, {\"total_bill\": 12.48, \"tip\": 2.52, \"sex\": \"Female\", \"smoker\": \"No\", \"day\": \"Thur\", \"time\": \"Lunch\", \"size\": 2, \"regression\": 2.2309755905114033}, {\"total_bill\": 29.8, \"tip\": 4.2, \"sex\": \"Female\", \"smoker\": \"No\", \"day\": \"Thur\", \"time\": \"Lunch\", \"size\": 6, \"regression\": 4.050000231608403}, {\"total_bill\": 8.52, \"tip\": 1.48, \"sex\": \"Male\", \"smoker\": \"No\", \"day\": \"Thur\", \"time\": \"Lunch\", \"size\": 2, \"regression\": 1.815078501669364}, {\"total_bill\": 14.52, \"tip\": 2.0, \"sex\": \"Female\", \"smoker\": \"No\", \"day\": \"Thur\", \"time\": \"Lunch\", \"size\": 2, \"regression\": 2.445225605975484}, {\"total_bill\": 11.38, \"tip\": 2.0, \"sex\": \"Female\", \"smoker\": \"No\", \"day\": \"Thur\", \"time\": \"Lunch\", \"size\": 2, \"regression\": 2.115448621388615}, {\"total_bill\": 22.82, \"tip\": 2.18, \"sex\": \"Male\", \"smoker\": \"No\", \"day\": \"Thur\", \"time\": \"Lunch\", \"size\": 3, \"regression\": 3.316929100265617}, {\"total_bill\": 19.08, \"tip\": 1.5, \"sex\": \"Male\", \"smoker\": \"No\", \"day\": \"Thur\", \"time\": \"Lunch\", \"size\": 2, \"regression\": 2.9241374052481355}, {\"total_bill\": 20.27, \"tip\": 2.83, \"sex\": \"Female\", \"smoker\": \"No\", \"day\": \"Thur\", \"time\": \"Lunch\", \"size\": 2, \"regression\": 3.049116580935516}, {\"total_bill\": 11.17, \"tip\": 1.5, \"sex\": \"Female\", \"smoker\": \"No\", \"day\": \"Thur\", \"time\": \"Lunch\", \"size\": 2, \"regression\": 2.0933934727379}, {\"total_bill\": 12.26, \"tip\": 2.0, \"sex\": \"Female\", \"smoker\": \"No\", \"day\": \"Thur\", \"time\": \"Lunch\", \"size\": 2, \"regression\": 2.2078701966868457}, {\"total_bill\": 18.26, \"tip\": 3.25, \"sex\": \"Female\", \"smoker\": \"No\", \"day\": \"Thur\", \"time\": \"Lunch\", \"size\": 2, \"regression\": 2.838017300992966}, {\"total_bill\": 8.51, \"tip\": 1.25, \"sex\": \"Female\", \"smoker\": \"No\", \"day\": \"Thur\", \"time\": \"Lunch\", \"size\": 2, \"regression\": 1.8140282564955206}, {\"total_bill\": 10.33, \"tip\": 2.0, \"sex\": \"Female\", \"smoker\": \"No\", \"day\": \"Thur\", \"time\": \"Lunch\", \"size\": 2, \"regression\": 2.0051728781350437}, {\"total_bill\": 14.15, \"tip\": 2.0, \"sex\": \"Female\", \"smoker\": \"No\", \"day\": \"Thur\", \"time\": \"Lunch\", \"size\": 2, \"regression\": 2.4063665345432734}, {\"total_bill\": 16.0, \"tip\": 2.0, \"sex\": \"Male\", \"smoker\": \"Yes\", \"day\": \"Thur\", \"time\": \"Lunch\", \"size\": 2, \"regression\": 2.600661891704327}, {\"total_bill\": 13.16, \"tip\": 2.75, \"sex\": \"Female\", \"smoker\": \"No\", \"day\": \"Thur\", \"time\": \"Lunch\", \"size\": 2, \"regression\": 2.3023922623327637}, {\"total_bill\": 17.47, \"tip\": 3.5, \"sex\": \"Female\", \"smoker\": \"No\", \"day\": \"Thur\", \"time\": \"Lunch\", \"size\": 2, \"regression\": 2.7550479322593264}, {\"total_bill\": 34.3, \"tip\": 6.7, \"sex\": \"Male\", \"smoker\": \"No\", \"day\": \"Thur\", \"time\": \"Lunch\", \"size\": 6, \"regression\": 4.522610559837993}, {\"total_bill\": 41.19, \"tip\": 5.0, \"sex\": \"Male\", \"smoker\": \"No\", \"day\": \"Thur\", \"time\": \"Lunch\", \"size\": 5, \"regression\": 5.2462294846161885}, {\"total_bill\": 27.05, \"tip\": 5.0, \"sex\": \"Female\", \"smoker\": \"No\", \"day\": \"Thur\", \"time\": \"Lunch\", \"size\": 6, \"regression\": 3.761182808801432}, {\"total_bill\": 16.43, \"tip\": 2.3, \"sex\": \"Female\", \"smoker\": \"No\", \"day\": \"Thur\", \"time\": \"Lunch\", \"size\": 2, \"regression\": 2.645822434179599}, {\"total_bill\": 8.35, \"tip\": 1.5, \"sex\": \"Female\", \"smoker\": \"No\", \"day\": \"Thur\", \"time\": \"Lunch\", \"size\": 2, \"regression\": 1.797224333714024}, {\"total_bill\": 18.64, \"tip\": 1.36, \"sex\": \"Female\", \"smoker\": \"No\", \"day\": \"Thur\", \"time\": \"Lunch\", \"size\": 3, \"regression\": 2.8779266175990204}, {\"total_bill\": 11.87, \"tip\": 1.63, \"sex\": \"Female\", \"smoker\": \"No\", \"day\": \"Thur\", \"time\": \"Lunch\", \"size\": 2, \"regression\": 2.166910634906948}, {\"total_bill\": 9.78, \"tip\": 1.73, \"sex\": \"Male\", \"smoker\": \"No\", \"day\": \"Thur\", \"time\": \"Lunch\", \"size\": 2, \"regression\": 1.9474093935736492}, {\"total_bill\": 7.51, \"tip\": 2.0, \"sex\": \"Male\", \"smoker\": \"No\", \"day\": \"Thur\", \"time\": \"Lunch\", \"size\": 2, \"regression\": 1.7090037391111672}, {\"total_bill\": 14.07, \"tip\": 2.5, \"sex\": \"Male\", \"smoker\": \"No\", \"day\": \"Sun\", \"time\": \"Dinner\", \"size\": 2, \"regression\": 2.3979645731525254}, {\"total_bill\": 13.13, \"tip\": 2.0, \"sex\": \"Male\", \"smoker\": \"No\", \"day\": \"Sun\", \"time\": \"Dinner\", \"size\": 2, \"regression\": 2.299241526811233}, {\"total_bill\": 17.26, \"tip\": 2.74, \"sex\": \"Male\", \"smoker\": \"No\", \"day\": \"Sun\", \"time\": \"Dinner\", \"size\": 3, \"regression\": 2.7329927836086125}, {\"total_bill\": 24.55, \"tip\": 2.0, \"sex\": \"Male\", \"smoker\": \"No\", \"day\": \"Sun\", \"time\": \"Dinner\", \"size\": 4, \"regression\": 3.4986215153405484}, {\"total_bill\": 19.77, \"tip\": 2.0, \"sex\": \"Male\", \"smoker\": \"No\", \"day\": \"Sun\", \"time\": \"Dinner\", \"size\": 4, \"regression\": 2.996604322243339}, {\"total_bill\": 29.85, \"tip\": 5.14, \"sex\": \"Female\", \"smoker\": \"No\", \"day\": \"Sun\", \"time\": \"Dinner\", \"size\": 5, \"regression\": 4.055251457477621}, {\"total_bill\": 48.17, \"tip\": 5.0, \"sex\": \"Male\", \"smoker\": \"No\", \"day\": \"Sun\", \"time\": \"Dinner\", \"size\": 6, \"regression\": 5.979300615958975}, {\"total_bill\": 25.0, \"tip\": 3.75, \"sex\": \"Female\", \"smoker\": \"No\", \"day\": \"Sun\", \"time\": \"Dinner\", \"size\": 4, \"regression\": 3.5458825481635072}, {\"total_bill\": 13.39, \"tip\": 2.61, \"sex\": \"Female\", \"smoker\": \"No\", \"day\": \"Sun\", \"time\": \"Dinner\", \"size\": 2, \"regression\": 2.326547901331165}, {\"total_bill\": 16.49, \"tip\": 2.0, \"sex\": \"Male\", \"smoker\": \"No\", \"day\": \"Sun\", \"time\": \"Dinner\", \"size\": 4, \"regression\": 2.65212390522266}, {\"total_bill\": 21.5, \"tip\": 3.5, \"sex\": \"Male\", \"smoker\": \"No\", \"day\": \"Sun\", \"time\": \"Dinner\", \"size\": 4, \"regression\": 3.1782967373182704}, {\"total_bill\": 12.66, \"tip\": 2.5, \"sex\": \"Male\", \"smoker\": \"No\", \"day\": \"Sun\", \"time\": \"Dinner\", \"size\": 2, \"regression\": 2.249880003640587}, {\"total_bill\": 16.21, \"tip\": 2.0, \"sex\": \"Female\", \"smoker\": \"No\", \"day\": \"Sun\", \"time\": \"Dinner\", \"size\": 3, \"regression\": 2.6227170403550417}, {\"total_bill\": 13.81, \"tip\": 2.0, \"sex\": \"Male\", \"smoker\": \"No\", \"day\": \"Sun\", \"time\": \"Dinner\", \"size\": 2, \"regression\": 2.3706581986325936}, {\"total_bill\": 17.51, \"tip\": 3.0, \"sex\": \"Female\", \"smoker\": \"Yes\", \"day\": \"Sun\", \"time\": \"Dinner\", \"size\": 2, \"regression\": 2.7592489129547006}, {\"total_bill\": 24.52, \"tip\": 3.48, \"sex\": \"Male\", \"smoker\": \"No\", \"day\": \"Sun\", \"time\": \"Dinner\", \"size\": 3, \"regression\": 3.495470779819018}, {\"total_bill\": 20.76, \"tip\": 2.24, \"sex\": \"Male\", \"smoker\": \"No\", \"day\": \"Sun\", \"time\": \"Dinner\", \"size\": 2, \"regression\": 3.1005785944538493}, {\"total_bill\": 31.71, \"tip\": 4.5, \"sex\": \"Male\", \"smoker\": \"No\", \"day\": \"Sun\", \"time\": \"Dinner\", \"size\": 4, \"regression\": 4.2505970598125185}, {\"total_bill\": 10.59, \"tip\": 1.61, \"sex\": \"Female\", \"smoker\": \"Yes\", \"day\": \"Sat\", \"time\": \"Dinner\", \"size\": 2, \"regression\": 2.0324792526549755}, {\"total_bill\": 10.63, \"tip\": 2.0, \"sex\": \"Female\", \"smoker\": \"Yes\", \"day\": \"Sat\", \"time\": \"Dinner\", \"size\": 2, \"regression\": 2.0366802333503498}, {\"total_bill\": 50.81, \"tip\": 10.0, \"sex\": \"Male\", \"smoker\": \"Yes\", \"day\": \"Sat\", \"time\": \"Dinner\", \"size\": 3, \"regression\": 6.256565341853667}, {\"total_bill\": 15.81, \"tip\": 3.16, \"sex\": \"Male\", \"smoker\": \"Yes\", \"day\": \"Sat\", \"time\": \"Dinner\", \"size\": 2, \"regression\": 2.5807072334013004}, {\"total_bill\": 7.25, \"tip\": 5.15, \"sex\": \"Male\", \"smoker\": \"Yes\", \"day\": \"Sun\", \"time\": \"Dinner\", \"size\": 2, \"regression\": 1.6816973645912352}, {\"total_bill\": 31.85, \"tip\": 3.18, \"sex\": \"Male\", \"smoker\": \"Yes\", \"day\": \"Sun\", \"time\": \"Dinner\", \"size\": 2, \"regression\": 4.265300492246328}, {\"total_bill\": 16.82, \"tip\": 4.0, \"sex\": \"Male\", \"smoker\": \"Yes\", \"day\": \"Sun\", \"time\": \"Dinner\", \"size\": 2, \"regression\": 2.686781995959497}, {\"total_bill\": 32.9, \"tip\": 3.11, \"sex\": \"Male\", \"smoker\": \"Yes\", \"day\": \"Sun\", \"time\": \"Dinner\", \"size\": 2, \"regression\": 4.375576235499899}, {\"total_bill\": 17.89, \"tip\": 2.0, \"sex\": \"Male\", \"smoker\": \"Yes\", \"day\": \"Sun\", \"time\": \"Dinner\", \"size\": 2, \"regression\": 2.799158229560755}, {\"total_bill\": 14.48, \"tip\": 2.0, \"sex\": \"Male\", \"smoker\": \"Yes\", \"day\": \"Sun\", \"time\": \"Dinner\", \"size\": 2, \"regression\": 2.44102462528011}, {\"total_bill\": 9.6, \"tip\": 4.0, \"sex\": \"Female\", \"smoker\": \"Yes\", \"day\": \"Sun\", \"time\": \"Dinner\", \"size\": 2, \"regression\": 1.9285049804444656}, {\"total_bill\": 34.63, \"tip\": 3.55, \"sex\": \"Male\", \"smoker\": \"Yes\", \"day\": \"Sun\", \"time\": \"Dinner\", \"size\": 2, \"regression\": 4.55726865057483}, {\"total_bill\": 34.65, \"tip\": 3.68, \"sex\": \"Male\", \"smoker\": \"Yes\", \"day\": \"Sun\", \"time\": \"Dinner\", \"size\": 4, \"regression\": 4.5593691409225166}, {\"total_bill\": 23.33, \"tip\": 5.65, \"sex\": \"Male\", \"smoker\": \"Yes\", \"day\": \"Sun\", \"time\": \"Dinner\", \"size\": 2, \"regression\": 3.370491604131637}, {\"total_bill\": 45.35, \"tip\": 3.5, \"sex\": \"Male\", \"smoker\": \"Yes\", \"day\": \"Sun\", \"time\": \"Dinner\", \"size\": 3, \"regression\": 5.683131476935099}, {\"total_bill\": 23.17, \"tip\": 6.5, \"sex\": \"Male\", \"smoker\": \"Yes\", \"day\": \"Sun\", \"time\": \"Dinner\", \"size\": 4, \"regression\": 3.353687681350141}, {\"total_bill\": 40.55, \"tip\": 3.0, \"sex\": \"Male\", \"smoker\": \"Yes\", \"day\": \"Sun\", \"time\": \"Dinner\", \"size\": 2, \"regression\": 5.179013793490201}, {\"total_bill\": 20.69, \"tip\": 5.0, \"sex\": \"Male\", \"smoker\": \"No\", \"day\": \"Sun\", \"time\": \"Dinner\", \"size\": 5, \"regression\": 3.0932268782369445}, {\"total_bill\": 20.9, \"tip\": 3.5, \"sex\": \"Female\", \"smoker\": \"Yes\", \"day\": \"Sun\", \"time\": \"Dinner\", \"size\": 3, \"regression\": 3.1152820268876584}, {\"total_bill\": 30.46, \"tip\": 2.0, \"sex\": \"Male\", \"smoker\": \"Yes\", \"day\": \"Sun\", \"time\": \"Dinner\", \"size\": 5, \"regression\": 4.1193164130820765}, {\"total_bill\": 18.15, \"tip\": 3.5, \"sex\": \"Female\", \"smoker\": \"Yes\", \"day\": \"Sun\", \"time\": \"Dinner\", \"size\": 3, \"regression\": 2.8264646040806864}, {\"total_bill\": 23.1, \"tip\": 4.0, \"sex\": \"Male\", \"smoker\": \"Yes\", \"day\": \"Sun\", \"time\": \"Dinner\", \"size\": 3, \"regression\": 3.3463359651332363}, {\"total_bill\": 15.69, \"tip\": 1.5, \"sex\": \"Male\", \"smoker\": \"Yes\", \"day\": \"Sun\", \"time\": \"Dinner\", \"size\": 2, \"regression\": 2.5681042913151773}, {\"total_bill\": 19.81, \"tip\": 4.19, \"sex\": \"Female\", \"smoker\": \"Yes\", \"day\": \"Thur\", \"time\": \"Lunch\", \"size\": 2, \"regression\": 3.0008053029387134}, {\"total_bill\": 28.44, \"tip\": 2.56, \"sex\": \"Male\", \"smoker\": \"Yes\", \"day\": \"Thur\", \"time\": \"Lunch\", \"size\": 2, \"regression\": 3.907166887965683}, {\"total_bill\": 15.48, \"tip\": 2.02, \"sex\": \"Male\", \"smoker\": \"Yes\", \"day\": \"Thur\", \"time\": \"Lunch\", \"size\": 2, \"regression\": 2.5460491426644634}, {\"total_bill\": 16.58, \"tip\": 4.0, \"sex\": \"Male\", \"smoker\": \"Yes\", \"day\": \"Thur\", \"time\": \"Lunch\", \"size\": 2, \"regression\": 2.6615761117872516}, {\"total_bill\": 7.56, \"tip\": 1.44, \"sex\": \"Male\", \"smoker\": \"No\", \"day\": \"Thur\", \"time\": \"Lunch\", \"size\": 2, \"regression\": 1.7142549649803849}, {\"total_bill\": 10.34, \"tip\": 2.0, \"sex\": \"Male\", \"smoker\": \"Yes\", \"day\": \"Thur\", \"time\": \"Lunch\", \"size\": 2, \"regression\": 2.006223123308887}, {\"total_bill\": 43.11, \"tip\": 5.0, \"sex\": \"Female\", \"smoker\": \"Yes\", \"day\": \"Thur\", \"time\": \"Lunch\", \"size\": 4, \"regression\": 5.447876557994146}, {\"total_bill\": 13.0, \"tip\": 2.0, \"sex\": \"Female\", \"smoker\": \"Yes\", \"day\": \"Thur\", \"time\": \"Lunch\", \"size\": 2, \"regression\": 2.285588339551267}, {\"total_bill\": 13.51, \"tip\": 2.0, \"sex\": \"Male\", \"smoker\": \"Yes\", \"day\": \"Thur\", \"time\": \"Lunch\", \"size\": 2, \"regression\": 2.339150843417287}, {\"total_bill\": 18.71, \"tip\": 4.0, \"sex\": \"Male\", \"smoker\": \"Yes\", \"day\": \"Thur\", \"time\": \"Lunch\", \"size\": 3, \"regression\": 2.8852783338159247}, {\"total_bill\": 12.74, \"tip\": 2.01, \"sex\": \"Female\", \"smoker\": \"Yes\", \"day\": \"Thur\", \"time\": \"Lunch\", \"size\": 2, \"regression\": 2.258281965031335}, {\"total_bill\": 13.0, \"tip\": 2.0, \"sex\": \"Female\", \"smoker\": \"Yes\", \"day\": \"Thur\", \"time\": \"Lunch\", \"size\": 2, \"regression\": 2.285588339551267}, {\"total_bill\": 16.4, \"tip\": 2.5, \"sex\": \"Female\", \"smoker\": \"Yes\", \"day\": \"Thur\", \"time\": \"Lunch\", \"size\": 2, \"regression\": 2.6426716986580683}, {\"total_bill\": 20.53, \"tip\": 4.0, \"sex\": \"Male\", \"smoker\": \"Yes\", \"day\": \"Thur\", \"time\": \"Lunch\", \"size\": 4, \"regression\": 3.076422955455448}, {\"total_bill\": 16.47, \"tip\": 3.23, \"sex\": \"Female\", \"smoker\": \"Yes\", \"day\": \"Thur\", \"time\": \"Lunch\", \"size\": 3, \"regression\": 2.650023414874973}, {\"total_bill\": 26.59, \"tip\": 3.41, \"sex\": \"Male\", \"smoker\": \"Yes\", \"day\": \"Sat\", \"time\": \"Dinner\", \"size\": 3, \"regression\": 3.712871530804629}, {\"total_bill\": 38.73, \"tip\": 3.0, \"sex\": \"Male\", \"smoker\": \"Yes\", \"day\": \"Sat\", \"time\": \"Dinner\", \"size\": 4, \"regression\": 4.987869171850679}, {\"total_bill\": 24.27, \"tip\": 2.03, \"sex\": \"Male\", \"smoker\": \"Yes\", \"day\": \"Sat\", \"time\": \"Dinner\", \"size\": 2, \"regression\": 3.4692146504729293}, {\"total_bill\": 12.76, \"tip\": 2.23, \"sex\": \"Female\", \"smoker\": \"Yes\", \"day\": \"Sat\", \"time\": \"Dinner\", \"size\": 2, \"regression\": 2.2603824553790224}, {\"total_bill\": 30.06, \"tip\": 2.0, \"sex\": \"Male\", \"smoker\": \"Yes\", \"day\": \"Sat\", \"time\": \"Dinner\", \"size\": 3, \"regression\": 4.077306606128335}, {\"total_bill\": 25.89, \"tip\": 5.16, \"sex\": \"Male\", \"smoker\": \"Yes\", \"day\": \"Sat\", \"time\": \"Dinner\", \"size\": 4, \"regression\": 3.639354368635582}, {\"total_bill\": 48.33, \"tip\": 9.0, \"sex\": \"Male\", \"smoker\": \"No\", \"day\": \"Sat\", \"time\": \"Dinner\", \"size\": 4, \"regression\": 5.996104538740472}, {\"total_bill\": 13.27, \"tip\": 2.5, \"sex\": \"Female\", \"smoker\": \"Yes\", \"day\": \"Sat\", \"time\": \"Dinner\", \"size\": 2, \"regression\": 2.3139449592450427}, {\"total_bill\": 28.17, \"tip\": 6.5, \"sex\": \"Female\", \"smoker\": \"Yes\", \"day\": \"Sat\", \"time\": \"Dinner\", \"size\": 3, \"regression\": 3.8788102682719074}, {\"total_bill\": 12.9, \"tip\": 1.1, \"sex\": \"Female\", \"smoker\": \"Yes\", \"day\": \"Sat\", \"time\": \"Dinner\", \"size\": 2, \"regression\": 2.275085887812832}, {\"total_bill\": 28.15, \"tip\": 3.0, \"sex\": \"Male\", \"smoker\": \"Yes\", \"day\": \"Sat\", \"time\": \"Dinner\", \"size\": 5, \"regression\": 3.87670977792422}, {\"total_bill\": 11.59, \"tip\": 1.5, \"sex\": \"Male\", \"smoker\": \"Yes\", \"day\": \"Sat\", \"time\": \"Dinner\", \"size\": 2, \"regression\": 2.137503770039329}, {\"total_bill\": 7.74, \"tip\": 1.44, \"sex\": \"Male\", \"smoker\": \"Yes\", \"day\": \"Sat\", \"time\": \"Dinner\", \"size\": 2, \"regression\": 1.7331593781095684}, {\"total_bill\": 30.14, \"tip\": 3.09, \"sex\": \"Female\", \"smoker\": \"Yes\", \"day\": \"Sat\", \"time\": \"Dinner\", \"size\": 4, \"regression\": 4.085708567519084}, {\"total_bill\": 12.16, \"tip\": 2.2, \"sex\": \"Male\", \"smoker\": \"Yes\", \"day\": \"Fri\", \"time\": \"Lunch\", \"size\": 2, \"regression\": 2.1973677449484104}, {\"total_bill\": 13.42, \"tip\": 3.48, \"sex\": \"Female\", \"smoker\": \"Yes\", \"day\": \"Fri\", \"time\": \"Lunch\", \"size\": 2, \"regression\": 2.3296986368526955}, {\"total_bill\": 8.58, \"tip\": 1.92, \"sex\": \"Male\", \"smoker\": \"Yes\", \"day\": \"Fri\", \"time\": \"Lunch\", \"size\": 1, \"regression\": 1.8213799727124251}, {\"total_bill\": 15.98, \"tip\": 3.0, \"sex\": \"Female\", \"smoker\": \"No\", \"day\": \"Fri\", \"time\": \"Lunch\", \"size\": 3, \"regression\": 2.59856140135664}, {\"total_bill\": 13.42, \"tip\": 1.58, \"sex\": \"Male\", \"smoker\": \"Yes\", \"day\": \"Fri\", \"time\": \"Lunch\", \"size\": 2, \"regression\": 2.3296986368526955}, {\"total_bill\": 16.27, \"tip\": 2.5, \"sex\": \"Female\", \"smoker\": \"Yes\", \"day\": \"Fri\", \"time\": \"Lunch\", \"size\": 2, \"regression\": 2.629018511398103}, {\"total_bill\": 10.09, \"tip\": 2.0, \"sex\": \"Female\", \"smoker\": \"Yes\", \"day\": \"Fri\", \"time\": \"Lunch\", \"size\": 2, \"regression\": 1.9799669939627988}, {\"total_bill\": 20.45, \"tip\": 3.0, \"sex\": \"Male\", \"smoker\": \"No\", \"day\": \"Sat\", \"time\": \"Dinner\", \"size\": 4, \"regression\": 3.0680209940646996}, {\"total_bill\": 13.28, \"tip\": 2.72, \"sex\": \"Male\", \"smoker\": \"No\", \"day\": \"Sat\", \"time\": \"Dinner\", \"size\": 2, \"regression\": 2.314995204418886}, {\"total_bill\": 22.12, \"tip\": 2.88, \"sex\": \"Female\", \"smoker\": \"Yes\", \"day\": \"Sat\", \"time\": \"Dinner\", \"size\": 2, \"regression\": 3.24341193809657}, {\"total_bill\": 24.01, \"tip\": 2.0, \"sex\": \"Male\", \"smoker\": \"Yes\", \"day\": \"Sat\", \"time\": \"Dinner\", \"size\": 4, \"regression\": 3.4419082759529975}, {\"total_bill\": 15.69, \"tip\": 3.0, \"sex\": \"Male\", \"smoker\": \"Yes\", \"day\": \"Sat\", \"time\": \"Dinner\", \"size\": 3, \"regression\": 2.5681042913151773}, {\"total_bill\": 11.61, \"tip\": 3.39, \"sex\": \"Male\", \"smoker\": \"No\", \"day\": \"Sat\", \"time\": \"Dinner\", \"size\": 2, \"regression\": 2.139604260387016}, {\"total_bill\": 10.77, \"tip\": 1.47, \"sex\": \"Male\", \"smoker\": \"No\", \"day\": \"Sat\", \"time\": \"Dinner\", \"size\": 2, \"regression\": 2.051383665784159}, {\"total_bill\": 15.53, \"tip\": 3.0, \"sex\": \"Male\", \"smoker\": \"Yes\", \"day\": \"Sat\", \"time\": \"Dinner\", \"size\": 2, \"regression\": 2.5513003685336813}, {\"total_bill\": 10.07, \"tip\": 1.25, \"sex\": \"Male\", \"smoker\": \"No\", \"day\": \"Sat\", \"time\": \"Dinner\", \"size\": 2, \"regression\": 1.9778665036151117}, {\"total_bill\": 12.6, \"tip\": 1.0, \"sex\": \"Male\", \"smoker\": \"Yes\", \"day\": \"Sat\", \"time\": \"Dinner\", \"size\": 2, \"regression\": 2.2435785325975255}, {\"total_bill\": 32.83, \"tip\": 1.17, \"sex\": \"Male\", \"smoker\": \"Yes\", \"day\": \"Sat\", \"time\": \"Dinner\", \"size\": 2, \"regression\": 4.368224519282994}, {\"total_bill\": 35.83, \"tip\": 4.67, \"sex\": \"Female\", \"smoker\": \"No\", \"day\": \"Sat\", \"time\": \"Dinner\", \"size\": 3, \"regression\": 4.683298071436054}, {\"total_bill\": 29.03, \"tip\": 5.92, \"sex\": \"Male\", \"smoker\": \"No\", \"day\": \"Sat\", \"time\": \"Dinner\", \"size\": 3, \"regression\": 3.9691313532224513}, {\"total_bill\": 27.18, \"tip\": 2.0, \"sex\": \"Female\", \"smoker\": \"Yes\", \"day\": \"Sat\", \"time\": \"Dinner\", \"size\": 2, \"regression\": 3.7748359960613977}, {\"total_bill\": 22.67, \"tip\": 2.0, \"sex\": \"Male\", \"smoker\": \"Yes\", \"day\": \"Sat\", \"time\": \"Dinner\", \"size\": 2, \"regression\": 3.3011754226579644}, {\"total_bill\": 17.82, \"tip\": 1.75, \"sex\": \"Male\", \"smoker\": \"No\", \"day\": \"Sat\", \"time\": \"Dinner\", \"size\": 2, \"regression\": 2.7918065133438503}, {\"total_bill\": 18.78, \"tip\": 3.0, \"sex\": \"Female\", \"smoker\": \"No\", \"day\": \"Thur\", \"time\": \"Dinner\", \"size\": 2, \"regression\": 2.89263005003283}]}}, {\"mode\": \"vega-lite\"});\n",
       "</script>"
      ],
      "text/plain": [
       "alt.LayerChart(...)"
      ]
     },
     "execution_count": 35,
     "metadata": {},
     "output_type": "execute_result"
    }
   ],
   "source": [
    "chart1 = alt.Chart(tips).mark_point().encode(\n",
    "    alt.Y('tip'),\n",
    "    alt.X('total_bill'))\n",
    "\n",
    "chart2 = alt.Chart(tips).mark_line().encode(\n",
    "    alt.Y('regression'),\n",
    "    alt.X('total_bill'))\n",
    "\n",
    "chart1 + chart2"
   ]
  },
  {
   "cell_type": "markdown",
   "metadata": {},
   "source": [
    "### Question 1f"
   ]
  },
  {
   "cell_type": "markdown",
   "metadata": {},
   "source": [
    "Consider $r$, the correlation coefficient between `tips` and `total_bill`."
   ]
  },
  {
   "cell_type": "code",
   "execution_count": 36,
   "metadata": {},
   "outputs": [
    {
     "data": {
      "text/plain": [
       "0.6757341092113641"
      ]
     },
     "execution_count": 36,
     "metadata": {},
     "output_type": "execute_result"
    }
   ],
   "source": [
    "r"
   ]
  },
  {
   "cell_type": "markdown",
   "metadata": {
    "deletable": false,
    "editable": false
   },
   "source": [
    "\n",
    "**In the cell below**, comment on the value of $r$, and what it means in the context of the above scatter plot.\n",
    "<!--\n",
    "BEGIN QUESTION\n",
    "name: q1f\n",
    "points: 3\n",
    "manual: true\n",
    "-->\n",
    "<!-- EXPORT TO PDF -->"
   ]
  },
  {
   "cell_type": "markdown",
   "metadata": {},
   "source": [
    "There is a sizeable linear relationship between tips and total_bill, but the relationship cannot be completely explained by linearity. As total_bill increases, tips tends to generally increase by a bigger amount proportionally (to itself). "
   ]
  },
  {
   "cell_type": "markdown",
   "metadata": {},
   "source": [
    "## Question 2 – Using Scipy Minimize"
   ]
  },
  {
   "cell_type": "markdown",
   "metadata": {},
   "source": [
    "`scipy.minimize` is a powerful method that can determine the optimal value of a variety of different functions. In practice, it is used to minimize functions that have no (or difficult to obtain) analytical solutions (it is a **numerical method**).\n",
    "\n",
    "It is overkill for our simple example, but nonetheless, we will show you how to use it, as it will become useful in the near future."
   ]
  },
  {
   "cell_type": "markdown",
   "metadata": {
    "deletable": false,
    "editable": false
   },
   "source": [
    "### Question 2a\n",
    "\n",
    "Firstly, fill out the definition of `L2_tip_loss` so that it computes the empirical risk for a given choice of $\\alpha$ and $\\beta$. That is, it computes\n",
    "\n",
    "$$\\frac{1}{n} \\sum_{i = 1}^n(y_i - (\\alpha + \\beta x_i))^2$$\n",
    "\n",
    "where, again, $x$ and $y$ refer to `\"total_bill\"` and `\"tip\"`.\n",
    "\n",
    "<!--\n",
    "BEGIN QUESTION\n",
    "name: q2a\n",
    "points: 3\n",
    "manual: false\n",
    "-->"
   ]
  },
  {
   "cell_type": "code",
   "execution_count": 66,
   "metadata": {},
   "outputs": [],
   "source": [
    "def L2_tip_loss(a, b):\n",
    "    n = len(tips)\n",
    "    y = (tips['tip'] - (a + b*tips['total_bill']))**2\n",
    "    return (1/n)*(np.sum(y))"
   ]
  },
  {
   "cell_type": "markdown",
   "metadata": {},
   "source": [
    "Try out different `a` and `b` values. Observe that if you pick values close to `a_hat` and `b_hat` then the loss is lower. \n",
    "\n",
    "In fact, in linear regression, we are trying to minimize the sum of squares error when picking the slope `a_hat` and intercept `b_hat` of the regression line. We are able to calculate it directly using the formulas in question 1, but had our model required the minimization of a function that had no analytical solution, we would be using this function to approximate the values needed to minimize our loss."
   ]
  },
  {
   "cell_type": "code",
   "execution_count": 67,
   "metadata": {},
   "outputs": [
    {
     "data": {
      "text/plain": [
       "1.052336405737705"
      ]
     },
     "execution_count": 67,
     "metadata": {},
     "output_type": "execute_result"
    }
   ],
   "source": [
    "L2_tip_loss(0.9, 0.1)"
   ]
  },
  {
   "cell_type": "markdown",
   "metadata": {},
   "source": [
    "The `minimize` function we saw in Lab 2 can also minimize functions of multiple variables. There's one quirk, however, which is that the function has to **accept its parameters as a single list**.\n",
    "\n",
    "For example, consider the multivariate $f(u, v) = u^2 - 2 u v - 3 v + 2 v^2$. It turns out this function's minimum is at $(1.5, 1.5)$. To minimize this function, we create `f`."
   ]
  },
  {
   "cell_type": "code",
   "execution_count": 68,
   "metadata": {},
   "outputs": [],
   "source": [
    "def f(theta):\n",
    "    u = theta[0]\n",
    "    v = theta[1]\n",
    "    return u**2 - 2 * u * v - 3 * v + 2 * v**2"
   ]
  },
  {
   "cell_type": "code",
   "execution_count": 69,
   "metadata": {
    "scrolled": true
   },
   "outputs": [
    {
     "data": {
      "text/plain": [
       "      fun: -2.2499999999999982\n",
       " hess_inv: array([[0.99999999, 0.5       ],\n",
       "       [0.5       , 0.5       ]])\n",
       "      jac: array([-5.96046448e-08,  0.00000000e+00])\n",
       "  message: 'Optimization terminated successfully.'\n",
       "     nfev: 16\n",
       "      nit: 3\n",
       "     njev: 4\n",
       "   status: 0\n",
       "  success: True\n",
       "        x: array([1.49999995, 1.49999997])"
      ]
     },
     "execution_count": 69,
     "metadata": {},
     "output_type": "execute_result"
    }
   ],
   "source": [
    "from scipy.optimize import minimize\n",
    "minimize(f, x0 = [0.0, 0.0]) \n",
    "\n",
    "# As an aside: x0 is the \"initial guess\" for the optimal theta. minimize works iteratively."
   ]
  },
  {
   "cell_type": "markdown",
   "metadata": {
    "deletable": false,
    "editable": false
   },
   "source": [
    "### Question 2b\n",
    "\n",
    "Define `L2_tip_loss_list` which is exactly like `L2_tip_loss` except that it takes in **a single list of 2 variables** rather than two separate variables. For example `L2_tip_loss_list([2, 3])` should return the same value as `L2_tip_loss(2, 3)`.\n",
    "\n",
    "<!--\n",
    "BEGIN QUESTION\n",
    "name: q2b\n",
    "points: 2\n",
    "manual: false\n",
    "-->"
   ]
  },
  {
   "cell_type": "code",
   "execution_count": 70,
   "metadata": {},
   "outputs": [],
   "source": [
    "def L2_tip_loss_list(variablez):\n",
    "    n = len(tips)\n",
    "    y = (tips['tip'] - (variablez[0] + variablez[1]*tips['total_bill']))**2\n",
    "    return (1/n)*(np.sum(y))"
   ]
  },
  {
   "cell_type": "code",
   "execution_count": 64,
   "metadata": {},
   "outputs": [
    {
     "data": {
      "text/plain": [
       "1.052336405737705"
      ]
     },
     "execution_count": 64,
     "metadata": {},
     "output_type": "execute_result"
    }
   ],
   "source": [
    "L2_tip_loss_list([0.9,0.1])"
   ]
  },
  {
   "cell_type": "markdown",
   "metadata": {
    "deletable": false,
    "editable": false
   },
   "source": [
    "### Question 2c\n",
    "\n",
    "Now, set `minimized` to the result of calling `minimize` to optimize this loss function.\n",
    "\n",
    "- Hint: Make sure to set `x0`. (Try using the origin.)\n",
    "\n",
    "<!--\n",
    "BEGIN QUESTION\n",
    "name: q2c\n",
    "points: 2\n",
    "manual: false\n",
    "-->"
   ]
  },
  {
   "cell_type": "code",
   "execution_count": 72,
   "metadata": {},
   "outputs": [],
   "source": [
    "minimized = minimize(L2_tip_loss_list, x0 = [0.0, 0.0])"
   ]
  },
  {
   "cell_type": "markdown",
   "metadata": {},
   "source": [
    "Let's look at the output of your call to `minimize`."
   ]
  },
  {
   "cell_type": "code",
   "execution_count": 75,
   "metadata": {},
   "outputs": [
    {
     "data": {
      "text/plain": [
       "      fun: 1.0360194420115871\n",
       " hess_inv: array([[ 2.98000083, -0.12534155],\n",
       "       [-0.12534155,  0.00633488]])\n",
       "      jac: array([7.45058060e-08, 5.96046448e-08])\n",
       "  message: 'Optimization terminated successfully.'\n",
       "     nfev: 20\n",
       "      nit: 3\n",
       "     njev: 5\n",
       "   status: 0\n",
       "  success: True\n",
       "        x: array([0.92027066, 0.10502447])"
      ]
     },
     "execution_count": 75,
     "metadata": {},
     "output_type": "execute_result"
    }
   ],
   "source": [
    "minimized"
   ]
  },
  {
   "cell_type": "markdown",
   "metadata": {},
   "source": [
    "The following cell will print out the values of `a_hat` and `b_hat` computed from both methods (\"manual\" refers to the technique in Question 1). If you've done everything correctly, these should be very close to one another."
   ]
  },
  {
   "cell_type": "code",
   "execution_count": 76,
   "metadata": {},
   "outputs": [
    {
     "name": "stdout",
     "output_type": "stream",
     "text": [
      "a_hat_scipy:  0.9202706617668626\n",
      "a_hat_manual:  0.9202696135546735\n",
      "\n",
      "\n",
      "b_hat_scipy:  0.10502446590151857\n",
      "b_hat_manual:  0.10502451738435335\n"
     ]
    }
   ],
   "source": [
    "print('a_hat_scipy: ', minimized['x'][0])\n",
    "print('a_hat_manual: ', a_hat)\n",
    "print('\\n')\n",
    "print('b_hat_scipy: ', minimized['x'][1])\n",
    "print('b_hat_manual: ', b_hat)"
   ]
  },
  {
   "cell_type": "markdown",
   "metadata": {},
   "source": [
    "The reason these don't match past the first 5 decimal places is due to the fact that `scipy.minimize` is a numerical method, meaning it approximates the optimal value using some sort of non-algebraic procedure. For our purposes, though, these values are essentially the same."
   ]
  },
  {
   "cell_type": "markdown",
   "metadata": {},
   "source": [
    "## Question 3 – Using Scikit Learn"
   ]
  },
  {
   "cell_type": "markdown",
   "metadata": {},
   "source": [
    "Yet another way to fit a linear regression model is to use scikit learn, an industry standard package for machine learning applications. \n",
    "\n",
    "To do so, we first create a `LinearRegression` object."
   ]
  },
  {
   "cell_type": "code",
   "execution_count": 77,
   "metadata": {},
   "outputs": [],
   "source": [
    "from sklearn.linear_model import LinearRegression\n",
    "model = LinearRegression()"
   ]
  },
  {
   "cell_type": "markdown",
   "metadata": {},
   "source": [
    "Here, `model` is like a \"blank slate\" for a linear model. Now, we need to tell `model` to \"fit\" itself to the data. Essentially, this is doing exactly what you did in the previous part of this lab (creating a loss function and finding the parameters that minimize that loss).\n",
    "\n",
    "<i>Note: `X` needs to be a matrix (or DataFrame), as opposed to a single array (or Series). This is because `sklearn.linear_model` is robust enough to be used for multiple regression.</i>"
   ]
  },
  {
   "cell_type": "code",
   "execution_count": 78,
   "metadata": {
    "scrolled": true
   },
   "outputs": [
    {
     "data": {
      "text/plain": [
       "LinearRegression(copy_X=True, fit_intercept=True, n_jobs=None, normalize=False)"
      ]
     },
     "execution_count": 78,
     "metadata": {},
     "output_type": "execute_result"
    }
   ],
   "source": [
    "model.fit(X = tips[['total_bill']], y= tips['tip'])"
   ]
  },
  {
   "cell_type": "markdown",
   "metadata": {},
   "source": [
    "Now that the model exists, we can look at the `a_hat` and `b_hat` values it found, which are given in the attributes `intercept` and `coef`, respectively."
   ]
  },
  {
   "cell_type": "code",
   "execution_count": 79,
   "metadata": {},
   "outputs": [],
   "source": [
    "b_hat_sklearn = model.coef_"
   ]
  },
  {
   "cell_type": "code",
   "execution_count": 80,
   "metadata": {},
   "outputs": [],
   "source": [
    "a_hat_sklearn = model.intercept_"
   ]
  },
  {
   "cell_type": "code",
   "execution_count": 81,
   "metadata": {},
   "outputs": [
    {
     "name": "stdout",
     "output_type": "stream",
     "text": [
      "a_hat_scipy:  0.9202706617668626\n",
      "a_hat_manual:  0.9202696135546735\n",
      "\n",
      "\n",
      "b_hat_scipy:  0.10502446590151857\n",
      "b_hat_manual:  0.10502451738435335\n"
     ]
    }
   ],
   "source": [
    "print('a_hat_scipy: ', minimized['x'][0])\n",
    "print('a_hat_manual: ', a_hat)\n",
    "print('\\n')\n",
    "print('b_hat_scipy: ', minimized['x'][1])\n",
    "print('b_hat_manual: ', b_hat)"
   ]
  },
  {
   "cell_type": "markdown",
   "metadata": {},
   "source": [
    "To use the `scikit-learn` linear regression model to make predictions, you can use the `model.predict` method:"
   ]
  },
  {
   "cell_type": "code",
   "execution_count": 91,
   "metadata": {},
   "outputs": [
    {
     "data": {
      "text/plain": [
       "(1, 1)"
      ]
     },
     "execution_count": 91,
     "metadata": {},
     "output_type": "execute_result"
    }
   ],
   "source": [
    "np.array(20).reshape(-1,1).shape"
   ]
  },
  {
   "cell_type": "code",
   "execution_count": 82,
   "metadata": {},
   "outputs": [
    {
     "data": {
      "text/plain": [
       "3.0207599612417404"
      ]
     },
     "execution_count": 82,
     "metadata": {},
     "output_type": "execute_result"
    }
   ],
   "source": [
    "model.predict(np.array(20).reshape(-1,1))[0]"
   ]
  },
  {
   "cell_type": "markdown",
   "metadata": {},
   "source": [
    "The above line of code tells us that `model` predicts a tip of \\$3.02 given a total bill amount of 20 dollars. This is the same as doing `a_hat + b_hat * 20` as in Question 1c."
   ]
  },
  {
   "cell_type": "markdown",
   "metadata": {
    "deletable": false,
    "editable": false
   },
   "source": [
    "### Question 3a\n",
    "\n",
    "Create a linear regression plot using `model.predict`. It should look very similar (if not the same) as your plot from Question 1d.\n",
    "\n",
    "* **Hint**: Use `np.linspace()` to create your x-axis\n",
    "\n",
    "<!--\n",
    "BEGIN QUESTION\n",
    "name: q3a\n",
    "points: 5\n",
    "manual: true\n",
    "-->\n",
    "<!-- EXPORT TO PDF -->"
   ]
  },
  {
   "cell_type": "code",
   "execution_count": 92,
   "metadata": {},
   "outputs": [
    {
     "data": {
      "text/plain": [
       "()"
      ]
     },
     "execution_count": 92,
     "metadata": {},
     "output_type": "execute_result"
    }
   ],
   "source": [
    "tips['total_bill'][0].shape"
   ]
  },
  {
   "cell_type": "code",
   "execution_count": 139,
   "metadata": {},
   "outputs": [
    {
     "data": {
      "text/plain": [
       "67      1.00\n",
       "236     1.00\n",
       "92      1.00\n",
       "111     1.00\n",
       "0       1.01\n",
       "       ...  \n",
       "141     6.70\n",
       "59      6.73\n",
       "23      7.58\n",
       "212     9.00\n",
       "170    10.00\n",
       "Name: tip, Length: 244, dtype: float64"
      ]
     },
     "execution_count": 139,
     "metadata": {},
     "output_type": "execute_result"
    }
   ],
   "source": [
    "y_tips = tips['tip'].sort_values()\n",
    "y_tips"
   ]
  },
  {
   "cell_type": "code",
   "execution_count": 148,
   "metadata": {},
   "outputs": [
    {
     "data": {
      "text/plain": [
       "50.81"
      ]
     },
     "execution_count": 148,
     "metadata": {},
     "output_type": "execute_result"
    }
   ],
   "source": [
    "tips['total_bill'].max()"
   ]
  },
  {
   "cell_type": "code",
   "execution_count": 152,
   "metadata": {},
   "outputs": [],
   "source": [
    "x = np.linspace(0,55, num=len(tips))\n",
    "y_tips = tips['tip']\n",
    "y_fit = model.predict(np.linspace(0,tips['total_bill'].max(), num=len(tips)).reshape(-1,1))\n",
    "df = pd.DataFrame({'x':x, 'y_tips':y_tips, 'y_fit':y_fit})"
   ]
  },
  {
   "cell_type": "code",
   "execution_count": 154,
   "metadata": {
    "scrolled": false
   },
   "outputs": [
    {
     "data": {
      "text/html": [
       "\n",
       "<div id=\"altair-viz-1981c2ad8b78400fa4aa30f28ee28d09\"></div>\n",
       "<script type=\"text/javascript\">\n",
       "  (function(spec, embedOpt){\n",
       "    let outputDiv = document.currentScript.previousElementSibling;\n",
       "    if (outputDiv.id !== \"altair-viz-1981c2ad8b78400fa4aa30f28ee28d09\") {\n",
       "      outputDiv = document.getElementById(\"altair-viz-1981c2ad8b78400fa4aa30f28ee28d09\");\n",
       "    }\n",
       "    const paths = {\n",
       "      \"vega\": \"https://cdn.jsdelivr.net/npm//vega@5?noext\",\n",
       "      \"vega-lib\": \"https://cdn.jsdelivr.net/npm//vega-lib?noext\",\n",
       "      \"vega-lite\": \"https://cdn.jsdelivr.net/npm//vega-lite@4.8.1?noext\",\n",
       "      \"vega-embed\": \"https://cdn.jsdelivr.net/npm//vega-embed@6?noext\",\n",
       "    };\n",
       "\n",
       "    function loadScript(lib) {\n",
       "      return new Promise(function(resolve, reject) {\n",
       "        var s = document.createElement('script');\n",
       "        s.src = paths[lib];\n",
       "        s.async = true;\n",
       "        s.onload = () => resolve(paths[lib]);\n",
       "        s.onerror = () => reject(`Error loading script: ${paths[lib]}`);\n",
       "        document.getElementsByTagName(\"head\")[0].appendChild(s);\n",
       "      });\n",
       "    }\n",
       "\n",
       "    function showError(err) {\n",
       "      outputDiv.innerHTML = `<div class=\"error\" style=\"color:red;\">${err}</div>`;\n",
       "      throw err;\n",
       "    }\n",
       "\n",
       "    function displayChart(vegaEmbed) {\n",
       "      vegaEmbed(outputDiv, spec, embedOpt)\n",
       "        .catch(err => showError(`Javascript Error: ${err.message}<br>This usually means there's a typo in your chart specification. See the javascript console for the full traceback.`));\n",
       "    }\n",
       "\n",
       "    if(typeof define === \"function\" && define.amd) {\n",
       "      requirejs.config({paths});\n",
       "      require([\"vega-embed\"], displayChart, err => showError(`Error loading script: ${err.message}`));\n",
       "    } else if (typeof vegaEmbed === \"function\") {\n",
       "      displayChart(vegaEmbed);\n",
       "    } else {\n",
       "      loadScript(\"vega\")\n",
       "        .then(() => loadScript(\"vega-lite\"))\n",
       "        .then(() => loadScript(\"vega-embed\"))\n",
       "        .catch(showError)\n",
       "        .then(() => displayChart(vegaEmbed));\n",
       "    }\n",
       "  })({\"config\": {\"view\": {\"continuousWidth\": 400, \"continuousHeight\": 300}}, \"layer\": [{\"mark\": \"point\", \"encoding\": {\"x\": {\"type\": \"quantitative\", \"field\": \"x\"}, \"y\": {\"type\": \"quantitative\", \"field\": \"y_tips\"}}}, {\"mark\": \"line\", \"encoding\": {\"x\": {\"type\": \"quantitative\", \"field\": \"x\"}, \"y\": {\"type\": \"quantitative\", \"field\": \"y_fit\"}}}], \"data\": {\"name\": \"data-e52755a80dc2233db420387a91ebc864\"}, \"$schema\": \"https://vega.github.io/schema/vega-lite/v4.8.1.json\", \"datasets\": {\"data-e52755a80dc2233db420387a91ebc864\": [{\"x\": 0.0, \"y_tips\": 1.01, \"y_fit\": 0.9202696135546731}, {\"x\": 0.22633744855967078, \"y_tips\": 1.66, \"y_fit\": 0.9422296782801833}, {\"x\": 0.45267489711934156, \"y_tips\": 3.5, \"y_fit\": 0.9641897430056936}, {\"x\": 0.6790123456790124, \"y_tips\": 3.31, \"y_fit\": 0.9861498077312039}, {\"x\": 0.9053497942386831, \"y_tips\": 3.61, \"y_fit\": 1.0081098724567141}, {\"x\": 1.131687242798354, \"y_tips\": 4.71, \"y_fit\": 1.0300699371822244}, {\"x\": 1.3580246913580247, \"y_tips\": 2.0, \"y_fit\": 1.0520300019077347}, {\"x\": 1.5843621399176955, \"y_tips\": 3.12, \"y_fit\": 1.073990066633245}, {\"x\": 1.8106995884773662, \"y_tips\": 1.96, \"y_fit\": 1.0959501313587552}, {\"x\": 2.037037037037037, \"y_tips\": 3.23, \"y_fit\": 1.1179101960842655}, {\"x\": 2.263374485596708, \"y_tips\": 1.71, \"y_fit\": 1.1398702608097757}, {\"x\": 2.4897119341563787, \"y_tips\": 5.0, \"y_fit\": 1.161830325535286}, {\"x\": 2.7160493827160495, \"y_tips\": 1.57, \"y_fit\": 1.1837903902607962}, {\"x\": 2.94238683127572, \"y_tips\": 3.0, \"y_fit\": 1.2057504549863065}, {\"x\": 3.168724279835391, \"y_tips\": 3.02, \"y_fit\": 1.2277105197118168}, {\"x\": 3.3950617283950617, \"y_tips\": 3.92, \"y_fit\": 1.249670584437327}, {\"x\": 3.6213991769547325, \"y_tips\": 1.67, \"y_fit\": 1.2716306491628373}, {\"x\": 3.847736625514403, \"y_tips\": 3.71, \"y_fit\": 1.2935907138883476}, {\"x\": 4.074074074074074, \"y_tips\": 3.5, \"y_fit\": 1.3155507786138578}, {\"x\": 4.300411522633745, \"y_tips\": 3.35, \"y_fit\": 1.337510843339368}, {\"x\": 4.526748971193416, \"y_tips\": 4.08, \"y_fit\": 1.3594709080648784}, {\"x\": 4.753086419753086, \"y_tips\": 2.75, \"y_fit\": 1.3814309727903886}, {\"x\": 4.979423868312757, \"y_tips\": 2.23, \"y_fit\": 1.4033910375158989}, {\"x\": 5.205761316872428, \"y_tips\": 7.58, \"y_fit\": 1.4253511022414092}, {\"x\": 5.432098765432099, \"y_tips\": 3.18, \"y_fit\": 1.4473111669669194}, {\"x\": 5.658436213991769, \"y_tips\": 2.34, \"y_fit\": 1.4692712316924297}, {\"x\": 5.88477366255144, \"y_tips\": 2.0, \"y_fit\": 1.49123129641794}, {\"x\": 6.111111111111111, \"y_tips\": 2.0, \"y_fit\": 1.5131913611434502}, {\"x\": 6.337448559670782, \"y_tips\": 4.3, \"y_fit\": 1.5351514258689605}, {\"x\": 6.563786008230452, \"y_tips\": 3.0, \"y_fit\": 1.5571114905944707}, {\"x\": 6.790123456790123, \"y_tips\": 1.45, \"y_fit\": 1.579071555319981}, {\"x\": 7.016460905349794, \"y_tips\": 2.5, \"y_fit\": 1.6010316200454913}, {\"x\": 7.242798353909465, \"y_tips\": 3.0, \"y_fit\": 1.6229916847710015}, {\"x\": 7.469135802469136, \"y_tips\": 2.45, \"y_fit\": 1.6449517494965118}, {\"x\": 7.695473251028806, \"y_tips\": 3.27, \"y_fit\": 1.666911814222022}, {\"x\": 7.921810699588478, \"y_tips\": 3.6, \"y_fit\": 1.6888718789475323}, {\"x\": 8.148148148148149, \"y_tips\": 2.0, \"y_fit\": 1.7108319436730426}, {\"x\": 8.37448559670782, \"y_tips\": 3.07, \"y_fit\": 1.7327920083985529}, {\"x\": 8.60082304526749, \"y_tips\": 2.31, \"y_fit\": 1.7547520731240631}, {\"x\": 8.82716049382716, \"y_tips\": 5.0, \"y_fit\": 1.7767121378495734}, {\"x\": 9.053497942386832, \"y_tips\": 2.24, \"y_fit\": 1.7986722025750836}, {\"x\": 9.279835390946502, \"y_tips\": 2.54, \"y_fit\": 1.820632267300594}, {\"x\": 9.506172839506172, \"y_tips\": 3.06, \"y_fit\": 1.8425923320261042}, {\"x\": 9.732510288065843, \"y_tips\": 1.32, \"y_fit\": 1.8645523967516144}, {\"x\": 9.958847736625515, \"y_tips\": 5.6, \"y_fit\": 1.8865124614771247}, {\"x\": 10.185185185185185, \"y_tips\": 3.0, \"y_fit\": 1.908472526202635}, {\"x\": 10.411522633744855, \"y_tips\": 5.0, \"y_fit\": 1.9304325909281455}, {\"x\": 10.637860082304526, \"y_tips\": 6.0, \"y_fit\": 1.9523926556536555}, {\"x\": 10.864197530864198, \"y_tips\": 2.05, \"y_fit\": 1.9743527203791658}, {\"x\": 11.090534979423868, \"y_tips\": 3.0, \"y_fit\": 1.996312785104676}, {\"x\": 11.316872427983538, \"y_tips\": 2.5, \"y_fit\": 2.0182728498301863}, {\"x\": 11.54320987654321, \"y_tips\": 2.6, \"y_fit\": 2.0402329145556966}, {\"x\": 11.76954732510288, \"y_tips\": 5.2, \"y_fit\": 2.062192979281207}, {\"x\": 11.995884773662551, \"y_tips\": 1.56, \"y_fit\": 2.084153044006717}, {\"x\": 12.222222222222221, \"y_tips\": 4.34, \"y_fit\": 2.1061131087322273}, {\"x\": 12.448559670781894, \"y_tips\": 3.51, \"y_fit\": 2.1280731734577376}, {\"x\": 12.674897119341564, \"y_tips\": 3.0, \"y_fit\": 2.150033238183248}, {\"x\": 12.901234567901234, \"y_tips\": 1.5, \"y_fit\": 2.171993302908758}, {\"x\": 13.127572016460904, \"y_tips\": 1.76, \"y_fit\": 2.1939533676342684}, {\"x\": 13.353909465020577, \"y_tips\": 6.73, \"y_fit\": 2.2159134323597787}, {\"x\": 13.580246913580247, \"y_tips\": 3.21, \"y_fit\": 2.237873497085289}, {\"x\": 13.806584362139917, \"y_tips\": 2.0, \"y_fit\": 2.259833561810799}, {\"x\": 14.032921810699587, \"y_tips\": 1.98, \"y_fit\": 2.2817936265363095}, {\"x\": 14.25925925925926, \"y_tips\": 3.76, \"y_fit\": 2.3037536912618197}, {\"x\": 14.48559670781893, \"y_tips\": 2.64, \"y_fit\": 2.32571375598733}, {\"x\": 14.7119341563786, \"y_tips\": 3.15, \"y_fit\": 2.3476738207128403}, {\"x\": 14.938271604938272, \"y_tips\": 2.47, \"y_fit\": 2.3696338854383505}, {\"x\": 15.164609053497943, \"y_tips\": 1.0, \"y_fit\": 2.391593950163861}, {\"x\": 15.390946502057613, \"y_tips\": 2.01, \"y_fit\": 2.413554014889371}, {\"x\": 15.617283950617283, \"y_tips\": 2.09, \"y_fit\": 2.4355140796148813}, {\"x\": 15.843621399176955, \"y_tips\": 1.97, \"y_fit\": 2.4574741443403916}, {\"x\": 16.069958847736626, \"y_tips\": 3.0, \"y_fit\": 2.479434209065902}, {\"x\": 16.296296296296298, \"y_tips\": 3.14, \"y_fit\": 2.501394273791412}, {\"x\": 16.522633744855966, \"y_tips\": 5.0, \"y_fit\": 2.5233543385169224}, {\"x\": 16.74897119341564, \"y_tips\": 2.2, \"y_fit\": 2.5453144032424326}, {\"x\": 16.975308641975307, \"y_tips\": 1.25, \"y_fit\": 2.567274467967943}, {\"x\": 17.20164609053498, \"y_tips\": 3.08, \"y_fit\": 2.589234532693453}, {\"x\": 17.42798353909465, \"y_tips\": 4.0, \"y_fit\": 2.6111945974189634}, {\"x\": 17.65432098765432, \"y_tips\": 3.0, \"y_fit\": 2.6331546621444737}, {\"x\": 17.88065843621399, \"y_tips\": 2.71, \"y_fit\": 2.655114726869984}, {\"x\": 18.106995884773664, \"y_tips\": 3.0, \"y_fit\": 2.677074791595494}, {\"x\": 18.333333333333332, \"y_tips\": 3.4, \"y_fit\": 2.6990348563210045}, {\"x\": 18.559670781893004, \"y_tips\": 1.83, \"y_fit\": 2.7209949210465147}, {\"x\": 18.786008230452676, \"y_tips\": 5.0, \"y_fit\": 2.742954985772025}, {\"x\": 19.012345679012345, \"y_tips\": 2.03, \"y_fit\": 2.7649150504975353}, {\"x\": 19.238683127572017, \"y_tips\": 5.17, \"y_fit\": 2.7868751152230455}, {\"x\": 19.465020576131685, \"y_tips\": 2.0, \"y_fit\": 2.808835179948556}, {\"x\": 19.691358024691358, \"y_tips\": 4.0, \"y_fit\": 2.830795244674066}, {\"x\": 19.91769547325103, \"y_tips\": 5.85, \"y_fit\": 2.8527553093995763}, {\"x\": 20.144032921810698, \"y_tips\": 3.0, \"y_fit\": 2.8747153741250866}, {\"x\": 20.37037037037037, \"y_tips\": 3.0, \"y_fit\": 2.896675438850597}, {\"x\": 20.596707818930042, \"y_tips\": 3.5, \"y_fit\": 2.918635503576107}, {\"x\": 20.82304526748971, \"y_tips\": 1.0, \"y_fit\": 2.940595568301618}, {\"x\": 21.049382716049383, \"y_tips\": 4.3, \"y_fit\": 2.9625556330271277}, {\"x\": 21.27572016460905, \"y_tips\": 3.25, \"y_fit\": 2.984515697752638}, {\"x\": 21.502057613168724, \"y_tips\": 4.73, \"y_fit\": 3.006475762478148}, {\"x\": 21.728395061728396, \"y_tips\": 4.0, \"y_fit\": 3.0284358272036584}, {\"x\": 21.954732510288064, \"y_tips\": 1.5, \"y_fit\": 3.050395891929169}, {\"x\": 22.181069958847736, \"y_tips\": 3.0, \"y_fit\": 3.072355956654679}, {\"x\": 22.40740740740741, \"y_tips\": 1.5, \"y_fit\": 3.0943160213801897}, {\"x\": 22.633744855967077, \"y_tips\": 2.5, \"y_fit\": 3.1162760861056995}, {\"x\": 22.86008230452675, \"y_tips\": 3.0, \"y_fit\": 3.1382361508312098}, {\"x\": 23.08641975308642, \"y_tips\": 2.5, \"y_fit\": 3.16019621555672}, {\"x\": 23.31275720164609, \"y_tips\": 3.48, \"y_fit\": 3.1821562802822303}, {\"x\": 23.53909465020576, \"y_tips\": 4.08, \"y_fit\": 3.204116345007741}, {\"x\": 23.76543209876543, \"y_tips\": 1.64, \"y_fit\": 3.226076409733251}, {\"x\": 23.991769547325102, \"y_tips\": 4.06, \"y_fit\": 3.2480364744587615}, {\"x\": 24.218106995884774, \"y_tips\": 4.29, \"y_fit\": 3.2699965391842714}, {\"x\": 24.444444444444443, \"y_tips\": 3.76, \"y_fit\": 3.2919566039097816}, {\"x\": 24.670781893004115, \"y_tips\": 4.0, \"y_fit\": 3.313916668635292}, {\"x\": 24.897119341563787, \"y_tips\": 3.0, \"y_fit\": 3.335876733360802}, {\"x\": 25.123456790123456, \"y_tips\": 1.0, \"y_fit\": 3.357836798086313}, {\"x\": 25.349794238683128, \"y_tips\": 4.0, \"y_fit\": 3.3797968628118227}, {\"x\": 25.5761316872428, \"y_tips\": 2.55, \"y_fit\": 3.4017569275373334}, {\"x\": 25.80246913580247, \"y_tips\": 4.0, \"y_fit\": 3.423716992262843}, {\"x\": 26.02880658436214, \"y_tips\": 3.5, \"y_fit\": 3.4456770569883535}, {\"x\": 26.25514403292181, \"y_tips\": 5.07, \"y_fit\": 3.4676371217138637}, {\"x\": 26.48148148148148, \"y_tips\": 1.5, \"y_fit\": 3.489597186439374}, {\"x\": 26.707818930041153, \"y_tips\": 1.8, \"y_fit\": 3.5115572511648847}, {\"x\": 26.93415637860082, \"y_tips\": 2.92, \"y_fit\": 3.5335173158903945}, {\"x\": 27.160493827160494, \"y_tips\": 2.31, \"y_fit\": 3.5554773806159052}, {\"x\": 27.386831275720166, \"y_tips\": 1.68, \"y_fit\": 3.577437445341415}, {\"x\": 27.613168724279834, \"y_tips\": 2.5, \"y_fit\": 3.5993975100669253}, {\"x\": 27.839506172839506, \"y_tips\": 2.0, \"y_fit\": 3.621357574792436}, {\"x\": 28.065843621399175, \"y_tips\": 2.52, \"y_fit\": 3.643317639517946}, {\"x\": 28.292181069958847, \"y_tips\": 4.2, \"y_fit\": 3.6652777042434566}, {\"x\": 28.51851851851852, \"y_tips\": 1.48, \"y_fit\": 3.6872377689689664}, {\"x\": 28.744855967078188, \"y_tips\": 2.0, \"y_fit\": 3.709197833694477}, {\"x\": 28.97119341563786, \"y_tips\": 2.0, \"y_fit\": 3.731157898419987}, {\"x\": 29.19753086419753, \"y_tips\": 2.18, \"y_fit\": 3.753117963145497}, {\"x\": 29.4238683127572, \"y_tips\": 1.5, \"y_fit\": 3.775078027871008}, {\"x\": 29.650205761316872, \"y_tips\": 2.83, \"y_fit\": 3.7970380925965177}, {\"x\": 29.876543209876544, \"y_tips\": 1.5, \"y_fit\": 3.8189981573220284}, {\"x\": 30.102880658436213, \"y_tips\": 2.0, \"y_fit\": 3.8409582220475382}, {\"x\": 30.329218106995885, \"y_tips\": 3.25, \"y_fit\": 3.862918286773049}, {\"x\": 30.555555555555554, \"y_tips\": 1.25, \"y_fit\": 3.8848783514985588}, {\"x\": 30.781893004115226, \"y_tips\": 2.0, \"y_fit\": 3.906838416224069}, {\"x\": 31.008230452674898, \"y_tips\": 2.0, \"y_fit\": 3.9287984809495797}, {\"x\": 31.234567901234566, \"y_tips\": 2.0, \"y_fit\": 3.9507585456750896}, {\"x\": 31.46090534979424, \"y_tips\": 2.75, \"y_fit\": 3.9727186104006003}, {\"x\": 31.68724279835391, \"y_tips\": 3.5, \"y_fit\": 3.99467867512611}, {\"x\": 31.91358024691358, \"y_tips\": 6.7, \"y_fit\": 4.01663873985162}, {\"x\": 32.13991769547325, \"y_tips\": 5.0, \"y_fit\": 4.038598804577131}, {\"x\": 32.36625514403292, \"y_tips\": 5.0, \"y_fit\": 4.060558869302641}, {\"x\": 32.592592592592595, \"y_tips\": 2.3, \"y_fit\": 4.082518934028151}, {\"x\": 32.818930041152264, \"y_tips\": 1.5, \"y_fit\": 4.104478998753661}, {\"x\": 33.04526748971193, \"y_tips\": 1.36, \"y_fit\": 4.126439063479172}, {\"x\": 33.27160493827161, \"y_tips\": 1.63, \"y_fit\": 4.148399128204682}, {\"x\": 33.49794238683128, \"y_tips\": 1.73, \"y_fit\": 4.170359192930192}, {\"x\": 33.724279835390945, \"y_tips\": 2.0, \"y_fit\": 4.1923192576557025}, {\"x\": 33.95061728395061, \"y_tips\": 2.5, \"y_fit\": 4.214279322381213}, {\"x\": 34.17695473251029, \"y_tips\": 2.0, \"y_fit\": 4.236239387106723}, {\"x\": 34.40329218106996, \"y_tips\": 2.74, \"y_fit\": 4.258199451832233}, {\"x\": 34.629629629629626, \"y_tips\": 2.0, \"y_fit\": 4.2801595165577435}, {\"x\": 34.8559670781893, \"y_tips\": 2.0, \"y_fit\": 4.302119581283254}, {\"x\": 35.08230452674897, \"y_tips\": 5.14, \"y_fit\": 4.324079646008764}, {\"x\": 35.30864197530864, \"y_tips\": 5.0, \"y_fit\": 4.346039710734274}, {\"x\": 35.534979423868315, \"y_tips\": 3.75, \"y_fit\": 4.367999775459785}, {\"x\": 35.76131687242798, \"y_tips\": 2.61, \"y_fit\": 4.389959840185295}, {\"x\": 35.98765432098765, \"y_tips\": 2.0, \"y_fit\": 4.411919904910805}, {\"x\": 36.21399176954733, \"y_tips\": 3.5, \"y_fit\": 4.433879969636315}, {\"x\": 36.440329218106996, \"y_tips\": 2.5, \"y_fit\": 4.455840034361826}, {\"x\": 36.666666666666664, \"y_tips\": 2.0, \"y_fit\": 4.477800099087336}, {\"x\": 36.89300411522634, \"y_tips\": 2.0, \"y_fit\": 4.499760163812846}, {\"x\": 37.11934156378601, \"y_tips\": 3.0, \"y_fit\": 4.521720228538356}, {\"x\": 37.34567901234568, \"y_tips\": 3.48, \"y_fit\": 4.543680293263867}, {\"x\": 37.57201646090535, \"y_tips\": 2.24, \"y_fit\": 4.565640357989377}, {\"x\": 37.79835390946502, \"y_tips\": 4.5, \"y_fit\": 4.587600422714887}, {\"x\": 38.02469135802469, \"y_tips\": 1.61, \"y_fit\": 4.6095604874403975}, {\"x\": 38.25102880658436, \"y_tips\": 2.0, \"y_fit\": 4.631520552165908}, {\"x\": 38.477366255144034, \"y_tips\": 10.0, \"y_fit\": 4.653480616891418}, {\"x\": 38.7037037037037, \"y_tips\": 3.16, \"y_fit\": 4.675440681616928}, {\"x\": 38.93004115226337, \"y_tips\": 5.15, \"y_fit\": 4.6974007463424385}, {\"x\": 39.15637860082305, \"y_tips\": 3.18, \"y_fit\": 4.719360811067949}, {\"x\": 39.382716049382715, \"y_tips\": 4.0, \"y_fit\": 4.741320875793459}, {\"x\": 39.609053497942384, \"y_tips\": 3.11, \"y_fit\": 4.763280940518969}, {\"x\": 39.83539094650206, \"y_tips\": 2.0, \"y_fit\": 4.78524100524448}, {\"x\": 40.06172839506173, \"y_tips\": 2.0, \"y_fit\": 4.80720106996999}, {\"x\": 40.288065843621396, \"y_tips\": 4.0, \"y_fit\": 4.8291611346955}, {\"x\": 40.51440329218107, \"y_tips\": 3.55, \"y_fit\": 4.85112119942101}, {\"x\": 40.74074074074074, \"y_tips\": 3.68, \"y_fit\": 4.873081264146521}, {\"x\": 40.96707818930041, \"y_tips\": 5.65, \"y_fit\": 4.895041328872031}, {\"x\": 41.193415637860085, \"y_tips\": 3.5, \"y_fit\": 4.917001393597541}, {\"x\": 41.41975308641975, \"y_tips\": 6.5, \"y_fit\": 4.9389614583230514}, {\"x\": 41.64609053497942, \"y_tips\": 3.0, \"y_fit\": 4.960921523048563}, {\"x\": 41.8724279835391, \"y_tips\": 5.0, \"y_fit\": 4.982881587774072}, {\"x\": 42.098765432098766, \"y_tips\": 3.5, \"y_fit\": 5.004841652499582}, {\"x\": 42.325102880658434, \"y_tips\": 2.0, \"y_fit\": 5.026801717225093}, {\"x\": 42.5514403292181, \"y_tips\": 3.5, \"y_fit\": 5.048761781950603}, {\"x\": 42.77777777777778, \"y_tips\": 4.0, \"y_fit\": 5.070721846676113}, {\"x\": 43.00411522633745, \"y_tips\": 1.5, \"y_fit\": 5.092681911401623}, {\"x\": 43.230452674897116, \"y_tips\": 4.19, \"y_fit\": 5.1146419761271344}, {\"x\": 43.45679012345679, \"y_tips\": 2.56, \"y_fit\": 5.136602040852644}, {\"x\": 43.68312757201646, \"y_tips\": 2.02, \"y_fit\": 5.158562105578154}, {\"x\": 43.90946502057613, \"y_tips\": 4.0, \"y_fit\": 5.180522170303665}, {\"x\": 44.135802469135804, \"y_tips\": 1.44, \"y_fit\": 5.202482235029175}, {\"x\": 44.36213991769547, \"y_tips\": 2.0, \"y_fit\": 5.224442299754685}, {\"x\": 44.58847736625514, \"y_tips\": 5.0, \"y_fit\": 5.246402364480195}, {\"x\": 44.81481481481482, \"y_tips\": 2.0, \"y_fit\": 5.268362429205706}, {\"x\": 45.041152263374485, \"y_tips\": 2.0, \"y_fit\": 5.290322493931216}, {\"x\": 45.267489711934154, \"y_tips\": 4.0, \"y_fit\": 5.312282558656726}, {\"x\": 45.49382716049383, \"y_tips\": 2.01, \"y_fit\": 5.334242623382237}, {\"x\": 45.7201646090535, \"y_tips\": 2.0, \"y_fit\": 5.3562026881077465}, {\"x\": 45.946502057613166, \"y_tips\": 2.5, \"y_fit\": 5.378162752833257}, {\"x\": 46.17283950617284, \"y_tips\": 4.0, \"y_fit\": 5.400122817558767}, {\"x\": 46.39917695473251, \"y_tips\": 3.23, \"y_fit\": 5.422082882284278}, {\"x\": 46.62551440329218, \"y_tips\": 3.41, \"y_fit\": 5.4440429470097875}, {\"x\": 46.85185185185185, \"y_tips\": 3.0, \"y_fit\": 5.466003011735298}, {\"x\": 47.07818930041152, \"y_tips\": 2.03, \"y_fit\": 5.487963076460809}, {\"x\": 47.30452674897119, \"y_tips\": 2.23, \"y_fit\": 5.509923141186318}, {\"x\": 47.53086419753086, \"y_tips\": 2.0, \"y_fit\": 5.531883205911829}, {\"x\": 47.757201646090536, \"y_tips\": 5.16, \"y_fit\": 5.553843270637339}, {\"x\": 47.983539094650205, \"y_tips\": 9.0, \"y_fit\": 5.57580333536285}, {\"x\": 48.20987654320987, \"y_tips\": 2.5, \"y_fit\": 5.597763400088359}, {\"x\": 48.43621399176955, \"y_tips\": 6.5, \"y_fit\": 5.61972346481387}, {\"x\": 48.66255144032922, \"y_tips\": 1.1, \"y_fit\": 5.641683529539381}, {\"x\": 48.888888888888886, \"y_tips\": 3.0, \"y_fit\": 5.66364359426489}, {\"x\": 49.11522633744856, \"y_tips\": 1.5, \"y_fit\": 5.6856036589904}, {\"x\": 49.34156378600823, \"y_tips\": 1.44, \"y_fit\": 5.707563723715911}, {\"x\": 49.5679012345679, \"y_tips\": 3.09, \"y_fit\": 5.729523788441422}, {\"x\": 49.794238683127574, \"y_tips\": 2.2, \"y_fit\": 5.751483853166931}, {\"x\": 50.02057613168724, \"y_tips\": 3.48, \"y_fit\": 5.7734439178924415}, {\"x\": 50.24691358024691, \"y_tips\": 1.92, \"y_fit\": 5.795403982617953}, {\"x\": 50.47325102880659, \"y_tips\": 3.0, \"y_fit\": 5.817364047343462}, {\"x\": 50.699588477366255, \"y_tips\": 1.58, \"y_fit\": 5.839324112068972}, {\"x\": 50.925925925925924, \"y_tips\": 2.5, \"y_fit\": 5.8612841767944825}, {\"x\": 51.1522633744856, \"y_tips\": 2.0, \"y_fit\": 5.883244241519994}, {\"x\": 51.37860082304527, \"y_tips\": 3.0, \"y_fit\": 5.905204306245503}, {\"x\": 51.60493827160494, \"y_tips\": 2.72, \"y_fit\": 5.927164370971013}, {\"x\": 51.831275720164605, \"y_tips\": 2.88, \"y_fit\": 5.9491244356965245}, {\"x\": 52.05761316872428, \"y_tips\": 2.0, \"y_fit\": 5.971084500422034}, {\"x\": 52.28395061728395, \"y_tips\": 3.0, \"y_fit\": 5.993044565147544}, {\"x\": 52.51028806584362, \"y_tips\": 3.39, \"y_fit\": 6.015004629873054}, {\"x\": 52.73662551440329, \"y_tips\": 1.47, \"y_fit\": 6.0369646945985656}, {\"x\": 52.96296296296296, \"y_tips\": 3.0, \"y_fit\": 6.058924759324075}, {\"x\": 53.18930041152263, \"y_tips\": 1.25, \"y_fit\": 6.080884824049585}, {\"x\": 53.415637860082306, \"y_tips\": 1.0, \"y_fit\": 6.102844888775096}, {\"x\": 53.641975308641975, \"y_tips\": 1.17, \"y_fit\": 6.124804953500606}, {\"x\": 53.86831275720164, \"y_tips\": 4.67, \"y_fit\": 6.146765018226116}, {\"x\": 54.09465020576132, \"y_tips\": 5.92, \"y_fit\": 6.168725082951626}, {\"x\": 54.32098765432099, \"y_tips\": 2.0, \"y_fit\": 6.190685147677137}, {\"x\": 54.547325102880656, \"y_tips\": 2.0, \"y_fit\": 6.212645212402647}, {\"x\": 54.77366255144033, \"y_tips\": 1.75, \"y_fit\": 6.234605277128157}, {\"x\": 55.0, \"y_tips\": 3.0, \"y_fit\": 6.256565341853668}]}}, {\"mode\": \"vega-lite\"});\n",
       "</script>"
      ],
      "text/plain": [
       "alt.LayerChart(...)"
      ]
     },
     "execution_count": 154,
     "metadata": {},
     "output_type": "execute_result"
    }
   ],
   "source": [
    "chart1 = alt.Chart(df).mark_point().encode(\n",
    "    alt.Y('y_tips'),\n",
    "    alt.X('x'))\n",
    "\n",
    "chart2 = alt.Chart(df).mark_line().encode(\n",
    "    alt.Y('y_fit'),\n",
    "    alt.X('x'))\n",
    "\n",
    "chart1 + chart2"
   ]
  },
  {
   "cell_type": "markdown",
   "metadata": {},
   "source": [
    "## Question 4 - Graduate Admissions\n",
    "\n",
    "Using `pd.read_csv()`, load the dataset `\"admissions.csv\"`. This dataset was added to [Kaggle](https://www.kaggle.com/mohansacharya/graduate-admissions) \"with the purpose of helping students in shortlisting universities with their profiles.\"\n",
    "\n",
    "We would like yo to calculate the regression line of `GRE Score` to `Chance of Admit` using any of the methods discussed in this lab. Then display a plot showing the data and the regression line that you calculated."
   ]
  },
  {
   "cell_type": "code",
   "execution_count": 159,
   "metadata": {},
   "outputs": [
    {
     "data": {
      "text/html": [
       "<div>\n",
       "<style scoped>\n",
       "    .dataframe tbody tr th:only-of-type {\n",
       "        vertical-align: middle;\n",
       "    }\n",
       "\n",
       "    .dataframe tbody tr th {\n",
       "        vertical-align: top;\n",
       "    }\n",
       "\n",
       "    .dataframe thead th {\n",
       "        text-align: right;\n",
       "    }\n",
       "</style>\n",
       "<table border=\"1\" class=\"dataframe\">\n",
       "  <thead>\n",
       "    <tr style=\"text-align: right;\">\n",
       "      <th></th>\n",
       "      <th>Serial No.</th>\n",
       "      <th>GRE Score</th>\n",
       "      <th>TOEFL Score</th>\n",
       "      <th>University Rating</th>\n",
       "      <th>SOP</th>\n",
       "      <th>LOR</th>\n",
       "      <th>CGPA</th>\n",
       "      <th>Research</th>\n",
       "      <th>Chance of Admit</th>\n",
       "    </tr>\n",
       "  </thead>\n",
       "  <tbody>\n",
       "    <tr>\n",
       "      <th>0</th>\n",
       "      <td>1</td>\n",
       "      <td>337</td>\n",
       "      <td>118</td>\n",
       "      <td>4</td>\n",
       "      <td>4.5</td>\n",
       "      <td>4.5</td>\n",
       "      <td>9.65</td>\n",
       "      <td>1</td>\n",
       "      <td>0.92</td>\n",
       "    </tr>\n",
       "    <tr>\n",
       "      <th>1</th>\n",
       "      <td>2</td>\n",
       "      <td>324</td>\n",
       "      <td>107</td>\n",
       "      <td>4</td>\n",
       "      <td>4.0</td>\n",
       "      <td>4.5</td>\n",
       "      <td>8.87</td>\n",
       "      <td>1</td>\n",
       "      <td>0.76</td>\n",
       "    </tr>\n",
       "    <tr>\n",
       "      <th>2</th>\n",
       "      <td>3</td>\n",
       "      <td>316</td>\n",
       "      <td>104</td>\n",
       "      <td>3</td>\n",
       "      <td>3.0</td>\n",
       "      <td>3.5</td>\n",
       "      <td>8.00</td>\n",
       "      <td>1</td>\n",
       "      <td>0.72</td>\n",
       "    </tr>\n",
       "    <tr>\n",
       "      <th>3</th>\n",
       "      <td>4</td>\n",
       "      <td>322</td>\n",
       "      <td>110</td>\n",
       "      <td>3</td>\n",
       "      <td>3.5</td>\n",
       "      <td>2.5</td>\n",
       "      <td>8.67</td>\n",
       "      <td>1</td>\n",
       "      <td>0.80</td>\n",
       "    </tr>\n",
       "    <tr>\n",
       "      <th>4</th>\n",
       "      <td>5</td>\n",
       "      <td>314</td>\n",
       "      <td>103</td>\n",
       "      <td>2</td>\n",
       "      <td>2.0</td>\n",
       "      <td>3.0</td>\n",
       "      <td>8.21</td>\n",
       "      <td>0</td>\n",
       "      <td>0.65</td>\n",
       "    </tr>\n",
       "  </tbody>\n",
       "</table>\n",
       "</div>"
      ],
      "text/plain": [
       "   Serial No.  GRE Score  TOEFL Score  University Rating  SOP  LOR   CGPA  \\\n",
       "0           1        337          118                  4  4.5   4.5  9.65   \n",
       "1           2        324          107                  4  4.0   4.5  8.87   \n",
       "2           3        316          104                  3  3.0   3.5  8.00   \n",
       "3           4        322          110                  3  3.5   2.5  8.67   \n",
       "4           5        314          103                  2  2.0   3.0  8.21   \n",
       "\n",
       "   Research  Chance of Admit  \n",
       "0         1             0.92  \n",
       "1         1             0.76  \n",
       "2         1             0.72  \n",
       "3         1             0.80  \n",
       "4         0             0.65  "
      ]
     },
     "execution_count": 159,
     "metadata": {},
     "output_type": "execute_result"
    }
   ],
   "source": [
    "admissions = pd.read_csv(\"admissions.csv\")\n",
    "df = pd.DataFrame(admissions)\n",
    "df.head()"
   ]
  },
  {
   "cell_type": "code",
   "execution_count": null,
   "metadata": {},
   "outputs": [],
   "source": [
    "### CALCULATE YOUR REGRESSION LINE"
   ]
  },
  {
   "cell_type": "code",
   "execution_count": 169,
   "metadata": {},
   "outputs": [
    {
     "data": {
      "text/html": [
       "\n",
       "<div id=\"altair-viz-58798814b1e146cb9e3beb9968884ddd\"></div>\n",
       "<script type=\"text/javascript\">\n",
       "  (function(spec, embedOpt){\n",
       "    let outputDiv = document.currentScript.previousElementSibling;\n",
       "    if (outputDiv.id !== \"altair-viz-58798814b1e146cb9e3beb9968884ddd\") {\n",
       "      outputDiv = document.getElementById(\"altair-viz-58798814b1e146cb9e3beb9968884ddd\");\n",
       "    }\n",
       "    const paths = {\n",
       "      \"vega\": \"https://cdn.jsdelivr.net/npm//vega@5?noext\",\n",
       "      \"vega-lib\": \"https://cdn.jsdelivr.net/npm//vega-lib?noext\",\n",
       "      \"vega-lite\": \"https://cdn.jsdelivr.net/npm//vega-lite@4.8.1?noext\",\n",
       "      \"vega-embed\": \"https://cdn.jsdelivr.net/npm//vega-embed@6?noext\",\n",
       "    };\n",
       "\n",
       "    function loadScript(lib) {\n",
       "      return new Promise(function(resolve, reject) {\n",
       "        var s = document.createElement('script');\n",
       "        s.src = paths[lib];\n",
       "        s.async = true;\n",
       "        s.onload = () => resolve(paths[lib]);\n",
       "        s.onerror = () => reject(`Error loading script: ${paths[lib]}`);\n",
       "        document.getElementsByTagName(\"head\")[0].appendChild(s);\n",
       "      });\n",
       "    }\n",
       "\n",
       "    function showError(err) {\n",
       "      outputDiv.innerHTML = `<div class=\"error\" style=\"color:red;\">${err}</div>`;\n",
       "      throw err;\n",
       "    }\n",
       "\n",
       "    function displayChart(vegaEmbed) {\n",
       "      vegaEmbed(outputDiv, spec, embedOpt)\n",
       "        .catch(err => showError(`Javascript Error: ${err.message}<br>This usually means there's a typo in your chart specification. See the javascript console for the full traceback.`));\n",
       "    }\n",
       "\n",
       "    if(typeof define === \"function\" && define.amd) {\n",
       "      requirejs.config({paths});\n",
       "      require([\"vega-embed\"], displayChart, err => showError(`Error loading script: ${err.message}`));\n",
       "    } else if (typeof vegaEmbed === \"function\") {\n",
       "      displayChart(vegaEmbed);\n",
       "    } else {\n",
       "      loadScript(\"vega\")\n",
       "        .then(() => loadScript(\"vega-lite\"))\n",
       "        .then(() => loadScript(\"vega-embed\"))\n",
       "        .catch(showError)\n",
       "        .then(() => displayChart(vegaEmbed));\n",
       "    }\n",
       "  })({\"config\": {\"view\": {\"continuousWidth\": 400, \"continuousHeight\": 300}}, \"layer\": [{\"mark\": \"point\", \"encoding\": {\"x\": {\"type\": \"quantitative\", \"field\": \"GRE Score\", \"scale\": {\"domain\": [290.0, 340.0]}}, \"y\": {\"type\": \"quantitative\", \"field\": \"Chance of Admit\", \"scale\": {\"domain\": [0.34, 0.97]}}}}, {\"mark\": {\"type\": \"line\", \"color\": \"red\"}, \"encoding\": {\"x\": {\"type\": \"quantitative\", \"field\": \"GRE Score\", \"scale\": {\"domain\": [290.0, 340.0]}}, \"y\": {\"type\": \"quantitative\", \"field\": \"Chance of Admit\", \"scale\": {\"domain\": [0.34, 0.97]}}}, \"transform\": [{\"on\": \"GRE Score\", \"regression\": \"Chance of Admit\"}]}], \"data\": {\"name\": \"data-c3f085d06f19b1a70290be93740e8435\"}, \"$schema\": \"https://vega.github.io/schema/vega-lite/v4.8.1.json\", \"datasets\": {\"data-c3f085d06f19b1a70290be93740e8435\": [{\"Serial No.\": 1, \"GRE Score\": 337, \"TOEFL Score\": 118, \"University Rating\": 4, \"SOP\": 4.5, \"LOR \": 4.5, \"CGPA\": 9.65, \"Research\": 1, \"Chance of Admit\": 0.92}, {\"Serial No.\": 2, \"GRE Score\": 324, \"TOEFL Score\": 107, \"University Rating\": 4, \"SOP\": 4.0, \"LOR \": 4.5, \"CGPA\": 8.87, \"Research\": 1, \"Chance of Admit\": 0.76}, {\"Serial No.\": 3, \"GRE Score\": 316, \"TOEFL Score\": 104, \"University Rating\": 3, \"SOP\": 3.0, \"LOR \": 3.5, \"CGPA\": 8.0, \"Research\": 1, \"Chance of Admit\": 0.72}, {\"Serial No.\": 4, \"GRE Score\": 322, \"TOEFL Score\": 110, \"University Rating\": 3, \"SOP\": 3.5, \"LOR \": 2.5, \"CGPA\": 8.67, \"Research\": 1, \"Chance of Admit\": 0.8}, {\"Serial No.\": 5, \"GRE Score\": 314, \"TOEFL Score\": 103, \"University Rating\": 2, \"SOP\": 2.0, \"LOR \": 3.0, \"CGPA\": 8.21, \"Research\": 0, \"Chance of Admit\": 0.65}, {\"Serial No.\": 6, \"GRE Score\": 330, \"TOEFL Score\": 115, \"University Rating\": 5, \"SOP\": 4.5, \"LOR \": 3.0, \"CGPA\": 9.34, \"Research\": 1, \"Chance of Admit\": 0.9}, {\"Serial No.\": 7, \"GRE Score\": 321, \"TOEFL Score\": 109, \"University Rating\": 3, \"SOP\": 3.0, \"LOR \": 4.0, \"CGPA\": 8.2, \"Research\": 1, \"Chance of Admit\": 0.75}, {\"Serial No.\": 8, \"GRE Score\": 308, \"TOEFL Score\": 101, \"University Rating\": 2, \"SOP\": 3.0, \"LOR \": 4.0, \"CGPA\": 7.9, \"Research\": 0, \"Chance of Admit\": 0.68}, {\"Serial No.\": 9, \"GRE Score\": 302, \"TOEFL Score\": 102, \"University Rating\": 1, \"SOP\": 2.0, \"LOR \": 1.5, \"CGPA\": 8.0, \"Research\": 0, \"Chance of Admit\": 0.5}, {\"Serial No.\": 10, \"GRE Score\": 323, \"TOEFL Score\": 108, \"University Rating\": 3, \"SOP\": 3.5, \"LOR \": 3.0, \"CGPA\": 8.6, \"Research\": 0, \"Chance of Admit\": 0.45}, {\"Serial No.\": 11, \"GRE Score\": 325, \"TOEFL Score\": 106, \"University Rating\": 3, \"SOP\": 3.5, \"LOR \": 4.0, \"CGPA\": 8.4, \"Research\": 1, \"Chance of Admit\": 0.52}, {\"Serial No.\": 12, \"GRE Score\": 327, \"TOEFL Score\": 111, \"University Rating\": 4, \"SOP\": 4.0, \"LOR \": 4.5, \"CGPA\": 9.0, \"Research\": 1, \"Chance of Admit\": 0.84}, {\"Serial No.\": 13, \"GRE Score\": 328, \"TOEFL Score\": 112, \"University Rating\": 4, \"SOP\": 4.0, \"LOR \": 4.5, \"CGPA\": 9.1, \"Research\": 1, \"Chance of Admit\": 0.78}, {\"Serial No.\": 14, \"GRE Score\": 307, \"TOEFL Score\": 109, \"University Rating\": 3, \"SOP\": 4.0, \"LOR \": 3.0, \"CGPA\": 8.0, \"Research\": 1, \"Chance of Admit\": 0.62}, {\"Serial No.\": 15, \"GRE Score\": 311, \"TOEFL Score\": 104, \"University Rating\": 3, \"SOP\": 3.5, \"LOR \": 2.0, \"CGPA\": 8.2, \"Research\": 1, \"Chance of Admit\": 0.61}, {\"Serial No.\": 16, \"GRE Score\": 314, \"TOEFL Score\": 105, \"University Rating\": 3, \"SOP\": 3.5, \"LOR \": 2.5, \"CGPA\": 8.3, \"Research\": 0, \"Chance of Admit\": 0.54}, {\"Serial No.\": 17, \"GRE Score\": 317, \"TOEFL Score\": 107, \"University Rating\": 3, \"SOP\": 4.0, \"LOR \": 3.0, \"CGPA\": 8.7, \"Research\": 0, \"Chance of Admit\": 0.66}, {\"Serial No.\": 18, \"GRE Score\": 319, \"TOEFL Score\": 106, \"University Rating\": 3, \"SOP\": 4.0, \"LOR \": 3.0, \"CGPA\": 8.0, \"Research\": 1, \"Chance of Admit\": 0.65}, {\"Serial No.\": 19, \"GRE Score\": 318, \"TOEFL Score\": 110, \"University Rating\": 3, \"SOP\": 4.0, \"LOR \": 3.0, \"CGPA\": 8.8, \"Research\": 0, \"Chance of Admit\": 0.63}, {\"Serial No.\": 20, \"GRE Score\": 303, \"TOEFL Score\": 102, \"University Rating\": 3, \"SOP\": 3.5, \"LOR \": 3.0, \"CGPA\": 8.5, \"Research\": 0, \"Chance of Admit\": 0.62}, {\"Serial No.\": 21, \"GRE Score\": 312, \"TOEFL Score\": 107, \"University Rating\": 3, \"SOP\": 3.0, \"LOR \": 2.0, \"CGPA\": 7.9, \"Research\": 1, \"Chance of Admit\": 0.64}, {\"Serial No.\": 22, \"GRE Score\": 325, \"TOEFL Score\": 114, \"University Rating\": 4, \"SOP\": 3.0, \"LOR \": 2.0, \"CGPA\": 8.4, \"Research\": 0, \"Chance of Admit\": 0.7}, {\"Serial No.\": 23, \"GRE Score\": 328, \"TOEFL Score\": 116, \"University Rating\": 5, \"SOP\": 5.0, \"LOR \": 5.0, \"CGPA\": 9.5, \"Research\": 1, \"Chance of Admit\": 0.94}, {\"Serial No.\": 24, \"GRE Score\": 334, \"TOEFL Score\": 119, \"University Rating\": 5, \"SOP\": 5.0, \"LOR \": 4.5, \"CGPA\": 9.7, \"Research\": 1, \"Chance of Admit\": 0.95}, {\"Serial No.\": 25, \"GRE Score\": 336, \"TOEFL Score\": 119, \"University Rating\": 5, \"SOP\": 4.0, \"LOR \": 3.5, \"CGPA\": 9.8, \"Research\": 1, \"Chance of Admit\": 0.97}, {\"Serial No.\": 26, \"GRE Score\": 340, \"TOEFL Score\": 120, \"University Rating\": 5, \"SOP\": 4.5, \"LOR \": 4.5, \"CGPA\": 9.6, \"Research\": 1, \"Chance of Admit\": 0.94}, {\"Serial No.\": 27, \"GRE Score\": 322, \"TOEFL Score\": 109, \"University Rating\": 5, \"SOP\": 4.5, \"LOR \": 3.5, \"CGPA\": 8.8, \"Research\": 0, \"Chance of Admit\": 0.76}, {\"Serial No.\": 28, \"GRE Score\": 298, \"TOEFL Score\": 98, \"University Rating\": 2, \"SOP\": 1.5, \"LOR \": 2.5, \"CGPA\": 7.5, \"Research\": 1, \"Chance of Admit\": 0.44}, {\"Serial No.\": 29, \"GRE Score\": 295, \"TOEFL Score\": 93, \"University Rating\": 1, \"SOP\": 2.0, \"LOR \": 2.0, \"CGPA\": 7.2, \"Research\": 0, \"Chance of Admit\": 0.46}, {\"Serial No.\": 30, \"GRE Score\": 310, \"TOEFL Score\": 99, \"University Rating\": 2, \"SOP\": 1.5, \"LOR \": 2.0, \"CGPA\": 7.3, \"Research\": 0, \"Chance of Admit\": 0.54}, {\"Serial No.\": 31, \"GRE Score\": 300, \"TOEFL Score\": 97, \"University Rating\": 2, \"SOP\": 3.0, \"LOR \": 3.0, \"CGPA\": 8.1, \"Research\": 1, \"Chance of Admit\": 0.65}, {\"Serial No.\": 32, \"GRE Score\": 327, \"TOEFL Score\": 103, \"University Rating\": 3, \"SOP\": 4.0, \"LOR \": 4.0, \"CGPA\": 8.3, \"Research\": 1, \"Chance of Admit\": 0.74}, {\"Serial No.\": 33, \"GRE Score\": 338, \"TOEFL Score\": 118, \"University Rating\": 4, \"SOP\": 3.0, \"LOR \": 4.5, \"CGPA\": 9.4, \"Research\": 1, \"Chance of Admit\": 0.91}, {\"Serial No.\": 34, \"GRE Score\": 340, \"TOEFL Score\": 114, \"University Rating\": 5, \"SOP\": 4.0, \"LOR \": 4.0, \"CGPA\": 9.6, \"Research\": 1, \"Chance of Admit\": 0.9}, {\"Serial No.\": 35, \"GRE Score\": 331, \"TOEFL Score\": 112, \"University Rating\": 5, \"SOP\": 4.0, \"LOR \": 5.0, \"CGPA\": 9.8, \"Research\": 1, \"Chance of Admit\": 0.94}, {\"Serial No.\": 36, \"GRE Score\": 320, \"TOEFL Score\": 110, \"University Rating\": 5, \"SOP\": 5.0, \"LOR \": 5.0, \"CGPA\": 9.2, \"Research\": 1, \"Chance of Admit\": 0.88}, {\"Serial No.\": 37, \"GRE Score\": 299, \"TOEFL Score\": 106, \"University Rating\": 2, \"SOP\": 4.0, \"LOR \": 4.0, \"CGPA\": 8.4, \"Research\": 0, \"Chance of Admit\": 0.64}, {\"Serial No.\": 38, \"GRE Score\": 300, \"TOEFL Score\": 105, \"University Rating\": 1, \"SOP\": 1.0, \"LOR \": 2.0, \"CGPA\": 7.8, \"Research\": 0, \"Chance of Admit\": 0.58}, {\"Serial No.\": 39, \"GRE Score\": 304, \"TOEFL Score\": 105, \"University Rating\": 1, \"SOP\": 3.0, \"LOR \": 1.5, \"CGPA\": 7.5, \"Research\": 0, \"Chance of Admit\": 0.52}, {\"Serial No.\": 40, \"GRE Score\": 307, \"TOEFL Score\": 108, \"University Rating\": 2, \"SOP\": 4.0, \"LOR \": 3.5, \"CGPA\": 7.7, \"Research\": 0, \"Chance of Admit\": 0.48}, {\"Serial No.\": 41, \"GRE Score\": 308, \"TOEFL Score\": 110, \"University Rating\": 3, \"SOP\": 3.5, \"LOR \": 3.0, \"CGPA\": 8.0, \"Research\": 1, \"Chance of Admit\": 0.46}, {\"Serial No.\": 42, \"GRE Score\": 316, \"TOEFL Score\": 105, \"University Rating\": 2, \"SOP\": 2.5, \"LOR \": 2.5, \"CGPA\": 8.2, \"Research\": 1, \"Chance of Admit\": 0.49}, {\"Serial No.\": 43, \"GRE Score\": 313, \"TOEFL Score\": 107, \"University Rating\": 2, \"SOP\": 2.5, \"LOR \": 2.0, \"CGPA\": 8.5, \"Research\": 1, \"Chance of Admit\": 0.53}, {\"Serial No.\": 44, \"GRE Score\": 332, \"TOEFL Score\": 117, \"University Rating\": 4, \"SOP\": 4.5, \"LOR \": 4.0, \"CGPA\": 9.1, \"Research\": 0, \"Chance of Admit\": 0.87}, {\"Serial No.\": 45, \"GRE Score\": 326, \"TOEFL Score\": 113, \"University Rating\": 5, \"SOP\": 4.5, \"LOR \": 4.0, \"CGPA\": 9.4, \"Research\": 1, \"Chance of Admit\": 0.91}, {\"Serial No.\": 46, \"GRE Score\": 322, \"TOEFL Score\": 110, \"University Rating\": 5, \"SOP\": 5.0, \"LOR \": 4.0, \"CGPA\": 9.1, \"Research\": 1, \"Chance of Admit\": 0.88}, {\"Serial No.\": 47, \"GRE Score\": 329, \"TOEFL Score\": 114, \"University Rating\": 5, \"SOP\": 4.0, \"LOR \": 5.0, \"CGPA\": 9.3, \"Research\": 1, \"Chance of Admit\": 0.86}, {\"Serial No.\": 48, \"GRE Score\": 339, \"TOEFL Score\": 119, \"University Rating\": 5, \"SOP\": 4.5, \"LOR \": 4.0, \"CGPA\": 9.7, \"Research\": 0, \"Chance of Admit\": 0.89}, {\"Serial No.\": 49, \"GRE Score\": 321, \"TOEFL Score\": 110, \"University Rating\": 3, \"SOP\": 3.5, \"LOR \": 5.0, \"CGPA\": 8.85, \"Research\": 1, \"Chance of Admit\": 0.82}, {\"Serial No.\": 50, \"GRE Score\": 327, \"TOEFL Score\": 111, \"University Rating\": 4, \"SOP\": 3.0, \"LOR \": 4.0, \"CGPA\": 8.4, \"Research\": 1, \"Chance of Admit\": 0.78}, {\"Serial No.\": 51, \"GRE Score\": 313, \"TOEFL Score\": 98, \"University Rating\": 3, \"SOP\": 2.5, \"LOR \": 4.5, \"CGPA\": 8.3, \"Research\": 1, \"Chance of Admit\": 0.76}, {\"Serial No.\": 52, \"GRE Score\": 312, \"TOEFL Score\": 100, \"University Rating\": 2, \"SOP\": 1.5, \"LOR \": 3.5, \"CGPA\": 7.9, \"Research\": 1, \"Chance of Admit\": 0.56}, {\"Serial No.\": 53, \"GRE Score\": 334, \"TOEFL Score\": 116, \"University Rating\": 4, \"SOP\": 4.0, \"LOR \": 3.0, \"CGPA\": 8.0, \"Research\": 1, \"Chance of Admit\": 0.78}, {\"Serial No.\": 54, \"GRE Score\": 324, \"TOEFL Score\": 112, \"University Rating\": 4, \"SOP\": 4.0, \"LOR \": 2.5, \"CGPA\": 8.1, \"Research\": 1, \"Chance of Admit\": 0.72}, {\"Serial No.\": 55, \"GRE Score\": 322, \"TOEFL Score\": 110, \"University Rating\": 3, \"SOP\": 3.0, \"LOR \": 3.5, \"CGPA\": 8.0, \"Research\": 0, \"Chance of Admit\": 0.7}, {\"Serial No.\": 56, \"GRE Score\": 320, \"TOEFL Score\": 103, \"University Rating\": 3, \"SOP\": 3.0, \"LOR \": 3.0, \"CGPA\": 7.7, \"Research\": 0, \"Chance of Admit\": 0.64}, {\"Serial No.\": 57, \"GRE Score\": 316, \"TOEFL Score\": 102, \"University Rating\": 3, \"SOP\": 2.0, \"LOR \": 3.0, \"CGPA\": 7.4, \"Research\": 0, \"Chance of Admit\": 0.64}, {\"Serial No.\": 58, \"GRE Score\": 298, \"TOEFL Score\": 99, \"University Rating\": 2, \"SOP\": 4.0, \"LOR \": 2.0, \"CGPA\": 7.6, \"Research\": 0, \"Chance of Admit\": 0.46}, {\"Serial No.\": 59, \"GRE Score\": 300, \"TOEFL Score\": 99, \"University Rating\": 1, \"SOP\": 3.0, \"LOR \": 2.0, \"CGPA\": 6.8, \"Research\": 1, \"Chance of Admit\": 0.36}, {\"Serial No.\": 60, \"GRE Score\": 311, \"TOEFL Score\": 104, \"University Rating\": 2, \"SOP\": 2.0, \"LOR \": 2.0, \"CGPA\": 8.3, \"Research\": 0, \"Chance of Admit\": 0.42}, {\"Serial No.\": 61, \"GRE Score\": 309, \"TOEFL Score\": 100, \"University Rating\": 2, \"SOP\": 3.0, \"LOR \": 3.0, \"CGPA\": 8.1, \"Research\": 0, \"Chance of Admit\": 0.48}, {\"Serial No.\": 62, \"GRE Score\": 307, \"TOEFL Score\": 101, \"University Rating\": 3, \"SOP\": 4.0, \"LOR \": 3.0, \"CGPA\": 8.2, \"Research\": 0, \"Chance of Admit\": 0.47}, {\"Serial No.\": 63, \"GRE Score\": 304, \"TOEFL Score\": 105, \"University Rating\": 2, \"SOP\": 3.0, \"LOR \": 3.0, \"CGPA\": 8.2, \"Research\": 1, \"Chance of Admit\": 0.54}, {\"Serial No.\": 64, \"GRE Score\": 315, \"TOEFL Score\": 107, \"University Rating\": 2, \"SOP\": 4.0, \"LOR \": 3.0, \"CGPA\": 8.5, \"Research\": 1, \"Chance of Admit\": 0.56}, {\"Serial No.\": 65, \"GRE Score\": 325, \"TOEFL Score\": 111, \"University Rating\": 3, \"SOP\": 3.0, \"LOR \": 3.5, \"CGPA\": 8.7, \"Research\": 0, \"Chance of Admit\": 0.52}, {\"Serial No.\": 66, \"GRE Score\": 325, \"TOEFL Score\": 112, \"University Rating\": 4, \"SOP\": 3.5, \"LOR \": 3.5, \"CGPA\": 8.92, \"Research\": 0, \"Chance of Admit\": 0.55}, {\"Serial No.\": 67, \"GRE Score\": 327, \"TOEFL Score\": 114, \"University Rating\": 3, \"SOP\": 3.0, \"LOR \": 3.0, \"CGPA\": 9.02, \"Research\": 0, \"Chance of Admit\": 0.61}, {\"Serial No.\": 68, \"GRE Score\": 316, \"TOEFL Score\": 107, \"University Rating\": 2, \"SOP\": 3.5, \"LOR \": 3.5, \"CGPA\": 8.64, \"Research\": 1, \"Chance of Admit\": 0.57}, {\"Serial No.\": 69, \"GRE Score\": 318, \"TOEFL Score\": 109, \"University Rating\": 3, \"SOP\": 3.5, \"LOR \": 4.0, \"CGPA\": 9.22, \"Research\": 1, \"Chance of Admit\": 0.68}, {\"Serial No.\": 70, \"GRE Score\": 328, \"TOEFL Score\": 115, \"University Rating\": 4, \"SOP\": 4.5, \"LOR \": 4.0, \"CGPA\": 9.16, \"Research\": 1, \"Chance of Admit\": 0.78}, {\"Serial No.\": 71, \"GRE Score\": 332, \"TOEFL Score\": 118, \"University Rating\": 5, \"SOP\": 5.0, \"LOR \": 5.0, \"CGPA\": 9.64, \"Research\": 1, \"Chance of Admit\": 0.94}, {\"Serial No.\": 72, \"GRE Score\": 336, \"TOEFL Score\": 112, \"University Rating\": 5, \"SOP\": 5.0, \"LOR \": 5.0, \"CGPA\": 9.76, \"Research\": 1, \"Chance of Admit\": 0.96}, {\"Serial No.\": 73, \"GRE Score\": 321, \"TOEFL Score\": 111, \"University Rating\": 5, \"SOP\": 5.0, \"LOR \": 5.0, \"CGPA\": 9.45, \"Research\": 1, \"Chance of Admit\": 0.93}, {\"Serial No.\": 74, \"GRE Score\": 314, \"TOEFL Score\": 108, \"University Rating\": 4, \"SOP\": 4.5, \"LOR \": 4.0, \"CGPA\": 9.04, \"Research\": 1, \"Chance of Admit\": 0.84}, {\"Serial No.\": 75, \"GRE Score\": 314, \"TOEFL Score\": 106, \"University Rating\": 3, \"SOP\": 3.0, \"LOR \": 5.0, \"CGPA\": 8.9, \"Research\": 0, \"Chance of Admit\": 0.74}, {\"Serial No.\": 76, \"GRE Score\": 329, \"TOEFL Score\": 114, \"University Rating\": 2, \"SOP\": 2.0, \"LOR \": 4.0, \"CGPA\": 8.56, \"Research\": 1, \"Chance of Admit\": 0.72}, {\"Serial No.\": 77, \"GRE Score\": 327, \"TOEFL Score\": 112, \"University Rating\": 3, \"SOP\": 3.0, \"LOR \": 3.0, \"CGPA\": 8.72, \"Research\": 1, \"Chance of Admit\": 0.74}, {\"Serial No.\": 78, \"GRE Score\": 301, \"TOEFL Score\": 99, \"University Rating\": 2, \"SOP\": 3.0, \"LOR \": 2.0, \"CGPA\": 8.22, \"Research\": 0, \"Chance of Admit\": 0.64}, {\"Serial No.\": 79, \"GRE Score\": 296, \"TOEFL Score\": 95, \"University Rating\": 2, \"SOP\": 3.0, \"LOR \": 2.0, \"CGPA\": 7.54, \"Research\": 1, \"Chance of Admit\": 0.44}, {\"Serial No.\": 80, \"GRE Score\": 294, \"TOEFL Score\": 93, \"University Rating\": 1, \"SOP\": 1.5, \"LOR \": 2.0, \"CGPA\": 7.36, \"Research\": 0, \"Chance of Admit\": 0.46}, {\"Serial No.\": 81, \"GRE Score\": 312, \"TOEFL Score\": 105, \"University Rating\": 3, \"SOP\": 2.0, \"LOR \": 3.0, \"CGPA\": 8.02, \"Research\": 1, \"Chance of Admit\": 0.5}, {\"Serial No.\": 82, \"GRE Score\": 340, \"TOEFL Score\": 120, \"University Rating\": 4, \"SOP\": 5.0, \"LOR \": 5.0, \"CGPA\": 9.5, \"Research\": 1, \"Chance of Admit\": 0.96}, {\"Serial No.\": 83, \"GRE Score\": 320, \"TOEFL Score\": 110, \"University Rating\": 5, \"SOP\": 5.0, \"LOR \": 4.5, \"CGPA\": 9.22, \"Research\": 1, \"Chance of Admit\": 0.92}, {\"Serial No.\": 84, \"GRE Score\": 322, \"TOEFL Score\": 115, \"University Rating\": 5, \"SOP\": 4.0, \"LOR \": 4.5, \"CGPA\": 9.36, \"Research\": 1, \"Chance of Admit\": 0.92}, {\"Serial No.\": 85, \"GRE Score\": 340, \"TOEFL Score\": 115, \"University Rating\": 5, \"SOP\": 4.5, \"LOR \": 4.5, \"CGPA\": 9.45, \"Research\": 1, \"Chance of Admit\": 0.94}, {\"Serial No.\": 86, \"GRE Score\": 319, \"TOEFL Score\": 103, \"University Rating\": 4, \"SOP\": 4.5, \"LOR \": 3.5, \"CGPA\": 8.66, \"Research\": 0, \"Chance of Admit\": 0.76}, {\"Serial No.\": 87, \"GRE Score\": 315, \"TOEFL Score\": 106, \"University Rating\": 3, \"SOP\": 4.5, \"LOR \": 3.5, \"CGPA\": 8.42, \"Research\": 0, \"Chance of Admit\": 0.72}, {\"Serial No.\": 88, \"GRE Score\": 317, \"TOEFL Score\": 107, \"University Rating\": 2, \"SOP\": 3.5, \"LOR \": 3.0, \"CGPA\": 8.28, \"Research\": 0, \"Chance of Admit\": 0.66}, {\"Serial No.\": 89, \"GRE Score\": 314, \"TOEFL Score\": 108, \"University Rating\": 3, \"SOP\": 4.5, \"LOR \": 3.5, \"CGPA\": 8.14, \"Research\": 0, \"Chance of Admit\": 0.64}, {\"Serial No.\": 90, \"GRE Score\": 316, \"TOEFL Score\": 109, \"University Rating\": 4, \"SOP\": 4.5, \"LOR \": 3.5, \"CGPA\": 8.76, \"Research\": 1, \"Chance of Admit\": 0.74}, {\"Serial No.\": 91, \"GRE Score\": 318, \"TOEFL Score\": 106, \"University Rating\": 2, \"SOP\": 4.0, \"LOR \": 4.0, \"CGPA\": 7.92, \"Research\": 1, \"Chance of Admit\": 0.64}, {\"Serial No.\": 92, \"GRE Score\": 299, \"TOEFL Score\": 97, \"University Rating\": 3, \"SOP\": 5.0, \"LOR \": 3.5, \"CGPA\": 7.66, \"Research\": 0, \"Chance of Admit\": 0.38}, {\"Serial No.\": 93, \"GRE Score\": 298, \"TOEFL Score\": 98, \"University Rating\": 2, \"SOP\": 4.0, \"LOR \": 3.0, \"CGPA\": 8.03, \"Research\": 0, \"Chance of Admit\": 0.34}, {\"Serial No.\": 94, \"GRE Score\": 301, \"TOEFL Score\": 97, \"University Rating\": 2, \"SOP\": 3.0, \"LOR \": 3.0, \"CGPA\": 7.88, \"Research\": 1, \"Chance of Admit\": 0.44}, {\"Serial No.\": 95, \"GRE Score\": 303, \"TOEFL Score\": 99, \"University Rating\": 3, \"SOP\": 2.0, \"LOR \": 2.5, \"CGPA\": 7.66, \"Research\": 0, \"Chance of Admit\": 0.36}, {\"Serial No.\": 96, \"GRE Score\": 304, \"TOEFL Score\": 100, \"University Rating\": 4, \"SOP\": 1.5, \"LOR \": 2.5, \"CGPA\": 7.84, \"Research\": 0, \"Chance of Admit\": 0.42}, {\"Serial No.\": 97, \"GRE Score\": 306, \"TOEFL Score\": 100, \"University Rating\": 2, \"SOP\": 3.0, \"LOR \": 3.0, \"CGPA\": 8.0, \"Research\": 0, \"Chance of Admit\": 0.48}, {\"Serial No.\": 98, \"GRE Score\": 331, \"TOEFL Score\": 120, \"University Rating\": 3, \"SOP\": 4.0, \"LOR \": 4.0, \"CGPA\": 8.96, \"Research\": 1, \"Chance of Admit\": 0.86}, {\"Serial No.\": 99, \"GRE Score\": 332, \"TOEFL Score\": 119, \"University Rating\": 4, \"SOP\": 5.0, \"LOR \": 4.5, \"CGPA\": 9.24, \"Research\": 1, \"Chance of Admit\": 0.9}, {\"Serial No.\": 100, \"GRE Score\": 323, \"TOEFL Score\": 113, \"University Rating\": 3, \"SOP\": 4.0, \"LOR \": 4.0, \"CGPA\": 8.88, \"Research\": 1, \"Chance of Admit\": 0.79}, {\"Serial No.\": 101, \"GRE Score\": 322, \"TOEFL Score\": 107, \"University Rating\": 3, \"SOP\": 3.5, \"LOR \": 3.5, \"CGPA\": 8.46, \"Research\": 1, \"Chance of Admit\": 0.71}, {\"Serial No.\": 102, \"GRE Score\": 312, \"TOEFL Score\": 105, \"University Rating\": 2, \"SOP\": 2.5, \"LOR \": 3.0, \"CGPA\": 8.12, \"Research\": 0, \"Chance of Admit\": 0.64}, {\"Serial No.\": 103, \"GRE Score\": 314, \"TOEFL Score\": 106, \"University Rating\": 2, \"SOP\": 4.0, \"LOR \": 3.5, \"CGPA\": 8.25, \"Research\": 0, \"Chance of Admit\": 0.62}, {\"Serial No.\": 104, \"GRE Score\": 317, \"TOEFL Score\": 104, \"University Rating\": 2, \"SOP\": 4.5, \"LOR \": 4.0, \"CGPA\": 8.47, \"Research\": 0, \"Chance of Admit\": 0.57}, {\"Serial No.\": 105, \"GRE Score\": 326, \"TOEFL Score\": 112, \"University Rating\": 3, \"SOP\": 3.5, \"LOR \": 3.0, \"CGPA\": 9.05, \"Research\": 1, \"Chance of Admit\": 0.74}, {\"Serial No.\": 106, \"GRE Score\": 316, \"TOEFL Score\": 110, \"University Rating\": 3, \"SOP\": 4.0, \"LOR \": 4.5, \"CGPA\": 8.78, \"Research\": 1, \"Chance of Admit\": 0.69}, {\"Serial No.\": 107, \"GRE Score\": 329, \"TOEFL Score\": 111, \"University Rating\": 4, \"SOP\": 4.5, \"LOR \": 4.5, \"CGPA\": 9.18, \"Research\": 1, \"Chance of Admit\": 0.87}, {\"Serial No.\": 108, \"GRE Score\": 338, \"TOEFL Score\": 117, \"University Rating\": 4, \"SOP\": 3.5, \"LOR \": 4.5, \"CGPA\": 9.46, \"Research\": 1, \"Chance of Admit\": 0.91}, {\"Serial No.\": 109, \"GRE Score\": 331, \"TOEFL Score\": 116, \"University Rating\": 5, \"SOP\": 5.0, \"LOR \": 5.0, \"CGPA\": 9.38, \"Research\": 1, \"Chance of Admit\": 0.93}, {\"Serial No.\": 110, \"GRE Score\": 304, \"TOEFL Score\": 103, \"University Rating\": 5, \"SOP\": 5.0, \"LOR \": 4.0, \"CGPA\": 8.64, \"Research\": 0, \"Chance of Admit\": 0.68}, {\"Serial No.\": 111, \"GRE Score\": 305, \"TOEFL Score\": 108, \"University Rating\": 5, \"SOP\": 3.0, \"LOR \": 3.0, \"CGPA\": 8.48, \"Research\": 0, \"Chance of Admit\": 0.61}, {\"Serial No.\": 112, \"GRE Score\": 321, \"TOEFL Score\": 109, \"University Rating\": 4, \"SOP\": 4.0, \"LOR \": 4.0, \"CGPA\": 8.68, \"Research\": 1, \"Chance of Admit\": 0.69}, {\"Serial No.\": 113, \"GRE Score\": 301, \"TOEFL Score\": 107, \"University Rating\": 3, \"SOP\": 3.5, \"LOR \": 3.5, \"CGPA\": 8.34, \"Research\": 1, \"Chance of Admit\": 0.62}, {\"Serial No.\": 114, \"GRE Score\": 320, \"TOEFL Score\": 110, \"University Rating\": 2, \"SOP\": 4.0, \"LOR \": 3.5, \"CGPA\": 8.56, \"Research\": 0, \"Chance of Admit\": 0.72}, {\"Serial No.\": 115, \"GRE Score\": 311, \"TOEFL Score\": 105, \"University Rating\": 3, \"SOP\": 3.5, \"LOR \": 3.0, \"CGPA\": 8.45, \"Research\": 1, \"Chance of Admit\": 0.59}, {\"Serial No.\": 116, \"GRE Score\": 310, \"TOEFL Score\": 106, \"University Rating\": 4, \"SOP\": 4.5, \"LOR \": 4.5, \"CGPA\": 9.04, \"Research\": 1, \"Chance of Admit\": 0.66}, {\"Serial No.\": 117, \"GRE Score\": 299, \"TOEFL Score\": 102, \"University Rating\": 3, \"SOP\": 4.0, \"LOR \": 3.5, \"CGPA\": 8.62, \"Research\": 0, \"Chance of Admit\": 0.56}, {\"Serial No.\": 118, \"GRE Score\": 290, \"TOEFL Score\": 104, \"University Rating\": 4, \"SOP\": 2.0, \"LOR \": 2.5, \"CGPA\": 7.46, \"Research\": 0, \"Chance of Admit\": 0.45}, {\"Serial No.\": 119, \"GRE Score\": 296, \"TOEFL Score\": 99, \"University Rating\": 2, \"SOP\": 3.0, \"LOR \": 3.5, \"CGPA\": 7.28, \"Research\": 0, \"Chance of Admit\": 0.47}, {\"Serial No.\": 120, \"GRE Score\": 327, \"TOEFL Score\": 104, \"University Rating\": 5, \"SOP\": 3.0, \"LOR \": 3.5, \"CGPA\": 8.84, \"Research\": 1, \"Chance of Admit\": 0.71}, {\"Serial No.\": 121, \"GRE Score\": 335, \"TOEFL Score\": 117, \"University Rating\": 5, \"SOP\": 5.0, \"LOR \": 5.0, \"CGPA\": 9.56, \"Research\": 1, \"Chance of Admit\": 0.94}, {\"Serial No.\": 122, \"GRE Score\": 334, \"TOEFL Score\": 119, \"University Rating\": 5, \"SOP\": 4.5, \"LOR \": 4.5, \"CGPA\": 9.48, \"Research\": 1, \"Chance of Admit\": 0.94}, {\"Serial No.\": 123, \"GRE Score\": 310, \"TOEFL Score\": 106, \"University Rating\": 4, \"SOP\": 1.5, \"LOR \": 2.5, \"CGPA\": 8.36, \"Research\": 0, \"Chance of Admit\": 0.57}, {\"Serial No.\": 124, \"GRE Score\": 308, \"TOEFL Score\": 108, \"University Rating\": 3, \"SOP\": 3.5, \"LOR \": 3.5, \"CGPA\": 8.22, \"Research\": 0, \"Chance of Admit\": 0.61}, {\"Serial No.\": 125, \"GRE Score\": 301, \"TOEFL Score\": 106, \"University Rating\": 4, \"SOP\": 2.5, \"LOR \": 3.0, \"CGPA\": 8.47, \"Research\": 0, \"Chance of Admit\": 0.57}, {\"Serial No.\": 126, \"GRE Score\": 300, \"TOEFL Score\": 100, \"University Rating\": 3, \"SOP\": 2.0, \"LOR \": 3.0, \"CGPA\": 8.66, \"Research\": 1, \"Chance of Admit\": 0.64}, {\"Serial No.\": 127, \"GRE Score\": 323, \"TOEFL Score\": 113, \"University Rating\": 3, \"SOP\": 4.0, \"LOR \": 3.0, \"CGPA\": 9.32, \"Research\": 1, \"Chance of Admit\": 0.85}, {\"Serial No.\": 128, \"GRE Score\": 319, \"TOEFL Score\": 112, \"University Rating\": 3, \"SOP\": 2.5, \"LOR \": 2.0, \"CGPA\": 8.71, \"Research\": 1, \"Chance of Admit\": 0.78}, {\"Serial No.\": 129, \"GRE Score\": 326, \"TOEFL Score\": 112, \"University Rating\": 3, \"SOP\": 3.5, \"LOR \": 3.0, \"CGPA\": 9.1, \"Research\": 1, \"Chance of Admit\": 0.84}, {\"Serial No.\": 130, \"GRE Score\": 333, \"TOEFL Score\": 118, \"University Rating\": 5, \"SOP\": 5.0, \"LOR \": 5.0, \"CGPA\": 9.35, \"Research\": 1, \"Chance of Admit\": 0.92}, {\"Serial No.\": 131, \"GRE Score\": 339, \"TOEFL Score\": 114, \"University Rating\": 5, \"SOP\": 4.0, \"LOR \": 4.5, \"CGPA\": 9.76, \"Research\": 1, \"Chance of Admit\": 0.96}, {\"Serial No.\": 132, \"GRE Score\": 303, \"TOEFL Score\": 105, \"University Rating\": 5, \"SOP\": 5.0, \"LOR \": 4.5, \"CGPA\": 8.65, \"Research\": 0, \"Chance of Admit\": 0.77}, {\"Serial No.\": 133, \"GRE Score\": 309, \"TOEFL Score\": 105, \"University Rating\": 5, \"SOP\": 3.5, \"LOR \": 3.5, \"CGPA\": 8.56, \"Research\": 0, \"Chance of Admit\": 0.71}, {\"Serial No.\": 134, \"GRE Score\": 323, \"TOEFL Score\": 112, \"University Rating\": 5, \"SOP\": 4.0, \"LOR \": 4.5, \"CGPA\": 8.78, \"Research\": 0, \"Chance of Admit\": 0.79}, {\"Serial No.\": 135, \"GRE Score\": 333, \"TOEFL Score\": 113, \"University Rating\": 5, \"SOP\": 4.0, \"LOR \": 4.0, \"CGPA\": 9.28, \"Research\": 1, \"Chance of Admit\": 0.89}, {\"Serial No.\": 136, \"GRE Score\": 314, \"TOEFL Score\": 109, \"University Rating\": 4, \"SOP\": 3.5, \"LOR \": 4.0, \"CGPA\": 8.77, \"Research\": 1, \"Chance of Admit\": 0.82}, {\"Serial No.\": 137, \"GRE Score\": 312, \"TOEFL Score\": 103, \"University Rating\": 3, \"SOP\": 5.0, \"LOR \": 4.0, \"CGPA\": 8.45, \"Research\": 0, \"Chance of Admit\": 0.76}, {\"Serial No.\": 138, \"GRE Score\": 316, \"TOEFL Score\": 100, \"University Rating\": 2, \"SOP\": 1.5, \"LOR \": 3.0, \"CGPA\": 8.16, \"Research\": 1, \"Chance of Admit\": 0.71}, {\"Serial No.\": 139, \"GRE Score\": 326, \"TOEFL Score\": 116, \"University Rating\": 2, \"SOP\": 4.5, \"LOR \": 3.0, \"CGPA\": 9.08, \"Research\": 1, \"Chance of Admit\": 0.8}, {\"Serial No.\": 140, \"GRE Score\": 318, \"TOEFL Score\": 109, \"University Rating\": 1, \"SOP\": 3.5, \"LOR \": 3.5, \"CGPA\": 9.12, \"Research\": 0, \"Chance of Admit\": 0.78}, {\"Serial No.\": 141, \"GRE Score\": 329, \"TOEFL Score\": 110, \"University Rating\": 2, \"SOP\": 4.0, \"LOR \": 3.0, \"CGPA\": 9.15, \"Research\": 1, \"Chance of Admit\": 0.84}, {\"Serial No.\": 142, \"GRE Score\": 332, \"TOEFL Score\": 118, \"University Rating\": 2, \"SOP\": 4.5, \"LOR \": 3.5, \"CGPA\": 9.36, \"Research\": 1, \"Chance of Admit\": 0.9}, {\"Serial No.\": 143, \"GRE Score\": 331, \"TOEFL Score\": 115, \"University Rating\": 5, \"SOP\": 4.0, \"LOR \": 3.5, \"CGPA\": 9.44, \"Research\": 1, \"Chance of Admit\": 0.92}, {\"Serial No.\": 144, \"GRE Score\": 340, \"TOEFL Score\": 120, \"University Rating\": 4, \"SOP\": 4.5, \"LOR \": 4.0, \"CGPA\": 9.92, \"Research\": 1, \"Chance of Admit\": 0.97}, {\"Serial No.\": 145, \"GRE Score\": 325, \"TOEFL Score\": 112, \"University Rating\": 2, \"SOP\": 3.0, \"LOR \": 3.5, \"CGPA\": 8.96, \"Research\": 1, \"Chance of Admit\": 0.8}, {\"Serial No.\": 146, \"GRE Score\": 320, \"TOEFL Score\": 113, \"University Rating\": 2, \"SOP\": 2.0, \"LOR \": 2.5, \"CGPA\": 8.64, \"Research\": 1, \"Chance of Admit\": 0.81}, {\"Serial No.\": 147, \"GRE Score\": 315, \"TOEFL Score\": 105, \"University Rating\": 3, \"SOP\": 2.0, \"LOR \": 2.5, \"CGPA\": 8.48, \"Research\": 0, \"Chance of Admit\": 0.75}, {\"Serial No.\": 148, \"GRE Score\": 326, \"TOEFL Score\": 114, \"University Rating\": 3, \"SOP\": 3.0, \"LOR \": 3.0, \"CGPA\": 9.11, \"Research\": 1, \"Chance of Admit\": 0.83}, {\"Serial No.\": 149, \"GRE Score\": 339, \"TOEFL Score\": 116, \"University Rating\": 4, \"SOP\": 4.0, \"LOR \": 3.5, \"CGPA\": 9.8, \"Research\": 1, \"Chance of Admit\": 0.96}, {\"Serial No.\": 150, \"GRE Score\": 311, \"TOEFL Score\": 106, \"University Rating\": 2, \"SOP\": 3.5, \"LOR \": 3.0, \"CGPA\": 8.26, \"Research\": 1, \"Chance of Admit\": 0.79}, {\"Serial No.\": 151, \"GRE Score\": 334, \"TOEFL Score\": 114, \"University Rating\": 4, \"SOP\": 4.0, \"LOR \": 4.0, \"CGPA\": 9.43, \"Research\": 1, \"Chance of Admit\": 0.93}, {\"Serial No.\": 152, \"GRE Score\": 332, \"TOEFL Score\": 116, \"University Rating\": 5, \"SOP\": 5.0, \"LOR \": 5.0, \"CGPA\": 9.28, \"Research\": 1, \"Chance of Admit\": 0.94}, {\"Serial No.\": 153, \"GRE Score\": 321, \"TOEFL Score\": 112, \"University Rating\": 5, \"SOP\": 5.0, \"LOR \": 5.0, \"CGPA\": 9.06, \"Research\": 1, \"Chance of Admit\": 0.86}, {\"Serial No.\": 154, \"GRE Score\": 324, \"TOEFL Score\": 105, \"University Rating\": 3, \"SOP\": 3.0, \"LOR \": 4.0, \"CGPA\": 8.75, \"Research\": 0, \"Chance of Admit\": 0.79}, {\"Serial No.\": 155, \"GRE Score\": 326, \"TOEFL Score\": 108, \"University Rating\": 3, \"SOP\": 3.0, \"LOR \": 3.5, \"CGPA\": 8.89, \"Research\": 0, \"Chance of Admit\": 0.8}, {\"Serial No.\": 156, \"GRE Score\": 312, \"TOEFL Score\": 109, \"University Rating\": 3, \"SOP\": 3.0, \"LOR \": 3.0, \"CGPA\": 8.69, \"Research\": 0, \"Chance of Admit\": 0.77}, {\"Serial No.\": 157, \"GRE Score\": 315, \"TOEFL Score\": 105, \"University Rating\": 3, \"SOP\": 2.0, \"LOR \": 2.5, \"CGPA\": 8.34, \"Research\": 0, \"Chance of Admit\": 0.7}, {\"Serial No.\": 158, \"GRE Score\": 309, \"TOEFL Score\": 104, \"University Rating\": 2, \"SOP\": 2.0, \"LOR \": 2.5, \"CGPA\": 8.26, \"Research\": 0, \"Chance of Admit\": 0.65}, {\"Serial No.\": 159, \"GRE Score\": 306, \"TOEFL Score\": 106, \"University Rating\": 2, \"SOP\": 2.0, \"LOR \": 2.5, \"CGPA\": 8.14, \"Research\": 0, \"Chance of Admit\": 0.61}, {\"Serial No.\": 160, \"GRE Score\": 297, \"TOEFL Score\": 100, \"University Rating\": 1, \"SOP\": 1.5, \"LOR \": 2.0, \"CGPA\": 7.9, \"Research\": 0, \"Chance of Admit\": 0.52}, {\"Serial No.\": 161, \"GRE Score\": 315, \"TOEFL Score\": 103, \"University Rating\": 1, \"SOP\": 1.5, \"LOR \": 2.0, \"CGPA\": 7.86, \"Research\": 0, \"Chance of Admit\": 0.57}, {\"Serial No.\": 162, \"GRE Score\": 298, \"TOEFL Score\": 99, \"University Rating\": 1, \"SOP\": 1.5, \"LOR \": 3.0, \"CGPA\": 7.46, \"Research\": 0, \"Chance of Admit\": 0.53}, {\"Serial No.\": 163, \"GRE Score\": 318, \"TOEFL Score\": 109, \"University Rating\": 3, \"SOP\": 3.0, \"LOR \": 3.0, \"CGPA\": 8.5, \"Research\": 0, \"Chance of Admit\": 0.67}, {\"Serial No.\": 164, \"GRE Score\": 317, \"TOEFL Score\": 105, \"University Rating\": 3, \"SOP\": 3.5, \"LOR \": 3.0, \"CGPA\": 8.56, \"Research\": 0, \"Chance of Admit\": 0.68}, {\"Serial No.\": 165, \"GRE Score\": 329, \"TOEFL Score\": 111, \"University Rating\": 4, \"SOP\": 4.5, \"LOR \": 4.0, \"CGPA\": 9.01, \"Research\": 1, \"Chance of Admit\": 0.81}, {\"Serial No.\": 166, \"GRE Score\": 322, \"TOEFL Score\": 110, \"University Rating\": 5, \"SOP\": 4.5, \"LOR \": 4.0, \"CGPA\": 8.97, \"Research\": 0, \"Chance of Admit\": 0.78}, {\"Serial No.\": 167, \"GRE Score\": 302, \"TOEFL Score\": 102, \"University Rating\": 3, \"SOP\": 3.5, \"LOR \": 5.0, \"CGPA\": 8.33, \"Research\": 0, \"Chance of Admit\": 0.65}, {\"Serial No.\": 168, \"GRE Score\": 313, \"TOEFL Score\": 102, \"University Rating\": 3, \"SOP\": 2.0, \"LOR \": 3.0, \"CGPA\": 8.27, \"Research\": 0, \"Chance of Admit\": 0.64}, {\"Serial No.\": 169, \"GRE Score\": 293, \"TOEFL Score\": 97, \"University Rating\": 2, \"SOP\": 2.0, \"LOR \": 4.0, \"CGPA\": 7.8, \"Research\": 1, \"Chance of Admit\": 0.64}, {\"Serial No.\": 170, \"GRE Score\": 311, \"TOEFL Score\": 99, \"University Rating\": 2, \"SOP\": 2.5, \"LOR \": 3.0, \"CGPA\": 7.98, \"Research\": 0, \"Chance of Admit\": 0.65}, {\"Serial No.\": 171, \"GRE Score\": 312, \"TOEFL Score\": 101, \"University Rating\": 2, \"SOP\": 2.5, \"LOR \": 3.5, \"CGPA\": 8.04, \"Research\": 1, \"Chance of Admit\": 0.68}, {\"Serial No.\": 172, \"GRE Score\": 334, \"TOEFL Score\": 117, \"University Rating\": 5, \"SOP\": 4.0, \"LOR \": 4.5, \"CGPA\": 9.07, \"Research\": 1, \"Chance of Admit\": 0.89}, {\"Serial No.\": 173, \"GRE Score\": 322, \"TOEFL Score\": 110, \"University Rating\": 4, \"SOP\": 4.0, \"LOR \": 5.0, \"CGPA\": 9.13, \"Research\": 1, \"Chance of Admit\": 0.86}, {\"Serial No.\": 174, \"GRE Score\": 323, \"TOEFL Score\": 113, \"University Rating\": 4, \"SOP\": 4.0, \"LOR \": 4.5, \"CGPA\": 9.23, \"Research\": 1, \"Chance of Admit\": 0.89}, {\"Serial No.\": 175, \"GRE Score\": 321, \"TOEFL Score\": 111, \"University Rating\": 4, \"SOP\": 4.0, \"LOR \": 4.0, \"CGPA\": 8.97, \"Research\": 1, \"Chance of Admit\": 0.87}, {\"Serial No.\": 176, \"GRE Score\": 320, \"TOEFL Score\": 111, \"University Rating\": 4, \"SOP\": 4.5, \"LOR \": 3.5, \"CGPA\": 8.87, \"Research\": 1, \"Chance of Admit\": 0.85}, {\"Serial No.\": 177, \"GRE Score\": 329, \"TOEFL Score\": 119, \"University Rating\": 4, \"SOP\": 4.5, \"LOR \": 4.5, \"CGPA\": 9.16, \"Research\": 1, \"Chance of Admit\": 0.9}, {\"Serial No.\": 178, \"GRE Score\": 319, \"TOEFL Score\": 110, \"University Rating\": 3, \"SOP\": 3.5, \"LOR \": 3.5, \"CGPA\": 9.04, \"Research\": 0, \"Chance of Admit\": 0.82}, {\"Serial No.\": 179, \"GRE Score\": 309, \"TOEFL Score\": 108, \"University Rating\": 3, \"SOP\": 2.5, \"LOR \": 3.0, \"CGPA\": 8.12, \"Research\": 0, \"Chance of Admit\": 0.72}, {\"Serial No.\": 180, \"GRE Score\": 307, \"TOEFL Score\": 102, \"University Rating\": 3, \"SOP\": 3.0, \"LOR \": 3.0, \"CGPA\": 8.27, \"Research\": 0, \"Chance of Admit\": 0.73}, {\"Serial No.\": 181, \"GRE Score\": 300, \"TOEFL Score\": 104, \"University Rating\": 3, \"SOP\": 3.5, \"LOR \": 3.0, \"CGPA\": 8.16, \"Research\": 0, \"Chance of Admit\": 0.71}, {\"Serial No.\": 182, \"GRE Score\": 305, \"TOEFL Score\": 107, \"University Rating\": 2, \"SOP\": 2.5, \"LOR \": 2.5, \"CGPA\": 8.42, \"Research\": 0, \"Chance of Admit\": 0.71}, {\"Serial No.\": 183, \"GRE Score\": 299, \"TOEFL Score\": 100, \"University Rating\": 2, \"SOP\": 3.0, \"LOR \": 3.5, \"CGPA\": 7.88, \"Research\": 0, \"Chance of Admit\": 0.68}, {\"Serial No.\": 184, \"GRE Score\": 314, \"TOEFL Score\": 110, \"University Rating\": 3, \"SOP\": 4.0, \"LOR \": 4.0, \"CGPA\": 8.8, \"Research\": 0, \"Chance of Admit\": 0.75}, {\"Serial No.\": 185, \"GRE Score\": 316, \"TOEFL Score\": 106, \"University Rating\": 2, \"SOP\": 2.5, \"LOR \": 4.0, \"CGPA\": 8.32, \"Research\": 0, \"Chance of Admit\": 0.72}, {\"Serial No.\": 186, \"GRE Score\": 327, \"TOEFL Score\": 113, \"University Rating\": 4, \"SOP\": 4.5, \"LOR \": 4.5, \"CGPA\": 9.11, \"Research\": 1, \"Chance of Admit\": 0.89}, {\"Serial No.\": 187, \"GRE Score\": 317, \"TOEFL Score\": 107, \"University Rating\": 3, \"SOP\": 3.5, \"LOR \": 3.0, \"CGPA\": 8.68, \"Research\": 1, \"Chance of Admit\": 0.84}, {\"Serial No.\": 188, \"GRE Score\": 335, \"TOEFL Score\": 118, \"University Rating\": 5, \"SOP\": 4.5, \"LOR \": 3.5, \"CGPA\": 9.44, \"Research\": 1, \"Chance of Admit\": 0.93}, {\"Serial No.\": 189, \"GRE Score\": 331, \"TOEFL Score\": 115, \"University Rating\": 5, \"SOP\": 4.5, \"LOR \": 3.5, \"CGPA\": 9.36, \"Research\": 1, \"Chance of Admit\": 0.93}, {\"Serial No.\": 190, \"GRE Score\": 324, \"TOEFL Score\": 112, \"University Rating\": 5, \"SOP\": 5.0, \"LOR \": 5.0, \"CGPA\": 9.08, \"Research\": 1, \"Chance of Admit\": 0.88}, {\"Serial No.\": 191, \"GRE Score\": 324, \"TOEFL Score\": 111, \"University Rating\": 5, \"SOP\": 4.5, \"LOR \": 4.0, \"CGPA\": 9.16, \"Research\": 1, \"Chance of Admit\": 0.9}, {\"Serial No.\": 192, \"GRE Score\": 323, \"TOEFL Score\": 110, \"University Rating\": 5, \"SOP\": 4.0, \"LOR \": 5.0, \"CGPA\": 8.98, \"Research\": 1, \"Chance of Admit\": 0.87}, {\"Serial No.\": 193, \"GRE Score\": 322, \"TOEFL Score\": 114, \"University Rating\": 5, \"SOP\": 4.5, \"LOR \": 4.0, \"CGPA\": 8.94, \"Research\": 1, \"Chance of Admit\": 0.86}, {\"Serial No.\": 194, \"GRE Score\": 336, \"TOEFL Score\": 118, \"University Rating\": 5, \"SOP\": 4.5, \"LOR \": 5.0, \"CGPA\": 9.53, \"Research\": 1, \"Chance of Admit\": 0.94}, {\"Serial No.\": 195, \"GRE Score\": 316, \"TOEFL Score\": 109, \"University Rating\": 3, \"SOP\": 3.5, \"LOR \": 3.0, \"CGPA\": 8.76, \"Research\": 0, \"Chance of Admit\": 0.77}, {\"Serial No.\": 196, \"GRE Score\": 307, \"TOEFL Score\": 107, \"University Rating\": 2, \"SOP\": 3.0, \"LOR \": 3.5, \"CGPA\": 8.52, \"Research\": 1, \"Chance of Admit\": 0.78}, {\"Serial No.\": 197, \"GRE Score\": 306, \"TOEFL Score\": 105, \"University Rating\": 2, \"SOP\": 3.0, \"LOR \": 2.5, \"CGPA\": 8.26, \"Research\": 0, \"Chance of Admit\": 0.73}, {\"Serial No.\": 198, \"GRE Score\": 310, \"TOEFL Score\": 106, \"University Rating\": 2, \"SOP\": 3.5, \"LOR \": 2.5, \"CGPA\": 8.33, \"Research\": 0, \"Chance of Admit\": 0.73}, {\"Serial No.\": 199, \"GRE Score\": 311, \"TOEFL Score\": 104, \"University Rating\": 3, \"SOP\": 4.5, \"LOR \": 4.5, \"CGPA\": 8.43, \"Research\": 0, \"Chance of Admit\": 0.7}, {\"Serial No.\": 200, \"GRE Score\": 313, \"TOEFL Score\": 107, \"University Rating\": 3, \"SOP\": 4.0, \"LOR \": 4.5, \"CGPA\": 8.69, \"Research\": 0, \"Chance of Admit\": 0.72}, {\"Serial No.\": 201, \"GRE Score\": 317, \"TOEFL Score\": 103, \"University Rating\": 3, \"SOP\": 2.5, \"LOR \": 3.0, \"CGPA\": 8.54, \"Research\": 1, \"Chance of Admit\": 0.73}, {\"Serial No.\": 202, \"GRE Score\": 315, \"TOEFL Score\": 110, \"University Rating\": 2, \"SOP\": 3.5, \"LOR \": 3.0, \"CGPA\": 8.46, \"Research\": 1, \"Chance of Admit\": 0.72}, {\"Serial No.\": 203, \"GRE Score\": 340, \"TOEFL Score\": 120, \"University Rating\": 5, \"SOP\": 4.5, \"LOR \": 4.5, \"CGPA\": 9.91, \"Research\": 1, \"Chance of Admit\": 0.97}, {\"Serial No.\": 204, \"GRE Score\": 334, \"TOEFL Score\": 120, \"University Rating\": 5, \"SOP\": 4.0, \"LOR \": 5.0, \"CGPA\": 9.87, \"Research\": 1, \"Chance of Admit\": 0.97}, {\"Serial No.\": 205, \"GRE Score\": 298, \"TOEFL Score\": 105, \"University Rating\": 3, \"SOP\": 3.5, \"LOR \": 4.0, \"CGPA\": 8.54, \"Research\": 0, \"Chance of Admit\": 0.69}, {\"Serial No.\": 206, \"GRE Score\": 295, \"TOEFL Score\": 99, \"University Rating\": 2, \"SOP\": 2.5, \"LOR \": 3.0, \"CGPA\": 7.65, \"Research\": 0, \"Chance of Admit\": 0.57}, {\"Serial No.\": 207, \"GRE Score\": 315, \"TOEFL Score\": 99, \"University Rating\": 2, \"SOP\": 3.5, \"LOR \": 3.0, \"CGPA\": 7.89, \"Research\": 0, \"Chance of Admit\": 0.63}, {\"Serial No.\": 208, \"GRE Score\": 310, \"TOEFL Score\": 102, \"University Rating\": 3, \"SOP\": 3.5, \"LOR \": 4.0, \"CGPA\": 8.02, \"Research\": 1, \"Chance of Admit\": 0.66}, {\"Serial No.\": 209, \"GRE Score\": 305, \"TOEFL Score\": 106, \"University Rating\": 2, \"SOP\": 3.0, \"LOR \": 3.0, \"CGPA\": 8.16, \"Research\": 0, \"Chance of Admit\": 0.64}, {\"Serial No.\": 210, \"GRE Score\": 301, \"TOEFL Score\": 104, \"University Rating\": 3, \"SOP\": 3.5, \"LOR \": 4.0, \"CGPA\": 8.12, \"Research\": 1, \"Chance of Admit\": 0.68}, {\"Serial No.\": 211, \"GRE Score\": 325, \"TOEFL Score\": 108, \"University Rating\": 4, \"SOP\": 4.5, \"LOR \": 4.0, \"CGPA\": 9.06, \"Research\": 1, \"Chance of Admit\": 0.79}, {\"Serial No.\": 212, \"GRE Score\": 328, \"TOEFL Score\": 110, \"University Rating\": 4, \"SOP\": 5.0, \"LOR \": 4.0, \"CGPA\": 9.14, \"Research\": 1, \"Chance of Admit\": 0.82}, {\"Serial No.\": 213, \"GRE Score\": 338, \"TOEFL Score\": 120, \"University Rating\": 4, \"SOP\": 5.0, \"LOR \": 5.0, \"CGPA\": 9.66, \"Research\": 1, \"Chance of Admit\": 0.95}, {\"Serial No.\": 214, \"GRE Score\": 333, \"TOEFL Score\": 119, \"University Rating\": 5, \"SOP\": 5.0, \"LOR \": 4.5, \"CGPA\": 9.78, \"Research\": 1, \"Chance of Admit\": 0.96}, {\"Serial No.\": 215, \"GRE Score\": 331, \"TOEFL Score\": 117, \"University Rating\": 4, \"SOP\": 4.5, \"LOR \": 5.0, \"CGPA\": 9.42, \"Research\": 1, \"Chance of Admit\": 0.94}, {\"Serial No.\": 216, \"GRE Score\": 330, \"TOEFL Score\": 116, \"University Rating\": 5, \"SOP\": 5.0, \"LOR \": 4.5, \"CGPA\": 9.36, \"Research\": 1, \"Chance of Admit\": 0.93}, {\"Serial No.\": 217, \"GRE Score\": 322, \"TOEFL Score\": 112, \"University Rating\": 4, \"SOP\": 4.5, \"LOR \": 4.5, \"CGPA\": 9.26, \"Research\": 1, \"Chance of Admit\": 0.91}, {\"Serial No.\": 218, \"GRE Score\": 321, \"TOEFL Score\": 109, \"University Rating\": 4, \"SOP\": 4.0, \"LOR \": 4.0, \"CGPA\": 9.13, \"Research\": 1, \"Chance of Admit\": 0.85}, {\"Serial No.\": 219, \"GRE Score\": 324, \"TOEFL Score\": 110, \"University Rating\": 4, \"SOP\": 3.0, \"LOR \": 3.5, \"CGPA\": 8.97, \"Research\": 1, \"Chance of Admit\": 0.84}, {\"Serial No.\": 220, \"GRE Score\": 312, \"TOEFL Score\": 104, \"University Rating\": 3, \"SOP\": 3.5, \"LOR \": 3.5, \"CGPA\": 8.42, \"Research\": 0, \"Chance of Admit\": 0.74}, {\"Serial No.\": 221, \"GRE Score\": 313, \"TOEFL Score\": 103, \"University Rating\": 3, \"SOP\": 4.0, \"LOR \": 4.0, \"CGPA\": 8.75, \"Research\": 0, \"Chance of Admit\": 0.76}, {\"Serial No.\": 222, \"GRE Score\": 316, \"TOEFL Score\": 110, \"University Rating\": 3, \"SOP\": 3.5, \"LOR \": 4.0, \"CGPA\": 8.56, \"Research\": 0, \"Chance of Admit\": 0.75}, {\"Serial No.\": 223, \"GRE Score\": 324, \"TOEFL Score\": 113, \"University Rating\": 4, \"SOP\": 4.5, \"LOR \": 4.0, \"CGPA\": 8.79, \"Research\": 0, \"Chance of Admit\": 0.76}, {\"Serial No.\": 224, \"GRE Score\": 308, \"TOEFL Score\": 109, \"University Rating\": 2, \"SOP\": 3.0, \"LOR \": 4.0, \"CGPA\": 8.45, \"Research\": 0, \"Chance of Admit\": 0.71}, {\"Serial No.\": 225, \"GRE Score\": 305, \"TOEFL Score\": 105, \"University Rating\": 2, \"SOP\": 3.0, \"LOR \": 2.0, \"CGPA\": 8.23, \"Research\": 0, \"Chance of Admit\": 0.67}, {\"Serial No.\": 226, \"GRE Score\": 296, \"TOEFL Score\": 99, \"University Rating\": 2, \"SOP\": 2.5, \"LOR \": 2.5, \"CGPA\": 8.03, \"Research\": 0, \"Chance of Admit\": 0.61}, {\"Serial No.\": 227, \"GRE Score\": 306, \"TOEFL Score\": 110, \"University Rating\": 2, \"SOP\": 3.5, \"LOR \": 4.0, \"CGPA\": 8.45, \"Research\": 0, \"Chance of Admit\": 0.63}, {\"Serial No.\": 228, \"GRE Score\": 312, \"TOEFL Score\": 110, \"University Rating\": 2, \"SOP\": 3.5, \"LOR \": 3.0, \"CGPA\": 8.53, \"Research\": 0, \"Chance of Admit\": 0.64}, {\"Serial No.\": 229, \"GRE Score\": 318, \"TOEFL Score\": 112, \"University Rating\": 3, \"SOP\": 4.0, \"LOR \": 3.5, \"CGPA\": 8.67, \"Research\": 0, \"Chance of Admit\": 0.71}, {\"Serial No.\": 230, \"GRE Score\": 324, \"TOEFL Score\": 111, \"University Rating\": 4, \"SOP\": 3.0, \"LOR \": 3.0, \"CGPA\": 9.01, \"Research\": 1, \"Chance of Admit\": 0.82}, {\"Serial No.\": 231, \"GRE Score\": 313, \"TOEFL Score\": 104, \"University Rating\": 3, \"SOP\": 4.0, \"LOR \": 4.5, \"CGPA\": 8.65, \"Research\": 0, \"Chance of Admit\": 0.73}, {\"Serial No.\": 232, \"GRE Score\": 319, \"TOEFL Score\": 106, \"University Rating\": 3, \"SOP\": 3.5, \"LOR \": 2.5, \"CGPA\": 8.33, \"Research\": 1, \"Chance of Admit\": 0.74}, {\"Serial No.\": 233, \"GRE Score\": 312, \"TOEFL Score\": 107, \"University Rating\": 2, \"SOP\": 2.5, \"LOR \": 3.5, \"CGPA\": 8.27, \"Research\": 0, \"Chance of Admit\": 0.69}, {\"Serial No.\": 234, \"GRE Score\": 304, \"TOEFL Score\": 100, \"University Rating\": 2, \"SOP\": 2.5, \"LOR \": 3.5, \"CGPA\": 8.07, \"Research\": 0, \"Chance of Admit\": 0.64}, {\"Serial No.\": 235, \"GRE Score\": 330, \"TOEFL Score\": 113, \"University Rating\": 5, \"SOP\": 5.0, \"LOR \": 4.0, \"CGPA\": 9.31, \"Research\": 1, \"Chance of Admit\": 0.91}, {\"Serial No.\": 236, \"GRE Score\": 326, \"TOEFL Score\": 111, \"University Rating\": 5, \"SOP\": 4.5, \"LOR \": 4.0, \"CGPA\": 9.23, \"Research\": 1, \"Chance of Admit\": 0.88}, {\"Serial No.\": 237, \"GRE Score\": 325, \"TOEFL Score\": 112, \"University Rating\": 4, \"SOP\": 4.0, \"LOR \": 4.5, \"CGPA\": 9.17, \"Research\": 1, \"Chance of Admit\": 0.85}, {\"Serial No.\": 238, \"GRE Score\": 329, \"TOEFL Score\": 114, \"University Rating\": 5, \"SOP\": 4.5, \"LOR \": 5.0, \"CGPA\": 9.19, \"Research\": 1, \"Chance of Admit\": 0.86}, {\"Serial No.\": 239, \"GRE Score\": 310, \"TOEFL Score\": 104, \"University Rating\": 3, \"SOP\": 2.0, \"LOR \": 3.5, \"CGPA\": 8.37, \"Research\": 0, \"Chance of Admit\": 0.7}, {\"Serial No.\": 240, \"GRE Score\": 299, \"TOEFL Score\": 100, \"University Rating\": 1, \"SOP\": 1.5, \"LOR \": 2.0, \"CGPA\": 7.89, \"Research\": 0, \"Chance of Admit\": 0.59}, {\"Serial No.\": 241, \"GRE Score\": 296, \"TOEFL Score\": 101, \"University Rating\": 1, \"SOP\": 2.5, \"LOR \": 3.0, \"CGPA\": 7.68, \"Research\": 0, \"Chance of Admit\": 0.6}, {\"Serial No.\": 242, \"GRE Score\": 317, \"TOEFL Score\": 103, \"University Rating\": 2, \"SOP\": 2.5, \"LOR \": 2.0, \"CGPA\": 8.15, \"Research\": 0, \"Chance of Admit\": 0.65}, {\"Serial No.\": 243, \"GRE Score\": 324, \"TOEFL Score\": 115, \"University Rating\": 3, \"SOP\": 3.5, \"LOR \": 3.0, \"CGPA\": 8.76, \"Research\": 1, \"Chance of Admit\": 0.7}, {\"Serial No.\": 244, \"GRE Score\": 325, \"TOEFL Score\": 114, \"University Rating\": 3, \"SOP\": 3.5, \"LOR \": 3.0, \"CGPA\": 9.04, \"Research\": 1, \"Chance of Admit\": 0.76}, {\"Serial No.\": 245, \"GRE Score\": 314, \"TOEFL Score\": 107, \"University Rating\": 2, \"SOP\": 2.5, \"LOR \": 4.0, \"CGPA\": 8.56, \"Research\": 0, \"Chance of Admit\": 0.63}, {\"Serial No.\": 246, \"GRE Score\": 328, \"TOEFL Score\": 110, \"University Rating\": 4, \"SOP\": 4.0, \"LOR \": 2.5, \"CGPA\": 9.02, \"Research\": 1, \"Chance of Admit\": 0.81}, {\"Serial No.\": 247, \"GRE Score\": 316, \"TOEFL Score\": 105, \"University Rating\": 3, \"SOP\": 3.0, \"LOR \": 3.5, \"CGPA\": 8.73, \"Research\": 0, \"Chance of Admit\": 0.72}, {\"Serial No.\": 248, \"GRE Score\": 311, \"TOEFL Score\": 104, \"University Rating\": 2, \"SOP\": 2.5, \"LOR \": 3.5, \"CGPA\": 8.48, \"Research\": 0, \"Chance of Admit\": 0.71}, {\"Serial No.\": 249, \"GRE Score\": 324, \"TOEFL Score\": 110, \"University Rating\": 3, \"SOP\": 3.5, \"LOR \": 4.0, \"CGPA\": 8.87, \"Research\": 1, \"Chance of Admit\": 0.8}, {\"Serial No.\": 250, \"GRE Score\": 321, \"TOEFL Score\": 111, \"University Rating\": 3, \"SOP\": 3.5, \"LOR \": 4.0, \"CGPA\": 8.83, \"Research\": 1, \"Chance of Admit\": 0.77}, {\"Serial No.\": 251, \"GRE Score\": 320, \"TOEFL Score\": 104, \"University Rating\": 3, \"SOP\": 3.0, \"LOR \": 2.5, \"CGPA\": 8.57, \"Research\": 1, \"Chance of Admit\": 0.74}, {\"Serial No.\": 252, \"GRE Score\": 316, \"TOEFL Score\": 99, \"University Rating\": 2, \"SOP\": 2.5, \"LOR \": 3.0, \"CGPA\": 9.0, \"Research\": 0, \"Chance of Admit\": 0.7}, {\"Serial No.\": 253, \"GRE Score\": 318, \"TOEFL Score\": 100, \"University Rating\": 2, \"SOP\": 2.5, \"LOR \": 3.5, \"CGPA\": 8.54, \"Research\": 1, \"Chance of Admit\": 0.71}, {\"Serial No.\": 254, \"GRE Score\": 335, \"TOEFL Score\": 115, \"University Rating\": 4, \"SOP\": 4.5, \"LOR \": 4.5, \"CGPA\": 9.68, \"Research\": 1, \"Chance of Admit\": 0.93}, {\"Serial No.\": 255, \"GRE Score\": 321, \"TOEFL Score\": 114, \"University Rating\": 4, \"SOP\": 4.0, \"LOR \": 5.0, \"CGPA\": 9.12, \"Research\": 0, \"Chance of Admit\": 0.85}, {\"Serial No.\": 256, \"GRE Score\": 307, \"TOEFL Score\": 110, \"University Rating\": 4, \"SOP\": 4.0, \"LOR \": 4.5, \"CGPA\": 8.37, \"Research\": 0, \"Chance of Admit\": 0.79}, {\"Serial No.\": 257, \"GRE Score\": 309, \"TOEFL Score\": 99, \"University Rating\": 3, \"SOP\": 4.0, \"LOR \": 4.0, \"CGPA\": 8.56, \"Research\": 0, \"Chance of Admit\": 0.76}, {\"Serial No.\": 258, \"GRE Score\": 324, \"TOEFL Score\": 100, \"University Rating\": 3, \"SOP\": 4.0, \"LOR \": 5.0, \"CGPA\": 8.64, \"Research\": 1, \"Chance of Admit\": 0.78}, {\"Serial No.\": 259, \"GRE Score\": 326, \"TOEFL Score\": 102, \"University Rating\": 4, \"SOP\": 5.0, \"LOR \": 5.0, \"CGPA\": 8.76, \"Research\": 1, \"Chance of Admit\": 0.77}, {\"Serial No.\": 260, \"GRE Score\": 331, \"TOEFL Score\": 119, \"University Rating\": 4, \"SOP\": 5.0, \"LOR \": 4.5, \"CGPA\": 9.34, \"Research\": 1, \"Chance of Admit\": 0.9}, {\"Serial No.\": 261, \"GRE Score\": 327, \"TOEFL Score\": 108, \"University Rating\": 5, \"SOP\": 5.0, \"LOR \": 3.5, \"CGPA\": 9.13, \"Research\": 1, \"Chance of Admit\": 0.87}, {\"Serial No.\": 262, \"GRE Score\": 312, \"TOEFL Score\": 104, \"University Rating\": 3, \"SOP\": 3.5, \"LOR \": 4.0, \"CGPA\": 8.09, \"Research\": 0, \"Chance of Admit\": 0.71}, {\"Serial No.\": 263, \"GRE Score\": 308, \"TOEFL Score\": 103, \"University Rating\": 2, \"SOP\": 2.5, \"LOR \": 4.0, \"CGPA\": 8.36, \"Research\": 1, \"Chance of Admit\": 0.7}, {\"Serial No.\": 264, \"GRE Score\": 324, \"TOEFL Score\": 111, \"University Rating\": 3, \"SOP\": 2.5, \"LOR \": 1.5, \"CGPA\": 8.79, \"Research\": 1, \"Chance of Admit\": 0.7}, {\"Serial No.\": 265, \"GRE Score\": 325, \"TOEFL Score\": 110, \"University Rating\": 2, \"SOP\": 3.0, \"LOR \": 2.5, \"CGPA\": 8.76, \"Research\": 1, \"Chance of Admit\": 0.75}, {\"Serial No.\": 266, \"GRE Score\": 313, \"TOEFL Score\": 102, \"University Rating\": 3, \"SOP\": 2.5, \"LOR \": 2.5, \"CGPA\": 8.68, \"Research\": 0, \"Chance of Admit\": 0.71}, {\"Serial No.\": 267, \"GRE Score\": 312, \"TOEFL Score\": 105, \"University Rating\": 2, \"SOP\": 2.0, \"LOR \": 2.5, \"CGPA\": 8.45, \"Research\": 0, \"Chance of Admit\": 0.72}, {\"Serial No.\": 268, \"GRE Score\": 314, \"TOEFL Score\": 107, \"University Rating\": 3, \"SOP\": 3.0, \"LOR \": 3.5, \"CGPA\": 8.17, \"Research\": 1, \"Chance of Admit\": 0.73}, {\"Serial No.\": 269, \"GRE Score\": 327, \"TOEFL Score\": 113, \"University Rating\": 4, \"SOP\": 4.5, \"LOR \": 5.0, \"CGPA\": 9.14, \"Research\": 0, \"Chance of Admit\": 0.83}, {\"Serial No.\": 270, \"GRE Score\": 308, \"TOEFL Score\": 108, \"University Rating\": 4, \"SOP\": 4.5, \"LOR \": 5.0, \"CGPA\": 8.34, \"Research\": 0, \"Chance of Admit\": 0.77}, {\"Serial No.\": 271, \"GRE Score\": 306, \"TOEFL Score\": 105, \"University Rating\": 2, \"SOP\": 2.5, \"LOR \": 3.0, \"CGPA\": 8.22, \"Research\": 1, \"Chance of Admit\": 0.72}, {\"Serial No.\": 272, \"GRE Score\": 299, \"TOEFL Score\": 96, \"University Rating\": 2, \"SOP\": 1.5, \"LOR \": 2.0, \"CGPA\": 7.86, \"Research\": 0, \"Chance of Admit\": 0.54}, {\"Serial No.\": 273, \"GRE Score\": 294, \"TOEFL Score\": 95, \"University Rating\": 1, \"SOP\": 1.5, \"LOR \": 1.5, \"CGPA\": 7.64, \"Research\": 0, \"Chance of Admit\": 0.49}, {\"Serial No.\": 274, \"GRE Score\": 312, \"TOEFL Score\": 99, \"University Rating\": 1, \"SOP\": 1.0, \"LOR \": 1.5, \"CGPA\": 8.01, \"Research\": 1, \"Chance of Admit\": 0.52}, {\"Serial No.\": 275, \"GRE Score\": 315, \"TOEFL Score\": 100, \"University Rating\": 1, \"SOP\": 2.0, \"LOR \": 2.5, \"CGPA\": 7.95, \"Research\": 0, \"Chance of Admit\": 0.58}, {\"Serial No.\": 276, \"GRE Score\": 322, \"TOEFL Score\": 110, \"University Rating\": 3, \"SOP\": 3.5, \"LOR \": 3.0, \"CGPA\": 8.96, \"Research\": 1, \"Chance of Admit\": 0.78}, {\"Serial No.\": 277, \"GRE Score\": 329, \"TOEFL Score\": 113, \"University Rating\": 5, \"SOP\": 5.0, \"LOR \": 4.5, \"CGPA\": 9.45, \"Research\": 1, \"Chance of Admit\": 0.89}, {\"Serial No.\": 278, \"GRE Score\": 320, \"TOEFL Score\": 101, \"University Rating\": 2, \"SOP\": 2.5, \"LOR \": 3.0, \"CGPA\": 8.62, \"Research\": 0, \"Chance of Admit\": 0.7}, {\"Serial No.\": 279, \"GRE Score\": 308, \"TOEFL Score\": 103, \"University Rating\": 2, \"SOP\": 3.0, \"LOR \": 3.5, \"CGPA\": 8.49, \"Research\": 0, \"Chance of Admit\": 0.66}, {\"Serial No.\": 280, \"GRE Score\": 304, \"TOEFL Score\": 102, \"University Rating\": 2, \"SOP\": 3.0, \"LOR \": 4.0, \"CGPA\": 8.73, \"Research\": 0, \"Chance of Admit\": 0.67}, {\"Serial No.\": 281, \"GRE Score\": 311, \"TOEFL Score\": 102, \"University Rating\": 3, \"SOP\": 4.5, \"LOR \": 4.0, \"CGPA\": 8.64, \"Research\": 1, \"Chance of Admit\": 0.68}, {\"Serial No.\": 282, \"GRE Score\": 317, \"TOEFL Score\": 110, \"University Rating\": 3, \"SOP\": 4.0, \"LOR \": 4.5, \"CGPA\": 9.11, \"Research\": 1, \"Chance of Admit\": 0.8}, {\"Serial No.\": 283, \"GRE Score\": 312, \"TOEFL Score\": 106, \"University Rating\": 3, \"SOP\": 4.0, \"LOR \": 3.5, \"CGPA\": 8.79, \"Research\": 1, \"Chance of Admit\": 0.81}, {\"Serial No.\": 284, \"GRE Score\": 321, \"TOEFL Score\": 111, \"University Rating\": 3, \"SOP\": 2.5, \"LOR \": 3.0, \"CGPA\": 8.9, \"Research\": 1, \"Chance of Admit\": 0.8}, {\"Serial No.\": 285, \"GRE Score\": 340, \"TOEFL Score\": 112, \"University Rating\": 4, \"SOP\": 5.0, \"LOR \": 4.5, \"CGPA\": 9.66, \"Research\": 1, \"Chance of Admit\": 0.94}, {\"Serial No.\": 286, \"GRE Score\": 331, \"TOEFL Score\": 116, \"University Rating\": 5, \"SOP\": 4.0, \"LOR \": 4.0, \"CGPA\": 9.26, \"Research\": 1, \"Chance of Admit\": 0.93}, {\"Serial No.\": 287, \"GRE Score\": 336, \"TOEFL Score\": 118, \"University Rating\": 5, \"SOP\": 4.5, \"LOR \": 4.0, \"CGPA\": 9.19, \"Research\": 1, \"Chance of Admit\": 0.92}, {\"Serial No.\": 288, \"GRE Score\": 324, \"TOEFL Score\": 114, \"University Rating\": 5, \"SOP\": 5.0, \"LOR \": 4.5, \"CGPA\": 9.08, \"Research\": 1, \"Chance of Admit\": 0.89}, {\"Serial No.\": 289, \"GRE Score\": 314, \"TOEFL Score\": 104, \"University Rating\": 4, \"SOP\": 5.0, \"LOR \": 5.0, \"CGPA\": 9.02, \"Research\": 0, \"Chance of Admit\": 0.82}, {\"Serial No.\": 290, \"GRE Score\": 313, \"TOEFL Score\": 109, \"University Rating\": 3, \"SOP\": 4.0, \"LOR \": 3.5, \"CGPA\": 9.0, \"Research\": 0, \"Chance of Admit\": 0.79}, {\"Serial No.\": 291, \"GRE Score\": 307, \"TOEFL Score\": 105, \"University Rating\": 2, \"SOP\": 2.5, \"LOR \": 3.0, \"CGPA\": 7.65, \"Research\": 0, \"Chance of Admit\": 0.58}, {\"Serial No.\": 292, \"GRE Score\": 300, \"TOEFL Score\": 102, \"University Rating\": 2, \"SOP\": 1.5, \"LOR \": 2.0, \"CGPA\": 7.87, \"Research\": 0, \"Chance of Admit\": 0.56}, {\"Serial No.\": 293, \"GRE Score\": 302, \"TOEFL Score\": 99, \"University Rating\": 2, \"SOP\": 1.0, \"LOR \": 2.0, \"CGPA\": 7.97, \"Research\": 0, \"Chance of Admit\": 0.56}, {\"Serial No.\": 294, \"GRE Score\": 312, \"TOEFL Score\": 98, \"University Rating\": 1, \"SOP\": 3.5, \"LOR \": 3.0, \"CGPA\": 8.18, \"Research\": 1, \"Chance of Admit\": 0.64}, {\"Serial No.\": 295, \"GRE Score\": 316, \"TOEFL Score\": 101, \"University Rating\": 2, \"SOP\": 2.5, \"LOR \": 2.0, \"CGPA\": 8.32, \"Research\": 1, \"Chance of Admit\": 0.61}, {\"Serial No.\": 296, \"GRE Score\": 317, \"TOEFL Score\": 100, \"University Rating\": 2, \"SOP\": 3.0, \"LOR \": 2.5, \"CGPA\": 8.57, \"Research\": 0, \"Chance of Admit\": 0.68}, {\"Serial No.\": 297, \"GRE Score\": 310, \"TOEFL Score\": 107, \"University Rating\": 3, \"SOP\": 3.5, \"LOR \": 3.5, \"CGPA\": 8.67, \"Research\": 0, \"Chance of Admit\": 0.76}, {\"Serial No.\": 298, \"GRE Score\": 320, \"TOEFL Score\": 120, \"University Rating\": 3, \"SOP\": 4.0, \"LOR \": 4.5, \"CGPA\": 9.11, \"Research\": 0, \"Chance of Admit\": 0.86}, {\"Serial No.\": 299, \"GRE Score\": 330, \"TOEFL Score\": 114, \"University Rating\": 3, \"SOP\": 4.5, \"LOR \": 4.5, \"CGPA\": 9.24, \"Research\": 1, \"Chance of Admit\": 0.9}, {\"Serial No.\": 300, \"GRE Score\": 305, \"TOEFL Score\": 112, \"University Rating\": 3, \"SOP\": 3.0, \"LOR \": 3.5, \"CGPA\": 8.65, \"Research\": 0, \"Chance of Admit\": 0.71}, {\"Serial No.\": 301, \"GRE Score\": 309, \"TOEFL Score\": 106, \"University Rating\": 2, \"SOP\": 2.5, \"LOR \": 2.5, \"CGPA\": 8.0, \"Research\": 0, \"Chance of Admit\": 0.62}, {\"Serial No.\": 302, \"GRE Score\": 319, \"TOEFL Score\": 108, \"University Rating\": 2, \"SOP\": 2.5, \"LOR \": 3.0, \"CGPA\": 8.76, \"Research\": 0, \"Chance of Admit\": 0.66}, {\"Serial No.\": 303, \"GRE Score\": 322, \"TOEFL Score\": 105, \"University Rating\": 2, \"SOP\": 3.0, \"LOR \": 3.0, \"CGPA\": 8.45, \"Research\": 1, \"Chance of Admit\": 0.65}, {\"Serial No.\": 304, \"GRE Score\": 323, \"TOEFL Score\": 107, \"University Rating\": 3, \"SOP\": 3.5, \"LOR \": 3.5, \"CGPA\": 8.55, \"Research\": 1, \"Chance of Admit\": 0.73}, {\"Serial No.\": 305, \"GRE Score\": 313, \"TOEFL Score\": 106, \"University Rating\": 2, \"SOP\": 2.5, \"LOR \": 2.0, \"CGPA\": 8.43, \"Research\": 0, \"Chance of Admit\": 0.62}, {\"Serial No.\": 306, \"GRE Score\": 321, \"TOEFL Score\": 109, \"University Rating\": 3, \"SOP\": 3.5, \"LOR \": 3.5, \"CGPA\": 8.8, \"Research\": 1, \"Chance of Admit\": 0.74}, {\"Serial No.\": 307, \"GRE Score\": 323, \"TOEFL Score\": 110, \"University Rating\": 3, \"SOP\": 4.0, \"LOR \": 3.5, \"CGPA\": 9.1, \"Research\": 1, \"Chance of Admit\": 0.79}, {\"Serial No.\": 308, \"GRE Score\": 325, \"TOEFL Score\": 112, \"University Rating\": 4, \"SOP\": 4.0, \"LOR \": 4.0, \"CGPA\": 9.0, \"Research\": 1, \"Chance of Admit\": 0.8}, {\"Serial No.\": 309, \"GRE Score\": 312, \"TOEFL Score\": 108, \"University Rating\": 3, \"SOP\": 3.5, \"LOR \": 3.0, \"CGPA\": 8.53, \"Research\": 0, \"Chance of Admit\": 0.69}, {\"Serial No.\": 310, \"GRE Score\": 308, \"TOEFL Score\": 110, \"University Rating\": 4, \"SOP\": 3.5, \"LOR \": 3.0, \"CGPA\": 8.6, \"Research\": 0, \"Chance of Admit\": 0.7}, {\"Serial No.\": 311, \"GRE Score\": 320, \"TOEFL Score\": 104, \"University Rating\": 3, \"SOP\": 3.0, \"LOR \": 3.5, \"CGPA\": 8.74, \"Research\": 1, \"Chance of Admit\": 0.76}, {\"Serial No.\": 312, \"GRE Score\": 328, \"TOEFL Score\": 108, \"University Rating\": 4, \"SOP\": 4.5, \"LOR \": 4.0, \"CGPA\": 9.18, \"Research\": 1, \"Chance of Admit\": 0.84}, {\"Serial No.\": 313, \"GRE Score\": 311, \"TOEFL Score\": 107, \"University Rating\": 4, \"SOP\": 4.5, \"LOR \": 4.5, \"CGPA\": 9.0, \"Research\": 1, \"Chance of Admit\": 0.78}, {\"Serial No.\": 314, \"GRE Score\": 301, \"TOEFL Score\": 100, \"University Rating\": 3, \"SOP\": 3.5, \"LOR \": 3.0, \"CGPA\": 8.04, \"Research\": 0, \"Chance of Admit\": 0.67}, {\"Serial No.\": 315, \"GRE Score\": 305, \"TOEFL Score\": 105, \"University Rating\": 2, \"SOP\": 3.0, \"LOR \": 4.0, \"CGPA\": 8.13, \"Research\": 0, \"Chance of Admit\": 0.66}, {\"Serial No.\": 316, \"GRE Score\": 308, \"TOEFL Score\": 104, \"University Rating\": 2, \"SOP\": 2.5, \"LOR \": 3.0, \"CGPA\": 8.07, \"Research\": 0, \"Chance of Admit\": 0.65}, {\"Serial No.\": 317, \"GRE Score\": 298, \"TOEFL Score\": 101, \"University Rating\": 2, \"SOP\": 1.5, \"LOR \": 2.0, \"CGPA\": 7.86, \"Research\": 0, \"Chance of Admit\": 0.54}, {\"Serial No.\": 318, \"GRE Score\": 300, \"TOEFL Score\": 99, \"University Rating\": 1, \"SOP\": 1.0, \"LOR \": 2.5, \"CGPA\": 8.01, \"Research\": 0, \"Chance of Admit\": 0.58}, {\"Serial No.\": 319, \"GRE Score\": 324, \"TOEFL Score\": 111, \"University Rating\": 3, \"SOP\": 2.5, \"LOR \": 2.0, \"CGPA\": 8.8, \"Research\": 1, \"Chance of Admit\": 0.79}, {\"Serial No.\": 320, \"GRE Score\": 327, \"TOEFL Score\": 113, \"University Rating\": 4, \"SOP\": 3.5, \"LOR \": 3.0, \"CGPA\": 8.69, \"Research\": 1, \"Chance of Admit\": 0.8}, {\"Serial No.\": 321, \"GRE Score\": 317, \"TOEFL Score\": 106, \"University Rating\": 3, \"SOP\": 4.0, \"LOR \": 3.5, \"CGPA\": 8.5, \"Research\": 1, \"Chance of Admit\": 0.75}, {\"Serial No.\": 322, \"GRE Score\": 323, \"TOEFL Score\": 104, \"University Rating\": 3, \"SOP\": 4.0, \"LOR \": 4.0, \"CGPA\": 8.44, \"Research\": 1, \"Chance of Admit\": 0.73}, {\"Serial No.\": 323, \"GRE Score\": 314, \"TOEFL Score\": 107, \"University Rating\": 2, \"SOP\": 2.5, \"LOR \": 4.0, \"CGPA\": 8.27, \"Research\": 0, \"Chance of Admit\": 0.72}, {\"Serial No.\": 324, \"GRE Score\": 305, \"TOEFL Score\": 102, \"University Rating\": 2, \"SOP\": 2.0, \"LOR \": 2.5, \"CGPA\": 8.18, \"Research\": 0, \"Chance of Admit\": 0.62}, {\"Serial No.\": 325, \"GRE Score\": 315, \"TOEFL Score\": 104, \"University Rating\": 3, \"SOP\": 3.0, \"LOR \": 2.5, \"CGPA\": 8.33, \"Research\": 0, \"Chance of Admit\": 0.67}, {\"Serial No.\": 326, \"GRE Score\": 326, \"TOEFL Score\": 116, \"University Rating\": 3, \"SOP\": 3.5, \"LOR \": 4.0, \"CGPA\": 9.14, \"Research\": 1, \"Chance of Admit\": 0.81}, {\"Serial No.\": 327, \"GRE Score\": 299, \"TOEFL Score\": 100, \"University Rating\": 3, \"SOP\": 2.0, \"LOR \": 2.0, \"CGPA\": 8.02, \"Research\": 0, \"Chance of Admit\": 0.63}, {\"Serial No.\": 328, \"GRE Score\": 295, \"TOEFL Score\": 101, \"University Rating\": 2, \"SOP\": 2.5, \"LOR \": 2.0, \"CGPA\": 7.86, \"Research\": 0, \"Chance of Admit\": 0.69}, {\"Serial No.\": 329, \"GRE Score\": 324, \"TOEFL Score\": 112, \"University Rating\": 4, \"SOP\": 4.0, \"LOR \": 3.5, \"CGPA\": 8.77, \"Research\": 1, \"Chance of Admit\": 0.8}, {\"Serial No.\": 330, \"GRE Score\": 297, \"TOEFL Score\": 96, \"University Rating\": 2, \"SOP\": 2.5, \"LOR \": 1.5, \"CGPA\": 7.89, \"Research\": 0, \"Chance of Admit\": 0.43}, {\"Serial No.\": 331, \"GRE Score\": 327, \"TOEFL Score\": 113, \"University Rating\": 3, \"SOP\": 3.5, \"LOR \": 3.0, \"CGPA\": 8.66, \"Research\": 1, \"Chance of Admit\": 0.8}, {\"Serial No.\": 332, \"GRE Score\": 311, \"TOEFL Score\": 105, \"University Rating\": 2, \"SOP\": 3.0, \"LOR \": 2.0, \"CGPA\": 8.12, \"Research\": 1, \"Chance of Admit\": 0.73}, {\"Serial No.\": 333, \"GRE Score\": 308, \"TOEFL Score\": 106, \"University Rating\": 3, \"SOP\": 3.5, \"LOR \": 2.5, \"CGPA\": 8.21, \"Research\": 1, \"Chance of Admit\": 0.75}, {\"Serial No.\": 334, \"GRE Score\": 319, \"TOEFL Score\": 108, \"University Rating\": 3, \"SOP\": 3.0, \"LOR \": 3.5, \"CGPA\": 8.54, \"Research\": 1, \"Chance of Admit\": 0.71}, {\"Serial No.\": 335, \"GRE Score\": 312, \"TOEFL Score\": 107, \"University Rating\": 4, \"SOP\": 4.5, \"LOR \": 4.0, \"CGPA\": 8.65, \"Research\": 1, \"Chance of Admit\": 0.73}, {\"Serial No.\": 336, \"GRE Score\": 325, \"TOEFL Score\": 111, \"University Rating\": 4, \"SOP\": 4.0, \"LOR \": 4.5, \"CGPA\": 9.11, \"Research\": 1, \"Chance of Admit\": 0.83}, {\"Serial No.\": 337, \"GRE Score\": 319, \"TOEFL Score\": 110, \"University Rating\": 3, \"SOP\": 3.0, \"LOR \": 2.5, \"CGPA\": 8.79, \"Research\": 0, \"Chance of Admit\": 0.72}, {\"Serial No.\": 338, \"GRE Score\": 332, \"TOEFL Score\": 118, \"University Rating\": 5, \"SOP\": 5.0, \"LOR \": 5.0, \"CGPA\": 9.47, \"Research\": 1, \"Chance of Admit\": 0.94}, {\"Serial No.\": 339, \"GRE Score\": 323, \"TOEFL Score\": 108, \"University Rating\": 5, \"SOP\": 4.0, \"LOR \": 4.0, \"CGPA\": 8.74, \"Research\": 1, \"Chance of Admit\": 0.81}, {\"Serial No.\": 340, \"GRE Score\": 324, \"TOEFL Score\": 107, \"University Rating\": 5, \"SOP\": 3.5, \"LOR \": 4.0, \"CGPA\": 8.66, \"Research\": 1, \"Chance of Admit\": 0.81}, {\"Serial No.\": 341, \"GRE Score\": 312, \"TOEFL Score\": 107, \"University Rating\": 3, \"SOP\": 3.0, \"LOR \": 3.0, \"CGPA\": 8.46, \"Research\": 1, \"Chance of Admit\": 0.75}, {\"Serial No.\": 342, \"GRE Score\": 326, \"TOEFL Score\": 110, \"University Rating\": 3, \"SOP\": 3.5, \"LOR \": 3.5, \"CGPA\": 8.76, \"Research\": 1, \"Chance of Admit\": 0.79}, {\"Serial No.\": 343, \"GRE Score\": 308, \"TOEFL Score\": 106, \"University Rating\": 3, \"SOP\": 3.0, \"LOR \": 3.0, \"CGPA\": 8.24, \"Research\": 0, \"Chance of Admit\": 0.58}, {\"Serial No.\": 344, \"GRE Score\": 305, \"TOEFL Score\": 103, \"University Rating\": 2, \"SOP\": 2.5, \"LOR \": 3.5, \"CGPA\": 8.13, \"Research\": 0, \"Chance of Admit\": 0.59}, {\"Serial No.\": 345, \"GRE Score\": 295, \"TOEFL Score\": 96, \"University Rating\": 2, \"SOP\": 1.5, \"LOR \": 2.0, \"CGPA\": 7.34, \"Research\": 0, \"Chance of Admit\": 0.47}, {\"Serial No.\": 346, \"GRE Score\": 316, \"TOEFL Score\": 98, \"University Rating\": 1, \"SOP\": 1.5, \"LOR \": 2.0, \"CGPA\": 7.43, \"Research\": 0, \"Chance of Admit\": 0.49}, {\"Serial No.\": 347, \"GRE Score\": 304, \"TOEFL Score\": 97, \"University Rating\": 2, \"SOP\": 1.5, \"LOR \": 2.0, \"CGPA\": 7.64, \"Research\": 0, \"Chance of Admit\": 0.47}, {\"Serial No.\": 348, \"GRE Score\": 299, \"TOEFL Score\": 94, \"University Rating\": 1, \"SOP\": 1.0, \"LOR \": 1.0, \"CGPA\": 7.34, \"Research\": 0, \"Chance of Admit\": 0.42}, {\"Serial No.\": 349, \"GRE Score\": 302, \"TOEFL Score\": 99, \"University Rating\": 1, \"SOP\": 2.0, \"LOR \": 2.0, \"CGPA\": 7.25, \"Research\": 0, \"Chance of Admit\": 0.57}, {\"Serial No.\": 350, \"GRE Score\": 313, \"TOEFL Score\": 101, \"University Rating\": 3, \"SOP\": 2.5, \"LOR \": 3.0, \"CGPA\": 8.04, \"Research\": 0, \"Chance of Admit\": 0.62}, {\"Serial No.\": 351, \"GRE Score\": 318, \"TOEFL Score\": 107, \"University Rating\": 3, \"SOP\": 3.0, \"LOR \": 3.5, \"CGPA\": 8.27, \"Research\": 1, \"Chance of Admit\": 0.74}, {\"Serial No.\": 352, \"GRE Score\": 325, \"TOEFL Score\": 110, \"University Rating\": 4, \"SOP\": 3.5, \"LOR \": 4.0, \"CGPA\": 8.67, \"Research\": 1, \"Chance of Admit\": 0.73}, {\"Serial No.\": 353, \"GRE Score\": 303, \"TOEFL Score\": 100, \"University Rating\": 2, \"SOP\": 3.0, \"LOR \": 3.5, \"CGPA\": 8.06, \"Research\": 1, \"Chance of Admit\": 0.64}, {\"Serial No.\": 354, \"GRE Score\": 300, \"TOEFL Score\": 102, \"University Rating\": 3, \"SOP\": 3.5, \"LOR \": 2.5, \"CGPA\": 8.17, \"Research\": 0, \"Chance of Admit\": 0.63}, {\"Serial No.\": 355, \"GRE Score\": 297, \"TOEFL Score\": 98, \"University Rating\": 2, \"SOP\": 2.5, \"LOR \": 3.0, \"CGPA\": 7.67, \"Research\": 0, \"Chance of Admit\": 0.59}, {\"Serial No.\": 356, \"GRE Score\": 317, \"TOEFL Score\": 106, \"University Rating\": 2, \"SOP\": 2.0, \"LOR \": 3.5, \"CGPA\": 8.12, \"Research\": 0, \"Chance of Admit\": 0.73}, {\"Serial No.\": 357, \"GRE Score\": 327, \"TOEFL Score\": 109, \"University Rating\": 3, \"SOP\": 3.5, \"LOR \": 4.0, \"CGPA\": 8.77, \"Research\": 1, \"Chance of Admit\": 0.79}, {\"Serial No.\": 358, \"GRE Score\": 301, \"TOEFL Score\": 104, \"University Rating\": 2, \"SOP\": 3.5, \"LOR \": 3.5, \"CGPA\": 7.89, \"Research\": 1, \"Chance of Admit\": 0.68}, {\"Serial No.\": 359, \"GRE Score\": 314, \"TOEFL Score\": 105, \"University Rating\": 2, \"SOP\": 2.5, \"LOR \": 2.0, \"CGPA\": 7.64, \"Research\": 0, \"Chance of Admit\": 0.7}, {\"Serial No.\": 360, \"GRE Score\": 321, \"TOEFL Score\": 107, \"University Rating\": 2, \"SOP\": 2.0, \"LOR \": 1.5, \"CGPA\": 8.44, \"Research\": 0, \"Chance of Admit\": 0.81}, {\"Serial No.\": 361, \"GRE Score\": 322, \"TOEFL Score\": 110, \"University Rating\": 3, \"SOP\": 4.0, \"LOR \": 5.0, \"CGPA\": 8.64, \"Research\": 1, \"Chance of Admit\": 0.85}, {\"Serial No.\": 362, \"GRE Score\": 334, \"TOEFL Score\": 116, \"University Rating\": 4, \"SOP\": 4.0, \"LOR \": 3.5, \"CGPA\": 9.54, \"Research\": 1, \"Chance of Admit\": 0.93}, {\"Serial No.\": 363, \"GRE Score\": 338, \"TOEFL Score\": 115, \"University Rating\": 5, \"SOP\": 4.5, \"LOR \": 5.0, \"CGPA\": 9.23, \"Research\": 1, \"Chance of Admit\": 0.91}, {\"Serial No.\": 364, \"GRE Score\": 306, \"TOEFL Score\": 103, \"University Rating\": 2, \"SOP\": 2.5, \"LOR \": 3.0, \"CGPA\": 8.36, \"Research\": 0, \"Chance of Admit\": 0.69}, {\"Serial No.\": 365, \"GRE Score\": 313, \"TOEFL Score\": 102, \"University Rating\": 3, \"SOP\": 3.5, \"LOR \": 4.0, \"CGPA\": 8.9, \"Research\": 1, \"Chance of Admit\": 0.77}, {\"Serial No.\": 366, \"GRE Score\": 330, \"TOEFL Score\": 114, \"University Rating\": 4, \"SOP\": 4.5, \"LOR \": 3.0, \"CGPA\": 9.17, \"Research\": 1, \"Chance of Admit\": 0.86}, {\"Serial No.\": 367, \"GRE Score\": 320, \"TOEFL Score\": 104, \"University Rating\": 3, \"SOP\": 3.5, \"LOR \": 4.5, \"CGPA\": 8.34, \"Research\": 1, \"Chance of Admit\": 0.74}, {\"Serial No.\": 368, \"GRE Score\": 311, \"TOEFL Score\": 98, \"University Rating\": 1, \"SOP\": 1.0, \"LOR \": 2.5, \"CGPA\": 7.46, \"Research\": 0, \"Chance of Admit\": 0.57}, {\"Serial No.\": 369, \"GRE Score\": 298, \"TOEFL Score\": 92, \"University Rating\": 1, \"SOP\": 2.0, \"LOR \": 2.0, \"CGPA\": 7.88, \"Research\": 0, \"Chance of Admit\": 0.51}, {\"Serial No.\": 370, \"GRE Score\": 301, \"TOEFL Score\": 98, \"University Rating\": 1, \"SOP\": 2.0, \"LOR \": 3.0, \"CGPA\": 8.03, \"Research\": 1, \"Chance of Admit\": 0.67}, {\"Serial No.\": 371, \"GRE Score\": 310, \"TOEFL Score\": 103, \"University Rating\": 2, \"SOP\": 2.5, \"LOR \": 2.5, \"CGPA\": 8.24, \"Research\": 0, \"Chance of Admit\": 0.72}, {\"Serial No.\": 372, \"GRE Score\": 324, \"TOEFL Score\": 110, \"University Rating\": 3, \"SOP\": 3.5, \"LOR \": 3.0, \"CGPA\": 9.22, \"Research\": 1, \"Chance of Admit\": 0.89}, {\"Serial No.\": 373, \"GRE Score\": 336, \"TOEFL Score\": 119, \"University Rating\": 4, \"SOP\": 4.5, \"LOR \": 4.0, \"CGPA\": 9.62, \"Research\": 1, \"Chance of Admit\": 0.95}, {\"Serial No.\": 374, \"GRE Score\": 321, \"TOEFL Score\": 109, \"University Rating\": 3, \"SOP\": 3.0, \"LOR \": 3.0, \"CGPA\": 8.54, \"Research\": 1, \"Chance of Admit\": 0.79}, {\"Serial No.\": 375, \"GRE Score\": 315, \"TOEFL Score\": 105, \"University Rating\": 2, \"SOP\": 2.0, \"LOR \": 2.5, \"CGPA\": 7.65, \"Research\": 0, \"Chance of Admit\": 0.39}, {\"Serial No.\": 376, \"GRE Score\": 304, \"TOEFL Score\": 101, \"University Rating\": 2, \"SOP\": 2.0, \"LOR \": 2.5, \"CGPA\": 7.66, \"Research\": 0, \"Chance of Admit\": 0.38}, {\"Serial No.\": 377, \"GRE Score\": 297, \"TOEFL Score\": 96, \"University Rating\": 2, \"SOP\": 2.5, \"LOR \": 2.0, \"CGPA\": 7.43, \"Research\": 0, \"Chance of Admit\": 0.34}, {\"Serial No.\": 378, \"GRE Score\": 290, \"TOEFL Score\": 100, \"University Rating\": 1, \"SOP\": 1.5, \"LOR \": 2.0, \"CGPA\": 7.56, \"Research\": 0, \"Chance of Admit\": 0.47}, {\"Serial No.\": 379, \"GRE Score\": 303, \"TOEFL Score\": 98, \"University Rating\": 1, \"SOP\": 2.0, \"LOR \": 2.5, \"CGPA\": 7.65, \"Research\": 0, \"Chance of Admit\": 0.56}, {\"Serial No.\": 380, \"GRE Score\": 311, \"TOEFL Score\": 99, \"University Rating\": 1, \"SOP\": 2.5, \"LOR \": 3.0, \"CGPA\": 8.43, \"Research\": 1, \"Chance of Admit\": 0.71}, {\"Serial No.\": 381, \"GRE Score\": 322, \"TOEFL Score\": 104, \"University Rating\": 3, \"SOP\": 3.5, \"LOR \": 4.0, \"CGPA\": 8.84, \"Research\": 1, \"Chance of Admit\": 0.78}, {\"Serial No.\": 382, \"GRE Score\": 319, \"TOEFL Score\": 105, \"University Rating\": 3, \"SOP\": 3.0, \"LOR \": 3.5, \"CGPA\": 8.67, \"Research\": 1, \"Chance of Admit\": 0.73}, {\"Serial No.\": 383, \"GRE Score\": 324, \"TOEFL Score\": 110, \"University Rating\": 4, \"SOP\": 4.5, \"LOR \": 4.0, \"CGPA\": 9.15, \"Research\": 1, \"Chance of Admit\": 0.82}, {\"Serial No.\": 384, \"GRE Score\": 300, \"TOEFL Score\": 100, \"University Rating\": 3, \"SOP\": 3.0, \"LOR \": 3.5, \"CGPA\": 8.26, \"Research\": 0, \"Chance of Admit\": 0.62}, {\"Serial No.\": 385, \"GRE Score\": 340, \"TOEFL Score\": 113, \"University Rating\": 4, \"SOP\": 5.0, \"LOR \": 5.0, \"CGPA\": 9.74, \"Research\": 1, \"Chance of Admit\": 0.96}, {\"Serial No.\": 386, \"GRE Score\": 335, \"TOEFL Score\": 117, \"University Rating\": 5, \"SOP\": 5.0, \"LOR \": 5.0, \"CGPA\": 9.82, \"Research\": 1, \"Chance of Admit\": 0.96}, {\"Serial No.\": 387, \"GRE Score\": 302, \"TOEFL Score\": 101, \"University Rating\": 2, \"SOP\": 2.5, \"LOR \": 3.5, \"CGPA\": 7.96, \"Research\": 0, \"Chance of Admit\": 0.46}, {\"Serial No.\": 388, \"GRE Score\": 307, \"TOEFL Score\": 105, \"University Rating\": 2, \"SOP\": 2.0, \"LOR \": 3.5, \"CGPA\": 8.1, \"Research\": 0, \"Chance of Admit\": 0.53}, {\"Serial No.\": 389, \"GRE Score\": 296, \"TOEFL Score\": 97, \"University Rating\": 2, \"SOP\": 1.5, \"LOR \": 2.0, \"CGPA\": 7.8, \"Research\": 0, \"Chance of Admit\": 0.49}, {\"Serial No.\": 390, \"GRE Score\": 320, \"TOEFL Score\": 108, \"University Rating\": 3, \"SOP\": 3.5, \"LOR \": 4.0, \"CGPA\": 8.44, \"Research\": 1, \"Chance of Admit\": 0.76}, {\"Serial No.\": 391, \"GRE Score\": 314, \"TOEFL Score\": 102, \"University Rating\": 2, \"SOP\": 2.0, \"LOR \": 2.5, \"CGPA\": 8.24, \"Research\": 0, \"Chance of Admit\": 0.64}, {\"Serial No.\": 392, \"GRE Score\": 318, \"TOEFL Score\": 106, \"University Rating\": 3, \"SOP\": 2.0, \"LOR \": 3.0, \"CGPA\": 8.65, \"Research\": 0, \"Chance of Admit\": 0.71}, {\"Serial No.\": 393, \"GRE Score\": 326, \"TOEFL Score\": 112, \"University Rating\": 4, \"SOP\": 4.0, \"LOR \": 3.5, \"CGPA\": 9.12, \"Research\": 1, \"Chance of Admit\": 0.84}, {\"Serial No.\": 394, \"GRE Score\": 317, \"TOEFL Score\": 104, \"University Rating\": 2, \"SOP\": 3.0, \"LOR \": 3.0, \"CGPA\": 8.76, \"Research\": 0, \"Chance of Admit\": 0.77}, {\"Serial No.\": 395, \"GRE Score\": 329, \"TOEFL Score\": 111, \"University Rating\": 4, \"SOP\": 4.5, \"LOR \": 4.0, \"CGPA\": 9.23, \"Research\": 1, \"Chance of Admit\": 0.89}, {\"Serial No.\": 396, \"GRE Score\": 324, \"TOEFL Score\": 110, \"University Rating\": 3, \"SOP\": 3.5, \"LOR \": 3.5, \"CGPA\": 9.04, \"Research\": 1, \"Chance of Admit\": 0.82}, {\"Serial No.\": 397, \"GRE Score\": 325, \"TOEFL Score\": 107, \"University Rating\": 3, \"SOP\": 3.0, \"LOR \": 3.5, \"CGPA\": 9.11, \"Research\": 1, \"Chance of Admit\": 0.84}, {\"Serial No.\": 398, \"GRE Score\": 330, \"TOEFL Score\": 116, \"University Rating\": 4, \"SOP\": 5.0, \"LOR \": 4.5, \"CGPA\": 9.45, \"Research\": 1, \"Chance of Admit\": 0.91}, {\"Serial No.\": 399, \"GRE Score\": 312, \"TOEFL Score\": 103, \"University Rating\": 3, \"SOP\": 3.5, \"LOR \": 4.0, \"CGPA\": 8.78, \"Research\": 0, \"Chance of Admit\": 0.67}, {\"Serial No.\": 400, \"GRE Score\": 333, \"TOEFL Score\": 117, \"University Rating\": 4, \"SOP\": 5.0, \"LOR \": 4.0, \"CGPA\": 9.66, \"Research\": 1, \"Chance of Admit\": 0.95}, {\"Serial No.\": 401, \"GRE Score\": 304, \"TOEFL Score\": 100, \"University Rating\": 2, \"SOP\": 3.5, \"LOR \": 3.0, \"CGPA\": 8.22, \"Research\": 0, \"Chance of Admit\": 0.63}, {\"Serial No.\": 402, \"GRE Score\": 315, \"TOEFL Score\": 105, \"University Rating\": 2, \"SOP\": 3.0, \"LOR \": 3.0, \"CGPA\": 8.34, \"Research\": 0, \"Chance of Admit\": 0.66}, {\"Serial No.\": 403, \"GRE Score\": 324, \"TOEFL Score\": 109, \"University Rating\": 3, \"SOP\": 3.5, \"LOR \": 3.0, \"CGPA\": 8.94, \"Research\": 1, \"Chance of Admit\": 0.78}, {\"Serial No.\": 404, \"GRE Score\": 330, \"TOEFL Score\": 116, \"University Rating\": 4, \"SOP\": 4.0, \"LOR \": 3.5, \"CGPA\": 9.23, \"Research\": 1, \"Chance of Admit\": 0.91}, {\"Serial No.\": 405, \"GRE Score\": 311, \"TOEFL Score\": 101, \"University Rating\": 3, \"SOP\": 2.0, \"LOR \": 2.5, \"CGPA\": 7.64, \"Research\": 1, \"Chance of Admit\": 0.62}, {\"Serial No.\": 406, \"GRE Score\": 302, \"TOEFL Score\": 99, \"University Rating\": 3, \"SOP\": 2.5, \"LOR \": 3.0, \"CGPA\": 7.45, \"Research\": 0, \"Chance of Admit\": 0.52}, {\"Serial No.\": 407, \"GRE Score\": 322, \"TOEFL Score\": 103, \"University Rating\": 4, \"SOP\": 3.0, \"LOR \": 2.5, \"CGPA\": 8.02, \"Research\": 1, \"Chance of Admit\": 0.61}, {\"Serial No.\": 408, \"GRE Score\": 298, \"TOEFL Score\": 100, \"University Rating\": 3, \"SOP\": 2.5, \"LOR \": 4.0, \"CGPA\": 7.95, \"Research\": 1, \"Chance of Admit\": 0.58}, {\"Serial No.\": 409, \"GRE Score\": 297, \"TOEFL Score\": 101, \"University Rating\": 3, \"SOP\": 2.0, \"LOR \": 4.0, \"CGPA\": 7.67, \"Research\": 1, \"Chance of Admit\": 0.57}, {\"Serial No.\": 410, \"GRE Score\": 300, \"TOEFL Score\": 98, \"University Rating\": 1, \"SOP\": 2.0, \"LOR \": 2.5, \"CGPA\": 8.02, \"Research\": 0, \"Chance of Admit\": 0.61}, {\"Serial No.\": 411, \"GRE Score\": 301, \"TOEFL Score\": 96, \"University Rating\": 1, \"SOP\": 3.0, \"LOR \": 4.0, \"CGPA\": 7.56, \"Research\": 0, \"Chance of Admit\": 0.54}, {\"Serial No.\": 412, \"GRE Score\": 313, \"TOEFL Score\": 94, \"University Rating\": 2, \"SOP\": 2.5, \"LOR \": 1.5, \"CGPA\": 8.13, \"Research\": 0, \"Chance of Admit\": 0.56}, {\"Serial No.\": 413, \"GRE Score\": 314, \"TOEFL Score\": 102, \"University Rating\": 4, \"SOP\": 2.5, \"LOR \": 2.0, \"CGPA\": 7.88, \"Research\": 1, \"Chance of Admit\": 0.59}, {\"Serial No.\": 414, \"GRE Score\": 317, \"TOEFL Score\": 101, \"University Rating\": 3, \"SOP\": 3.0, \"LOR \": 2.0, \"CGPA\": 7.94, \"Research\": 1, \"Chance of Admit\": 0.49}, {\"Serial No.\": 415, \"GRE Score\": 321, \"TOEFL Score\": 110, \"University Rating\": 4, \"SOP\": 3.5, \"LOR \": 4.0, \"CGPA\": 8.35, \"Research\": 1, \"Chance of Admit\": 0.72}, {\"Serial No.\": 416, \"GRE Score\": 327, \"TOEFL Score\": 106, \"University Rating\": 4, \"SOP\": 4.0, \"LOR \": 4.5, \"CGPA\": 8.75, \"Research\": 1, \"Chance of Admit\": 0.76}, {\"Serial No.\": 417, \"GRE Score\": 315, \"TOEFL Score\": 104, \"University Rating\": 3, \"SOP\": 4.0, \"LOR \": 2.5, \"CGPA\": 8.1, \"Research\": 0, \"Chance of Admit\": 0.65}, {\"Serial No.\": 418, \"GRE Score\": 316, \"TOEFL Score\": 103, \"University Rating\": 3, \"SOP\": 3.5, \"LOR \": 2.0, \"CGPA\": 7.68, \"Research\": 0, \"Chance of Admit\": 0.52}, {\"Serial No.\": 419, \"GRE Score\": 309, \"TOEFL Score\": 111, \"University Rating\": 2, \"SOP\": 2.5, \"LOR \": 4.0, \"CGPA\": 8.03, \"Research\": 0, \"Chance of Admit\": 0.6}, {\"Serial No.\": 420, \"GRE Score\": 308, \"TOEFL Score\": 102, \"University Rating\": 2, \"SOP\": 2.0, \"LOR \": 3.5, \"CGPA\": 7.98, \"Research\": 1, \"Chance of Admit\": 0.58}, {\"Serial No.\": 421, \"GRE Score\": 299, \"TOEFL Score\": 100, \"University Rating\": 3, \"SOP\": 2.0, \"LOR \": 3.0, \"CGPA\": 7.42, \"Research\": 0, \"Chance of Admit\": 0.42}, {\"Serial No.\": 422, \"GRE Score\": 321, \"TOEFL Score\": 112, \"University Rating\": 3, \"SOP\": 3.0, \"LOR \": 4.5, \"CGPA\": 8.95, \"Research\": 1, \"Chance of Admit\": 0.77}, {\"Serial No.\": 423, \"GRE Score\": 322, \"TOEFL Score\": 112, \"University Rating\": 4, \"SOP\": 3.5, \"LOR \": 2.5, \"CGPA\": 9.02, \"Research\": 1, \"Chance of Admit\": 0.73}, {\"Serial No.\": 424, \"GRE Score\": 334, \"TOEFL Score\": 119, \"University Rating\": 5, \"SOP\": 4.5, \"LOR \": 5.0, \"CGPA\": 9.54, \"Research\": 1, \"Chance of Admit\": 0.94}, {\"Serial No.\": 425, \"GRE Score\": 325, \"TOEFL Score\": 114, \"University Rating\": 5, \"SOP\": 4.0, \"LOR \": 5.0, \"CGPA\": 9.46, \"Research\": 1, \"Chance of Admit\": 0.91}, {\"Serial No.\": 426, \"GRE Score\": 323, \"TOEFL Score\": 111, \"University Rating\": 5, \"SOP\": 4.0, \"LOR \": 5.0, \"CGPA\": 9.86, \"Research\": 1, \"Chance of Admit\": 0.92}, {\"Serial No.\": 427, \"GRE Score\": 312, \"TOEFL Score\": 106, \"University Rating\": 3, \"SOP\": 3.0, \"LOR \": 5.0, \"CGPA\": 8.57, \"Research\": 0, \"Chance of Admit\": 0.71}, {\"Serial No.\": 428, \"GRE Score\": 310, \"TOEFL Score\": 101, \"University Rating\": 3, \"SOP\": 3.5, \"LOR \": 5.0, \"CGPA\": 8.65, \"Research\": 1, \"Chance of Admit\": 0.71}, {\"Serial No.\": 429, \"GRE Score\": 316, \"TOEFL Score\": 103, \"University Rating\": 2, \"SOP\": 2.0, \"LOR \": 4.5, \"CGPA\": 8.74, \"Research\": 0, \"Chance of Admit\": 0.69}, {\"Serial No.\": 430, \"GRE Score\": 340, \"TOEFL Score\": 115, \"University Rating\": 5, \"SOP\": 5.0, \"LOR \": 4.5, \"CGPA\": 9.06, \"Research\": 1, \"Chance of Admit\": 0.95}, {\"Serial No.\": 431, \"GRE Score\": 311, \"TOEFL Score\": 104, \"University Rating\": 3, \"SOP\": 4.0, \"LOR \": 3.5, \"CGPA\": 8.13, \"Research\": 1, \"Chance of Admit\": 0.74}, {\"Serial No.\": 432, \"GRE Score\": 320, \"TOEFL Score\": 112, \"University Rating\": 2, \"SOP\": 3.5, \"LOR \": 3.5, \"CGPA\": 8.78, \"Research\": 1, \"Chance of Admit\": 0.73}, {\"Serial No.\": 433, \"GRE Score\": 324, \"TOEFL Score\": 112, \"University Rating\": 4, \"SOP\": 4.5, \"LOR \": 4.0, \"CGPA\": 9.22, \"Research\": 1, \"Chance of Admit\": 0.86}, {\"Serial No.\": 434, \"GRE Score\": 316, \"TOEFL Score\": 111, \"University Rating\": 4, \"SOP\": 4.0, \"LOR \": 5.0, \"CGPA\": 8.54, \"Research\": 0, \"Chance of Admit\": 0.71}, {\"Serial No.\": 435, \"GRE Score\": 306, \"TOEFL Score\": 103, \"University Rating\": 3, \"SOP\": 3.5, \"LOR \": 3.0, \"CGPA\": 8.21, \"Research\": 0, \"Chance of Admit\": 0.64}, {\"Serial No.\": 436, \"GRE Score\": 309, \"TOEFL Score\": 105, \"University Rating\": 2, \"SOP\": 2.5, \"LOR \": 4.0, \"CGPA\": 7.68, \"Research\": 0, \"Chance of Admit\": 0.55}, {\"Serial No.\": 437, \"GRE Score\": 310, \"TOEFL Score\": 110, \"University Rating\": 1, \"SOP\": 1.5, \"LOR \": 4.0, \"CGPA\": 7.23, \"Research\": 1, \"Chance of Admit\": 0.58}, {\"Serial No.\": 438, \"GRE Score\": 317, \"TOEFL Score\": 106, \"University Rating\": 1, \"SOP\": 1.5, \"LOR \": 3.5, \"CGPA\": 7.65, \"Research\": 1, \"Chance of Admit\": 0.61}, {\"Serial No.\": 439, \"GRE Score\": 318, \"TOEFL Score\": 110, \"University Rating\": 1, \"SOP\": 2.5, \"LOR \": 3.5, \"CGPA\": 8.54, \"Research\": 1, \"Chance of Admit\": 0.67}, {\"Serial No.\": 440, \"GRE Score\": 312, \"TOEFL Score\": 105, \"University Rating\": 2, \"SOP\": 1.5, \"LOR \": 3.0, \"CGPA\": 8.46, \"Research\": 0, \"Chance of Admit\": 0.66}, {\"Serial No.\": 441, \"GRE Score\": 305, \"TOEFL Score\": 104, \"University Rating\": 2, \"SOP\": 2.5, \"LOR \": 1.5, \"CGPA\": 7.79, \"Research\": 0, \"Chance of Admit\": 0.53}, {\"Serial No.\": 442, \"GRE Score\": 332, \"TOEFL Score\": 112, \"University Rating\": 1, \"SOP\": 1.5, \"LOR \": 3.0, \"CGPA\": 8.66, \"Research\": 1, \"Chance of Admit\": 0.79}, {\"Serial No.\": 443, \"GRE Score\": 331, \"TOEFL Score\": 116, \"University Rating\": 4, \"SOP\": 4.5, \"LOR \": 4.5, \"CGPA\": 9.44, \"Research\": 1, \"Chance of Admit\": 0.92}, {\"Serial No.\": 444, \"GRE Score\": 321, \"TOEFL Score\": 114, \"University Rating\": 5, \"SOP\": 4.5, \"LOR \": 4.5, \"CGPA\": 9.16, \"Research\": 1, \"Chance of Admit\": 0.87}, {\"Serial No.\": 445, \"GRE Score\": 324, \"TOEFL Score\": 113, \"University Rating\": 5, \"SOP\": 4.0, \"LOR \": 5.0, \"CGPA\": 9.25, \"Research\": 1, \"Chance of Admit\": 0.92}, {\"Serial No.\": 446, \"GRE Score\": 328, \"TOEFL Score\": 116, \"University Rating\": 5, \"SOP\": 4.5, \"LOR \": 5.0, \"CGPA\": 9.08, \"Research\": 1, \"Chance of Admit\": 0.91}, {\"Serial No.\": 447, \"GRE Score\": 327, \"TOEFL Score\": 118, \"University Rating\": 4, \"SOP\": 5.0, \"LOR \": 5.0, \"CGPA\": 9.67, \"Research\": 1, \"Chance of Admit\": 0.93}, {\"Serial No.\": 448, \"GRE Score\": 320, \"TOEFL Score\": 108, \"University Rating\": 3, \"SOP\": 3.5, \"LOR \": 5.0, \"CGPA\": 8.97, \"Research\": 1, \"Chance of Admit\": 0.84}, {\"Serial No.\": 449, \"GRE Score\": 312, \"TOEFL Score\": 109, \"University Rating\": 2, \"SOP\": 2.5, \"LOR \": 4.0, \"CGPA\": 9.02, \"Research\": 0, \"Chance of Admit\": 0.8}, {\"Serial No.\": 450, \"GRE Score\": 315, \"TOEFL Score\": 101, \"University Rating\": 3, \"SOP\": 3.5, \"LOR \": 4.5, \"CGPA\": 9.13, \"Research\": 0, \"Chance of Admit\": 0.79}, {\"Serial No.\": 451, \"GRE Score\": 320, \"TOEFL Score\": 112, \"University Rating\": 4, \"SOP\": 3.0, \"LOR \": 4.5, \"CGPA\": 8.86, \"Research\": 1, \"Chance of Admit\": 0.82}, {\"Serial No.\": 452, \"GRE Score\": 324, \"TOEFL Score\": 113, \"University Rating\": 4, \"SOP\": 4.5, \"LOR \": 4.5, \"CGPA\": 9.25, \"Research\": 1, \"Chance of Admit\": 0.89}, {\"Serial No.\": 453, \"GRE Score\": 328, \"TOEFL Score\": 116, \"University Rating\": 4, \"SOP\": 5.0, \"LOR \": 3.5, \"CGPA\": 9.6, \"Research\": 1, \"Chance of Admit\": 0.93}, {\"Serial No.\": 454, \"GRE Score\": 319, \"TOEFL Score\": 103, \"University Rating\": 3, \"SOP\": 2.5, \"LOR \": 4.0, \"CGPA\": 8.76, \"Research\": 1, \"Chance of Admit\": 0.73}, {\"Serial No.\": 455, \"GRE Score\": 310, \"TOEFL Score\": 105, \"University Rating\": 2, \"SOP\": 3.0, \"LOR \": 3.5, \"CGPA\": 8.01, \"Research\": 0, \"Chance of Admit\": 0.71}, {\"Serial No.\": 456, \"GRE Score\": 305, \"TOEFL Score\": 102, \"University Rating\": 2, \"SOP\": 1.5, \"LOR \": 2.5, \"CGPA\": 7.64, \"Research\": 0, \"Chance of Admit\": 0.59}, {\"Serial No.\": 457, \"GRE Score\": 299, \"TOEFL Score\": 100, \"University Rating\": 2, \"SOP\": 2.0, \"LOR \": 2.0, \"CGPA\": 7.88, \"Research\": 0, \"Chance of Admit\": 0.51}, {\"Serial No.\": 458, \"GRE Score\": 295, \"TOEFL Score\": 99, \"University Rating\": 1, \"SOP\": 2.0, \"LOR \": 1.5, \"CGPA\": 7.57, \"Research\": 0, \"Chance of Admit\": 0.37}, {\"Serial No.\": 459, \"GRE Score\": 312, \"TOEFL Score\": 100, \"University Rating\": 1, \"SOP\": 3.0, \"LOR \": 3.0, \"CGPA\": 8.53, \"Research\": 1, \"Chance of Admit\": 0.69}, {\"Serial No.\": 460, \"GRE Score\": 329, \"TOEFL Score\": 113, \"University Rating\": 4, \"SOP\": 4.0, \"LOR \": 3.5, \"CGPA\": 9.36, \"Research\": 1, \"Chance of Admit\": 0.89}, {\"Serial No.\": 461, \"GRE Score\": 319, \"TOEFL Score\": 105, \"University Rating\": 4, \"SOP\": 4.0, \"LOR \": 4.5, \"CGPA\": 8.66, \"Research\": 1, \"Chance of Admit\": 0.77}, {\"Serial No.\": 462, \"GRE Score\": 301, \"TOEFL Score\": 102, \"University Rating\": 3, \"SOP\": 2.5, \"LOR \": 2.0, \"CGPA\": 8.13, \"Research\": 1, \"Chance of Admit\": 0.68}, {\"Serial No.\": 463, \"GRE Score\": 307, \"TOEFL Score\": 105, \"University Rating\": 4, \"SOP\": 3.0, \"LOR \": 3.0, \"CGPA\": 7.94, \"Research\": 0, \"Chance of Admit\": 0.62}, {\"Serial No.\": 464, \"GRE Score\": 304, \"TOEFL Score\": 107, \"University Rating\": 3, \"SOP\": 3.5, \"LOR \": 3.0, \"CGPA\": 7.86, \"Research\": 0, \"Chance of Admit\": 0.57}, {\"Serial No.\": 465, \"GRE Score\": 298, \"TOEFL Score\": 97, \"University Rating\": 2, \"SOP\": 2.0, \"LOR \": 3.0, \"CGPA\": 7.21, \"Research\": 0, \"Chance of Admit\": 0.45}, {\"Serial No.\": 466, \"GRE Score\": 305, \"TOEFL Score\": 96, \"University Rating\": 4, \"SOP\": 3.0, \"LOR \": 4.5, \"CGPA\": 8.26, \"Research\": 0, \"Chance of Admit\": 0.54}, {\"Serial No.\": 467, \"GRE Score\": 314, \"TOEFL Score\": 99, \"University Rating\": 4, \"SOP\": 3.5, \"LOR \": 4.5, \"CGPA\": 8.73, \"Research\": 1, \"Chance of Admit\": 0.71}, {\"Serial No.\": 468, \"GRE Score\": 318, \"TOEFL Score\": 101, \"University Rating\": 5, \"SOP\": 3.5, \"LOR \": 5.0, \"CGPA\": 8.78, \"Research\": 1, \"Chance of Admit\": 0.78}, {\"Serial No.\": 469, \"GRE Score\": 323, \"TOEFL Score\": 110, \"University Rating\": 4, \"SOP\": 4.0, \"LOR \": 5.0, \"CGPA\": 8.88, \"Research\": 1, \"Chance of Admit\": 0.81}, {\"Serial No.\": 470, \"GRE Score\": 326, \"TOEFL Score\": 114, \"University Rating\": 4, \"SOP\": 4.0, \"LOR \": 3.5, \"CGPA\": 9.16, \"Research\": 1, \"Chance of Admit\": 0.86}, {\"Serial No.\": 471, \"GRE Score\": 320, \"TOEFL Score\": 110, \"University Rating\": 5, \"SOP\": 4.0, \"LOR \": 4.0, \"CGPA\": 9.27, \"Research\": 1, \"Chance of Admit\": 0.87}, {\"Serial No.\": 472, \"GRE Score\": 311, \"TOEFL Score\": 103, \"University Rating\": 3, \"SOP\": 2.0, \"LOR \": 4.0, \"CGPA\": 8.09, \"Research\": 0, \"Chance of Admit\": 0.64}, {\"Serial No.\": 473, \"GRE Score\": 327, \"TOEFL Score\": 116, \"University Rating\": 4, \"SOP\": 4.0, \"LOR \": 4.5, \"CGPA\": 9.48, \"Research\": 1, \"Chance of Admit\": 0.9}, {\"Serial No.\": 474, \"GRE Score\": 316, \"TOEFL Score\": 102, \"University Rating\": 2, \"SOP\": 4.0, \"LOR \": 3.5, \"CGPA\": 8.15, \"Research\": 0, \"Chance of Admit\": 0.67}, {\"Serial No.\": 475, \"GRE Score\": 308, \"TOEFL Score\": 105, \"University Rating\": 4, \"SOP\": 3.0, \"LOR \": 2.5, \"CGPA\": 7.95, \"Research\": 1, \"Chance of Admit\": 0.67}, {\"Serial No.\": 476, \"GRE Score\": 300, \"TOEFL Score\": 101, \"University Rating\": 3, \"SOP\": 3.5, \"LOR \": 2.5, \"CGPA\": 7.88, \"Research\": 0, \"Chance of Admit\": 0.59}, {\"Serial No.\": 477, \"GRE Score\": 304, \"TOEFL Score\": 104, \"University Rating\": 3, \"SOP\": 2.5, \"LOR \": 2.0, \"CGPA\": 8.12, \"Research\": 0, \"Chance of Admit\": 0.62}, {\"Serial No.\": 478, \"GRE Score\": 309, \"TOEFL Score\": 105, \"University Rating\": 4, \"SOP\": 3.5, \"LOR \": 2.0, \"CGPA\": 8.18, \"Research\": 0, \"Chance of Admit\": 0.65}, {\"Serial No.\": 479, \"GRE Score\": 318, \"TOEFL Score\": 103, \"University Rating\": 3, \"SOP\": 4.0, \"LOR \": 4.5, \"CGPA\": 8.49, \"Research\": 1, \"Chance of Admit\": 0.71}, {\"Serial No.\": 480, \"GRE Score\": 325, \"TOEFL Score\": 110, \"University Rating\": 4, \"SOP\": 4.5, \"LOR \": 4.0, \"CGPA\": 8.96, \"Research\": 1, \"Chance of Admit\": 0.79}, {\"Serial No.\": 481, \"GRE Score\": 321, \"TOEFL Score\": 102, \"University Rating\": 3, \"SOP\": 3.5, \"LOR \": 4.0, \"CGPA\": 9.01, \"Research\": 1, \"Chance of Admit\": 0.8}, {\"Serial No.\": 482, \"GRE Score\": 323, \"TOEFL Score\": 107, \"University Rating\": 4, \"SOP\": 3.0, \"LOR \": 2.5, \"CGPA\": 8.48, \"Research\": 1, \"Chance of Admit\": 0.78}, {\"Serial No.\": 483, \"GRE Score\": 328, \"TOEFL Score\": 113, \"University Rating\": 4, \"SOP\": 4.0, \"LOR \": 2.5, \"CGPA\": 8.77, \"Research\": 1, \"Chance of Admit\": 0.83}, {\"Serial No.\": 484, \"GRE Score\": 304, \"TOEFL Score\": 103, \"University Rating\": 5, \"SOP\": 5.0, \"LOR \": 3.0, \"CGPA\": 7.92, \"Research\": 0, \"Chance of Admit\": 0.71}, {\"Serial No.\": 485, \"GRE Score\": 317, \"TOEFL Score\": 106, \"University Rating\": 3, \"SOP\": 3.5, \"LOR \": 3.0, \"CGPA\": 7.89, \"Research\": 1, \"Chance of Admit\": 0.73}, {\"Serial No.\": 486, \"GRE Score\": 311, \"TOEFL Score\": 101, \"University Rating\": 2, \"SOP\": 2.5, \"LOR \": 3.5, \"CGPA\": 8.34, \"Research\": 1, \"Chance of Admit\": 0.7}, {\"Serial No.\": 487, \"GRE Score\": 319, \"TOEFL Score\": 102, \"University Rating\": 3, \"SOP\": 2.5, \"LOR \": 2.5, \"CGPA\": 8.37, \"Research\": 0, \"Chance of Admit\": 0.68}, {\"Serial No.\": 488, \"GRE Score\": 327, \"TOEFL Score\": 115, \"University Rating\": 4, \"SOP\": 3.5, \"LOR \": 4.0, \"CGPA\": 9.14, \"Research\": 0, \"Chance of Admit\": 0.79}, {\"Serial No.\": 489, \"GRE Score\": 322, \"TOEFL Score\": 112, \"University Rating\": 3, \"SOP\": 3.0, \"LOR \": 4.0, \"CGPA\": 8.62, \"Research\": 1, \"Chance of Admit\": 0.76}, {\"Serial No.\": 490, \"GRE Score\": 302, \"TOEFL Score\": 110, \"University Rating\": 3, \"SOP\": 4.0, \"LOR \": 4.5, \"CGPA\": 8.5, \"Research\": 0, \"Chance of Admit\": 0.65}, {\"Serial No.\": 491, \"GRE Score\": 307, \"TOEFL Score\": 105, \"University Rating\": 2, \"SOP\": 2.5, \"LOR \": 4.5, \"CGPA\": 8.12, \"Research\": 1, \"Chance of Admit\": 0.67}, {\"Serial No.\": 492, \"GRE Score\": 297, \"TOEFL Score\": 99, \"University Rating\": 4, \"SOP\": 3.0, \"LOR \": 3.5, \"CGPA\": 7.81, \"Research\": 0, \"Chance of Admit\": 0.54}, {\"Serial No.\": 493, \"GRE Score\": 298, \"TOEFL Score\": 101, \"University Rating\": 4, \"SOP\": 2.5, \"LOR \": 4.5, \"CGPA\": 7.69, \"Research\": 1, \"Chance of Admit\": 0.53}, {\"Serial No.\": 494, \"GRE Score\": 300, \"TOEFL Score\": 95, \"University Rating\": 2, \"SOP\": 3.0, \"LOR \": 1.5, \"CGPA\": 8.22, \"Research\": 1, \"Chance of Admit\": 0.62}, {\"Serial No.\": 495, \"GRE Score\": 301, \"TOEFL Score\": 99, \"University Rating\": 3, \"SOP\": 2.5, \"LOR \": 2.0, \"CGPA\": 8.45, \"Research\": 1, \"Chance of Admit\": 0.68}, {\"Serial No.\": 496, \"GRE Score\": 332, \"TOEFL Score\": 108, \"University Rating\": 5, \"SOP\": 4.5, \"LOR \": 4.0, \"CGPA\": 9.02, \"Research\": 1, \"Chance of Admit\": 0.87}, {\"Serial No.\": 497, \"GRE Score\": 337, \"TOEFL Score\": 117, \"University Rating\": 5, \"SOP\": 5.0, \"LOR \": 5.0, \"CGPA\": 9.87, \"Research\": 1, \"Chance of Admit\": 0.96}, {\"Serial No.\": 498, \"GRE Score\": 330, \"TOEFL Score\": 120, \"University Rating\": 5, \"SOP\": 4.5, \"LOR \": 5.0, \"CGPA\": 9.56, \"Research\": 1, \"Chance of Admit\": 0.93}, {\"Serial No.\": 499, \"GRE Score\": 312, \"TOEFL Score\": 103, \"University Rating\": 4, \"SOP\": 4.0, \"LOR \": 5.0, \"CGPA\": 8.43, \"Research\": 0, \"Chance of Admit\": 0.73}, {\"Serial No.\": 500, \"GRE Score\": 327, \"TOEFL Score\": 113, \"University Rating\": 4, \"SOP\": 4.5, \"LOR \": 4.5, \"CGPA\": 9.04, \"Research\": 0, \"Chance of Admit\": 0.84}]}}, {\"mode\": \"vega-lite\"});\n",
       "</script>"
      ],
      "text/plain": [
       "alt.LayerChart(...)"
      ]
     },
     "execution_count": 169,
     "metadata": {},
     "output_type": "execute_result"
    }
   ],
   "source": [
    "### PLOT YOUR REGRESSION LINE\n",
    "chart = alt.Chart(df).mark_point().encode(\n",
    "    alt.X('GRE Score', scale=alt.Scale(domain=(df['GRE Score'].min(), df['GRE Score'].max()))),\n",
    "    alt.Y('Chance of Admit', scale=alt.Scale(domain=(df['Chance of Admit'].min(), df['Chance of Admit'].max())))   \n",
    ")\n",
    "chart + chart.transform_regression('GRE Score', 'Chance of Admit').mark_line(color='red')"
   ]
  },
  {
   "cell_type": "markdown",
   "metadata": {},
   "source": [
    "### Question 4b - Communicate Your Results\n",
    "\n",
    "Explain in the cell below what your regression line means."
   ]
  },
  {
   "cell_type": "markdown",
   "metadata": {},
   "source": [
    "GRE SCORE is directly proportional to Chance of Admit, highly correlated. "
   ]
  },
  {
   "cell_type": "markdown",
   "metadata": {},
   "source": [
    "### Question 4 BONUS\n",
    "\n",
    "Answer all the questions in the cell below to get bonus points\n",
    "* Why is linear regression not the best estimate for the admissions chance variable that we see in this dataset, and specifically where does our regression line break down?\n",
    "* What is another regression model that would more accurately fit the domain of values seen in the `Chance of Admit` column? "
   ]
  },
  {
   "cell_type": "markdown",
   "metadata": {},
   "source": [
    "The data doesn't have a completely linear relationship throughout. It breaks down at low values of GRE, where some other outstanding feature of a candidate may potentially overshadow a low GRE score\n",
    "\n",
    "Quadratic regression could work better. "
   ]
  },
  {
   "cell_type": "markdown",
   "metadata": {},
   "source": [
    "**Congrats!** You are finished with this assignment."
   ]
  },
  {
   "cell_type": "markdown",
   "metadata": {
    "deletable": false,
    "editable": false
   },
   "source": [
    "# Submit\n",
    "Make sure you have run all cells in your notebook in order before running the cell below, so that all images/graphs appear in the output.\n",
    "**Please save before submitting!**"
   ]
  },
  {
   "cell_type": "markdown",
   "metadata": {
    "deletable": false,
    "editable": false
   },
   "source": [
    "# Running Built-in Tests\n",
    "1. All tests are in `tests` directory\n",
    "1. Each python file in `tests` is a test\n",
    "1. `grader.check('testname')` runs test `'testname'`, e.g. `'q1'`\n",
    "1. `grader.check_all()` runs all visible tests"
   ]
  },
  {
   "cell_type": "code",
   "execution_count": 171,
   "metadata": {
    "deletable": false,
    "editable": false
   },
   "outputs": [
    {
     "data": {
      "text/html": [
       "<p><strong>q1a</strong></p>\n",
       "    \n",
       "    \n",
       "        <p>All tests passed!</p>\n",
       "    \n",
       "    "
      ],
      "text/plain": [
       "<IPython.core.display.HTML object>"
      ]
     },
     "metadata": {},
     "output_type": "display_data"
    },
    {
     "data": {
      "text/html": [
       "<p><strong>q1b</strong></p>\n",
       "    \n",
       "    \n",
       "        <p>All tests passed!</p>\n",
       "    \n",
       "    "
      ],
      "text/plain": [
       "<IPython.core.display.HTML object>"
      ]
     },
     "metadata": {},
     "output_type": "display_data"
    },
    {
     "data": {
      "text/html": [
       "<p><strong>q1c</strong></p>\n",
       "    \n",
       "    \n",
       "        <p>All tests passed!</p>\n",
       "    \n",
       "    "
      ],
      "text/plain": [
       "<IPython.core.display.HTML object>"
      ]
     },
     "metadata": {},
     "output_type": "display_data"
    },
    {
     "data": {
      "text/html": [
       "<p><strong>q1d</strong></p>\n",
       "    \n",
       "    \n",
       "        <p>All tests passed!</p>\n",
       "    \n",
       "    "
      ],
      "text/plain": [
       "<IPython.core.display.HTML object>"
      ]
     },
     "metadata": {},
     "output_type": "display_data"
    },
    {
     "data": {
      "text/html": [
       "<p><strong>q2a</strong></p>\n",
       "    \n",
       "    \n",
       "        <p>All tests passed!</p>\n",
       "    \n",
       "    "
      ],
      "text/plain": [
       "<IPython.core.display.HTML object>"
      ]
     },
     "metadata": {},
     "output_type": "display_data"
    },
    {
     "data": {
      "text/html": [
       "<p><strong>q2b</strong></p>\n",
       "    \n",
       "    \n",
       "        <p>All tests passed!</p>\n",
       "    \n",
       "    "
      ],
      "text/plain": [
       "<IPython.core.display.HTML object>"
      ]
     },
     "metadata": {},
     "output_type": "display_data"
    },
    {
     "data": {
      "text/html": [
       "<p><strong>q2c</strong></p>\n",
       "    \n",
       "    \n",
       "        <p>All tests passed!</p>\n",
       "    \n",
       "    "
      ],
      "text/plain": [
       "<IPython.core.display.HTML object>"
      ]
     },
     "metadata": {},
     "output_type": "display_data"
    }
   ],
   "source": [
    "# Run built-in checks\n",
    "grader.check_all()"
   ]
  },
  {
   "cell_type": "code",
   "execution_count": 172,
   "metadata": {},
   "outputs": [
    {
     "data": {
      "application/javascript": [
       "\n",
       "        require([\"base/js/namespace\"], function() {\n",
       "\t\t\tJupyter.notebook.save_notebook();\n",
       "\t\t});\n",
       "    "
      ],
      "text/plain": [
       "<IPython.core.display.Javascript object>"
      ]
     },
     "metadata": {},
     "output_type": "display_data"
    }
   ],
   "source": [
    "# Generate pdf in classic notebook (does not work in JupyterLab)\n",
    "import nb2pdf\n",
    "nb2pdf.convert('lab07.ipynb')\n",
    "\n",
    "# To generate pdf using command-line, run in terminal,\n",
    "# nb2pdf lab07.ipynb"
   ]
  },
  {
   "cell_type": "markdown",
   "metadata": {
    "deletable": false,
    "editable": false
   },
   "source": [
    "# Submission Checklist\n",
    "1. Check filename is 'lab07.ipynb'\n",
    "1. Save file to confirm all changes are on disk\n",
    "1. Run *Kernel > Restart & Run All* to execute all code from top to bottom\n",
    "1. Check `grader.check_all()` output\n",
    "1. Save file again to write any new output to disk\n",
    "1. Check generated pdf that all responses are displayed correctly\n",
    "1. Submit to Gradescope"
   ]
  }
 ],
 "metadata": {
  "kernelspec": {
   "display_name": "Python 3",
   "language": "python",
   "name": "python3"
  },
  "language_info": {
   "codemirror_mode": {
    "name": "ipython",
    "version": 3
   },
   "file_extension": ".py",
   "mimetype": "text/x-python",
   "name": "python",
   "nbconvert_exporter": "python",
   "pygments_lexer": "ipython3",
   "version": "3.7.6"
  },
  "toc": {
   "base_numbering": 1,
   "nav_menu": {},
   "number_sections": true,
   "sideBar": true,
   "skip_h1_title": false,
   "title_cell": "Table of Contents",
   "title_sidebar": "Contents",
   "toc_cell": false,
   "toc_position": {},
   "toc_section_display": true,
   "toc_window_display": false
  }
 },
 "nbformat": 4,
 "nbformat_minor": 2
}
